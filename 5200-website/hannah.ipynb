{
  "cells": [
    {
      "cell_type": "raw",
      "metadata": {},
      "source": [
        "---\n",
        "title: Climate Change and Food Insecurity\n",
        "author: Hannah Kim\n",
        "format:\n",
        "  html:\n",
        "    embed-resources: true\n",
        "---"
      ],
      "id": "734de860"
    },
    {
      "cell_type": "code",
      "metadata": {
        "vscode": {
          "languageId": "python"
        }
      },
      "source": [
        "import numpy as np\n",
        "import pandas as pd\n",
        "import matplotlib.pyplot as plt\n",
        "import seaborn as sns\n",
        "import plotly.express as px\n",
        "import geopandas as gpd"
      ],
      "id": "b312a3ef",
      "execution_count": null,
      "outputs": []
    },
    {
      "cell_type": "markdown",
      "metadata": {},
      "source": [
        "## World population by continents\n"
      ],
      "id": "14ac4a50"
    },
    {
      "cell_type": "code",
      "metadata": {
        "vscode": {
          "languageId": "python"
        }
      },
      "source": [
        "world = pd.read_csv('data/world_population.csv')\n",
        "world_cp = world.copy()\n",
        "world_cp.head()"
      ],
      "id": "7174ad3b",
      "execution_count": null,
      "outputs": []
    },
    {
      "cell_type": "code",
      "metadata": {
        "vscode": {
          "languageId": "python"
        }
      },
      "source": [
        "# drop unnecessary columns\n",
        "world_cp = world_cp.drop(['Rank', 'CCA3', 'Country/Territory', 'Capital', 'Area (km²)', 'Density (per km²)', 'Growth Rate'], axis=1)\n",
        "\n",
        "# lowercase all the columns\n",
        "world_cp.columns = world_cp.columns.str.lower()\n",
        "\n",
        "# replace the spaces with underscore\n",
        "world_cp.columns = world_cp.columns.str.replace(' ', '_')\n",
        "\n",
        "# rename the columns\n",
        "world_cp = world_cp.rename(columns={'2022_population': '2022', '2020_population': '2020', '2015_population': '2015', '2010_population': '2010', '2000_population': '2000', '1990_population': '1990', '1980_population': '1980', '1970_population': '1970'})\n",
        "\n",
        "# reorder the columns\n",
        "world_cp = world_cp[['continent', '1970','1980', '1990', '2000', '2010', '2015', '2020', '2022']]\n",
        "world_cp.head()"
      ],
      "id": "d567432d",
      "execution_count": null,
      "outputs": []
    },
    {
      "cell_type": "markdown",
      "metadata": {},
      "source": [
        "### Line Graph\n"
      ],
      "id": "27b20d8c"
    },
    {
      "cell_type": "code",
      "metadata": {
        "vscode": {
          "languageId": "python"
        }
      },
      "source": [
        "plt.figure(figsize=(10, 6))\n",
        "\n",
        "for continent in world_cp['continent'].unique():\n",
        "    df_continent = world_cp[world_cp['continent'] == continent]\n",
        "    plt.plot(df_continent.columns[1:], df_continent.values[0][1:], marker='o', label=continent)\n",
        "\n",
        "plt.xlabel('Year')\n",
        "plt.ylabel('Population')\n",
        "plt.title('Population Growth by Continent')\n",
        "plt.xticks(rotation=45)\n",
        "plt.legend()\n",
        "plt.grid(True)\n",
        "plt.tight_layout()\n",
        "plt.show()"
      ],
      "id": "9b203263",
      "execution_count": null,
      "outputs": []
    },
    {
      "cell_type": "code",
      "metadata": {
        "vscode": {
          "languageId": "python"
        }
      },
      "source": [
        "raw_df = pd.read_csv('./data/FAOSTAT_data.csv')\n",
        "raw_df.head()"
      ],
      "id": "2c97b43a",
      "execution_count": null,
      "outputs": []
    },
    {
      "cell_type": "markdown",
      "metadata": {},
      "source": [
        "Food insecurity:\n",
        "\n",
        "* Prevalence of severe food insecurity in the total population (percent): 210401 (M/F)\n",
        "* Prevalence of moderate or severe food insecurity in the total population (percent): 210091 (M/F)\n",
        "* Number of severely food insecure people (million): 210071 (M/F)\n",
        "* Number of moderately or severely food insecure people (million): 210081 (M/F)\n",
        "\n",
        "## Further cleaning and preprocessing\n"
      ],
      "id": "2e293ad4"
    },
    {
      "cell_type": "code",
      "metadata": {
        "vscode": {
          "languageId": "python"
        }
      },
      "source": [
        "raw_df.columns = raw_df.columns.str.lower()\n",
        "raw_df.columns = raw_df.columns.str.replace(' ', '_')\n",
        "# change the area column to country column\n",
        "raw_df = raw_df.rename(columns={'area': 'country'})"
      ],
      "id": "3dbd67bd",
      "execution_count": null,
      "outputs": []
    },
    {
      "cell_type": "code",
      "metadata": {
        "vscode": {
          "languageId": "python"
        }
      },
      "source": [
        "# filter out the data by item code\n",
        "# prevalence of severe food insecurity in the total population\n",
        "prev_severe_total = raw_df[raw_df['item_code'] == '210401'] \n",
        "prev_severe_male = raw_df[raw_df['item_code'] == '210401M']\n",
        "prev_sever_female = raw_df[raw_df['item_code'] == '210401F']\n",
        "\n",
        "# prevalence of moderate or severe food insecurity in the total population\n",
        "prev_mod_total = raw_df[raw_df['item_code'] == '210091']\n",
        "prev_mod_male = raw_df[raw_df['item_code'] == '210091M']\n",
        "prev_mod_female = raw_df[raw_df['item_code'] == '210091F']"
      ],
      "id": "2727e373",
      "execution_count": null,
      "outputs": []
    },
    {
      "cell_type": "code",
      "metadata": {
        "vscode": {
          "languageId": "python"
        }
      },
      "source": [
        "prev_severe_total.head()"
      ],
      "id": "2f9059e2",
      "execution_count": null,
      "outputs": []
    },
    {
      "cell_type": "code",
      "metadata": {
        "vscode": {
          "languageId": "python"
        }
      },
      "source": [
        "# read the data\n",
        "code_df = pd.read_csv('./data/country_annotation.csv')\n",
        "\n",
        "# drop unnecessary columns\n",
        "code_df = code_df.drop(columns=['code', 'languages'])\n",
        "\n",
        "# rename the columns\n",
        "code_df = code_df.rename(columns={'name':'country'})\n",
        "\n",
        "code_df.head()"
      ],
      "id": "0141b6a8",
      "execution_count": null,
      "outputs": []
    },
    {
      "cell_type": "code",
      "metadata": {
        "vscode": {
          "languageId": "python"
        }
      },
      "source": [
        "# copy the dataframe\n",
        "df = prev_severe_total.copy()\n",
        "# change the value column type to numeric value\n",
        "df['value'] = pd.to_numeric(df['value'], errors='coerce')"
      ],
      "id": "f4a9541d",
      "execution_count": null,
      "outputs": []
    },
    {
      "cell_type": "code",
      "metadata": {
        "vscode": {
          "languageId": "python"
        }
      },
      "source": [
        "# group by the country and get the sum of all the values\n",
        "df = df.groupby('country', as_index=False)['value'].sum().reset_index(drop=True)\n",
        "df.head()"
      ],
      "id": "5d275c56",
      "execution_count": null,
      "outputs": []
    },
    {
      "cell_type": "code",
      "metadata": {
        "vscode": {
          "languageId": "python"
        }
      },
      "source": [
        "# merge the region data with the main data\n",
        "df = pd.merge(df, code_df, on='country', how='left')"
      ],
      "id": "d71f5bb4",
      "execution_count": null,
      "outputs": []
    },
    {
      "cell_type": "code",
      "metadata": {
        "vscode": {
          "languageId": "python"
        }
      },
      "source": [
        "# drop the rows with value 0\n",
        "df = df[df['value'] != 0].reset_index(drop=True)\n",
        "df"
      ],
      "id": "7c0b51eb",
      "execution_count": null,
      "outputs": []
    },
    {
      "cell_type": "code",
      "metadata": {
        "vscode": {
          "languageId": "python"
        }
      },
      "source": [
        "# dictionary mapping each country to its continent\n",
        "country_to_continent = {\n",
        "    'Antigua and Barbuda': 'North America',\n",
        "    'Bahamas': 'North America',\n",
        "    'Barbados': 'North America',\n",
        "    'Belize': 'North America',\n",
        "    'Cabo Verde': 'Africa',\n",
        "    'Congo': 'Africa',\n",
        "    'Czechia': 'Europe',\n",
        "    'Côte d\\'Ivoire': 'Africa',\n",
        "    'Eswatini': 'Africa',\n",
        "    'Grenada': 'North America',\n",
        "    'Haiti': 'North America',\n",
        "    'Iran (Islamic Republic of)': 'Asia',\n",
        "    'Jamaica': 'North America',\n",
        "    'Lao People\\'s Democratic Republic': 'Asia',\n",
        "    'Myanmar': 'Asia',\n",
        "    'Netherlands (Kingdom of the)': 'Europe',\n",
        "    'Republic of Korea': 'Asia',\n",
        "    'Republic of Moldova': 'Europe',\n",
        "    'Russian Federation': 'Europe',\n",
        "    'Saint Kitts and Nevis': 'North America',\n",
        "    'Saint Lucia': 'North America',\n",
        "    'Saint Vincent and the Grenadines': 'North America',\n",
        "    'Sao Tome and Principe': 'Africa',\n",
        "    'Trinidad and Tobago': 'North America',\n",
        "    'United Kingdom of Great Britain and Northern Ireland': 'Europe',\n",
        "    'United Republic of Tanzania': 'Africa',\n",
        "    'United States of America': 'North America',\n",
        "    'Viet Nam': 'Asia'\n",
        "}\n",
        "\n",
        "# map the country to the continent\n",
        "df['continent'] = df['continent'].fillna(df['country'].map(country_to_continent))\n",
        "\n",
        "df"
      ],
      "id": "7bb13f4d",
      "execution_count": null,
      "outputs": []
    },
    {
      "cell_type": "code",
      "metadata": {
        "vscode": {
          "languageId": "python"
        }
      },
      "source": [
        "# data sanity check\n",
        "# check the continent value\n",
        "df.continent.unique()\n",
        "\n",
        "# replace the incorrect value\n",
        "df['continent'] = df['continent'].str.replace('North Americ', 'North America')\n",
        "df['continent'] = df['continent'].str.replace('North Americaa', 'North America')"
      ],
      "id": "d59d98db",
      "execution_count": null,
      "outputs": []
    },
    {
      "cell_type": "code",
      "metadata": {
        "vscode": {
          "languageId": "python"
        }
      },
      "source": [
        "df"
      ],
      "id": "54f10221",
      "execution_count": null,
      "outputs": []
    },
    {
      "cell_type": "markdown",
      "metadata": {},
      "source": [
        "## Data Visualiztion: Prevalence of severe food insecurity in the total population\n",
        "\n",
        "### Nested pie chart\n"
      ],
      "id": "25d88d91"
    },
    {
      "cell_type": "code",
      "metadata": {
        "vscode": {
          "languageId": "python"
        }
      },
      "source": [
        "# plot a nested pie chart using plotly\n",
        "fig = px.sunburst(df, path=['continent', 'country'], values='value', names = 'country', title='Prevalence of severe food insecurity in the total population',color_discrete_sequence=px.colors.qualitative.Set3)\n",
        "# change the plot size\n",
        "fig.update_layout(width=800, height=800)\n",
        "fig.show()"
      ],
      "id": "b9ac0169",
      "execution_count": null,
      "outputs": []
    },
    {
      "cell_type": "markdown",
      "metadata": {},
      "source": [
        "### Packed Bubble chart\n"
      ],
      "id": "7071ff40"
    },
    {
      "cell_type": "code",
      "metadata": {
        "vscode": {
          "languageId": "python"
        }
      },
      "source": [
        "# group the df by continent and aggregate the data\n",
        "grouped_df = df.groupby('continent').apply(lambda x: x[['country', 'value']].to_dict(orient='records')).reset_index(name='data')\n",
        "\n",
        "# convert the grouped DataFrame to a dictionary\n",
        "result_dict = grouped_df.set_index('continent').to_dict(orient='index')\n",
        "\n",
        "print(result_dict)"
      ],
      "id": "0f9efac3",
      "execution_count": null,
      "outputs": []
    },
    {
      "cell_type": "markdown",
      "metadata": {},
      "source": [
        "---\n"
      ],
      "id": "55f6d870"
    },
    {
      "cell_type": "code",
      "metadata": {
        "vscode": {
          "languageId": "python"
        }
      },
      "source": [
        "# load the data\n",
        "cleaned_df = pd.read_csv('./data/CleanedData/foodinsecuritybygender.csv', encoding='ISO-8859-1')\n",
        "# convert it to dataframe\n",
        "cleaned_df = pd.DataFrame(cleaned_df)\n",
        "cleaned_df.head()"
      ],
      "id": "546858e3",
      "execution_count": null,
      "outputs": []
    },
    {
      "cell_type": "code",
      "metadata": {
        "vscode": {
          "languageId": "python"
        }
      },
      "source": [
        "# fill the null values with 0\n",
        "cleaned_df['AVG_PercentFemale']= cleaned_df['AVG_PercentFemale'].fillna(0)\n",
        "cleaned_df['AVG_PercentMale']= cleaned_df['AVG_PercentMale'].fillna(0)\n",
        "\n",
        "# convert the data type to numeric\n",
        "cleaned_df['AVG_PercentFemale'] = pd.to_numeric(cleaned_df['AVG_PercentFemale'], errors='coerce')\n",
        "cleaned_df['AVG_PercentMale'] = pd.to_numeric(cleaned_df['AVG_PercentMale'], errors='coerce')\n",
        "\n",
        "# add a new boolean column if the primarycolonizer column is not null\n",
        "cleaned_df['colonizer'] = cleaned_df['PrimaryColonizer'].notnull()\n",
        "\n",
        "cleaned_df"
      ],
      "id": "7dd8a9e8",
      "execution_count": null,
      "outputs": []
    },
    {
      "cell_type": "code",
      "metadata": {
        "vscode": {
          "languageId": "python"
        }
      },
      "source": [
        "# drop the year column\n",
        "another_df = cleaned_df.drop(columns=['YearPeriod', 'Region', 'Unnamed: 0', 'PrimaryColonizer', 'colonizer'])\n",
        "# group by the country and get the sum of all the values\n",
        "another_df = another_df.groupby('Area', as_index=False).sum().reset_index(drop=True)\n",
        "another_df.head()"
      ],
      "id": "ca377a71",
      "execution_count": null,
      "outputs": []
    },
    {
      "cell_type": "code",
      "metadata": {
        "vscode": {
          "languageId": "python"
        }
      },
      "source": [
        "# save the dataframe to a csv file\n",
        "another_df.to_csv('./data/avg_info.csv', index=False)"
      ],
      "id": "3752bb4d",
      "execution_count": null,
      "outputs": []
    },
    {
      "cell_type": "markdown",
      "metadata": {},
      "source": [
        "Colors:\n",
        "\n",
        "Europe: #140D4F\n",
        "Africa: #598B2C\n",
        "\n",
        "#11270B\n",
        "#42CAFD\n",
        "#FFA400\n",
        "#F5EDF0\n",
        "#1C0B19\n",
        "#66B3BA\n",
        "#92140C\n",
        "\n",
        "\n",
        "```{ojs}\n",
        "chart = BubbleChart(files, {\n",
        "  label: d => [...d.id.split(\".\").pop().split(/(?=[A-Z][a-z])/g), d.value.toLocaleString(\"en\")].join(\"\\n\"),\n",
        "  value: d => d.value,\n",
        "  group: d => d.id.split(\".\")[1],\n",
        "  title: d => `${d.id}\\n${d.value.toLocaleString(\"en\")}`,\n",
        "  link: d => `https://github.com/prefuse/Flare/blob/master/flare/src/${d.id.replace(/\\./g, \"/\")}.as`,\n",
        "  width: 1152\n",
        "})\n",
        "```\n",
        "\n",
        "```{ojs}\n",
        "flare = FileAttachment(\"./data/avg_info.csv\").csv({typed: true})\n",
        "```\n",
        "\n",
        "```{ojs}\n",
        "files = flare.filter(d => d.value !== null)\n",
        "```\n",
        "\n",
        "```{ojs}\n",
        "// Copyright 2021-2023 Observable, Inc.\n",
        "// Released under the ISC license.\n",
        "// https://observablehq.com/@d3/bubble-chart\n",
        "function BubbleChart(data, {\n",
        "  name = ([x]) => x, // alias for label\n",
        "  label = name, // given d in data, returns text to display on the bubble\n",
        "  value = ([, y]) => y, // given d in data, returns a quantitative size\n",
        "  group, // given d in data, returns a categorical value for color\n",
        "  title, // given d in data, returns text to show on hover\n",
        "  link, // given a node d, its link (if any)\n",
        "  linkTarget = \"_blank\", // the target attribute for links, if any\n",
        "  width = 640, // outer width, in pixels\n",
        "  height = width, // outer height, in pixels\n",
        "  padding = 3, // padding between circles\n",
        "  margin = 1, // default margins\n",
        "  marginTop = margin, // top margin, in pixels\n",
        "  marginRight = margin, // right margin, in pixels\n",
        "  marginBottom = margin, // bottom margin, in pixels\n",
        "  marginLeft = margin, // left margin, in pixels\n",
        "  groups, // array of group names (the domain of the color scale)\n",
        "  colors = d3.schemeTableau10, // an array of colors (for groups)\n",
        "  fill = \"#ccc\", // a static fill color, if no group channel is specified\n",
        "  fillOpacity = 0.7, // the fill opacity of the bubbles\n",
        "  stroke, // a static stroke around the bubbles\n",
        "  strokeWidth, // the stroke width around the bubbles, if any\n",
        "  strokeOpacity, // the stroke opacity around the bubbles, if any\n",
        "} = {}) {\n",
        "  // Compute the values.\n",
        "  const D = d3.map(data, d => d);\n",
        "  const V = d3.map(data, value);\n",
        "  const G = group == null ? null : d3.map(data, group);\n",
        "  const I = d3.range(V.length).filter(i => V[i] > 0);\n",
        "\n",
        "  // Unique the groups.\n",
        "  if (G && groups === undefined) groups = I.map(i => G[i]);\n",
        "  groups = G && new d3.InternSet(groups);\n",
        "\n",
        "  // Construct scales.\n",
        "  const color = G && d3.scaleOrdinal(groups, colors);\n",
        "\n",
        "  // Compute labels and titles.\n",
        "  const L = label == null ? null : d3.map(data, label);\n",
        "  const T = title === undefined ? L : title == null ? null : d3.map(data, title);\n",
        "\n",
        "  // Compute layout: create a 1-deep hierarchy, and pack it.\n",
        "  const root = d3.pack()\n",
        "      .size([width - marginLeft - marginRight, height - marginTop - marginBottom])\n",
        "      .padding(padding)\n",
        "    (d3.hierarchy({children: I})\n",
        "      .sum(i => V[i]));\n",
        "\n",
        "  const svg = d3.create(\"svg\")\n",
        "      .attr(\"width\", width)\n",
        "      .attr(\"height\", height)\n",
        "      .attr(\"viewBox\", [-marginLeft, -marginTop, width, height])\n",
        "      .attr(\"style\", \"max-width: 100%; height: auto; height: intrinsic;\")\n",
        "      .attr(\"fill\", \"currentColor\")\n",
        "      .attr(\"font-size\", 10)\n",
        "      .attr(\"font-family\", \"sans-serif\")\n",
        "      .attr(\"text-anchor\", \"middle\");\n",
        "\n",
        "  const leaf = svg.selectAll(\"a\")\n",
        "    .data(root.leaves())\n",
        "    .join(\"a\")\n",
        "      .attr(\"xlink:href\", link == null ? null : (d, i) => link(D[d.data], i, data))\n",
        "      .attr(\"target\", link == null ? null : linkTarget)\n",
        "      .attr(\"transform\", d => `translate(${d.x},${d.y})`);\n",
        "\n",
        "  leaf.append(\"circle\")\n",
        "      .attr(\"stroke\", stroke)\n",
        "      .attr(\"stroke-width\", strokeWidth)\n",
        "      .attr(\"stroke-opacity\", strokeOpacity)\n",
        "      .attr(\"fill\", G ? d => color(G[d.data]) : fill == null ? \"none\" : fill)\n",
        "      .attr(\"fill-opacity\", fillOpacity)\n",
        "      .attr(\"r\", d => d.r);\n",
        "\n",
        "  if (T) leaf.append(\"title\")\n",
        "      .text(d => T[d.data]);\n",
        "\n",
        "  if (L) {\n",
        "    // A unique identifier for clip paths (to avoid conflicts).\n",
        "    const uid = `O-${Math.random().toString(16).slice(2)}`;\n",
        "\n",
        "    leaf.append(\"clipPath\")\n",
        "        .attr(\"id\", d => `${uid}-clip-${d.data}`)\n",
        "      .append(\"circle\")\n",
        "        .attr(\"r\", d => d.r);\n",
        "\n",
        "    leaf.append(\"text\")\n",
        "        .attr(\"clip-path\", d => `url(${new URL(`#${uid}-clip-${d.data}`, location)})`)\n",
        "      .selectAll(\"tspan\")\n",
        "      .data(d => `${L[d.data]}`.split(/\\n/g))\n",
        "      .join(\"tspan\")\n",
        "        .attr(\"x\", 0)\n",
        "        .attr(\"y\", (d, i, D) => `${i - D.length / 2 + 0.85}em`)\n",
        "        .attr(\"fill-opacity\", (d, i, D) => i === D.length - 1 ? 0.7 : null)\n",
        "        .text(d => d);\n",
        "  }\n",
        "\n",
        "  return Object.assign(svg.node(), {scales: {color}});\n",
        "}\n",
        "```\n",
        "\n",
        "```{ojs}\n",
        "import {BubbleChart} from \"@d3/bubble-chart-component\"\n",
        "import {howto} from \"@d3/example-components\"\n",
        "import {Swatches} from \"@d3/color-legend\"\n",
        "```"
      ],
      "id": "94a95051"
    },
    {
      "cell_type": "code",
      "metadata": {},
      "source": [
        "# #| vscode: {languageId: python}\n",
        "# # browser_market_share = {\n",
        "# #     'browsers': ['firefox', 'chrome', 'safari', 'edge', 'ie', 'opera'],\n",
        "# #     'market_share': [8.61, 69.55, 8.36, 4.12, 2.76, 2.43],\n",
        "# #     'color': ['#5A69AF', '#579E65', '#F9C784', '#FC944A', '#F24C00', '#00B825']\n",
        "# # }\n",
        "\n",
        "# colors = {'color': ['#11270B', '#42CAFD', '#FFA400', '#F5EDF0', '#1C0B19', '#66B3BA', '#92140C']}\n",
        "\n",
        "\n",
        "# class BubbleChart:\n",
        "#     def __init__(self, area, bubble_spacing=0):\n",
        "#         \"\"\"\n",
        "#         Setup for bubble collapse.\n",
        "\n",
        "#         Parameters\n",
        "#         ----------\n",
        "#         area : array-like\n",
        "#             Area of the bubbles.\n",
        "#         bubble_spacing : float, default: 0\n",
        "#             Minimal spacing between bubbles after collapsing.\n",
        "\n",
        "#         Notes\n",
        "#         -----\n",
        "#         If \"area\" is sorted, the results might look weird.\n",
        "#         \"\"\"\n",
        "#         area = np.asarray(area)\n",
        "#         r = np.sqrt(area / np.pi)\n",
        "\n",
        "#         self.bubble_spacing = bubble_spacing\n",
        "#         self.bubbles = np.ones((len(area), 4))\n",
        "#         self.bubbles[:, 2] = r\n",
        "#         self.bubbles[:, 3] = area\n",
        "#         self.maxstep = 2 * self.bubbles[:, 2].max() + self.bubble_spacing\n",
        "#         self.step_dist = self.maxstep / 2\n",
        "\n",
        "#         # calculate initial grid layout for bubbles\n",
        "#         length = np.ceil(np.sqrt(len(self.bubbles)))\n",
        "#         grid = np.arange(length) * self.maxstep\n",
        "#         gx, gy = np.meshgrid(grid, grid)\n",
        "#         self.bubbles[:, 0] = gx.flatten()[:len(self.bubbles)]\n",
        "#         self.bubbles[:, 1] = gy.flatten()[:len(self.bubbles)]\n",
        "\n",
        "#         self.com = self.center_of_mass()\n",
        "\n",
        "#     def center_of_mass(self):\n",
        "#         return np.average(\n",
        "#             self.bubbles[:, :2], axis=0, weights=self.bubbles[:, 3]\n",
        "#         )\n",
        "\n",
        "#     def center_distance(self, bubble, bubbles):\n",
        "#         return np.hypot(bubble[0] - bubbles[:, 0],\n",
        "#                         bubble[1] - bubbles[:, 1])\n",
        "\n",
        "#     def outline_distance(self, bubble, bubbles):\n",
        "#         center_distance = self.center_distance(bubble, bubbles)\n",
        "#         return center_distance - bubble[2] - \\\n",
        "#             bubbles[:, 2] - self.bubble_spacing\n",
        "\n",
        "#     def check_collisions(self, bubble, bubbles):\n",
        "#         distance = self.outline_distance(bubble, bubbles)\n",
        "#         return len(distance[distance < 0])\n",
        "\n",
        "#     def collides_with(self, bubble, bubbles):\n",
        "#         distance = self.outline_distance(bubble, bubbles)\n",
        "#         return np.argmin(distance, keepdims=True)\n",
        "\n",
        "#     def collapse(self, n_iterations=50):\n",
        "#         \"\"\"\n",
        "#         Move bubbles to the center of mass.\n",
        "\n",
        "#         Parameters\n",
        "#         ----------\n",
        "#         n_iterations : int, default: 50\n",
        "#             Number of moves to perform.\n",
        "#         \"\"\"\n",
        "#         for _i in range(n_iterations):\n",
        "#             moves = 0\n",
        "#             for i in range(len(self.bubbles)):\n",
        "#                 rest_bub = np.delete(self.bubbles, i, 0)\n",
        "#                 # try to move directly towards the center of mass\n",
        "#                 # direction vector from bubble to the center of mass\n",
        "#                 dir_vec = self.com - self.bubbles[i, :2]\n",
        "\n",
        "#                 # shorten direction vector to have length of 1\n",
        "#                 dir_vec = dir_vec / np.sqrt(dir_vec.dot(dir_vec))\n",
        "\n",
        "#                 # calculate new bubble position\n",
        "#                 new_point = self.bubbles[i, :2] + dir_vec * self.step_dist\n",
        "#                 new_bubble = np.append(new_point, self.bubbles[i, 2:4])\n",
        "\n",
        "#                 # check whether new bubble collides with other bubbles\n",
        "#                 if not self.check_collisions(new_bubble, rest_bub):\n",
        "#                     self.bubbles[i, :] = new_bubble\n",
        "#                     self.com = self.center_of_mass()\n",
        "#                     moves += 1\n",
        "#                 else:\n",
        "#                     # try to move around a bubble that you collide with\n",
        "#                     # find colliding bubble\n",
        "#                     for colliding in self.collides_with(new_bubble, rest_bub):\n",
        "#                         # calculate direction vector\n",
        "#                         dir_vec = rest_bub[colliding, :2] - self.bubbles[i, :2]\n",
        "#                         dir_vec = dir_vec / np.sqrt(dir_vec.dot(dir_vec))\n",
        "#                         # calculate orthogonal vector\n",
        "#                         orth = np.array([dir_vec[1], -dir_vec[0]])\n",
        "#                         # test which direction to go\n",
        "#                         new_point1 = (self.bubbles[i, :2] + orth *\n",
        "#                                       self.step_dist)\n",
        "#                         new_point2 = (self.bubbles[i, :2] - orth *\n",
        "#                                       self.step_dist)\n",
        "#                         dist1 = self.center_distance(\n",
        "#                             self.com, np.array([new_point1]))\n",
        "#                         dist2 = self.center_distance(\n",
        "#                             self.com, np.array([new_point2]))\n",
        "#                         new_point = new_point1 if dist1 < dist2 else new_point2\n",
        "#                         new_bubble = np.append(new_point, self.bubbles[i, 2:4])\n",
        "#                         if not self.check_collisions(new_bubble, rest_bub):\n",
        "#                             self.bubbles[i, :] = new_bubble\n",
        "#                             self.com = self.center_of_mass()\n",
        "\n",
        "#             if moves / len(self.bubbles) < 0.1:\n",
        "#                 self.step_dist = self.step_dist / 2\n",
        "\n",
        "#     def plot(self, ax, labels, colors):\n",
        "#         \"\"\"\n",
        "#         Draw the bubble plot.\n",
        "\n",
        "#         Parameters\n",
        "#         ----------\n",
        "#         ax : matplotlib.axes.Axes\n",
        "#         labels : list\n",
        "#             Labels of the bubbles.\n",
        "#         colors : list\n",
        "#             Colors of the bubbles.\n",
        "#         \"\"\"\n",
        "#         for i in range(len(self.bubbles)):\n",
        "#             circ = plt.Circle(\n",
        "#                 self.bubbles[i, :2], self.bubbles[i, 2], color=colors[i])\n",
        "#             ax.add_patch(circ)\n",
        "#             ax.text(*self.bubbles[i, :2], labels[i],\n",
        "#                     horizontalalignment='center', verticalalignment='center')\n",
        "\n",
        "\n",
        "# bubble_chart = BubbleChart(area=data_dict['AVG_PercentFemale'],\n",
        "#                            bubble_spacing=0.1)\n",
        "\n",
        "# bubble_chart.collapse()\n",
        "\n",
        "# fig, ax = plt.subplots(subplot_kw=dict(aspect=\"equal\"))\n",
        "# bubble_chart.plot(ax, data_dict['Area'], colors)\n",
        "# ax.axis(\"off\")\n",
        "# ax.relim()\n",
        "# ax.autoscale_view()\n",
        "# ax.set_title('Food Insecurity')\n",
        "\n",
        "# plt.show()"
      ],
      "id": "fc8f0629",
      "execution_count": null,
      "outputs": []
    }
  ],
  "metadata": {
    "kernelspec": {
      "name": "python3",
      "language": "python",
      "display_name": "Python 3 (ipykernel)"
    }
  },
  "nbformat": 4,
  "nbformat_minor": 5
}