{
  "cells": [
    {
      "cell_type": "raw",
      "metadata": {},
      "source": [
        "---\n",
        "title: Climate Change and Food Insecurity\n",
        "author: Hannah Kim\n",
        "format:\n",
        "  html:\n",
        "    embed-resources: true\n",
        "---"
      ]
    },
    {
      "cell_type": "code",
      "execution_count": 631,
      "metadata": {
        "vscode": {
          "languageId": "python"
        }
      },
      "outputs": [],
      "source": [
        "import numpy as np\n",
        "import pandas as pd\n",
        "import matplotlib.pyplot as plt\n",
        "import seaborn as sns\n",
        "import plotly.express as px\n",
        "import geopandas as gpd\n",
        "import circlify"
      ]
    },
    {
      "cell_type": "code",
      "execution_count": 632,
      "metadata": {
        "vscode": {
          "languageId": "python"
        }
      },
      "outputs": [],
      "source": [
        "custom_colors = ['#11270B', '#140D4F', '#598B2C', '#42CAFD', '#FFA400', '#F5EDF0', '#1C0B19', '#66B3BA']"
      ]
    },
    {
      "cell_type": "markdown",
      "metadata": {},
      "source": [
        "Colors:\n",
        "\n",
        "Europe: #140D4F\n",
        "Africa: #598B2C\n",
        "\n",
        "#11270B\n",
        "#42CAFD\n",
        "#FFA400\n",
        "#F5EDF0\n",
        "#1C0B19\n",
        "#66B3BA\n",
        "#92140C"
      ]
    },
    {
      "cell_type": "markdown",
      "metadata": {},
      "source": [
        "## World population by continents"
      ]
    },
    {
      "cell_type": "code",
      "execution_count": 633,
      "metadata": {
        "vscode": {
          "languageId": "python"
        }
      },
      "outputs": [
        {
          "data": {
            "text/html": [
              "<div>\n",
              "<style scoped>\n",
              "    .dataframe tbody tr th:only-of-type {\n",
              "        vertical-align: middle;\n",
              "    }\n",
              "\n",
              "    .dataframe tbody tr th {\n",
              "        vertical-align: top;\n",
              "    }\n",
              "\n",
              "    .dataframe thead th {\n",
              "        text-align: right;\n",
              "    }\n",
              "</style>\n",
              "<table border=\"1\" class=\"dataframe\">\n",
              "  <thead>\n",
              "    <tr style=\"text-align: right;\">\n",
              "      <th></th>\n",
              "      <th>Rank</th>\n",
              "      <th>CCA3</th>\n",
              "      <th>Country/Territory</th>\n",
              "      <th>Capital</th>\n",
              "      <th>Continent</th>\n",
              "      <th>2022 Population</th>\n",
              "      <th>2020 Population</th>\n",
              "      <th>2015 Population</th>\n",
              "      <th>2010 Population</th>\n",
              "      <th>2000 Population</th>\n",
              "      <th>1990 Population</th>\n",
              "      <th>1980 Population</th>\n",
              "      <th>1970 Population</th>\n",
              "      <th>Area (km²)</th>\n",
              "      <th>Density (per km²)</th>\n",
              "      <th>Growth Rate</th>\n",
              "      <th>World Population Percentage</th>\n",
              "    </tr>\n",
              "  </thead>\n",
              "  <tbody>\n",
              "    <tr>\n",
              "      <th>0</th>\n",
              "      <td>36</td>\n",
              "      <td>AFG</td>\n",
              "      <td>Afghanistan</td>\n",
              "      <td>Kabul</td>\n",
              "      <td>Asia</td>\n",
              "      <td>41128771</td>\n",
              "      <td>38972230</td>\n",
              "      <td>33753499</td>\n",
              "      <td>28189672</td>\n",
              "      <td>19542982</td>\n",
              "      <td>10694796</td>\n",
              "      <td>12486631</td>\n",
              "      <td>10752971</td>\n",
              "      <td>652230</td>\n",
              "      <td>63.0587</td>\n",
              "      <td>1.0257</td>\n",
              "      <td>0.52</td>\n",
              "    </tr>\n",
              "    <tr>\n",
              "      <th>1</th>\n",
              "      <td>138</td>\n",
              "      <td>ALB</td>\n",
              "      <td>Albania</td>\n",
              "      <td>Tirana</td>\n",
              "      <td>Europe</td>\n",
              "      <td>2842321</td>\n",
              "      <td>2866849</td>\n",
              "      <td>2882481</td>\n",
              "      <td>2913399</td>\n",
              "      <td>3182021</td>\n",
              "      <td>3295066</td>\n",
              "      <td>2941651</td>\n",
              "      <td>2324731</td>\n",
              "      <td>28748</td>\n",
              "      <td>98.8702</td>\n",
              "      <td>0.9957</td>\n",
              "      <td>0.04</td>\n",
              "    </tr>\n",
              "    <tr>\n",
              "      <th>2</th>\n",
              "      <td>34</td>\n",
              "      <td>DZA</td>\n",
              "      <td>Algeria</td>\n",
              "      <td>Algiers</td>\n",
              "      <td>Africa</td>\n",
              "      <td>44903225</td>\n",
              "      <td>43451666</td>\n",
              "      <td>39543154</td>\n",
              "      <td>35856344</td>\n",
              "      <td>30774621</td>\n",
              "      <td>25518074</td>\n",
              "      <td>18739378</td>\n",
              "      <td>13795915</td>\n",
              "      <td>2381741</td>\n",
              "      <td>18.8531</td>\n",
              "      <td>1.0164</td>\n",
              "      <td>0.56</td>\n",
              "    </tr>\n",
              "    <tr>\n",
              "      <th>3</th>\n",
              "      <td>213</td>\n",
              "      <td>ASM</td>\n",
              "      <td>American Samoa</td>\n",
              "      <td>Pago Pago</td>\n",
              "      <td>Oceania</td>\n",
              "      <td>44273</td>\n",
              "      <td>46189</td>\n",
              "      <td>51368</td>\n",
              "      <td>54849</td>\n",
              "      <td>58230</td>\n",
              "      <td>47818</td>\n",
              "      <td>32886</td>\n",
              "      <td>27075</td>\n",
              "      <td>199</td>\n",
              "      <td>222.4774</td>\n",
              "      <td>0.9831</td>\n",
              "      <td>0.00</td>\n",
              "    </tr>\n",
              "    <tr>\n",
              "      <th>4</th>\n",
              "      <td>203</td>\n",
              "      <td>AND</td>\n",
              "      <td>Andorra</td>\n",
              "      <td>Andorra la Vella</td>\n",
              "      <td>Europe</td>\n",
              "      <td>79824</td>\n",
              "      <td>77700</td>\n",
              "      <td>71746</td>\n",
              "      <td>71519</td>\n",
              "      <td>66097</td>\n",
              "      <td>53569</td>\n",
              "      <td>35611</td>\n",
              "      <td>19860</td>\n",
              "      <td>468</td>\n",
              "      <td>170.5641</td>\n",
              "      <td>1.0100</td>\n",
              "      <td>0.00</td>\n",
              "    </tr>\n",
              "  </tbody>\n",
              "</table>\n",
              "</div>"
            ],
            "text/plain": [
              "   Rank CCA3 Country/Territory           Capital Continent  2022 Population  \\\n",
              "0    36  AFG       Afghanistan             Kabul      Asia         41128771   \n",
              "1   138  ALB           Albania            Tirana    Europe          2842321   \n",
              "2    34  DZA           Algeria           Algiers    Africa         44903225   \n",
              "3   213  ASM    American Samoa         Pago Pago   Oceania            44273   \n",
              "4   203  AND           Andorra  Andorra la Vella    Europe            79824   \n",
              "\n",
              "   2020 Population  2015 Population  2010 Population  2000 Population  \\\n",
              "0         38972230         33753499         28189672         19542982   \n",
              "1          2866849          2882481          2913399          3182021   \n",
              "2         43451666         39543154         35856344         30774621   \n",
              "3            46189            51368            54849            58230   \n",
              "4            77700            71746            71519            66097   \n",
              "\n",
              "   1990 Population  1980 Population  1970 Population  Area (km²)  \\\n",
              "0         10694796         12486631         10752971      652230   \n",
              "1          3295066          2941651          2324731       28748   \n",
              "2         25518074         18739378         13795915     2381741   \n",
              "3            47818            32886            27075         199   \n",
              "4            53569            35611            19860         468   \n",
              "\n",
              "   Density (per km²)  Growth Rate  World Population Percentage  \n",
              "0            63.0587       1.0257                         0.52  \n",
              "1            98.8702       0.9957                         0.04  \n",
              "2            18.8531       1.0164                         0.56  \n",
              "3           222.4774       0.9831                         0.00  \n",
              "4           170.5641       1.0100                         0.00  "
            ]
          },
          "execution_count": 633,
          "metadata": {},
          "output_type": "execute_result"
        }
      ],
      "source": [
        "world = pd.read_csv('data/world_population.csv')\n",
        "world_cp = world.copy()\n",
        "world_cp.head()"
      ]
    },
    {
      "cell_type": "code",
      "execution_count": 634,
      "metadata": {
        "vscode": {
          "languageId": "python"
        }
      },
      "outputs": [
        {
          "data": {
            "text/html": [
              "<div>\n",
              "<style scoped>\n",
              "    .dataframe tbody tr th:only-of-type {\n",
              "        vertical-align: middle;\n",
              "    }\n",
              "\n",
              "    .dataframe tbody tr th {\n",
              "        vertical-align: top;\n",
              "    }\n",
              "\n",
              "    .dataframe thead th {\n",
              "        text-align: right;\n",
              "    }\n",
              "</style>\n",
              "<table border=\"1\" class=\"dataframe\">\n",
              "  <thead>\n",
              "    <tr style=\"text-align: right;\">\n",
              "      <th></th>\n",
              "      <th>continent</th>\n",
              "      <th>1970</th>\n",
              "      <th>1980</th>\n",
              "      <th>1990</th>\n",
              "      <th>2000</th>\n",
              "      <th>2010</th>\n",
              "      <th>2015</th>\n",
              "      <th>2020</th>\n",
              "      <th>2022</th>\n",
              "    </tr>\n",
              "  </thead>\n",
              "  <tbody>\n",
              "    <tr>\n",
              "      <th>0</th>\n",
              "      <td>Asia</td>\n",
              "      <td>10752971</td>\n",
              "      <td>12486631</td>\n",
              "      <td>10694796</td>\n",
              "      <td>19542982</td>\n",
              "      <td>28189672</td>\n",
              "      <td>33753499</td>\n",
              "      <td>38972230</td>\n",
              "      <td>41128771</td>\n",
              "    </tr>\n",
              "    <tr>\n",
              "      <th>1</th>\n",
              "      <td>Europe</td>\n",
              "      <td>2324731</td>\n",
              "      <td>2941651</td>\n",
              "      <td>3295066</td>\n",
              "      <td>3182021</td>\n",
              "      <td>2913399</td>\n",
              "      <td>2882481</td>\n",
              "      <td>2866849</td>\n",
              "      <td>2842321</td>\n",
              "    </tr>\n",
              "    <tr>\n",
              "      <th>2</th>\n",
              "      <td>Africa</td>\n",
              "      <td>13795915</td>\n",
              "      <td>18739378</td>\n",
              "      <td>25518074</td>\n",
              "      <td>30774621</td>\n",
              "      <td>35856344</td>\n",
              "      <td>39543154</td>\n",
              "      <td>43451666</td>\n",
              "      <td>44903225</td>\n",
              "    </tr>\n",
              "    <tr>\n",
              "      <th>3</th>\n",
              "      <td>Oceania</td>\n",
              "      <td>27075</td>\n",
              "      <td>32886</td>\n",
              "      <td>47818</td>\n",
              "      <td>58230</td>\n",
              "      <td>54849</td>\n",
              "      <td>51368</td>\n",
              "      <td>46189</td>\n",
              "      <td>44273</td>\n",
              "    </tr>\n",
              "    <tr>\n",
              "      <th>4</th>\n",
              "      <td>Europe</td>\n",
              "      <td>19860</td>\n",
              "      <td>35611</td>\n",
              "      <td>53569</td>\n",
              "      <td>66097</td>\n",
              "      <td>71519</td>\n",
              "      <td>71746</td>\n",
              "      <td>77700</td>\n",
              "      <td>79824</td>\n",
              "    </tr>\n",
              "    <tr>\n",
              "      <th>...</th>\n",
              "      <td>...</td>\n",
              "      <td>...</td>\n",
              "      <td>...</td>\n",
              "      <td>...</td>\n",
              "      <td>...</td>\n",
              "      <td>...</td>\n",
              "      <td>...</td>\n",
              "      <td>...</td>\n",
              "      <td>...</td>\n",
              "    </tr>\n",
              "    <tr>\n",
              "      <th>229</th>\n",
              "      <td>Oceania</td>\n",
              "      <td>9377</td>\n",
              "      <td>11315</td>\n",
              "      <td>13454</td>\n",
              "      <td>14723</td>\n",
              "      <td>13142</td>\n",
              "      <td>12182</td>\n",
              "      <td>11655</td>\n",
              "      <td>11572</td>\n",
              "    </tr>\n",
              "    <tr>\n",
              "      <th>230</th>\n",
              "      <td>Africa</td>\n",
              "      <td>76371</td>\n",
              "      <td>116775</td>\n",
              "      <td>178529</td>\n",
              "      <td>270375</td>\n",
              "      <td>413296</td>\n",
              "      <td>491824</td>\n",
              "      <td>556048</td>\n",
              "      <td>575986</td>\n",
              "    </tr>\n",
              "    <tr>\n",
              "      <th>231</th>\n",
              "      <td>Asia</td>\n",
              "      <td>6843607</td>\n",
              "      <td>9204938</td>\n",
              "      <td>13375121</td>\n",
              "      <td>18628700</td>\n",
              "      <td>24743946</td>\n",
              "      <td>28516545</td>\n",
              "      <td>32284046</td>\n",
              "      <td>33696614</td>\n",
              "    </tr>\n",
              "    <tr>\n",
              "      <th>232</th>\n",
              "      <td>Africa</td>\n",
              "      <td>4281671</td>\n",
              "      <td>5720438</td>\n",
              "      <td>7686401</td>\n",
              "      <td>9891136</td>\n",
              "      <td>13792086</td>\n",
              "      <td>16248230</td>\n",
              "      <td>18927715</td>\n",
              "      <td>20017675</td>\n",
              "    </tr>\n",
              "    <tr>\n",
              "      <th>233</th>\n",
              "      <td>Africa</td>\n",
              "      <td>5202918</td>\n",
              "      <td>7049926</td>\n",
              "      <td>10113893</td>\n",
              "      <td>11834676</td>\n",
              "      <td>12839771</td>\n",
              "      <td>14154937</td>\n",
              "      <td>15669666</td>\n",
              "      <td>16320537</td>\n",
              "    </tr>\n",
              "  </tbody>\n",
              "</table>\n",
              "<p>234 rows × 9 columns</p>\n",
              "</div>"
            ],
            "text/plain": [
              "    continent      1970      1980      1990      2000      2010      2015  \\\n",
              "0        Asia  10752971  12486631  10694796  19542982  28189672  33753499   \n",
              "1      Europe   2324731   2941651   3295066   3182021   2913399   2882481   \n",
              "2      Africa  13795915  18739378  25518074  30774621  35856344  39543154   \n",
              "3     Oceania     27075     32886     47818     58230     54849     51368   \n",
              "4      Europe     19860     35611     53569     66097     71519     71746   \n",
              "..        ...       ...       ...       ...       ...       ...       ...   \n",
              "229   Oceania      9377     11315     13454     14723     13142     12182   \n",
              "230    Africa     76371    116775    178529    270375    413296    491824   \n",
              "231      Asia   6843607   9204938  13375121  18628700  24743946  28516545   \n",
              "232    Africa   4281671   5720438   7686401   9891136  13792086  16248230   \n",
              "233    Africa   5202918   7049926  10113893  11834676  12839771  14154937   \n",
              "\n",
              "         2020      2022  \n",
              "0    38972230  41128771  \n",
              "1     2866849   2842321  \n",
              "2    43451666  44903225  \n",
              "3       46189     44273  \n",
              "4       77700     79824  \n",
              "..        ...       ...  \n",
              "229     11655     11572  \n",
              "230    556048    575986  \n",
              "231  32284046  33696614  \n",
              "232  18927715  20017675  \n",
              "233  15669666  16320537  \n",
              "\n",
              "[234 rows x 9 columns]"
            ]
          },
          "execution_count": 634,
          "metadata": {},
          "output_type": "execute_result"
        }
      ],
      "source": [
        "# drop unnecessary columns\n",
        "world_cp = world_cp.drop(['Rank', 'CCA3', 'Country/Territory', 'Capital', 'Area (km²)', 'Density (per km²)', 'Growth Rate'], axis=1)\n",
        "\n",
        "# lowercase all the columns\n",
        "world_cp.columns = world_cp.columns.str.lower()\n",
        "\n",
        "# replace the spaces with underscore\n",
        "world_cp.columns = world_cp.columns.str.replace(' ', '_')\n",
        "\n",
        "# rename the columns\n",
        "world_cp = world_cp.rename(columns={'2022_population': '2022', '2020_population': '2020', '2015_population': '2015', '2010_population': '2010', '2000_population': '2000', '1990_population': '1990', '1980_population': '1980', '1970_population': '1970'})\n",
        "\n",
        "# reorder the columns\n",
        "world_cp = world_cp[['continent', '1970','1980', '1990', '2000', '2010', '2015', '2020', '2022']]\n",
        "world_cp"
      ]
    },
    {
      "cell_type": "code",
      "execution_count": 648,
      "metadata": {
        "vscode": {
          "languageId": "python"
        }
      },
      "outputs": [
        {
          "data": {
            "text/html": [
              "<div>\n",
              "<style scoped>\n",
              "    .dataframe tbody tr th:only-of-type {\n",
              "        vertical-align: middle;\n",
              "    }\n",
              "\n",
              "    .dataframe tbody tr th {\n",
              "        vertical-align: top;\n",
              "    }\n",
              "\n",
              "    .dataframe thead th {\n",
              "        text-align: right;\n",
              "    }\n",
              "</style>\n",
              "<table border=\"1\" class=\"dataframe\">\n",
              "  <thead>\n",
              "    <tr style=\"text-align: right;\">\n",
              "      <th></th>\n",
              "      <th>continent</th>\n",
              "      <th>1970</th>\n",
              "      <th>1980</th>\n",
              "      <th>1990</th>\n",
              "      <th>2000</th>\n",
              "      <th>2010</th>\n",
              "      <th>2015</th>\n",
              "      <th>2020</th>\n",
              "      <th>2022</th>\n",
              "    </tr>\n",
              "  </thead>\n",
              "  <tbody>\n",
              "    <tr>\n",
              "      <th>0</th>\n",
              "      <td>Africa</td>\n",
              "      <td>365444348</td>\n",
              "      <td>481536377</td>\n",
              "      <td>638150629</td>\n",
              "      <td>818946032</td>\n",
              "      <td>1055228072</td>\n",
              "      <td>1201102442</td>\n",
              "      <td>1360671810</td>\n",
              "      <td>1426730932</td>\n",
              "    </tr>\n",
              "    <tr>\n",
              "      <th>1</th>\n",
              "      <td>Asia</td>\n",
              "      <td>2144906290</td>\n",
              "      <td>2635334228</td>\n",
              "      <td>3210563577</td>\n",
              "      <td>3735089604</td>\n",
              "      <td>4220041327</td>\n",
              "      <td>4458250182</td>\n",
              "      <td>4663086535</td>\n",
              "      <td>4721383274</td>\n",
              "    </tr>\n",
              "    <tr>\n",
              "      <th>2</th>\n",
              "      <td>Europe</td>\n",
              "      <td>655923991</td>\n",
              "      <td>692527159</td>\n",
              "      <td>720320797</td>\n",
              "      <td>726093423</td>\n",
              "      <td>735613934</td>\n",
              "      <td>741535608</td>\n",
              "      <td>745792196</td>\n",
              "      <td>743147538</td>\n",
              "    </tr>\n",
              "    <tr>\n",
              "      <th>3</th>\n",
              "      <td>North America</td>\n",
              "      <td>315434606</td>\n",
              "      <td>368293361</td>\n",
              "      <td>421266425</td>\n",
              "      <td>486069584</td>\n",
              "      <td>542720651</td>\n",
              "      <td>570383850</td>\n",
              "      <td>594236593</td>\n",
              "      <td>600296136</td>\n",
              "    </tr>\n",
              "    <tr>\n",
              "      <th>4</th>\n",
              "      <td>Oceania</td>\n",
              "      <td>19480270</td>\n",
              "      <td>22920240</td>\n",
              "      <td>26743822</td>\n",
              "      <td>31222778</td>\n",
              "      <td>37102764</td>\n",
              "      <td>40403283</td>\n",
              "      <td>43933426</td>\n",
              "      <td>45038554</td>\n",
              "    </tr>\n",
              "    <tr>\n",
              "      <th>5</th>\n",
              "      <td>South America</td>\n",
              "      <td>192947156</td>\n",
              "      <td>241789006</td>\n",
              "      <td>297146415</td>\n",
              "      <td>349634282</td>\n",
              "      <td>393078250</td>\n",
              "      <td>413134396</td>\n",
              "      <td>431530043</td>\n",
              "      <td>436816608</td>\n",
              "    </tr>\n",
              "  </tbody>\n",
              "</table>\n",
              "</div>"
            ],
            "text/plain": [
              "       continent        1970        1980        1990        2000        2010  \\\n",
              "0         Africa   365444348   481536377   638150629   818946032  1055228072   \n",
              "1           Asia  2144906290  2635334228  3210563577  3735089604  4220041327   \n",
              "2         Europe   655923991   692527159   720320797   726093423   735613934   \n",
              "3  North America   315434606   368293361   421266425   486069584   542720651   \n",
              "4        Oceania    19480270    22920240    26743822    31222778    37102764   \n",
              "5  South America   192947156   241789006   297146415   349634282   393078250   \n",
              "\n",
              "         2015        2020        2022  \n",
              "0  1201102442  1360671810  1426730932  \n",
              "1  4458250182  4663086535  4721383274  \n",
              "2   741535608   745792196   743147538  \n",
              "3   570383850   594236593   600296136  \n",
              "4    40403283    43933426    45038554  \n",
              "5   413134396   431530043   436816608  "
            ]
          },
          "execution_count": 648,
          "metadata": {},
          "output_type": "execute_result"
        }
      ],
      "source": [
        "# group the data by continent and get the sum values\n",
        "world_cp_continent = world_cp.groupby('continent', as_index = False).sum().reset_index(drop=True)\n",
        "world_cp_continent"
      ]
    },
    {
      "cell_type": "markdown",
      "metadata": {},
      "source": [
        "### Line Graph"
      ]
    },
    {
      "cell_type": "code",
      "execution_count": 690,
      "metadata": {
        "vscode": {
          "languageId": "python"
        }
      },
      "outputs": [],
      "source": [
        "import plotly.graph_objects as go\n",
        "\n",
        "# define the variables\n",
        "title = 'Population Growth by Continent'\n",
        "labels = world_cp_continent['continent'].unique().tolist()\n",
        "colors = ['#11270B', '#140D4F', '#598B2C', '#1C0B19', '#66B3BA', '#92140C']"
      ]
    },
    {
      "cell_type": "code",
      "execution_count": 691,
      "metadata": {
        "vscode": {
          "languageId": "python"
        }
      },
      "outputs": [],
      "source": [
        "mode_size = [4, 4, 4, 4, 4, 4]\n",
        "line_size = [2, 2, 2, 2, 2, 2]\n",
        "\n",
        "# filter out non-numeric column names and convert to integers\n",
        "x_data = world_cp_continent.columns[1:][world_cp_continent.columns[1:].str.isnumeric()].astype(int)\n",
        "\n",
        "\n",
        "y_data = np.array(world_cp_continent.drop(columns='continent').values.tolist())"
      ]
    },
    {
      "cell_type": "code",
      "execution_count": 693,
      "metadata": {
        "vscode": {
          "languageId": "python"
        }
      },
      "outputs": [
        {
          "ename": "ValueError",
          "evalue": "Invalid property specified for object of type plotly.graph_objs.layout.Annotation: 'showlegend'\n\nDid you mean \"showarrow\"?\n\n    Valid properties:\n        align\n            Sets the horizontal alignment of the `text` within the\n            box. Has an effect only if `text` spans two or more\n            lines (i.e. `text` contains one or more <br> HTML tags)\n            or if an explicit width is set to override the text\n            width.\n        arrowcolor\n            Sets the color of the annotation arrow.\n        arrowhead\n            Sets the end annotation arrow head style.\n        arrowside\n            Sets the annotation arrow head position.\n        arrowsize\n            Sets the size of the end annotation arrow head,\n            relative to `arrowwidth`. A value of 1 (default) gives\n            a head about 3x as wide as the line.\n        arrowwidth\n            Sets the width (in px) of annotation arrow line.\n        ax\n            Sets the x component of the arrow tail about the arrow\n            head. If `axref` is `pixel`, a positive (negative)\n            component corresponds to an arrow pointing from right\n            to left (left to right). If `axref` is not `pixel` and\n            is exactly the same as `xref`, this is an absolute\n            value on that axis, like `x`, specified in the same\n            coordinates as `xref`.\n        axref\n            Indicates in what coordinates the tail of the\n            annotation (ax,ay) is specified. If set to a x axis id\n            (e.g. \"x\" or \"x2\"), the `x` position refers to a x\n            coordinate. If set to \"paper\", the `x` position refers\n            to the distance from the left of the plotting area in\n            normalized coordinates where 0 (1) corresponds to the\n            left (right). If set to a x axis ID followed by\n            \"domain\" (separated by a space), the position behaves\n            like for \"paper\", but refers to the distance in\n            fractions of the domain length from the left of the\n            domain of that axis: e.g., *x2 domain* refers to the\n            domain of the second x  axis and a x position of 0.5\n            refers to the point between the left and the right of\n            the domain of the second x axis. In order for absolute\n            positioning of the arrow to work, \"axref\" must be\n            exactly the same as \"xref\", otherwise \"axref\" will\n            revert to \"pixel\" (explained next). For relative\n            positioning, \"axref\" can be set to \"pixel\", in which\n            case the \"ax\" value is specified in pixels relative to\n            \"x\". Absolute positioning is useful for trendline\n            annotations which should continue to indicate the\n            correct trend when zoomed. Relative positioning is\n            useful for specifying the text offset for an annotated\n            point.\n        ay\n            Sets the y component of the arrow tail about the arrow\n            head. If `ayref` is `pixel`, a positive (negative)\n            component corresponds to an arrow pointing from bottom\n            to top (top to bottom). If `ayref` is not `pixel` and\n            is exactly the same as `yref`, this is an absolute\n            value on that axis, like `y`, specified in the same\n            coordinates as `yref`.\n        ayref\n            Indicates in what coordinates the tail of the\n            annotation (ax,ay) is specified. If set to a y axis id\n            (e.g. \"y\" or \"y2\"), the `y` position refers to a y\n            coordinate. If set to \"paper\", the `y` position refers\n            to the distance from the bottom of the plotting area in\n            normalized coordinates where 0 (1) corresponds to the\n            bottom (top). If set to a y axis ID followed by\n            \"domain\" (separated by a space), the position behaves\n            like for \"paper\", but refers to the distance in\n            fractions of the domain length from the bottom of the\n            domain of that axis: e.g., *y2 domain* refers to the\n            domain of the second y  axis and a y position of 0.5\n            refers to the point between the bottom and the top of\n            the domain of the second y axis. In order for absolute\n            positioning of the arrow to work, \"ayref\" must be\n            exactly the same as \"yref\", otherwise \"ayref\" will\n            revert to \"pixel\" (explained next). For relative\n            positioning, \"ayref\" can be set to \"pixel\", in which\n            case the \"ay\" value is specified in pixels relative to\n            \"y\". Absolute positioning is useful for trendline\n            annotations which should continue to indicate the\n            correct trend when zoomed. Relative positioning is\n            useful for specifying the text offset for an annotated\n            point.\n        bgcolor\n            Sets the background color of the annotation.\n        bordercolor\n            Sets the color of the border enclosing the annotation\n            `text`.\n        borderpad\n            Sets the padding (in px) between the `text` and the\n            enclosing border.\n        borderwidth\n            Sets the width (in px) of the border enclosing the\n            annotation `text`.\n        captureevents\n            Determines whether the annotation text box captures\n            mouse move and click events, or allows those events to\n            pass through to data points in the plot that may be\n            behind the annotation. By default `captureevents` is\n            False unless `hovertext` is provided. If you use the\n            event `plotly_clickannotation` without `hovertext` you\n            must explicitly enable `captureevents`.\n        clicktoshow\n            Makes this annotation respond to clicks on the plot. If\n            you click a data point that exactly matches the `x` and\n            `y` values of this annotation, and it is hidden\n            (visible: false), it will appear. In \"onoff\" mode, you\n            must click the same point again to make it disappear,\n            so if you click multiple points, you can show multiple\n            annotations. In \"onout\" mode, a click anywhere else in\n            the plot (on another data point or not) will hide this\n            annotation. If you need to show/hide this annotation in\n            response to different `x` or `y` values, you can set\n            `xclick` and/or `yclick`. This is useful for example to\n            label the side of a bar. To label markers though,\n            `standoff` is preferred over `xclick` and `yclick`.\n        font\n            Sets the annotation text font.\n        height\n            Sets an explicit height for the text box. null\n            (default) lets the text set the box height. Taller text\n            will be clipped.\n        hoverlabel\n            :class:`plotly.graph_objects.layout.annotation.Hoverlab\n            el` instance or dict with compatible properties\n        hovertext\n            Sets text to appear when hovering over this annotation.\n            If omitted or blank, no hover label will appear.\n        name\n            When used in a template, named items are created in the\n            output figure in addition to any items the figure\n            already has in this array. You can modify these items\n            in the output figure by making your own item with\n            `templateitemname` matching this `name` alongside your\n            modifications (including `visible: false` or `enabled:\n            false` to hide it). Has no effect outside of a\n            template.\n        opacity\n            Sets the opacity of the annotation (text + arrow).\n        showarrow\n            Determines whether or not the annotation is drawn with\n            an arrow. If True, `text` is placed near the arrow's\n            tail. If False, `text` lines up with the `x` and `y`\n            provided.\n        standoff\n            Sets a distance, in pixels, to move the end arrowhead\n            away from the position it is pointing at, for example\n            to point at the edge of a marker independent of zoom.\n            Note that this shortens the arrow from the `ax` / `ay`\n            vector, in contrast to `xshift` / `yshift` which moves\n            everything by this amount.\n        startarrowhead\n            Sets the start annotation arrow head style.\n        startarrowsize\n            Sets the size of the start annotation arrow head,\n            relative to `arrowwidth`. A value of 1 (default) gives\n            a head about 3x as wide as the line.\n        startstandoff\n            Sets a distance, in pixels, to move the start arrowhead\n            away from the position it is pointing at, for example\n            to point at the edge of a marker independent of zoom.\n            Note that this shortens the arrow from the `ax` / `ay`\n            vector, in contrast to `xshift` / `yshift` which moves\n            everything by this amount.\n        templateitemname\n            Used to refer to a named item in this array in the\n            template. Named items from the template will be created\n            even without a matching item in the input figure, but\n            you can modify one by making an item with\n            `templateitemname` matching its `name`, alongside your\n            modifications (including `visible: false` or `enabled:\n            false` to hide it). If there is no template or no\n            matching item, this item will be hidden unless you\n            explicitly show it with `visible: true`.\n        text\n            Sets the text associated with this annotation. Plotly\n            uses a subset of HTML tags to do things like newline\n            (<br>), bold (<b></b>), italics (<i></i>), hyperlinks\n            (<a href='...'></a>). Tags <em>, <sup>, <sub> <span>\n            are also supported.\n        textangle\n            Sets the angle at which the `text` is drawn with\n            respect to the horizontal.\n        valign\n            Sets the vertical alignment of the `text` within the\n            box. Has an effect only if an explicit height is set to\n            override the text height.\n        visible\n            Determines whether or not this annotation is visible.\n        width\n            Sets an explicit width for the text box. null (default)\n            lets the text set the box width. Wider text will be\n            clipped. There is no automatic wrapping; use <br> to\n            start a new line.\n        x\n            Sets the annotation's x position. If the axis `type` is\n            \"log\", then you must take the log of your desired\n            range. If the axis `type` is \"date\", it should be date\n            strings, like date data, though Date objects and unix\n            milliseconds will be accepted and converted to strings.\n            If the axis `type` is \"category\", it should be numbers,\n            using the scale where each category is assigned a\n            serial number from zero in the order it appears.\n        xanchor\n            Sets the text box's horizontal position anchor This\n            anchor binds the `x` position to the \"left\", \"center\"\n            or \"right\" of the annotation. For example, if `x` is\n            set to 1, `xref` to \"paper\" and `xanchor` to \"right\"\n            then the right-most portion of the annotation lines up\n            with the right-most edge of the plotting area. If\n            \"auto\", the anchor is equivalent to \"center\" for data-\n            referenced annotations or if there is an arrow, whereas\n            for paper-referenced with no arrow, the anchor picked\n            corresponds to the closest side.\n        xclick\n            Toggle this annotation when clicking a data point whose\n            `x` value is `xclick` rather than the annotation's `x`\n            value.\n        xref\n            Sets the annotation's x coordinate axis. If set to a x\n            axis id (e.g. \"x\" or \"x2\"), the `x` position refers to\n            a x coordinate. If set to \"paper\", the `x` position\n            refers to the distance from the left of the plotting\n            area in normalized coordinates where 0 (1) corresponds\n            to the left (right). If set to a x axis ID followed by\n            \"domain\" (separated by a space), the position behaves\n            like for \"paper\", but refers to the distance in\n            fractions of the domain length from the left of the\n            domain of that axis: e.g., *x2 domain* refers to the\n            domain of the second x  axis and a x position of 0.5\n            refers to the point between the left and the right of\n            the domain of the second x axis.\n        xshift\n            Shifts the position of the whole annotation and arrow\n            to the right (positive) or left (negative) by this many\n            pixels.\n        y\n            Sets the annotation's y position. If the axis `type` is\n            \"log\", then you must take the log of your desired\n            range. If the axis `type` is \"date\", it should be date\n            strings, like date data, though Date objects and unix\n            milliseconds will be accepted and converted to strings.\n            If the axis `type` is \"category\", it should be numbers,\n            using the scale where each category is assigned a\n            serial number from zero in the order it appears.\n        yanchor\n            Sets the text box's vertical position anchor This\n            anchor binds the `y` position to the \"top\", \"middle\" or\n            \"bottom\" of the annotation. For example, if `y` is set\n            to 1, `yref` to \"paper\" and `yanchor` to \"top\" then the\n            top-most portion of the annotation lines up with the\n            top-most edge of the plotting area. If \"auto\", the\n            anchor is equivalent to \"middle\" for data-referenced\n            annotations or if there is an arrow, whereas for paper-\n            referenced with no arrow, the anchor picked corresponds\n            to the closest side.\n        yclick\n            Toggle this annotation when clicking a data point whose\n            `y` value is `yclick` rather than the annotation's `y`\n            value.\n        yref\n            Sets the annotation's y coordinate axis. If set to a y\n            axis id (e.g. \"y\" or \"y2\"), the `y` position refers to\n            a y coordinate. If set to \"paper\", the `y` position\n            refers to the distance from the bottom of the plotting\n            area in normalized coordinates where 0 (1) corresponds\n            to the bottom (top). If set to a y axis ID followed by\n            \"domain\" (separated by a space), the position behaves\n            like for \"paper\", but refers to the distance in\n            fractions of the domain length from the bottom of the\n            domain of that axis: e.g., *y2 domain* refers to the\n            domain of the second y  axis and a y position of 0.5\n            refers to the point between the bottom and the top of\n            the domain of the second y axis.\n        yshift\n            Shifts the position of the whole annotation and arrow\n            up (positive) or down (negative) by this many pixels.\n        \nDid you mean \"showarrow\"?\n\nBad property path:\nshowlegend\n^^^^^^^^^^",
          "output_type": "error",
          "traceback": [
            "\u001b[0;31m---------------------------------------------------------------------------\u001b[0m",
            "\u001b[0;31mValueError\u001b[0m                                Traceback (most recent call last)",
            "Cell \u001b[0;32mIn[693], line 95\u001b[0m\n\u001b[1;32m     75\u001b[0m annotations\u001b[38;5;241m.\u001b[39mappend(\u001b[38;5;28mdict\u001b[39m(xref\u001b[38;5;241m=\u001b[39m\u001b[38;5;124m'\u001b[39m\u001b[38;5;124mpaper\u001b[39m\u001b[38;5;124m'\u001b[39m, yref\u001b[38;5;241m=\u001b[39m\u001b[38;5;124m'\u001b[39m\u001b[38;5;124mpaper\u001b[39m\u001b[38;5;124m'\u001b[39m, x\u001b[38;5;241m=\u001b[39m\u001b[38;5;241m0.5\u001b[39m, y\u001b[38;5;241m=\u001b[39m\u001b[38;5;241m-\u001b[39m\u001b[38;5;241m0.1\u001b[39m,\n\u001b[1;32m     76\u001b[0m                               xanchor\u001b[38;5;241m=\u001b[39m\u001b[38;5;124m'\u001b[39m\u001b[38;5;124mleft\u001b[39m\u001b[38;5;124m'\u001b[39m, yanchor\u001b[38;5;241m=\u001b[39m\u001b[38;5;124m'\u001b[39m\u001b[38;5;124mtop\u001b[39m\u001b[38;5;124m'\u001b[39m,\n\u001b[1;32m     77\u001b[0m                               text\u001b[38;5;241m=\u001b[39m\u001b[38;5;124m'\u001b[39m\u001b[38;5;124mSource: https://population.un.org/dataportal/\u001b[39m\u001b[38;5;124m'\u001b[39m,\n\u001b[1;32m     78\u001b[0m                               font\u001b[38;5;241m=\u001b[39m\u001b[38;5;28mdict\u001b[39m(family\u001b[38;5;241m=\u001b[39m\u001b[38;5;124m'\u001b[39m\u001b[38;5;124mHelvetica\u001b[39m\u001b[38;5;124m'\u001b[39m, size\u001b[38;5;241m=\u001b[39m\u001b[38;5;241m8\u001b[39m),\n\u001b[1;32m     79\u001b[0m                               showarrow\u001b[38;5;241m=\u001b[39m\u001b[38;5;28;01mFalse\u001b[39;00m))\n\u001b[1;32m     80\u001b[0m \u001b[38;5;66;03m# add legend\u001b[39;00m\n\u001b[1;32m     81\u001b[0m \u001b[38;5;66;03m# annotations.append(\u001b[39;00m\n\u001b[1;32m     82\u001b[0m \u001b[38;5;66;03m#         dict(\u001b[39;00m\n\u001b[0;32m   (...)\u001b[0m\n\u001b[1;32m     92\u001b[0m \u001b[38;5;66;03m#         )\u001b[39;00m\n\u001b[1;32m     93\u001b[0m \u001b[38;5;66;03m#     )\u001b[39;00m\n\u001b[0;32m---> 95\u001b[0m \u001b[43mfig\u001b[49m\u001b[38;5;241;43m.\u001b[39;49m\u001b[43mupdate_layout\u001b[49m\u001b[43m(\u001b[49m\u001b[43mannotations\u001b[49m\u001b[38;5;241;43m=\u001b[39;49m\u001b[43mannotations\u001b[49m\u001b[43m)\u001b[49m\n\u001b[1;32m     97\u001b[0m fig\u001b[38;5;241m.\u001b[39mshow()\n",
            "File \u001b[0;32m/Library/Frameworks/Python.framework/Versions/3.11/lib/python3.11/site-packages/plotly/graph_objs/_figure.py:779\u001b[0m, in \u001b[0;36mFigure.update_layout\u001b[0;34m(self, dict1, overwrite, **kwargs)\u001b[0m\n\u001b[1;32m    753\u001b[0m \u001b[38;5;28;01mdef\u001b[39;00m \u001b[38;5;21mupdate_layout\u001b[39m(\u001b[38;5;28mself\u001b[39m, dict1\u001b[38;5;241m=\u001b[39m\u001b[38;5;28;01mNone\u001b[39;00m, overwrite\u001b[38;5;241m=\u001b[39m\u001b[38;5;28;01mFalse\u001b[39;00m, \u001b[38;5;241m*\u001b[39m\u001b[38;5;241m*\u001b[39mkwargs) \u001b[38;5;241m-\u001b[39m\u001b[38;5;241m>\u001b[39m \u001b[38;5;124m\"\u001b[39m\u001b[38;5;124mFigure\u001b[39m\u001b[38;5;124m\"\u001b[39m:\n\u001b[1;32m    754\u001b[0m \u001b[38;5;250m    \u001b[39m\u001b[38;5;124;03m\"\"\"\u001b[39;00m\n\u001b[1;32m    755\u001b[0m \n\u001b[1;32m    756\u001b[0m \u001b[38;5;124;03m    Update the properties of the figure's layout with a dict and/or with\u001b[39;00m\n\u001b[0;32m   (...)\u001b[0m\n\u001b[1;32m    777\u001b[0m \n\u001b[1;32m    778\u001b[0m \u001b[38;5;124;03m    \"\"\"\u001b[39;00m\n\u001b[0;32m--> 779\u001b[0m     \u001b[38;5;28;01mreturn\u001b[39;00m \u001b[38;5;28;43msuper\u001b[39;49m\u001b[43m(\u001b[49m\u001b[43mFigure\u001b[49m\u001b[43m,\u001b[49m\u001b[43m \u001b[49m\u001b[38;5;28;43mself\u001b[39;49m\u001b[43m)\u001b[49m\u001b[38;5;241;43m.\u001b[39;49m\u001b[43mupdate_layout\u001b[49m\u001b[43m(\u001b[49m\u001b[43mdict1\u001b[49m\u001b[43m,\u001b[49m\u001b[43m \u001b[49m\u001b[43moverwrite\u001b[49m\u001b[43m,\u001b[49m\u001b[43m \u001b[49m\u001b[38;5;241;43m*\u001b[39;49m\u001b[38;5;241;43m*\u001b[39;49m\u001b[43mkwargs\u001b[49m\u001b[43m)\u001b[49m\n",
            "File \u001b[0;32m/Library/Frameworks/Python.framework/Versions/3.11/lib/python3.11/site-packages/plotly/basedatatypes.py:1391\u001b[0m, in \u001b[0;36mBaseFigure.update_layout\u001b[0;34m(self, dict1, overwrite, **kwargs)\u001b[0m\n\u001b[1;32m   1367\u001b[0m \u001b[38;5;28;01mdef\u001b[39;00m \u001b[38;5;21mupdate_layout\u001b[39m(\u001b[38;5;28mself\u001b[39m, dict1\u001b[38;5;241m=\u001b[39m\u001b[38;5;28;01mNone\u001b[39;00m, overwrite\u001b[38;5;241m=\u001b[39m\u001b[38;5;28;01mFalse\u001b[39;00m, \u001b[38;5;241m*\u001b[39m\u001b[38;5;241m*\u001b[39mkwargs):\n\u001b[1;32m   1368\u001b[0m \u001b[38;5;250m    \u001b[39m\u001b[38;5;124;03m\"\"\"\u001b[39;00m\n\u001b[1;32m   1369\u001b[0m \u001b[38;5;124;03m    Update the properties of the figure's layout with a dict and/or with\u001b[39;00m\n\u001b[1;32m   1370\u001b[0m \u001b[38;5;124;03m    keyword arguments.\u001b[39;00m\n\u001b[0;32m   (...)\u001b[0m\n\u001b[1;32m   1389\u001b[0m \u001b[38;5;124;03m        The Figure object that the update_layout method was called on\u001b[39;00m\n\u001b[1;32m   1390\u001b[0m \u001b[38;5;124;03m    \"\"\"\u001b[39;00m\n\u001b[0;32m-> 1391\u001b[0m     \u001b[38;5;28;43mself\u001b[39;49m\u001b[38;5;241;43m.\u001b[39;49m\u001b[43mlayout\u001b[49m\u001b[38;5;241;43m.\u001b[39;49m\u001b[43mupdate\u001b[49m\u001b[43m(\u001b[49m\u001b[43mdict1\u001b[49m\u001b[43m,\u001b[49m\u001b[43m \u001b[49m\u001b[43moverwrite\u001b[49m\u001b[38;5;241;43m=\u001b[39;49m\u001b[43moverwrite\u001b[49m\u001b[43m,\u001b[49m\u001b[43m \u001b[49m\u001b[38;5;241;43m*\u001b[39;49m\u001b[38;5;241;43m*\u001b[39;49m\u001b[43mkwargs\u001b[49m\u001b[43m)\u001b[49m\n\u001b[1;32m   1392\u001b[0m     \u001b[38;5;28;01mreturn\u001b[39;00m \u001b[38;5;28mself\u001b[39m\n",
            "File \u001b[0;32m/Library/Frameworks/Python.framework/Versions/3.11/lib/python3.11/site-packages/plotly/basedatatypes.py:5137\u001b[0m, in \u001b[0;36mBasePlotlyType.update\u001b[0;34m(self, dict1, overwrite, **kwargs)\u001b[0m\n\u001b[1;32m   5135\u001b[0m     \u001b[38;5;28;01mwith\u001b[39;00m \u001b[38;5;28mself\u001b[39m\u001b[38;5;241m.\u001b[39mfigure\u001b[38;5;241m.\u001b[39mbatch_update():\n\u001b[1;32m   5136\u001b[0m         BaseFigure\u001b[38;5;241m.\u001b[39m_perform_update(\u001b[38;5;28mself\u001b[39m, dict1, overwrite\u001b[38;5;241m=\u001b[39moverwrite)\n\u001b[0;32m-> 5137\u001b[0m         \u001b[43mBaseFigure\u001b[49m\u001b[38;5;241;43m.\u001b[39;49m\u001b[43m_perform_update\u001b[49m\u001b[43m(\u001b[49m\u001b[38;5;28;43mself\u001b[39;49m\u001b[43m,\u001b[49m\u001b[43m \u001b[49m\u001b[43mkwargs\u001b[49m\u001b[43m,\u001b[49m\u001b[43m \u001b[49m\u001b[43moverwrite\u001b[49m\u001b[38;5;241;43m=\u001b[39;49m\u001b[43moverwrite\u001b[49m\u001b[43m)\u001b[49m\n\u001b[1;32m   5138\u001b[0m \u001b[38;5;28;01melse\u001b[39;00m:\n\u001b[1;32m   5139\u001b[0m     BaseFigure\u001b[38;5;241m.\u001b[39m_perform_update(\u001b[38;5;28mself\u001b[39m, dict1, overwrite\u001b[38;5;241m=\u001b[39moverwrite)\n",
            "File \u001b[0;32m/Library/Frameworks/Python.framework/Versions/3.11/lib/python3.11/site-packages/plotly/basedatatypes.py:3937\u001b[0m, in \u001b[0;36mBaseFigure._perform_update\u001b[0;34m(plotly_obj, update_obj, overwrite)\u001b[0m\n\u001b[1;32m   3931\u001b[0m             plotly_obj[key] \u001b[38;5;241m=\u001b[39m plotly_obj[key] \u001b[38;5;241m+\u001b[39m \u001b[38;5;28mtuple\u001b[39m(\n\u001b[1;32m   3932\u001b[0m                 val[\u001b[38;5;28mlen\u001b[39m(plotly_obj[key]) :]\n\u001b[1;32m   3933\u001b[0m             )\n\u001b[1;32m   3934\u001b[0m     \u001b[38;5;28;01melse\u001b[39;00m:\n\u001b[1;32m   3935\u001b[0m         \u001b[38;5;66;03m# plotly_obj is an empty or uninitialized list for key\u001b[39;00m\n\u001b[1;32m   3936\u001b[0m         \u001b[38;5;66;03m# In this case we accept val as is\u001b[39;00m\n\u001b[0;32m-> 3937\u001b[0m         \u001b[43mplotly_obj\u001b[49m\u001b[43m[\u001b[49m\u001b[43mkey\u001b[49m\u001b[43m]\u001b[49m \u001b[38;5;241m=\u001b[39m val\n\u001b[1;32m   3938\u001b[0m \u001b[38;5;28;01melse\u001b[39;00m:\n\u001b[1;32m   3939\u001b[0m     \u001b[38;5;66;03m# Assign non-compound value\u001b[39;00m\n\u001b[1;32m   3940\u001b[0m     plotly_obj[key] \u001b[38;5;241m=\u001b[39m val\n",
            "File \u001b[0;32m/Library/Frameworks/Python.framework/Versions/3.11/lib/python3.11/site-packages/plotly/basedatatypes.py:5912\u001b[0m, in \u001b[0;36mBaseLayoutType.__setitem__\u001b[0;34m(self, prop, value)\u001b[0m\n\u001b[1;32m   5909\u001b[0m match \u001b[38;5;241m=\u001b[39m \u001b[38;5;28mself\u001b[39m\u001b[38;5;241m.\u001b[39m_subplot_re_match(prop)\n\u001b[1;32m   5910\u001b[0m \u001b[38;5;28;01mif\u001b[39;00m match \u001b[38;5;129;01mis\u001b[39;00m \u001b[38;5;28;01mNone\u001b[39;00m:\n\u001b[1;32m   5911\u001b[0m     \u001b[38;5;66;03m# Set as ordinary property\u001b[39;00m\n\u001b[0;32m-> 5912\u001b[0m     \u001b[38;5;28;43msuper\u001b[39;49m\u001b[43m(\u001b[49m\u001b[43mBaseLayoutHierarchyType\u001b[49m\u001b[43m,\u001b[49m\u001b[43m \u001b[49m\u001b[38;5;28;43mself\u001b[39;49m\u001b[43m)\u001b[49m\u001b[38;5;241;43m.\u001b[39;49m\u001b[38;5;21;43m__setitem__\u001b[39;49m\u001b[43m(\u001b[49m\u001b[43mprop\u001b[49m\u001b[43m,\u001b[49m\u001b[43m \u001b[49m\u001b[43mvalue\u001b[49m\u001b[43m)\u001b[49m\n\u001b[1;32m   5913\u001b[0m \u001b[38;5;28;01melse\u001b[39;00m:\n\u001b[1;32m   5914\u001b[0m     \u001b[38;5;66;03m# Set as subplotid property\u001b[39;00m\n\u001b[1;32m   5915\u001b[0m     \u001b[38;5;28mself\u001b[39m\u001b[38;5;241m.\u001b[39m_set_subplotid_prop(prop, value)\n",
            "File \u001b[0;32m/Library/Frameworks/Python.framework/Versions/3.11/lib/python3.11/site-packages/plotly/basedatatypes.py:4870\u001b[0m, in \u001b[0;36mBasePlotlyType.__setitem__\u001b[0;34m(self, prop, value)\u001b[0m\n\u001b[1;32m   4868\u001b[0m \u001b[38;5;66;03m# ### Handle compound array property ###\u001b[39;00m\n\u001b[1;32m   4869\u001b[0m \u001b[38;5;28;01melif\u001b[39;00m \u001b[38;5;28misinstance\u001b[39m(validator, (CompoundArrayValidator, BaseDataValidator)):\n\u001b[0;32m-> 4870\u001b[0m     \u001b[38;5;28;43mself\u001b[39;49m\u001b[38;5;241;43m.\u001b[39;49m\u001b[43m_set_array_prop\u001b[49m\u001b[43m(\u001b[49m\u001b[43mprop\u001b[49m\u001b[43m,\u001b[49m\u001b[43m \u001b[49m\u001b[43mvalue\u001b[49m\u001b[43m)\u001b[49m\n\u001b[1;32m   4872\u001b[0m \u001b[38;5;66;03m# ### Handle simple property ###\u001b[39;00m\n\u001b[1;32m   4873\u001b[0m \u001b[38;5;28;01melse\u001b[39;00m:\n\u001b[1;32m   4874\u001b[0m     \u001b[38;5;28mself\u001b[39m\u001b[38;5;241m.\u001b[39m_set_prop(prop, value)\n",
            "File \u001b[0;32m/Library/Frameworks/Python.framework/Versions/3.11/lib/python3.11/site-packages/plotly/basedatatypes.py:5351\u001b[0m, in \u001b[0;36mBasePlotlyType._set_array_prop\u001b[0;34m(self, prop, val)\u001b[0m\n\u001b[1;32m   5348\u001b[0m \u001b[38;5;66;03m# Import value\u001b[39;00m\n\u001b[1;32m   5349\u001b[0m \u001b[38;5;66;03m# ------------\u001b[39;00m\n\u001b[1;32m   5350\u001b[0m validator \u001b[38;5;241m=\u001b[39m \u001b[38;5;28mself\u001b[39m\u001b[38;5;241m.\u001b[39m_get_validator(prop)\n\u001b[0;32m-> 5351\u001b[0m val \u001b[38;5;241m=\u001b[39m \u001b[43mvalidator\u001b[49m\u001b[38;5;241;43m.\u001b[39;49m\u001b[43mvalidate_coerce\u001b[49m\u001b[43m(\u001b[49m\u001b[43mval\u001b[49m\u001b[43m,\u001b[49m\u001b[43m \u001b[49m\u001b[43mskip_invalid\u001b[49m\u001b[38;5;241;43m=\u001b[39;49m\u001b[38;5;28;43mself\u001b[39;49m\u001b[38;5;241;43m.\u001b[39;49m\u001b[43m_skip_invalid\u001b[49m\u001b[43m)\u001b[49m\n\u001b[1;32m   5353\u001b[0m \u001b[38;5;66;03m# Save deep copies of current and new states\u001b[39;00m\n\u001b[1;32m   5354\u001b[0m \u001b[38;5;66;03m# ------------------------------------------\u001b[39;00m\n\u001b[1;32m   5355\u001b[0m curr_val \u001b[38;5;241m=\u001b[39m \u001b[38;5;28mself\u001b[39m\u001b[38;5;241m.\u001b[39m_compound_array_props\u001b[38;5;241m.\u001b[39mget(prop, \u001b[38;5;28;01mNone\u001b[39;00m)\n",
            "File \u001b[0;32m/Library/Frameworks/Python.framework/Versions/3.11/lib/python3.11/site-packages/_plotly_utils/basevalidators.py:2576\u001b[0m, in \u001b[0;36mCompoundArrayValidator.validate_coerce\u001b[0;34m(self, v, skip_invalid)\u001b[0m\n\u001b[1;32m   2574\u001b[0m     res\u001b[38;5;241m.\u001b[39mappend(\u001b[38;5;28mself\u001b[39m\u001b[38;5;241m.\u001b[39mdata_class(v_el))\n\u001b[1;32m   2575\u001b[0m \u001b[38;5;28;01melif\u001b[39;00m \u001b[38;5;28misinstance\u001b[39m(v_el, \u001b[38;5;28mdict\u001b[39m):\n\u001b[0;32m-> 2576\u001b[0m     res\u001b[38;5;241m.\u001b[39mappend(\u001b[38;5;28;43mself\u001b[39;49m\u001b[38;5;241;43m.\u001b[39;49m\u001b[43mdata_class\u001b[49m\u001b[43m(\u001b[49m\u001b[43mv_el\u001b[49m\u001b[43m,\u001b[49m\u001b[43m \u001b[49m\u001b[43mskip_invalid\u001b[49m\u001b[38;5;241;43m=\u001b[39;49m\u001b[43mskip_invalid\u001b[49m\u001b[43m)\u001b[49m)\n\u001b[1;32m   2577\u001b[0m \u001b[38;5;28;01melse\u001b[39;00m:\n\u001b[1;32m   2578\u001b[0m     \u001b[38;5;28;01mif\u001b[39;00m skip_invalid:\n",
            "File \u001b[0;32m/Library/Frameworks/Python.framework/Versions/3.11/lib/python3.11/site-packages/plotly/graph_objs/layout/_annotation.py:2085\u001b[0m, in \u001b[0;36mAnnotation.__init__\u001b[0;34m(self, arg, align, arrowcolor, arrowhead, arrowside, arrowsize, arrowwidth, ax, axref, ay, ayref, bgcolor, bordercolor, borderpad, borderwidth, captureevents, clicktoshow, font, height, hoverlabel, hovertext, name, opacity, showarrow, standoff, startarrowhead, startarrowsize, startstandoff, templateitemname, text, textangle, valign, visible, width, x, xanchor, xclick, xref, xshift, y, yanchor, yclick, yref, yshift, **kwargs)\u001b[0m\n\u001b[1;32m   2081\u001b[0m     \u001b[38;5;28mself\u001b[39m[\u001b[38;5;124m\"\u001b[39m\u001b[38;5;124myshift\u001b[39m\u001b[38;5;124m\"\u001b[39m] \u001b[38;5;241m=\u001b[39m _v\n\u001b[1;32m   2083\u001b[0m \u001b[38;5;66;03m# Process unknown kwargs\u001b[39;00m\n\u001b[1;32m   2084\u001b[0m \u001b[38;5;66;03m# ----------------------\u001b[39;00m\n\u001b[0;32m-> 2085\u001b[0m \u001b[38;5;28;43mself\u001b[39;49m\u001b[38;5;241;43m.\u001b[39;49m\u001b[43m_process_kwargs\u001b[49m\u001b[43m(\u001b[49m\u001b[38;5;241;43m*\u001b[39;49m\u001b[38;5;241;43m*\u001b[39;49m\u001b[38;5;28;43mdict\u001b[39;49m\u001b[43m(\u001b[49m\u001b[43marg\u001b[49m\u001b[43m,\u001b[49m\u001b[43m \u001b[49m\u001b[38;5;241;43m*\u001b[39;49m\u001b[38;5;241;43m*\u001b[39;49m\u001b[43mkwargs\u001b[49m\u001b[43m)\u001b[49m\u001b[43m)\u001b[49m\n\u001b[1;32m   2087\u001b[0m \u001b[38;5;66;03m# Reset skip_invalid\u001b[39;00m\n\u001b[1;32m   2088\u001b[0m \u001b[38;5;66;03m# ------------------\u001b[39;00m\n\u001b[1;32m   2089\u001b[0m \u001b[38;5;28mself\u001b[39m\u001b[38;5;241m.\u001b[39m_skip_invalid \u001b[38;5;241m=\u001b[39m \u001b[38;5;28;01mFalse\u001b[39;00m\n",
            "File \u001b[0;32m/Library/Frameworks/Python.framework/Versions/3.11/lib/python3.11/site-packages/plotly/basedatatypes.py:4392\u001b[0m, in \u001b[0;36mBasePlotlyType._process_kwargs\u001b[0;34m(self, **kwargs)\u001b[0m\n\u001b[1;32m   4390\u001b[0m     \u001b[38;5;28mself\u001b[39m[k] \u001b[38;5;241m=\u001b[39m v\n\u001b[1;32m   4391\u001b[0m \u001b[38;5;28;01melif\u001b[39;00m \u001b[38;5;129;01mnot\u001b[39;00m \u001b[38;5;28mself\u001b[39m\u001b[38;5;241m.\u001b[39m_skip_invalid:\n\u001b[0;32m-> 4392\u001b[0m     \u001b[38;5;28;01mraise\u001b[39;00m err\n",
            "\u001b[0;31mValueError\u001b[0m: Invalid property specified for object of type plotly.graph_objs.layout.Annotation: 'showlegend'\n\nDid you mean \"showarrow\"?\n\n    Valid properties:\n        align\n            Sets the horizontal alignment of the `text` within the\n            box. Has an effect only if `text` spans two or more\n            lines (i.e. `text` contains one or more <br> HTML tags)\n            or if an explicit width is set to override the text\n            width.\n        arrowcolor\n            Sets the color of the annotation arrow.\n        arrowhead\n            Sets the end annotation arrow head style.\n        arrowside\n            Sets the annotation arrow head position.\n        arrowsize\n            Sets the size of the end annotation arrow head,\n            relative to `arrowwidth`. A value of 1 (default) gives\n            a head about 3x as wide as the line.\n        arrowwidth\n            Sets the width (in px) of annotation arrow line.\n        ax\n            Sets the x component of the arrow tail about the arrow\n            head. If `axref` is `pixel`, a positive (negative)\n            component corresponds to an arrow pointing from right\n            to left (left to right). If `axref` is not `pixel` and\n            is exactly the same as `xref`, this is an absolute\n            value on that axis, like `x`, specified in the same\n            coordinates as `xref`.\n        axref\n            Indicates in what coordinates the tail of the\n            annotation (ax,ay) is specified. If set to a x axis id\n            (e.g. \"x\" or \"x2\"), the `x` position refers to a x\n            coordinate. If set to \"paper\", the `x` position refers\n            to the distance from the left of the plotting area in\n            normalized coordinates where 0 (1) corresponds to the\n            left (right). If set to a x axis ID followed by\n            \"domain\" (separated by a space), the position behaves\n            like for \"paper\", but refers to the distance in\n            fractions of the domain length from the left of the\n            domain of that axis: e.g., *x2 domain* refers to the\n            domain of the second x  axis and a x position of 0.5\n            refers to the point between the left and the right of\n            the domain of the second x axis. In order for absolute\n            positioning of the arrow to work, \"axref\" must be\n            exactly the same as \"xref\", otherwise \"axref\" will\n            revert to \"pixel\" (explained next). For relative\n            positioning, \"axref\" can be set to \"pixel\", in which\n            case the \"ax\" value is specified in pixels relative to\n            \"x\". Absolute positioning is useful for trendline\n            annotations which should continue to indicate the\n            correct trend when zoomed. Relative positioning is\n            useful for specifying the text offset for an annotated\n            point.\n        ay\n            Sets the y component of the arrow tail about the arrow\n            head. If `ayref` is `pixel`, a positive (negative)\n            component corresponds to an arrow pointing from bottom\n            to top (top to bottom). If `ayref` is not `pixel` and\n            is exactly the same as `yref`, this is an absolute\n            value on that axis, like `y`, specified in the same\n            coordinates as `yref`.\n        ayref\n            Indicates in what coordinates the tail of the\n            annotation (ax,ay) is specified. If set to a y axis id\n            (e.g. \"y\" or \"y2\"), the `y` position refers to a y\n            coordinate. If set to \"paper\", the `y` position refers\n            to the distance from the bottom of the plotting area in\n            normalized coordinates where 0 (1) corresponds to the\n            bottom (top). If set to a y axis ID followed by\n            \"domain\" (separated by a space), the position behaves\n            like for \"paper\", but refers to the distance in\n            fractions of the domain length from the bottom of the\n            domain of that axis: e.g., *y2 domain* refers to the\n            domain of the second y  axis and a y position of 0.5\n            refers to the point between the bottom and the top of\n            the domain of the second y axis. In order for absolute\n            positioning of the arrow to work, \"ayref\" must be\n            exactly the same as \"yref\", otherwise \"ayref\" will\n            revert to \"pixel\" (explained next). For relative\n            positioning, \"ayref\" can be set to \"pixel\", in which\n            case the \"ay\" value is specified in pixels relative to\n            \"y\". Absolute positioning is useful for trendline\n            annotations which should continue to indicate the\n            correct trend when zoomed. Relative positioning is\n            useful for specifying the text offset for an annotated\n            point.\n        bgcolor\n            Sets the background color of the annotation.\n        bordercolor\n            Sets the color of the border enclosing the annotation\n            `text`.\n        borderpad\n            Sets the padding (in px) between the `text` and the\n            enclosing border.\n        borderwidth\n            Sets the width (in px) of the border enclosing the\n            annotation `text`.\n        captureevents\n            Determines whether the annotation text box captures\n            mouse move and click events, or allows those events to\n            pass through to data points in the plot that may be\n            behind the annotation. By default `captureevents` is\n            False unless `hovertext` is provided. If you use the\n            event `plotly_clickannotation` without `hovertext` you\n            must explicitly enable `captureevents`.\n        clicktoshow\n            Makes this annotation respond to clicks on the plot. If\n            you click a data point that exactly matches the `x` and\n            `y` values of this annotation, and it is hidden\n            (visible: false), it will appear. In \"onoff\" mode, you\n            must click the same point again to make it disappear,\n            so if you click multiple points, you can show multiple\n            annotations. In \"onout\" mode, a click anywhere else in\n            the plot (on another data point or not) will hide this\n            annotation. If you need to show/hide this annotation in\n            response to different `x` or `y` values, you can set\n            `xclick` and/or `yclick`. This is useful for example to\n            label the side of a bar. To label markers though,\n            `standoff` is preferred over `xclick` and `yclick`.\n        font\n            Sets the annotation text font.\n        height\n            Sets an explicit height for the text box. null\n            (default) lets the text set the box height. Taller text\n            will be clipped.\n        hoverlabel\n            :class:`plotly.graph_objects.layout.annotation.Hoverlab\n            el` instance or dict with compatible properties\n        hovertext\n            Sets text to appear when hovering over this annotation.\n            If omitted or blank, no hover label will appear.\n        name\n            When used in a template, named items are created in the\n            output figure in addition to any items the figure\n            already has in this array. You can modify these items\n            in the output figure by making your own item with\n            `templateitemname` matching this `name` alongside your\n            modifications (including `visible: false` or `enabled:\n            false` to hide it). Has no effect outside of a\n            template.\n        opacity\n            Sets the opacity of the annotation (text + arrow).\n        showarrow\n            Determines whether or not the annotation is drawn with\n            an arrow. If True, `text` is placed near the arrow's\n            tail. If False, `text` lines up with the `x` and `y`\n            provided.\n        standoff\n            Sets a distance, in pixels, to move the end arrowhead\n            away from the position it is pointing at, for example\n            to point at the edge of a marker independent of zoom.\n            Note that this shortens the arrow from the `ax` / `ay`\n            vector, in contrast to `xshift` / `yshift` which moves\n            everything by this amount.\n        startarrowhead\n            Sets the start annotation arrow head style.\n        startarrowsize\n            Sets the size of the start annotation arrow head,\n            relative to `arrowwidth`. A value of 1 (default) gives\n            a head about 3x as wide as the line.\n        startstandoff\n            Sets a distance, in pixels, to move the start arrowhead\n            away from the position it is pointing at, for example\n            to point at the edge of a marker independent of zoom.\n            Note that this shortens the arrow from the `ax` / `ay`\n            vector, in contrast to `xshift` / `yshift` which moves\n            everything by this amount.\n        templateitemname\n            Used to refer to a named item in this array in the\n            template. Named items from the template will be created\n            even without a matching item in the input figure, but\n            you can modify one by making an item with\n            `templateitemname` matching its `name`, alongside your\n            modifications (including `visible: false` or `enabled:\n            false` to hide it). If there is no template or no\n            matching item, this item will be hidden unless you\n            explicitly show it with `visible: true`.\n        text\n            Sets the text associated with this annotation. Plotly\n            uses a subset of HTML tags to do things like newline\n            (<br>), bold (<b></b>), italics (<i></i>), hyperlinks\n            (<a href='...'></a>). Tags <em>, <sup>, <sub> <span>\n            are also supported.\n        textangle\n            Sets the angle at which the `text` is drawn with\n            respect to the horizontal.\n        valign\n            Sets the vertical alignment of the `text` within the\n            box. Has an effect only if an explicit height is set to\n            override the text height.\n        visible\n            Determines whether or not this annotation is visible.\n        width\n            Sets an explicit width for the text box. null (default)\n            lets the text set the box width. Wider text will be\n            clipped. There is no automatic wrapping; use <br> to\n            start a new line.\n        x\n            Sets the annotation's x position. If the axis `type` is\n            \"log\", then you must take the log of your desired\n            range. If the axis `type` is \"date\", it should be date\n            strings, like date data, though Date objects and unix\n            milliseconds will be accepted and converted to strings.\n            If the axis `type` is \"category\", it should be numbers,\n            using the scale where each category is assigned a\n            serial number from zero in the order it appears.\n        xanchor\n            Sets the text box's horizontal position anchor This\n            anchor binds the `x` position to the \"left\", \"center\"\n            or \"right\" of the annotation. For example, if `x` is\n            set to 1, `xref` to \"paper\" and `xanchor` to \"right\"\n            then the right-most portion of the annotation lines up\n            with the right-most edge of the plotting area. If\n            \"auto\", the anchor is equivalent to \"center\" for data-\n            referenced annotations or if there is an arrow, whereas\n            for paper-referenced with no arrow, the anchor picked\n            corresponds to the closest side.\n        xclick\n            Toggle this annotation when clicking a data point whose\n            `x` value is `xclick` rather than the annotation's `x`\n            value.\n        xref\n            Sets the annotation's x coordinate axis. If set to a x\n            axis id (e.g. \"x\" or \"x2\"), the `x` position refers to\n            a x coordinate. If set to \"paper\", the `x` position\n            refers to the distance from the left of the plotting\n            area in normalized coordinates where 0 (1) corresponds\n            to the left (right). If set to a x axis ID followed by\n            \"domain\" (separated by a space), the position behaves\n            like for \"paper\", but refers to the distance in\n            fractions of the domain length from the left of the\n            domain of that axis: e.g., *x2 domain* refers to the\n            domain of the second x  axis and a x position of 0.5\n            refers to the point between the left and the right of\n            the domain of the second x axis.\n        xshift\n            Shifts the position of the whole annotation and arrow\n            to the right (positive) or left (negative) by this many\n            pixels.\n        y\n            Sets the annotation's y position. If the axis `type` is\n            \"log\", then you must take the log of your desired\n            range. If the axis `type` is \"date\", it should be date\n            strings, like date data, though Date objects and unix\n            milliseconds will be accepted and converted to strings.\n            If the axis `type` is \"category\", it should be numbers,\n            using the scale where each category is assigned a\n            serial number from zero in the order it appears.\n        yanchor\n            Sets the text box's vertical position anchor This\n            anchor binds the `y` position to the \"top\", \"middle\" or\n            \"bottom\" of the annotation. For example, if `y` is set\n            to 1, `yref` to \"paper\" and `yanchor` to \"top\" then the\n            top-most portion of the annotation lines up with the\n            top-most edge of the plotting area. If \"auto\", the\n            anchor is equivalent to \"middle\" for data-referenced\n            annotations or if there is an arrow, whereas for paper-\n            referenced with no arrow, the anchor picked corresponds\n            to the closest side.\n        yclick\n            Toggle this annotation when clicking a data point whose\n            `y` value is `yclick` rather than the annotation's `y`\n            value.\n        yref\n            Sets the annotation's y coordinate axis. If set to a y\n            axis id (e.g. \"y\" or \"y2\"), the `y` position refers to\n            a y coordinate. If set to \"paper\", the `y` position\n            refers to the distance from the bottom of the plotting\n            area in normalized coordinates where 0 (1) corresponds\n            to the bottom (top). If set to a y axis ID followed by\n            \"domain\" (separated by a space), the position behaves\n            like for \"paper\", but refers to the distance in\n            fractions of the domain length from the bottom of the\n            domain of that axis: e.g., *y2 domain* refers to the\n            domain of the second y  axis and a y position of 0.5\n            refers to the point between the bottom and the top of\n            the domain of the second y axis.\n        yshift\n            Shifts the position of the whole annotation and arrow\n            up (positive) or down (negative) by this many pixels.\n        \nDid you mean \"showarrow\"?\n\nBad property path:\nshowlegend\n^^^^^^^^^^"
          ]
        }
      ],
      "source": [
        "fig = go.Figure()\n",
        "for i in range(len(labels)):\n",
        "    fig.add_trace(go.Scatter(x=x_data, y=y_data[i], mode='lines+markers',\n",
        "        name=labels[i],\n",
        "        line=dict(color=colors[i], width=line_size[i]),\n",
        "        connectgaps=True\n",
        "    ))\n",
        "\n",
        "    # endpoints\n",
        "    fig.add_trace(go.Scatter(\n",
        "        x=[x_data[0], x_data[-1]],\n",
        "        y=[y_data[i][0], y_data[i][-1]],\n",
        "        mode='markers',\n",
        "        marker=dict(color=colors[i], size=mode_size[i])\n",
        "    ))\n",
        "\n",
        "fig.update_layout(\n",
        "    xaxis=dict(\n",
        "        showline=True,\n",
        "        showgrid=False,\n",
        "        showticklabels=True,\n",
        "        linecolor='rgb(204, 204, 204)',\n",
        "        linewidth=2,\n",
        "        ticks='outside',\n",
        "        tickfont=dict(\n",
        "            family='Helvetica',\n",
        "            size=12,\n",
        "            color='rgb(82, 82, 82)',\n",
        "        ),\n",
        "    ),\n",
        "    yaxis=dict(\n",
        "        showgrid=False,\n",
        "        zeroline=False,\n",
        "        showline=False,\n",
        "        showticklabels=False,\n",
        "    ),\n",
        "    autosize=False,\n",
        "    margin=dict(\n",
        "        autoexpand=False,\n",
        "        l=100,\n",
        "        r=100,\n",
        "        t=110,\n",
        "    ),\n",
        "    showlegend=True,\n",
        "    plot_bgcolor='white'\n",
        ")\n",
        "\n",
        "annotations = []\n",
        "\n",
        "# adding labels\n",
        "for y_trace, label, color in zip(y_data, labels, colors):\n",
        "    # left side of the plot\n",
        "    annotations.append(dict(xref='paper', x=0.05, y=y_trace[0],\n",
        "                                  xanchor='right', yanchor='middle',\n",
        "                                  text=label + ' {}M'.format(y_trace[0] // 100000000),\n",
        "                                  font=dict(family='Helvetica', size=10),\n",
        "                                  showarrow=True,\n",
        "                                  showlegend=False))\n",
        "    # right side of the plot\n",
        "    annotations.append(dict(xref='paper', x=0.95, y=y_trace[-1],\n",
        "                                  xanchor='left', yanchor='middle',\n",
        "                                  text='{}M'.format(y_trace[-1] // 100000000),\n",
        "                                  font=dict(family='Helvetica', size=12),\n",
        "                                  showarrow=False, \n",
        "                                  showlegend=False))\n",
        "\n",
        "# add title\n",
        "annotations.append(dict(xref='paper', yref='paper', x=0.0, y=1.05,\n",
        "                              xanchor='left', yanchor='bottom',\n",
        "                              text=title,\n",
        "                              font=dict(family='Helvetica', size=20),\n",
        "                              showarrow=False))\n",
        "\n",
        "# add source\n",
        "annotations.append(dict(xref='paper', yref='paper', x=0.5, y=-0.1,\n",
        "                              xanchor='left', yanchor='top',\n",
        "                              text='Source: https://population.un.org/dataportal/',\n",
        "                              font=dict(family='Helvetica', size=8),\n",
        "                              showarrow=False))\n",
        "# add legend\n",
        "# annotations.append(\n",
        "#         dict(\n",
        "#             xref='paper',\n",
        "#             yref='paper',\n",
        "#             x=1.02,  # Adjust position as needed\n",
        "#             y=1 - labels.index(label) * 0.05,  # Adjust position as needed\n",
        "#             xanchor='left',\n",
        "#             yanchor='middle',\n",
        "#             text=label,\n",
        "#             font=dict(family='Helvetica', size=12, color=color),  # Match color with trace\n",
        "#             showarrow=False\n",
        "#         )\n",
        "#     )\n",
        "\n",
        "fig.update_layout(annotations=annotations)\n",
        "\n",
        "fig.show()"
      ]
    },
    {
      "cell_type": "code",
      "execution_count": 688,
      "metadata": {
        "vscode": {
          "languageId": "python"
        }
      },
      "outputs": [
        {
          "data": {
            "image/png": "[encoded data removed]",
            "text/plain": [
              "<Figure size 1000x600 with 1 Axes>"
            ]
          },
          "metadata": {},
          "output_type": "display_data"
        }
      ],
      "source": [
        "# color dictionary\n",
        "colors = {'Europe': '#140D4F', 'Africa': '#598B2C', 'Asia': '#42CAFD', 'Oceania': '#FFA400', 'North America': '#66B3BA', 'South America': '#92140C'}\n",
        "\n",
        "# plot out a line graph\n",
        "plt.figure(figsize=(10, 6))\n",
        "\n",
        "for continent in world_cp['continent'].unique():\n",
        "    df_continent = world_cp[world_cp['continent'] == continent]\n",
        "    plt.plot(df_continent.columns[1:], df_continent.values[0][1:], marker='o', label=continent, color=colors.get(continent))\n",
        "\n",
        "plt.xlabel('Year')\n",
        "plt.ylabel('Population')\n",
        "plt.title('Population Growth by Continent')\n",
        "plt.xticks(rotation=45)\n",
        "plt.legend()\n",
        "plt.grid(False)\n",
        "plt.tight_layout()\n",
        "plt.show()"
      ]
    },
    {
      "cell_type": "code",
      "execution_count": 609,
      "metadata": {
        "vscode": {
          "languageId": "python"
        }
      },
      "outputs": [
        {
          "data": {
            "text/html": [
              "<div>\n",
              "<style scoped>\n",
              "    .dataframe tbody tr th:only-of-type {\n",
              "        vertical-align: middle;\n",
              "    }\n",
              "\n",
              "    .dataframe tbody tr th {\n",
              "        vertical-align: top;\n",
              "    }\n",
              "\n",
              "    .dataframe thead th {\n",
              "        text-align: right;\n",
              "    }\n",
              "</style>\n",
              "<table border=\"1\" class=\"dataframe\">\n",
              "  <thead>\n",
              "    <tr style=\"text-align: right;\">\n",
              "      <th></th>\n",
              "      <th>Domain Code</th>\n",
              "      <th>Domain</th>\n",
              "      <th>Area Code (M49)</th>\n",
              "      <th>Area</th>\n",
              "      <th>Element Code</th>\n",
              "      <th>Element</th>\n",
              "      <th>Item Code</th>\n",
              "      <th>Item</th>\n",
              "      <th>Year Code</th>\n",
              "      <th>Year</th>\n",
              "      <th>Unit</th>\n",
              "      <th>Value</th>\n",
              "      <th>Flag</th>\n",
              "      <th>Flag Description</th>\n",
              "      <th>Note</th>\n",
              "    </tr>\n",
              "  </thead>\n",
              "  <tbody>\n",
              "    <tr>\n",
              "      <th>0</th>\n",
              "      <td>FS</td>\n",
              "      <td>Suite of Food Security Indicators</td>\n",
              "      <td>4</td>\n",
              "      <td>Afghanistan</td>\n",
              "      <td>6121</td>\n",
              "      <td>Value</td>\n",
              "      <td>21010</td>\n",
              "      <td>Average dietary energy supply adequacy (percen...</td>\n",
              "      <td>20002002</td>\n",
              "      <td>2000-2002</td>\n",
              "      <td>%</td>\n",
              "      <td>88</td>\n",
              "      <td>E</td>\n",
              "      <td>Estimated value</td>\n",
              "      <td>NaN</td>\n",
              "    </tr>\n",
              "    <tr>\n",
              "      <th>1</th>\n",
              "      <td>FS</td>\n",
              "      <td>Suite of Food Security Indicators</td>\n",
              "      <td>4</td>\n",
              "      <td>Afghanistan</td>\n",
              "      <td>6121</td>\n",
              "      <td>Value</td>\n",
              "      <td>21010</td>\n",
              "      <td>Average dietary energy supply adequacy (percen...</td>\n",
              "      <td>20012003</td>\n",
              "      <td>2001-2003</td>\n",
              "      <td>%</td>\n",
              "      <td>89</td>\n",
              "      <td>E</td>\n",
              "      <td>Estimated value</td>\n",
              "      <td>NaN</td>\n",
              "    </tr>\n",
              "    <tr>\n",
              "      <th>2</th>\n",
              "      <td>FS</td>\n",
              "      <td>Suite of Food Security Indicators</td>\n",
              "      <td>4</td>\n",
              "      <td>Afghanistan</td>\n",
              "      <td>6121</td>\n",
              "      <td>Value</td>\n",
              "      <td>21010</td>\n",
              "      <td>Average dietary energy supply adequacy (percen...</td>\n",
              "      <td>20022004</td>\n",
              "      <td>2002-2004</td>\n",
              "      <td>%</td>\n",
              "      <td>92</td>\n",
              "      <td>E</td>\n",
              "      <td>Estimated value</td>\n",
              "      <td>NaN</td>\n",
              "    </tr>\n",
              "    <tr>\n",
              "      <th>3</th>\n",
              "      <td>FS</td>\n",
              "      <td>Suite of Food Security Indicators</td>\n",
              "      <td>4</td>\n",
              "      <td>Afghanistan</td>\n",
              "      <td>6121</td>\n",
              "      <td>Value</td>\n",
              "      <td>21010</td>\n",
              "      <td>Average dietary energy supply adequacy (percen...</td>\n",
              "      <td>20032005</td>\n",
              "      <td>2003-2005</td>\n",
              "      <td>%</td>\n",
              "      <td>93</td>\n",
              "      <td>E</td>\n",
              "      <td>Estimated value</td>\n",
              "      <td>NaN</td>\n",
              "    </tr>\n",
              "    <tr>\n",
              "      <th>4</th>\n",
              "      <td>FS</td>\n",
              "      <td>Suite of Food Security Indicators</td>\n",
              "      <td>4</td>\n",
              "      <td>Afghanistan</td>\n",
              "      <td>6121</td>\n",
              "      <td>Value</td>\n",
              "      <td>21010</td>\n",
              "      <td>Average dietary energy supply adequacy (percen...</td>\n",
              "      <td>20042006</td>\n",
              "      <td>2004-2006</td>\n",
              "      <td>%</td>\n",
              "      <td>94</td>\n",
              "      <td>E</td>\n",
              "      <td>Estimated value</td>\n",
              "      <td>NaN</td>\n",
              "    </tr>\n",
              "  </tbody>\n",
              "</table>\n",
              "</div>"
            ],
            "text/plain": [
              "  Domain Code                             Domain  Area Code (M49)  \\\n",
              "0          FS  Suite of Food Security Indicators                4   \n",
              "1          FS  Suite of Food Security Indicators                4   \n",
              "2          FS  Suite of Food Security Indicators                4   \n",
              "3          FS  Suite of Food Security Indicators                4   \n",
              "4          FS  Suite of Food Security Indicators                4   \n",
              "\n",
              "          Area  Element Code Element Item Code  \\\n",
              "0  Afghanistan          6121   Value     21010   \n",
              "1  Afghanistan          6121   Value     21010   \n",
              "2  Afghanistan          6121   Value     21010   \n",
              "3  Afghanistan          6121   Value     21010   \n",
              "4  Afghanistan          6121   Value     21010   \n",
              "\n",
              "                                                Item  Year Code       Year  \\\n",
              "0  Average dietary energy supply adequacy (percen...   20002002  2000-2002   \n",
              "1  Average dietary energy supply adequacy (percen...   20012003  2001-2003   \n",
              "2  Average dietary energy supply adequacy (percen...   20022004  2002-2004   \n",
              "3  Average dietary energy supply adequacy (percen...   20032005  2003-2005   \n",
              "4  Average dietary energy supply adequacy (percen...   20042006  2004-2006   \n",
              "\n",
              "  Unit Value Flag Flag Description Note  \n",
              "0    %    88    E  Estimated value  NaN  \n",
              "1    %    89    E  Estimated value  NaN  \n",
              "2    %    92    E  Estimated value  NaN  \n",
              "3    %    93    E  Estimated value  NaN  \n",
              "4    %    94    E  Estimated value  NaN  "
            ]
          },
          "execution_count": 609,
          "metadata": {},
          "output_type": "execute_result"
        }
      ],
      "source": [
        "raw_df = pd.read_csv('./data/FAOSTAT_data.csv')\n",
        "raw_df.head()"
      ]
    },
    {
      "cell_type": "markdown",
      "metadata": {},
      "source": [
        "Food insecurity:\n",
        "\n",
        "* Prevalence of severe food insecurity in the total population (percent): 210401 (M/F)\n",
        "* Prevalence of moderate or severe food insecurity in the total population (percent): 210091 (M/F)\n",
        "* Number of severely food insecure people (million): 210071 (M/F)\n",
        "* Number of moderately or severely food insecure people (million): 210081 (M/F)\n",
        "\n",
        "## Further cleaning and preprocessing"
      ]
    },
    {
      "cell_type": "code",
      "execution_count": 610,
      "metadata": {
        "vscode": {
          "languageId": "python"
        }
      },
      "outputs": [],
      "source": [
        "raw_df.columns = raw_df.columns.str.lower()\n",
        "raw_df.columns = raw_df.columns.str.replace(' ', '_')\n",
        "# change the area column to country column\n",
        "raw_df = raw_df.rename(columns={'area': 'country'})"
      ]
    },
    {
      "cell_type": "code",
      "execution_count": 611,
      "metadata": {
        "vscode": {
          "languageId": "python"
        }
      },
      "outputs": [],
      "source": [
        "# filter out the data by item code\n",
        "# prevalence of severe food insecurity in the total population\n",
        "prev_severe_total = raw_df[raw_df['item_code'] == '210401'] \n",
        "prev_severe_male = raw_df[raw_df['item_code'] == '210401M']\n",
        "prev_sever_female = raw_df[raw_df['item_code'] == '210401F']\n",
        "\n",
        "# prevalence of moderate or severe food insecurity in the total population\n",
        "prev_mod_total = raw_df[raw_df['item_code'] == '210091']\n",
        "prev_mod_male = raw_df[raw_df['item_code'] == '210091M']\n",
        "prev_mod_female = raw_df[raw_df['item_code'] == '210091F']"
      ]
    },
    {
      "cell_type": "code",
      "execution_count": 612,
      "metadata": {
        "vscode": {
          "languageId": "python"
        }
      },
      "outputs": [
        {
          "data": {
            "text/html": [
              "<div>\n",
              "<style scoped>\n",
              "    .dataframe tbody tr th:only-of-type {\n",
              "        vertical-align: middle;\n",
              "    }\n",
              "\n",
              "    .dataframe tbody tr th {\n",
              "        vertical-align: top;\n",
              "    }\n",
              "\n",
              "    .dataframe thead th {\n",
              "        text-align: right;\n",
              "    }\n",
              "</style>\n",
              "<table border=\"1\" class=\"dataframe\">\n",
              "  <thead>\n",
              "    <tr style=\"text-align: right;\">\n",
              "      <th></th>\n",
              "      <th>domain_code</th>\n",
              "      <th>domain</th>\n",
              "      <th>area_code_(m49)</th>\n",
              "      <th>country</th>\n",
              "      <th>element_code</th>\n",
              "      <th>element</th>\n",
              "      <th>item_code</th>\n",
              "      <th>item</th>\n",
              "      <th>year_code</th>\n",
              "      <th>year</th>\n",
              "      <th>unit</th>\n",
              "      <th>value</th>\n",
              "      <th>flag</th>\n",
              "      <th>flag_description</th>\n",
              "      <th>note</th>\n",
              "    </tr>\n",
              "  </thead>\n",
              "  <tbody>\n",
              "    <tr>\n",
              "      <th>140</th>\n",
              "      <td>FS</td>\n",
              "      <td>Suite of Food Security Indicators</td>\n",
              "      <td>4</td>\n",
              "      <td>Afghanistan</td>\n",
              "      <td>6121</td>\n",
              "      <td>Value</td>\n",
              "      <td>210401</td>\n",
              "      <td>Prevalence of severe food insecurity in the to...</td>\n",
              "      <td>20142016</td>\n",
              "      <td>2014-2016</td>\n",
              "      <td>%</td>\n",
              "      <td>14.8</td>\n",
              "      <td>A</td>\n",
              "      <td>Official figure</td>\n",
              "      <td>FAO data</td>\n",
              "    </tr>\n",
              "    <tr>\n",
              "      <th>141</th>\n",
              "      <td>FS</td>\n",
              "      <td>Suite of Food Security Indicators</td>\n",
              "      <td>4</td>\n",
              "      <td>Afghanistan</td>\n",
              "      <td>6121</td>\n",
              "      <td>Value</td>\n",
              "      <td>210401</td>\n",
              "      <td>Prevalence of severe food insecurity in the to...</td>\n",
              "      <td>20152017</td>\n",
              "      <td>2015-2017</td>\n",
              "      <td>%</td>\n",
              "      <td>15.1</td>\n",
              "      <td>A</td>\n",
              "      <td>Official figure</td>\n",
              "      <td>FAO data</td>\n",
              "    </tr>\n",
              "    <tr>\n",
              "      <th>142</th>\n",
              "      <td>FS</td>\n",
              "      <td>Suite of Food Security Indicators</td>\n",
              "      <td>4</td>\n",
              "      <td>Afghanistan</td>\n",
              "      <td>6121</td>\n",
              "      <td>Value</td>\n",
              "      <td>210401</td>\n",
              "      <td>Prevalence of severe food insecurity in the to...</td>\n",
              "      <td>20162018</td>\n",
              "      <td>2016-2018</td>\n",
              "      <td>%</td>\n",
              "      <td>17.3</td>\n",
              "      <td>A</td>\n",
              "      <td>Official figure</td>\n",
              "      <td>FAO data</td>\n",
              "    </tr>\n",
              "    <tr>\n",
              "      <th>143</th>\n",
              "      <td>FS</td>\n",
              "      <td>Suite of Food Security Indicators</td>\n",
              "      <td>4</td>\n",
              "      <td>Afghanistan</td>\n",
              "      <td>6121</td>\n",
              "      <td>Value</td>\n",
              "      <td>210401</td>\n",
              "      <td>Prevalence of severe food insecurity in the to...</td>\n",
              "      <td>20172019</td>\n",
              "      <td>2017-2019</td>\n",
              "      <td>%</td>\n",
              "      <td>17.3</td>\n",
              "      <td>A</td>\n",
              "      <td>Official figure</td>\n",
              "      <td>Official estimate</td>\n",
              "    </tr>\n",
              "    <tr>\n",
              "      <th>144</th>\n",
              "      <td>FS</td>\n",
              "      <td>Suite of Food Security Indicators</td>\n",
              "      <td>4</td>\n",
              "      <td>Afghanistan</td>\n",
              "      <td>6121</td>\n",
              "      <td>Value</td>\n",
              "      <td>210401</td>\n",
              "      <td>Prevalence of severe food insecurity in the to...</td>\n",
              "      <td>20182020</td>\n",
              "      <td>2018-2020</td>\n",
              "      <td>%</td>\n",
              "      <td>19.8</td>\n",
              "      <td>A</td>\n",
              "      <td>Official figure</td>\n",
              "      <td>Official estimate</td>\n",
              "    </tr>\n",
              "  </tbody>\n",
              "</table>\n",
              "</div>"
            ],
            "text/plain": [
              "    domain_code                             domain  area_code_(m49)  \\\n",
              "140          FS  Suite of Food Security Indicators                4   \n",
              "141          FS  Suite of Food Security Indicators                4   \n",
              "142          FS  Suite of Food Security Indicators                4   \n",
              "143          FS  Suite of Food Security Indicators                4   \n",
              "144          FS  Suite of Food Security Indicators                4   \n",
              "\n",
              "         country  element_code element item_code  \\\n",
              "140  Afghanistan          6121   Value    210401   \n",
              "141  Afghanistan          6121   Value    210401   \n",
              "142  Afghanistan          6121   Value    210401   \n",
              "143  Afghanistan          6121   Value    210401   \n",
              "144  Afghanistan          6121   Value    210401   \n",
              "\n",
              "                                                  item  year_code       year  \\\n",
              "140  Prevalence of severe food insecurity in the to...   20142016  2014-2016   \n",
              "141  Prevalence of severe food insecurity in the to...   20152017  2015-2017   \n",
              "142  Prevalence of severe food insecurity in the to...   20162018  2016-2018   \n",
              "143  Prevalence of severe food insecurity in the to...   20172019  2017-2019   \n",
              "144  Prevalence of severe food insecurity in the to...   20182020  2018-2020   \n",
              "\n",
              "    unit value flag flag_description               note  \n",
              "140    %  14.8    A  Official figure           FAO data  \n",
              "141    %  15.1    A  Official figure           FAO data  \n",
              "142    %  17.3    A  Official figure           FAO data  \n",
              "143    %  17.3    A  Official figure  Official estimate  \n",
              "144    %  19.8    A  Official figure  Official estimate  "
            ]
          },
          "execution_count": 612,
          "metadata": {},
          "output_type": "execute_result"
        }
      ],
      "source": [
        "prev_severe_total.head()"
      ]
    },
    {
      "cell_type": "code",
      "execution_count": 613,
      "metadata": {
        "vscode": {
          "languageId": "python"
        }
      },
      "outputs": [
        {
          "data": {
            "text/html": [
              "<div>\n",
              "<style scoped>\n",
              "    .dataframe tbody tr th:only-of-type {\n",
              "        vertical-align: middle;\n",
              "    }\n",
              "\n",
              "    .dataframe tbody tr th {\n",
              "        vertical-align: top;\n",
              "    }\n",
              "\n",
              "    .dataframe thead th {\n",
              "        text-align: right;\n",
              "    }\n",
              "</style>\n",
              "<table border=\"1\" class=\"dataframe\">\n",
              "  <thead>\n",
              "    <tr style=\"text-align: right;\">\n",
              "      <th></th>\n",
              "      <th>country</th>\n",
              "      <th>continent</th>\n",
              "    </tr>\n",
              "  </thead>\n",
              "  <tbody>\n",
              "    <tr>\n",
              "      <th>0</th>\n",
              "      <td>United States</td>\n",
              "      <td>North America</td>\n",
              "    </tr>\n",
              "    <tr>\n",
              "      <th>1</th>\n",
              "      <td>Dominican Republic</td>\n",
              "      <td>North Americ</td>\n",
              "    </tr>\n",
              "    <tr>\n",
              "      <th>2</th>\n",
              "      <td>Canada</td>\n",
              "      <td>North America</td>\n",
              "    </tr>\n",
              "    <tr>\n",
              "      <th>3</th>\n",
              "      <td>Honduras</td>\n",
              "      <td>North America</td>\n",
              "    </tr>\n",
              "    <tr>\n",
              "      <th>4</th>\n",
              "      <td>Costa Rica</td>\n",
              "      <td>North America</td>\n",
              "    </tr>\n",
              "  </tbody>\n",
              "</table>\n",
              "</div>"
            ],
            "text/plain": [
              "              country      continent\n",
              "0       United States  North America\n",
              "1  Dominican Republic   North Americ\n",
              "2              Canada  North America\n",
              "3            Honduras  North America\n",
              "4          Costa Rica  North America"
            ]
          },
          "execution_count": 613,
          "metadata": {},
          "output_type": "execute_result"
        }
      ],
      "source": [
        "# read the data\n",
        "code_df = pd.read_csv('./data/country_annotation.csv')\n",
        "\n",
        "# drop unnecessary columns\n",
        "code_df = code_df.drop(columns=['code', 'languages'])\n",
        "\n",
        "# rename the columns\n",
        "code_df = code_df.rename(columns={'name':'country'})\n",
        "\n",
        "code_df.head()"
      ]
    },
    {
      "cell_type": "code",
      "execution_count": 614,
      "metadata": {
        "vscode": {
          "languageId": "python"
        }
      },
      "outputs": [],
      "source": [
        "# copy the dataframe\n",
        "df = prev_severe_total.copy()\n",
        "# change the value column type to numeric value\n",
        "df['value'] = pd.to_numeric(df['value'], errors='coerce')"
      ]
    },
    {
      "cell_type": "code",
      "execution_count": 615,
      "metadata": {
        "vscode": {
          "languageId": "python"
        }
      },
      "outputs": [
        {
          "data": {
            "text/html": [
              "<div>\n",
              "<style scoped>\n",
              "    .dataframe tbody tr th:only-of-type {\n",
              "        vertical-align: middle;\n",
              "    }\n",
              "\n",
              "    .dataframe tbody tr th {\n",
              "        vertical-align: top;\n",
              "    }\n",
              "\n",
              "    .dataframe thead th {\n",
              "        text-align: right;\n",
              "    }\n",
              "</style>\n",
              "<table border=\"1\" class=\"dataframe\">\n",
              "  <thead>\n",
              "    <tr style=\"text-align: right;\">\n",
              "      <th></th>\n",
              "      <th>country</th>\n",
              "      <th>value</th>\n",
              "    </tr>\n",
              "  </thead>\n",
              "  <tbody>\n",
              "    <tr>\n",
              "      <th>0</th>\n",
              "      <td>Afghanistan</td>\n",
              "      <td>135.3</td>\n",
              "    </tr>\n",
              "    <tr>\n",
              "      <th>1</th>\n",
              "      <td>Albania</td>\n",
              "      <td>65.5</td>\n",
              "    </tr>\n",
              "    <tr>\n",
              "      <th>2</th>\n",
              "      <td>Algeria</td>\n",
              "      <td>65.1</td>\n",
              "    </tr>\n",
              "    <tr>\n",
              "      <th>3</th>\n",
              "      <td>American Samoa</td>\n",
              "      <td>0.0</td>\n",
              "    </tr>\n",
              "    <tr>\n",
              "      <th>4</th>\n",
              "      <td>Andorra</td>\n",
              "      <td>0.0</td>\n",
              "    </tr>\n",
              "  </tbody>\n",
              "</table>\n",
              "</div>"
            ],
            "text/plain": [
              "          country  value\n",
              "0     Afghanistan  135.3\n",
              "1         Albania   65.5\n",
              "2         Algeria   65.1\n",
              "3  American Samoa    0.0\n",
              "4         Andorra    0.0"
            ]
          },
          "execution_count": 615,
          "metadata": {},
          "output_type": "execute_result"
        }
      ],
      "source": [
        "# group by the country and get the sum of all the values\n",
        "df = df.groupby('country', as_index=False)['value'].sum().reset_index(drop=True)\n",
        "df.head()"
      ]
    },
    {
      "cell_type": "code",
      "execution_count": 616,
      "metadata": {
        "vscode": {
          "languageId": "python"
        }
      },
      "outputs": [],
      "source": [
        "# merge the region data with the main data\n",
        "df = pd.merge(df, code_df, on='country', how='left')"
      ]
    },
    {
      "cell_type": "code",
      "execution_count": 617,
      "metadata": {
        "vscode": {
          "languageId": "python"
        }
      },
      "outputs": [
        {
          "data": {
            "text/html": [
              "<div>\n",
              "<style scoped>\n",
              "    .dataframe tbody tr th:only-of-type {\n",
              "        vertical-align: middle;\n",
              "    }\n",
              "\n",
              "    .dataframe tbody tr th {\n",
              "        vertical-align: top;\n",
              "    }\n",
              "\n",
              "    .dataframe thead th {\n",
              "        text-align: right;\n",
              "    }\n",
              "</style>\n",
              "<table border=\"1\" class=\"dataframe\">\n",
              "  <thead>\n",
              "    <tr style=\"text-align: right;\">\n",
              "      <th></th>\n",
              "      <th>country</th>\n",
              "      <th>value</th>\n",
              "      <th>continent</th>\n",
              "    </tr>\n",
              "  </thead>\n",
              "  <tbody>\n",
              "    <tr>\n",
              "      <th>0</th>\n",
              "      <td>Afghanistan</td>\n",
              "      <td>135.3</td>\n",
              "      <td>Asia</td>\n",
              "    </tr>\n",
              "    <tr>\n",
              "      <th>1</th>\n",
              "      <td>Albania</td>\n",
              "      <td>65.5</td>\n",
              "      <td>Europe</td>\n",
              "    </tr>\n",
              "    <tr>\n",
              "      <th>2</th>\n",
              "      <td>Algeria</td>\n",
              "      <td>65.1</td>\n",
              "      <td>Africa</td>\n",
              "    </tr>\n",
              "    <tr>\n",
              "      <th>3</th>\n",
              "      <td>Angola</td>\n",
              "      <td>133.5</td>\n",
              "      <td>Africa</td>\n",
              "    </tr>\n",
              "    <tr>\n",
              "      <th>4</th>\n",
              "      <td>Antigua and Barbuda</td>\n",
              "      <td>14.2</td>\n",
              "      <td>NaN</td>\n",
              "    </tr>\n",
              "    <tr>\n",
              "      <th>...</th>\n",
              "      <td>...</td>\n",
              "      <td>...</td>\n",
              "      <td>...</td>\n",
              "    </tr>\n",
              "    <tr>\n",
              "      <th>141</th>\n",
              "      <td>Vanuatu</td>\n",
              "      <td>9.6</td>\n",
              "      <td>Oceania</td>\n",
              "    </tr>\n",
              "    <tr>\n",
              "      <th>142</th>\n",
              "      <td>Viet Nam</td>\n",
              "      <td>2.3</td>\n",
              "      <td>NaN</td>\n",
              "    </tr>\n",
              "    <tr>\n",
              "      <th>143</th>\n",
              "      <td>Yemen</td>\n",
              "      <td>80.4</td>\n",
              "      <td>Asia</td>\n",
              "    </tr>\n",
              "    <tr>\n",
              "      <th>144</th>\n",
              "      <td>Zambia</td>\n",
              "      <td>189.4</td>\n",
              "      <td>Africa</td>\n",
              "    </tr>\n",
              "    <tr>\n",
              "      <th>145</th>\n",
              "      <td>Zimbabwe</td>\n",
              "      <td>234.3</td>\n",
              "      <td>Africa</td>\n",
              "    </tr>\n",
              "  </tbody>\n",
              "</table>\n",
              "<p>146 rows × 3 columns</p>\n",
              "</div>"
            ],
            "text/plain": [
              "                 country  value continent\n",
              "0            Afghanistan  135.3      Asia\n",
              "1                Albania   65.5    Europe\n",
              "2                Algeria   65.1    Africa\n",
              "3                 Angola  133.5    Africa\n",
              "4    Antigua and Barbuda   14.2       NaN\n",
              "..                   ...    ...       ...\n",
              "141              Vanuatu    9.6   Oceania\n",
              "142             Viet Nam    2.3       NaN\n",
              "143                Yemen   80.4      Asia\n",
              "144               Zambia  189.4    Africa\n",
              "145             Zimbabwe  234.3    Africa\n",
              "\n",
              "[146 rows x 3 columns]"
            ]
          },
          "execution_count": 617,
          "metadata": {},
          "output_type": "execute_result"
        }
      ],
      "source": [
        "# drop the rows with value 0\n",
        "df = df[df['value'] != 0].reset_index(drop=True)\n",
        "df"
      ]
    },
    {
      "cell_type": "code",
      "execution_count": 618,
      "metadata": {
        "vscode": {
          "languageId": "python"
        }
      },
      "outputs": [
        {
          "data": {
            "text/html": [
              "<div>\n",
              "<style scoped>\n",
              "    .dataframe tbody tr th:only-of-type {\n",
              "        vertical-align: middle;\n",
              "    }\n",
              "\n",
              "    .dataframe tbody tr th {\n",
              "        vertical-align: top;\n",
              "    }\n",
              "\n",
              "    .dataframe thead th {\n",
              "        text-align: right;\n",
              "    }\n",
              "</style>\n",
              "<table border=\"1\" class=\"dataframe\">\n",
              "  <thead>\n",
              "    <tr style=\"text-align: right;\">\n",
              "      <th></th>\n",
              "      <th>country</th>\n",
              "      <th>value</th>\n",
              "      <th>continent</th>\n",
              "    </tr>\n",
              "  </thead>\n",
              "  <tbody>\n",
              "    <tr>\n",
              "      <th>0</th>\n",
              "      <td>Afghanistan</td>\n",
              "      <td>135.3</td>\n",
              "      <td>Asia</td>\n",
              "    </tr>\n",
              "    <tr>\n",
              "      <th>1</th>\n",
              "      <td>Albania</td>\n",
              "      <td>65.5</td>\n",
              "      <td>Europe</td>\n",
              "    </tr>\n",
              "    <tr>\n",
              "      <th>2</th>\n",
              "      <td>Algeria</td>\n",
              "      <td>65.1</td>\n",
              "      <td>Africa</td>\n",
              "    </tr>\n",
              "    <tr>\n",
              "      <th>3</th>\n",
              "      <td>Angola</td>\n",
              "      <td>133.5</td>\n",
              "      <td>Africa</td>\n",
              "    </tr>\n",
              "    <tr>\n",
              "      <th>4</th>\n",
              "      <td>Antigua and Barbuda</td>\n",
              "      <td>14.2</td>\n",
              "      <td>North America</td>\n",
              "    </tr>\n",
              "    <tr>\n",
              "      <th>...</th>\n",
              "      <td>...</td>\n",
              "      <td>...</td>\n",
              "      <td>...</td>\n",
              "    </tr>\n",
              "    <tr>\n",
              "      <th>141</th>\n",
              "      <td>Vanuatu</td>\n",
              "      <td>9.6</td>\n",
              "      <td>Oceania</td>\n",
              "    </tr>\n",
              "    <tr>\n",
              "      <th>142</th>\n",
              "      <td>Viet Nam</td>\n",
              "      <td>2.3</td>\n",
              "      <td>Asia</td>\n",
              "    </tr>\n",
              "    <tr>\n",
              "      <th>143</th>\n",
              "      <td>Yemen</td>\n",
              "      <td>80.4</td>\n",
              "      <td>Asia</td>\n",
              "    </tr>\n",
              "    <tr>\n",
              "      <th>144</th>\n",
              "      <td>Zambia</td>\n",
              "      <td>189.4</td>\n",
              "      <td>Africa</td>\n",
              "    </tr>\n",
              "    <tr>\n",
              "      <th>145</th>\n",
              "      <td>Zimbabwe</td>\n",
              "      <td>234.3</td>\n",
              "      <td>Africa</td>\n",
              "    </tr>\n",
              "  </tbody>\n",
              "</table>\n",
              "<p>146 rows × 3 columns</p>\n",
              "</div>"
            ],
            "text/plain": [
              "                 country  value      continent\n",
              "0            Afghanistan  135.3           Asia\n",
              "1                Albania   65.5         Europe\n",
              "2                Algeria   65.1         Africa\n",
              "3                 Angola  133.5         Africa\n",
              "4    Antigua and Barbuda   14.2  North America\n",
              "..                   ...    ...            ...\n",
              "141              Vanuatu    9.6        Oceania\n",
              "142             Viet Nam    2.3           Asia\n",
              "143                Yemen   80.4           Asia\n",
              "144               Zambia  189.4         Africa\n",
              "145             Zimbabwe  234.3         Africa\n",
              "\n",
              "[146 rows x 3 columns]"
            ]
          },
          "execution_count": 618,
          "metadata": {},
          "output_type": "execute_result"
        }
      ],
      "source": [
        "# dictionary mapping each country to its continent\n",
        "country_to_continent = {\n",
        "    'Antigua and Barbuda': 'North America',\n",
        "    'Bahamas': 'North America',\n",
        "    'Barbados': 'North America',\n",
        "    'Belize': 'North America',\n",
        "    'Cabo Verde': 'Africa',\n",
        "    'Congo': 'Africa',\n",
        "    'Czechia': 'Europe',\n",
        "    'Côte d\\'Ivoire': 'Africa',\n",
        "    'Eswatini': 'Africa',\n",
        "    'Grenada': 'North America',\n",
        "    'Haiti': 'North America',\n",
        "    'Iran (Islamic Republic of)': 'Asia',\n",
        "    'Jamaica': 'North America',\n",
        "    'Lao People\\'s Democratic Republic': 'Asia',\n",
        "    'Myanmar': 'Asia',\n",
        "    'Netherlands (Kingdom of the)': 'Europe',\n",
        "    'Republic of Korea': 'Asia',\n",
        "    'Republic of Moldova': 'Europe',\n",
        "    'Russian Federation': 'Europe',\n",
        "    'Saint Kitts and Nevis': 'North America',\n",
        "    'Saint Lucia': 'North America',\n",
        "    'Saint Vincent and the Grenadines': 'North America',\n",
        "    'Sao Tome and Principe': 'Africa',\n",
        "    'Trinidad and Tobago': 'North America',\n",
        "    'United Kingdom of Great Britain and Northern Ireland': 'Europe',\n",
        "    'United Republic of Tanzania': 'Africa',\n",
        "    'United States of America': 'North America',\n",
        "    'Viet Nam': 'Asia'\n",
        "}\n",
        "\n",
        "# map the country to the continent\n",
        "df['continent'] = df['continent'].fillna(df['country'].map(country_to_continent))\n",
        "\n",
        "df"
      ]
    },
    {
      "cell_type": "code",
      "execution_count": 619,
      "metadata": {
        "vscode": {
          "languageId": "python"
        }
      },
      "outputs": [],
      "source": [
        "# data sanity check\n",
        "# check the continent value\n",
        "df.continent.unique()\n",
        "\n",
        "# replace the incorrect value\n",
        "df['continent'] = df['continent'].str.replace('North Americ', 'North America')\n",
        "df['continent'] = df['continent'].str.replace('North Americaa', 'North America')"
      ]
    },
    {
      "cell_type": "code",
      "execution_count": 620,
      "metadata": {
        "vscode": {
          "languageId": "python"
        }
      },
      "outputs": [
        {
          "data": {
            "text/html": [
              "<div>\n",
              "<style scoped>\n",
              "    .dataframe tbody tr th:only-of-type {\n",
              "        vertical-align: middle;\n",
              "    }\n",
              "\n",
              "    .dataframe tbody tr th {\n",
              "        vertical-align: top;\n",
              "    }\n",
              "\n",
              "    .dataframe thead th {\n",
              "        text-align: right;\n",
              "    }\n",
              "</style>\n",
              "<table border=\"1\" class=\"dataframe\">\n",
              "  <thead>\n",
              "    <tr style=\"text-align: right;\">\n",
              "      <th></th>\n",
              "      <th>country</th>\n",
              "      <th>value</th>\n",
              "      <th>continent</th>\n",
              "    </tr>\n",
              "  </thead>\n",
              "  <tbody>\n",
              "    <tr>\n",
              "      <th>0</th>\n",
              "      <td>Afghanistan</td>\n",
              "      <td>135.3</td>\n",
              "      <td>Asia</td>\n",
              "    </tr>\n",
              "    <tr>\n",
              "      <th>1</th>\n",
              "      <td>Albania</td>\n",
              "      <td>65.5</td>\n",
              "      <td>Europe</td>\n",
              "    </tr>\n",
              "    <tr>\n",
              "      <th>2</th>\n",
              "      <td>Algeria</td>\n",
              "      <td>65.1</td>\n",
              "      <td>Africa</td>\n",
              "    </tr>\n",
              "    <tr>\n",
              "      <th>3</th>\n",
              "      <td>Angola</td>\n",
              "      <td>133.5</td>\n",
              "      <td>Africa</td>\n",
              "    </tr>\n",
              "    <tr>\n",
              "      <th>4</th>\n",
              "      <td>Antigua and Barbuda</td>\n",
              "      <td>14.2</td>\n",
              "      <td>North America</td>\n",
              "    </tr>\n",
              "    <tr>\n",
              "      <th>...</th>\n",
              "      <td>...</td>\n",
              "      <td>...</td>\n",
              "      <td>...</td>\n",
              "    </tr>\n",
              "    <tr>\n",
              "      <th>141</th>\n",
              "      <td>Vanuatu</td>\n",
              "      <td>9.6</td>\n",
              "      <td>Oceania</td>\n",
              "    </tr>\n",
              "    <tr>\n",
              "      <th>142</th>\n",
              "      <td>Viet Nam</td>\n",
              "      <td>2.3</td>\n",
              "      <td>Asia</td>\n",
              "    </tr>\n",
              "    <tr>\n",
              "      <th>143</th>\n",
              "      <td>Yemen</td>\n",
              "      <td>80.4</td>\n",
              "      <td>Asia</td>\n",
              "    </tr>\n",
              "    <tr>\n",
              "      <th>144</th>\n",
              "      <td>Zambia</td>\n",
              "      <td>189.4</td>\n",
              "      <td>Africa</td>\n",
              "    </tr>\n",
              "    <tr>\n",
              "      <th>145</th>\n",
              "      <td>Zimbabwe</td>\n",
              "      <td>234.3</td>\n",
              "      <td>Africa</td>\n",
              "    </tr>\n",
              "  </tbody>\n",
              "</table>\n",
              "<p>146 rows × 3 columns</p>\n",
              "</div>"
            ],
            "text/plain": [
              "                 country  value      continent\n",
              "0            Afghanistan  135.3           Asia\n",
              "1                Albania   65.5         Europe\n",
              "2                Algeria   65.1         Africa\n",
              "3                 Angola  133.5         Africa\n",
              "4    Antigua and Barbuda   14.2  North America\n",
              "..                   ...    ...            ...\n",
              "141              Vanuatu    9.6        Oceania\n",
              "142             Viet Nam    2.3           Asia\n",
              "143                Yemen   80.4           Asia\n",
              "144               Zambia  189.4         Africa\n",
              "145             Zimbabwe  234.3         Africa\n",
              "\n",
              "[146 rows x 3 columns]"
            ]
          },
          "execution_count": 620,
          "metadata": {},
          "output_type": "execute_result"
        }
      ],
      "source": [
        "df"
      ]
    },
    {
      "cell_type": "markdown",
      "metadata": {},
      "source": [
        "## Data Visualiztion: Prevalence of severe food insecurity in the total population\n",
        "\n",
        "### Nested pie chart"
      ]
    },
    {
      "cell_type": "code",
      "execution_count": 621,
      "metadata": {
        "vscode": {
          "languageId": "python"
        }
      },
      "outputs": [
        {
          "data": {
            "application/vnd.plotly.v1+json": {
              "config": {
                "plotlyServerURL": "https://plot.ly"
              },
              "data": [
                {
                  "branchvalues": "total",
                  "domain": {
                    "x": [
                      0,
                      1
                    ],
                    "y": [
                      0,
                      1
                    ]
                  },
                  "hovertemplate": "labels=%{label}<br>value=%{value}<br>parent=%{parent}<br>id=%{id}<extra></extra>",
                  "ids": [
                    "Asia/Afghanistan",
                    "Europe/Albania",
                    "Africa/Algeria",
                    "Africa/Angola",
                    "North America/Antigua and Barbuda",
                    "South America/Argentina",
                    "Asia/Armenia",
                    "Oceania/Australia",
                    "Europe/Austria",
                    "North America/Bahamas",
                    "Asia/Bangladesh",
                    "North America/Barbados",
                    "Europe/Belgium",
                    "North America/Belize",
                    "Africa/Benin",
                    "Europe/Bosnia and Herzegovina",
                    "Africa/Botswana",
                    "South America/Brazil",
                    "Europe/Bulgaria",
                    "Africa/Burkina Faso",
                    "Africa/Cabo Verde",
                    "Asia/Cambodia",
                    "Africa/Cameroon",
                    "North America/Canada",
                    "Africa/Central African Republic",
                    "South America/Chile",
                    "Africa/Comoros",
                    "Africa/Congo",
                    "North America/Costa Rica",
                    "Europe/Croatia",
                    "Europe/Czechia",
                    "Africa/Côte d'Ivoire",
                    "Africa/Democratic Republic of the Congo",
                    "Europe/Denmark",
                    "Africa/Djibouti",
                    "North America/Dominican Republic",
                    "South America/Ecuador",
                    "Africa/Egypt",
                    "North America/El Salvador",
                    "Europe/Estonia",
                    "Africa/Eswatini",
                    "Africa/Ethiopia",
                    "Oceania/Fiji",
                    "Europe/Finland",
                    "Europe/France",
                    "Africa/Gambia",
                    "Asia/Georgia",
                    "Europe/Germany",
                    "Africa/Ghana",
                    "Europe/Greece",
                    "North America/Grenada",
                    "North America/Guatemala",
                    "Africa/Guinea",
                    "Africa/Guinea-Bissau",
                    "North America/Haiti",
                    "North America/Honduras",
                    "Europe/Hungary",
                    "Europe/Iceland",
                    "Asia/Indonesia",
                    "Asia/Iran (Islamic Republic of)",
                    "Europe/Ireland",
                    "Asia/Israel",
                    "Europe/Italy",
                    "North America/Jamaica",
                    "Asia/Japan",
                    "Asia/Kazakhstan",
                    "Africa/Kenya",
                    "Oceania/Kiribati",
                    "Asia/Kuwait",
                    "Asia/Kyrgyzstan",
                    "Asia/Lao People's Democratic Republic",
                    "Europe/Latvia",
                    "Asia/Lebanon",
                    "Africa/Lesotho",
                    "Africa/Liberia",
                    "Africa/Libya",
                    "Europe/Lithuania",
                    "Europe/Luxembourg",
                    "Africa/Madagascar",
                    "Africa/Malawi",
                    "Asia/Malaysia",
                    "Asia/Maldives",
                    "Europe/Malta",
                    "Africa/Mauritania",
                    "Africa/Mauritius",
                    "North America/Mexico",
                    "Europe/Montenegro",
                    "Africa/Mozambique",
                    "Asia/Myanmar",
                    "Africa/Namibia",
                    "Asia/Nepal",
                    "Europe/Netherlands (Kingdom of the)",
                    "Oceania/New Zealand",
                    "Africa/Niger",
                    "Africa/Nigeria",
                    "Europe/North Macedonia",
                    "Europe/Norway",
                    "Asia/Pakistan",
                    "Asia/Palestine",
                    "South America/Paraguay",
                    "Asia/Philippines",
                    "Europe/Poland",
                    "Europe/Portugal",
                    "Asia/Republic of Korea",
                    "Europe/Republic of Moldova",
                    "Europe/Romania",
                    "Europe/Russian Federation",
                    "North America/Saint Kitts and Nevis",
                    "North America/Saint Lucia",
                    "North America/Saint Vincent and the Grenadines",
                    "Oceania/Samoa",
                    "Africa/Sao Tome and Principe",
                    "Africa/Senegal",
                    "Europe/Serbia",
                    "Africa/Seychelles",
                    "Africa/Sierra Leone",
                    "Asia/Singapore",
                    "Europe/Slovakia",
                    "Europe/Slovenia",
                    "Africa/Somalia",
                    "Africa/South Africa",
                    "Africa/South Sudan",
                    "Europe/Spain",
                    "Asia/Sri Lanka",
                    "Africa/Sudan",
                    "South America/Suriname",
                    "Europe/Sweden",
                    "Europe/Switzerland",
                    "Asia/Thailand",
                    "Africa/Togo",
                    "Oceania/Tonga",
                    "North America/Trinidad and Tobago",
                    "Africa/Tunisia",
                    "Africa/Uganda",
                    "Europe/Ukraine",
                    "Asia/United Arab Emirates",
                    "Europe/United Kingdom of Great Britain and Northern Ireland",
                    "Africa/United Republic of Tanzania",
                    "North America/United States of America",
                    "South America/Uruguay",
                    "Asia/Uzbekistan",
                    "Oceania/Vanuatu",
                    "Asia/Viet Nam",
                    "Asia/Yemen",
                    "Africa/Zambia",
                    "Africa/Zimbabwe",
                    "Africa",
                    "Asia",
                    "Europe",
                    "North America",
                    "Oceania",
                    "South America"
                  ],
                  "labels": [
                    "Afghanistan",
                    "Albania",
                    "Algeria",
                    "Angola",
                    "Antigua and Barbuda",
                    "Argentina",
                    "Armenia",
                    "Australia",
                    "Austria",
                    "Bahamas",
                    "Bangladesh",
                    "Barbados",
                    "Belgium",
                    "Belize",
                    "Benin",
                    "Bosnia and Herzegovina",
                    "Botswana",
                    "Brazil",
                    "Bulgaria",
                    "Burkina Faso",
                    "Cabo Verde",
                    "Cambodia",
                    "Cameroon",
                    "Canada",
                    "Central African Republic",
                    "Chile",
                    "Comoros",
                    "Congo",
                    "Costa Rica",
                    "Croatia",
                    "Czechia",
                    "Côte d'Ivoire",
                    "Democratic Republic of the Congo",
                    "Denmark",
                    "Djibouti",
                    "Dominican Republic",
                    "Ecuador",
                    "Egypt",
                    "El Salvador",
                    "Estonia",
                    "Eswatini",
                    "Ethiopia",
                    "Fiji",
                    "Finland",
                    "France",
                    "Gambia",
                    "Georgia",
                    "Germany",
                    "Ghana",
                    "Greece",
                    "Grenada",
                    "Guatemala",
                    "Guinea",
                    "Guinea-Bissau",
                    "Haiti",
                    "Honduras",
                    "Hungary",
                    "Iceland",
                    "Indonesia",
                    "Iran (Islamic Republic of)",
                    "Ireland",
                    "Israel",
                    "Italy",
                    "Jamaica",
                    "Japan",
                    "Kazakhstan",
                    "Kenya",
                    "Kiribati",
                    "Kuwait",
                    "Kyrgyzstan",
                    "Lao People's Democratic Republic",
                    "Latvia",
                    "Lebanon",
                    "Lesotho",
                    "Liberia",
                    "Libya",
                    "Lithuania",
                    "Luxembourg",
                    "Madagascar",
                    "Malawi",
                    "Malaysia",
                    "Maldives",
                    "Malta",
                    "Mauritania",
                    "Mauritius",
                    "Mexico",
                    "Montenegro",
                    "Mozambique",
                    "Myanmar",
                    "Namibia",
                    "Nepal",
                    "Netherlands (Kingdom of the)",
                    "New Zealand",
                    "Niger",
                    "Nigeria",
                    "North Macedonia",
                    "Norway",
                    "Pakistan",
                    "Palestine",
                    "Paraguay",
                    "Philippines",
                    "Poland",
                    "Portugal",
                    "Republic of Korea",
                    "Republic of Moldova",
                    "Romania",
                    "Russian Federation",
                    "Saint Kitts and Nevis",
                    "Saint Lucia",
                    "Saint Vincent and the Grenadines",
                    "Samoa",
                    "Sao Tome and Principe",
                    "Senegal",
                    "Serbia",
                    "Seychelles",
                    "Sierra Leone",
                    "Singapore",
                    "Slovakia",
                    "Slovenia",
                    "Somalia",
                    "South Africa",
                    "South Sudan",
                    "Spain",
                    "Sri Lanka",
                    "Sudan",
                    "Suriname",
                    "Sweden",
                    "Switzerland",
                    "Thailand",
                    "Togo",
                    "Tonga",
                    "Trinidad and Tobago",
                    "Tunisia",
                    "Uganda",
                    "Ukraine",
                    "United Arab Emirates",
                    "United Kingdom of Great Britain and Northern Ireland",
                    "United Republic of Tanzania",
                    "United States of America",
                    "Uruguay",
                    "Uzbekistan",
                    "Vanuatu",
                    "Viet Nam",
                    "Yemen",
                    "Zambia",
                    "Zimbabwe",
                    "Africa",
                    "Asia",
                    "Europe",
                    "North America",
                    "Oceania",
                    "South America"
                  ],
                  "name": "",
                  "parents": [
                    "Asia",
                    "Europe",
                    "Africa",
                    "Africa",
                    "North America",
                    "South America",
                    "Asia",
                    "Oceania",
                    "Europe",
                    "North America",
                    "Asia",
                    "North America",
                    "Europe",
                    "North America",
                    "Africa",
                    "Europe",
                    "Africa",
                    "South America",
                    "Europe",
                    "Africa",
                    "Africa",
                    "Asia",
                    "Africa",
                    "North America",
                    "Africa",
                    "South America",
                    "Africa",
                    "Africa",
                    "North America",
                    "Europe",
                    "Europe",
                    "Africa",
                    "Africa",
                    "Europe",
                    "Africa",
                    "North America",
                    "South America",
                    "Africa",
                    "North America",
                    "Europe",
                    "Africa",
                    "Africa",
                    "Oceania",
                    "Europe",
                    "Europe",
                    "Africa",
                    "Asia",
                    "Europe",
                    "Africa",
                    "Europe",
                    "North America",
                    "North America",
                    "Africa",
                    "Africa",
                    "North America",
                    "North America",
                    "Europe",
                    "Europe",
                    "Asia",
                    "Asia",
                    "Europe",
                    "Asia",
                    "Europe",
                    "North America",
                    "Asia",
                    "Asia",
                    "Africa",
                    "Oceania",
                    "Asia",
                    "Asia",
                    "Asia",
                    "Europe",
                    "Asia",
                    "Africa",
                    "Africa",
                    "Africa",
                    "Europe",
                    "Europe",
                    "Africa",
                    "Africa",
                    "Asia",
                    "Asia",
                    "Europe",
                    "Africa",
                    "Africa",
                    "North America",
                    "Europe",
                    "Africa",
                    "Asia",
                    "Africa",
                    "Asia",
                    "Europe",
                    "Oceania",
                    "Africa",
                    "Africa",
                    "Europe",
                    "Europe",
                    "Asia",
                    "Asia",
                    "South America",
                    "Asia",
                    "Europe",
                    "Europe",
                    "Asia",
                    "Europe",
                    "Europe",
                    "Europe",
                    "North America",
                    "North America",
                    "North America",
                    "Oceania",
                    "Africa",
                    "Africa",
                    "Europe",
                    "Africa",
                    "Africa",
                    "Asia",
                    "Europe",
                    "Europe",
                    "Africa",
                    "Africa",
                    "Africa",
                    "Europe",
                    "Asia",
                    "Africa",
                    "South America",
                    "Europe",
                    "Europe",
                    "Asia",
                    "Africa",
                    "Oceania",
                    "North America",
                    "Africa",
                    "Africa",
                    "Europe",
                    "Asia",
                    "Europe",
                    "Africa",
                    "North America",
                    "South America",
                    "Asia",
                    "Oceania",
                    "Asia",
                    "Asia",
                    "Africa",
                    "Africa",
                    "",
                    "",
                    "",
                    "",
                    "",
                    ""
                  ],
                  "type": "sunburst",
                  "values": [
                    135.3,
                    65.5,
                    65.1,
                    133.5,
                    14.2,
                    77.2,
                    3.1,
                    23.9,
                    8.3,
                    6.8,
                    80.1,
                    14.8,
                    3.9000000000000004,
                    24,
                    95,
                    13.9,
                    161.6,
                    27.7,
                    17.1,
                    100.3,
                    38.5,
                    102.7,
                    185.9,
                    4.4,
                    185.39999999999998,
                    24.5,
                    54.8,
                    355.5,
                    16.6,
                    7.7,
                    5.4,
                    59.5,
                    118.4,
                    8.6,
                    33,
                    161.2,
                    68.8,
                    55.7,
                    102.1,
                    5.9,
                    36.6,
                    115.5,
                    12.5,
                    15.7,
                    7.7,
                    151.6,
                    58.4,
                    6.4,
                    42,
                    16,
                    39,
                    129.3,
                    338.9,
                    103,
                    136.9,
                    112.4,
                    10.7,
                    10.8,
                    3.3,
                    59.7,
                    22.5,
                    13,
                    9.4,
                    169.6,
                    3.7,
                    0.5,
                    156.8,
                    32,
                    33.900000000000006,
                    4.6,
                    24.400000000000002,
                    4.8,
                    33.8,
                    119.69999999999999,
                    227.39999999999998,
                    115.1,
                    12.9,
                    7.1,
                    41.9,
                    346.9,
                    46.8,
                    4.4,
                    8.9,
                    44.3,
                    52,
                    25.1,
                    18.3,
                    201.9,
                    10.6,
                    217.9,
                    78.7,
                    10.6,
                    25.4,
                    69,
                    110.4,
                    30.9,
                    7.7,
                    31,
                    20.1,
                    26.299999999999997,
                    17.7,
                    5.6,
                    24,
                    2.1,
                    24.9,
                    30.6,
                    2,
                    51.6,
                    18,
                    51.5,
                    17,
                    28.2,
                    62.699999999999996,
                    18.4,
                    12.9,
                    219.3,
                    8.3,
                    8.200000000000001,
                    3.8,
                    85.1,
                    31.4,
                    317.6,
                    11.1,
                    5.8,
                    111.9,
                    14.4,
                    7.9,
                    4.9,
                    6,
                    120.5,
                    20.5,
                    20.4,
                    73.1,
                    167.5,
                    17.8,
                    2,
                    10.4,
                    172.4,
                    6,
                    14.3,
                    25.4,
                    9.6,
                    2.3,
                    80.4,
                    189.4,
                    234.3,
                    5959.4,
                    898.1,
                    506.3,
                    1103.9,
                    140.9,
                    253.2
                  ]
                }
              ],
              "layout": {
                "height": 800,
                "legend": {
                  "tracegroupgap": 0
                },
                "sunburstcolorway": [
                  "#11270B",
                  "#140D4F",
                  "#598B2C",
                  "#42CAFD",
                  "#FFA400",
                  "#F5EDF0",
                  "#1C0B19",
                  "#66B3BA"
                ],
                "template": {
                  "data": {
                    "bar": [
                      {
                        "error_x": {
                          "color": "#2a3f5f"
                        },
                        "error_y": {
                          "color": "#2a3f5f"
                        },
                        "marker": {
                          "line": {
                            "color": "#E5ECF6",
                            "width": 0.5
                          },
                          "pattern": {
                            "fillmode": "overlay",
                            "size": 10,
                            "solidity": 0.2
                          }
                        },
                        "type": "bar"
                      }
                    ],
                    "barpolar": [
                      {
                        "marker": {
                          "line": {
                            "color": "#E5ECF6",
                            "width": 0.5
                          },
                          "pattern": {
                            "fillmode": "overlay",
                            "size": 10,
                            "solidity": 0.2
                          }
                        },
                        "type": "barpolar"
                      }
                    ],
                    "carpet": [
                      {
                        "aaxis": {
                          "endlinecolor": "#2a3f5f",
                          "gridcolor": "white",
                          "linecolor": "white",
                          "minorgridcolor": "white",
                          "startlinecolor": "#2a3f5f"
                        },
                        "baxis": {
                          "endlinecolor": "#2a3f5f",
                          "gridcolor": "white",
                          "linecolor": "white",
                          "minorgridcolor": "white",
                          "startlinecolor": "#2a3f5f"
                        },
                        "type": "carpet"
                      }
                    ],
                    "choropleth": [
                      {
                        "colorbar": {
                          "outlinewidth": 0,
                          "ticks": ""
                        },
                        "type": "choropleth"
                      }
                    ],
                    "contour": [
                      {
                        "colorbar": {
                          "outlinewidth": 0,
                          "ticks": ""
                        },
                        "colorscale": [
                          [
                            0,
                            "#0d0887"
                          ],
                          [
                            0.1111111111111111,
                            "#46039f"
                          ],
                          [
                            0.2222222222222222,
                            "#7201a8"
                          ],
                          [
                            0.3333333333333333,
                            "#9c179e"
                          ],
                          [
                            0.4444444444444444,
                            "#bd3786"
                          ],
                          [
                            0.5555555555555556,
                            "#d8576b"
                          ],
                          [
                            0.6666666666666666,
                            "#ed7953"
                          ],
                          [
                            0.7777777777777778,
                            "#fb9f3a"
                          ],
                          [
                            0.8888888888888888,
                            "#fdca26"
                          ],
                          [
                            1,
                            "#f0f921"
                          ]
                        ],
                        "type": "contour"
                      }
                    ],
                    "contourcarpet": [
                      {
                        "colorbar": {
                          "outlinewidth": 0,
                          "ticks": ""
                        },
                        "type": "contourcarpet"
                      }
                    ],
                    "heatmap": [
                      {
                        "colorbar": {
                          "outlinewidth": 0,
                          "ticks": ""
                        },
                        "colorscale": [
                          [
                            0,
                            "#0d0887"
                          ],
                          [
                            0.1111111111111111,
                            "#46039f"
                          ],
                          [
                            0.2222222222222222,
                            "#7201a8"
                          ],
                          [
                            0.3333333333333333,
                            "#9c179e"
                          ],
                          [
                            0.4444444444444444,
                            "#bd3786"
                          ],
                          [
                            0.5555555555555556,
                            "#d8576b"
                          ],
                          [
                            0.6666666666666666,
                            "#ed7953"
                          ],
                          [
                            0.7777777777777778,
                            "#fb9f3a"
                          ],
                          [
                            0.8888888888888888,
                            "#fdca26"
                          ],
                          [
                            1,
                            "#f0f921"
                          ]
                        ],
                        "type": "heatmap"
                      }
                    ],
                    "heatmapgl": [
                      {
                        "colorbar": {
                          "outlinewidth": 0,
                          "ticks": ""
                        },
                        "colorscale": [
                          [
                            0,
                            "#0d0887"
                          ],
                          [
                            0.1111111111111111,
                            "#46039f"
                          ],
                          [
                            0.2222222222222222,
                            "#7201a8"
                          ],
                          [
                            0.3333333333333333,
                            "#9c179e"
                          ],
                          [
                            0.4444444444444444,
                            "#bd3786"
                          ],
                          [
                            0.5555555555555556,
                            "#d8576b"
                          ],
                          [
                            0.6666666666666666,
                            "#ed7953"
                          ],
                          [
                            0.7777777777777778,
                            "#fb9f3a"
                          ],
                          [
                            0.8888888888888888,
                            "#fdca26"
                          ],
                          [
                            1,
                            "#f0f921"
                          ]
                        ],
                        "type": "heatmapgl"
                      }
                    ],
                    "histogram": [
                      {
                        "marker": {
                          "pattern": {
                            "fillmode": "overlay",
                            "size": 10,
                            "solidity": 0.2
                          }
                        },
                        "type": "histogram"
                      }
                    ],
                    "histogram2d": [
                      {
                        "colorbar": {
                          "outlinewidth": 0,
                          "ticks": ""
                        },
                        "colorscale": [
                          [
                            0,
                            "#0d0887"
                          ],
                          [
                            0.1111111111111111,
                            "#46039f"
                          ],
                          [
                            0.2222222222222222,
                            "#7201a8"
                          ],
                          [
                            0.3333333333333333,
                            "#9c179e"
                          ],
                          [
                            0.4444444444444444,
                            "#bd3786"
                          ],
                          [
                            0.5555555555555556,
                            "#d8576b"
                          ],
                          [
                            0.6666666666666666,
                            "#ed7953"
                          ],
                          [
                            0.7777777777777778,
                            "#fb9f3a"
                          ],
                          [
                            0.8888888888888888,
                            "#fdca26"
                          ],
                          [
                            1,
                            "#f0f921"
                          ]
                        ],
                        "type": "histogram2d"
                      }
                    ],
                    "histogram2dcontour": [
                      {
                        "colorbar": {
                          "outlinewidth": 0,
                          "ticks": ""
                        },
                        "colorscale": [
                          [
                            0,
                            "#0d0887"
                          ],
                          [
                            0.1111111111111111,
                            "#46039f"
                          ],
                          [
                            0.2222222222222222,
                            "#7201a8"
                          ],
                          [
                            0.3333333333333333,
                            "#9c179e"
                          ],
                          [
                            0.4444444444444444,
                            "#bd3786"
                          ],
                          [
                            0.5555555555555556,
                            "#d8576b"
                          ],
                          [
                            0.6666666666666666,
                            "#ed7953"
                          ],
                          [
                            0.7777777777777778,
                            "#fb9f3a"
                          ],
                          [
                            0.8888888888888888,
                            "#fdca26"
                          ],
                          [
                            1,
                            "#f0f921"
                          ]
                        ],
                        "type": "histogram2dcontour"
                      }
                    ],
                    "mesh3d": [
                      {
                        "colorbar": {
                          "outlinewidth": 0,
                          "ticks": ""
                        },
                        "type": "mesh3d"
                      }
                    ],
                    "parcoords": [
                      {
                        "line": {
                          "colorbar": {
                            "outlinewidth": 0,
                            "ticks": ""
                          }
                        },
                        "type": "parcoords"
                      }
                    ],
                    "pie": [
                      {
                        "automargin": true,
                        "type": "pie"
                      }
                    ],
                    "scatter": [
                      {
                        "fillpattern": {
                          "fillmode": "overlay",
                          "size": 10,
                          "solidity": 0.2
                        },
                        "type": "scatter"
                      }
                    ],
                    "scatter3d": [
                      {
                        "line": {
                          "colorbar": {
                            "outlinewidth": 0,
                            "ticks": ""
                          }
                        },
                        "marker": {
                          "colorbar": {
                            "outlinewidth": 0,
                            "ticks": ""
                          }
                        },
                        "type": "scatter3d"
                      }
                    ],
                    "scattercarpet": [
                      {
                        "marker": {
                          "colorbar": {
                            "outlinewidth": 0,
                            "ticks": ""
                          }
                        },
                        "type": "scattercarpet"
                      }
                    ],
                    "scattergeo": [
                      {
                        "marker": {
                          "colorbar": {
                            "outlinewidth": 0,
                            "ticks": ""
                          }
                        },
                        "type": "scattergeo"
                      }
                    ],
                    "scattergl": [
                      {
                        "marker": {
                          "colorbar": {
                            "outlinewidth": 0,
                            "ticks": ""
                          }
                        },
                        "type": "scattergl"
                      }
                    ],
                    "scattermapbox": [
                      {
                        "marker": {
                          "colorbar": {
                            "outlinewidth": 0,
                            "ticks": ""
                          }
                        },
                        "type": "scattermapbox"
                      }
                    ],
                    "scatterpolar": [
                      {
                        "marker": {
                          "colorbar": {
                            "outlinewidth": 0,
                            "ticks": ""
                          }
                        },
                        "type": "scatterpolar"
                      }
                    ],
                    "scatterpolargl": [
                      {
                        "marker": {
                          "colorbar": {
                            "outlinewidth": 0,
                            "ticks": ""
                          }
                        },
                        "type": "scatterpolargl"
                      }
                    ],
                    "scatterternary": [
                      {
                        "marker": {
                          "colorbar": {
                            "outlinewidth": 0,
                            "ticks": ""
                          }
                        },
                        "type": "scatterternary"
                      }
                    ],
                    "surface": [
                      {
                        "colorbar": {
                          "outlinewidth": 0,
                          "ticks": ""
                        },
                        "colorscale": [
                          [
                            0,
                            "#0d0887"
                          ],
                          [
                            0.1111111111111111,
                            "#46039f"
                          ],
                          [
                            0.2222222222222222,
                            "#7201a8"
                          ],
                          [
                            0.3333333333333333,
                            "#9c179e"
                          ],
                          [
                            0.4444444444444444,
                            "#bd3786"
                          ],
                          [
                            0.5555555555555556,
                            "#d8576b"
                          ],
                          [
                            0.6666666666666666,
                            "#ed7953"
                          ],
                          [
                            0.7777777777777778,
                            "#fb9f3a"
                          ],
                          [
                            0.8888888888888888,
                            "#fdca26"
                          ],
                          [
                            1,
                            "#f0f921"
                          ]
                        ],
                        "type": "surface"
                      }
                    ],
                    "table": [
                      {
                        "cells": {
                          "fill": {
                            "color": "#EBF0F8"
                          },
                          "line": {
                            "color": "white"
                          }
                        },
                        "header": {
                          "fill": {
                            "color": "#C8D4E3"
                          },
                          "line": {
                            "color": "white"
                          }
                        },
                        "type": "table"
                      }
                    ]
                  },
                  "layout": {
                    "annotationdefaults": {
                      "arrowcolor": "#2a3f5f",
                      "arrowhead": 0,
                      "arrowwidth": 1
                    },
                    "autotypenumbers": "strict",
                    "coloraxis": {
                      "colorbar": {
                        "outlinewidth": 0,
                        "ticks": ""
                      }
                    },
                    "colorscale": {
                      "diverging": [
                        [
                          0,
                          "#8e0152"
                        ],
                        [
                          0.1,
                          "#c51b7d"
                        ],
                        [
                          0.2,
                          "#de77ae"
                        ],
                        [
                          0.3,
                          "#f1b6da"
                        ],
                        [
                          0.4,
                          "#fde0ef"
                        ],
                        [
                          0.5,
                          "#f7f7f7"
                        ],
                        [
                          0.6,
                          "#e6f5d0"
                        ],
                        [
                          0.7,
                          "#b8e186"
                        ],
                        [
                          0.8,
                          "#7fbc41"
                        ],
                        [
                          0.9,
                          "#4d9221"
                        ],
                        [
                          1,
                          "#276419"
                        ]
                      ],
                      "sequential": [
                        [
                          0,
                          "#0d0887"
                        ],
                        [
                          0.1111111111111111,
                          "#46039f"
                        ],
                        [
                          0.2222222222222222,
                          "#7201a8"
                        ],
                        [
                          0.3333333333333333,
                          "#9c179e"
                        ],
                        [
                          0.4444444444444444,
                          "#bd3786"
                        ],
                        [
                          0.5555555555555556,
                          "#d8576b"
                        ],
                        [
                          0.6666666666666666,
                          "#ed7953"
                        ],
                        [
                          0.7777777777777778,
                          "#fb9f3a"
                        ],
                        [
                          0.8888888888888888,
                          "#fdca26"
                        ],
                        [
                          1,
                          "#f0f921"
                        ]
                      ],
                      "sequentialminus": [
                        [
                          0,
                          "#0d0887"
                        ],
                        [
                          0.1111111111111111,
                          "#46039f"
                        ],
                        [
                          0.2222222222222222,
                          "#7201a8"
                        ],
                        [
                          0.3333333333333333,
                          "#9c179e"
                        ],
                        [
                          0.4444444444444444,
                          "#bd3786"
                        ],
                        [
                          0.5555555555555556,
                          "#d8576b"
                        ],
                        [
                          0.6666666666666666,
                          "#ed7953"
                        ],
                        [
                          0.7777777777777778,
                          "#fb9f3a"
                        ],
                        [
                          0.8888888888888888,
                          "#fdca26"
                        ],
                        [
                          1,
                          "#f0f921"
                        ]
                      ]
                    },
                    "colorway": [
                      "#636efa",
                      "#EF553B",
                      "#00cc96",
                      "#ab63fa",
                      "#FFA15A",
                      "#19d3f3",
                      "#FF6692",
                      "#B6E880",
                      "#FF97FF",
                      "#FECB52"
                    ],
                    "font": {
                      "color": "#2a3f5f"
                    },
                    "geo": {
                      "bgcolor": "white",
                      "lakecolor": "white",
                      "landcolor": "#E5ECF6",
                      "showlakes": true,
                      "showland": true,
                      "subunitcolor": "white"
                    },
                    "hoverlabel": {
                      "align": "left"
                    },
                    "hovermode": "closest",
                    "mapbox": {
                      "style": "light"
                    },
                    "paper_bgcolor": "white",
                    "plot_bgcolor": "#E5ECF6",
                    "polar": {
                      "angularaxis": {
                        "gridcolor": "white",
                        "linecolor": "white",
                        "ticks": ""
                      },
                      "bgcolor": "#E5ECF6",
                      "radialaxis": {
                        "gridcolor": "white",
                        "linecolor": "white",
                        "ticks": ""
                      }
                    },
                    "scene": {
                      "xaxis": {
                        "backgroundcolor": "#E5ECF6",
                        "gridcolor": "white",
                        "gridwidth": 2,
                        "linecolor": "white",
                        "showbackground": true,
                        "ticks": "",
                        "zerolinecolor": "white"
                      },
                      "yaxis": {
                        "backgroundcolor": "#E5ECF6",
                        "gridcolor": "white",
                        "gridwidth": 2,
                        "linecolor": "white",
                        "showbackground": true,
                        "ticks": "",
                        "zerolinecolor": "white"
                      },
                      "zaxis": {
                        "backgroundcolor": "#E5ECF6",
                        "gridcolor": "white",
                        "gridwidth": 2,
                        "linecolor": "white",
                        "showbackground": true,
                        "ticks": "",
                        "zerolinecolor": "white"
                      }
                    },
                    "shapedefaults": {
                      "line": {
                        "color": "#2a3f5f"
                      }
                    },
                    "ternary": {
                      "aaxis": {
                        "gridcolor": "white",
                        "linecolor": "white",
                        "ticks": ""
                      },
                      "baxis": {
                        "gridcolor": "white",
                        "linecolor": "white",
                        "ticks": ""
                      },
                      "bgcolor": "#E5ECF6",
                      "caxis": {
                        "gridcolor": "white",
                        "linecolor": "white",
                        "ticks": ""
                      }
                    },
                    "title": {
                      "x": 0.05
                    },
                    "xaxis": {
                      "automargin": true,
                      "gridcolor": "white",
                      "linecolor": "white",
                      "ticks": "",
                      "title": {
                        "standoff": 15
                      },
                      "zerolinecolor": "white",
                      "zerolinewidth": 2
                    },
                    "yaxis": {
                      "automargin": true,
                      "gridcolor": "white",
                      "linecolor": "white",
                      "ticks": "",
                      "title": {
                        "standoff": 15
                      },
                      "zerolinecolor": "white",
                      "zerolinewidth": 2
                    }
                  }
                },
                "title": {
                  "text": "Prevalence of severe food insecurity in the total population"
                },
                "width": 800
              }
            }
          },
          "metadata": {},
          "output_type": "display_data"
        }
      ],
      "source": [
        "# plot a nested pie chart using plotly\n",
        "fig = px.sunburst(df, path=['continent', 'country'], values='value', names = 'country', title='Prevalence of severe food insecurity in the total population',color_discrete_sequence=custom_colors)\n",
        "# change the plot size\n",
        "fig.update_layout(width=800, height=800)\n",
        "fig.show()"
      ]
    },
    {
      "cell_type": "markdown",
      "metadata": {},
      "source": [
        "### Packed Bubble chart"
      ]
    },
    {
      "cell_type": "code",
      "execution_count": 622,
      "metadata": {
        "vscode": {
          "languageId": "python"
        }
      },
      "outputs": [
        {
          "name": "stdout",
          "output_type": "stream",
          "text": [
            "{'Africa': {'data': [{'country': 'Algeria', 'value': 65.1}, {'country': 'Angola', 'value': 133.5}, {'country': 'Benin', 'value': 95.0}, {'country': 'Botswana', 'value': 161.6}, {'country': 'Burkina Faso', 'value': 100.3}, {'country': 'Cabo Verde', 'value': 38.5}, {'country': 'Cameroon', 'value': 185.9}, {'country': 'Central African Republic', 'value': 185.39999999999998}, {'country': 'Comoros', 'value': 54.8}, {'country': 'Congo', 'value': 355.5}, {'country': \"Côte d'Ivoire\", 'value': 59.5}, {'country': 'Democratic Republic of the Congo', 'value': 118.4}, {'country': 'Djibouti', 'value': 33.0}, {'country': 'Egypt', 'value': 55.7}, {'country': 'Eswatini', 'value': 36.6}, {'country': 'Ethiopia', 'value': 115.5}, {'country': 'Gambia', 'value': 151.6}, {'country': 'Ghana', 'value': 42.0}, {'country': 'Guinea', 'value': 338.9}, {'country': 'Guinea-Bissau', 'value': 103.0}, {'country': 'Kenya', 'value': 156.8}, {'country': 'Lesotho', 'value': 119.69999999999999}, {'country': 'Liberia', 'value': 227.39999999999998}, {'country': 'Libya', 'value': 115.1}, {'country': 'Madagascar', 'value': 41.9}, {'country': 'Malawi', 'value': 346.9}, {'country': 'Mauritania', 'value': 44.3}, {'country': 'Mauritius', 'value': 52.0}, {'country': 'Mozambique', 'value': 201.9}, {'country': 'Namibia', 'value': 217.9}, {'country': 'Niger', 'value': 69.0}, {'country': 'Nigeria', 'value': 110.4}, {'country': 'Sao Tome and Principe', 'value': 28.2}, {'country': 'Senegal', 'value': 62.699999999999996}, {'country': 'Seychelles', 'value': 12.9}, {'country': 'Sierra Leone', 'value': 219.3}, {'country': 'Somalia', 'value': 85.1}, {'country': 'South Africa', 'value': 31.4}, {'country': 'South Sudan', 'value': 317.6}, {'country': 'Sudan', 'value': 111.9}, {'country': 'Togo', 'value': 120.5}, {'country': 'Tunisia', 'value': 73.1}, {'country': 'Uganda', 'value': 167.5}, {'country': 'United Republic of Tanzania', 'value': 172.4}, {'country': 'Zambia', 'value': 189.4}, {'country': 'Zimbabwe', 'value': 234.3}]}, 'Asia': {'data': [{'country': 'Afghanistan', 'value': 135.3}, {'country': 'Armenia', 'value': 3.1}, {'country': 'Bangladesh', 'value': 80.1}, {'country': 'Cambodia', 'value': 102.7}, {'country': 'Georgia', 'value': 58.4}, {'country': 'Indonesia', 'value': 3.3}, {'country': 'Iran (Islamic Republic of)', 'value': 59.7}, {'country': 'Israel', 'value': 13.0}, {'country': 'Japan', 'value': 3.7}, {'country': 'Kazakhstan', 'value': 0.5}, {'country': 'Kuwait', 'value': 33.900000000000006}, {'country': 'Kyrgyzstan', 'value': 4.6}, {'country': \"Lao People's Democratic Republic\", 'value': 24.400000000000002}, {'country': 'Lebanon', 'value': 33.8}, {'country': 'Malaysia', 'value': 46.8}, {'country': 'Maldives', 'value': 4.4}, {'country': 'Myanmar', 'value': 10.6}, {'country': 'Nepal', 'value': 78.7}, {'country': 'Pakistan', 'value': 31.0}, {'country': 'Palestine', 'value': 20.1}, {'country': 'Philippines', 'value': 17.7}, {'country': 'Republic of Korea', 'value': 2.1}, {'country': 'Singapore', 'value': 8.3}, {'country': 'Sri Lanka', 'value': 5.8}, {'country': 'Thailand', 'value': 6.0}, {'country': 'United Arab Emirates', 'value': 2.0}, {'country': 'Uzbekistan', 'value': 25.4}, {'country': 'Viet Nam', 'value': 2.3}, {'country': 'Yemen', 'value': 80.4}]}, 'Europe': {'data': [{'country': 'Albania', 'value': 65.5}, {'country': 'Austria', 'value': 8.3}, {'country': 'Belgium', 'value': 3.9000000000000004}, {'country': 'Bosnia and Herzegovina', 'value': 13.9}, {'country': 'Bulgaria', 'value': 17.1}, {'country': 'Croatia', 'value': 7.7}, {'country': 'Czechia', 'value': 5.4}, {'country': 'Denmark', 'value': 8.6}, {'country': 'Estonia', 'value': 5.9}, {'country': 'Finland', 'value': 15.7}, {'country': 'France', 'value': 7.7}, {'country': 'Germany', 'value': 6.4}, {'country': 'Greece', 'value': 16.0}, {'country': 'Hungary', 'value': 10.7}, {'country': 'Iceland', 'value': 10.8}, {'country': 'Ireland', 'value': 22.5}, {'country': 'Italy', 'value': 9.4}, {'country': 'Latvia', 'value': 4.8}, {'country': 'Lithuania', 'value': 12.9}, {'country': 'Luxembourg', 'value': 7.1}, {'country': 'Malta', 'value': 8.9}, {'country': 'Montenegro', 'value': 18.3}, {'country': 'Netherlands (Kingdom of the)', 'value': 10.6}, {'country': 'North Macedonia', 'value': 30.9}, {'country': 'Norway', 'value': 7.7}, {'country': 'Poland', 'value': 5.6}, {'country': 'Portugal', 'value': 24.0}, {'country': 'Republic of Moldova', 'value': 24.9}, {'country': 'Romania', 'value': 30.6}, {'country': 'Russian Federation', 'value': 2.0}, {'country': 'Serbia', 'value': 18.4}, {'country': 'Slovakia', 'value': 8.200000000000001}, {'country': 'Slovenia', 'value': 3.8}, {'country': 'Spain', 'value': 11.1}, {'country': 'Sweden', 'value': 7.9}, {'country': 'Switzerland', 'value': 4.9}, {'country': 'Ukraine', 'value': 17.8}, {'country': 'United Kingdom of Great Britain and Northern Ireland', 'value': 10.4}]}, 'North America': {'data': [{'country': 'Antigua and Barbuda', 'value': 14.2}, {'country': 'Bahamas', 'value': 6.8}, {'country': 'Barbados', 'value': 14.8}, {'country': 'Belize', 'value': 24.0}, {'country': 'Canada', 'value': 4.4}, {'country': 'Costa Rica', 'value': 16.6}, {'country': 'Dominican Republic', 'value': 161.2}, {'country': 'El Salvador', 'value': 102.1}, {'country': 'Grenada', 'value': 39.0}, {'country': 'Guatemala', 'value': 129.3}, {'country': 'Haiti', 'value': 136.9}, {'country': 'Honduras', 'value': 112.4}, {'country': 'Jamaica', 'value': 169.6}, {'country': 'Mexico', 'value': 25.1}, {'country': 'Saint Kitts and Nevis', 'value': 51.6}, {'country': 'Saint Lucia', 'value': 18.0}, {'country': 'Saint Vincent and the Grenadines', 'value': 51.5}, {'country': 'Trinidad and Tobago', 'value': 20.4}, {'country': 'United States of America', 'value': 6.0}]}, 'Oceania': {'data': [{'country': 'Australia', 'value': 23.9}, {'country': 'Fiji', 'value': 12.5}, {'country': 'Kiribati', 'value': 32.0}, {'country': 'New Zealand', 'value': 25.4}, {'country': 'Samoa', 'value': 17.0}, {'country': 'Tonga', 'value': 20.5}, {'country': 'Vanuatu', 'value': 9.6}]}, 'South America': {'data': [{'country': 'Argentina', 'value': 77.2}, {'country': 'Brazil', 'value': 27.7}, {'country': 'Chile', 'value': 24.5}, {'country': 'Ecuador', 'value': 68.8}, {'country': 'Paraguay', 'value': 26.299999999999997}, {'country': 'Suriname', 'value': 14.4}, {'country': 'Uruguay', 'value': 14.3}]}}\n"
          ]
        },
        {
          "name": "stderr",
          "output_type": "stream",
          "text": [
            "/var/folders/27/cc8xpbnj4vgc0f2m9xmmtc_r0000gn/T/ipykernel_45541/2385084736.py:2: DeprecationWarning:\n",
            "\n",
            "DataFrameGroupBy.apply operated on the grouping columns. This behavior is deprecated, and in a future version of pandas the grouping columns will be excluded from the operation. Either pass `include_groups=False` to exclude the groupings or explicitly select the grouping columns after groupby to silence this warning.\n",
            "\n"
          ]
        }
      ],
      "source": [
        "# group the df by continent and aggregate the data\n",
        "grouped_df = df.groupby('continent').apply(lambda x: x[['country', 'value']].to_dict(orient='records')).reset_index(name='data')\n",
        "\n",
        "# convert the grouped DataFrame to a dictionary\n",
        "result_dict = grouped_df.set_index('continent').to_dict(orient='index')\n",
        "\n",
        "print(result_dict)"
      ]
    },
    {
      "cell_type": "markdown",
      "metadata": {},
      "source": [
        "---"
      ]
    },
    {
      "cell_type": "code",
      "execution_count": 623,
      "metadata": {
        "vscode": {
          "languageId": "python"
        }
      },
      "outputs": [
        {
          "data": {
            "text/html": [
              "<div>\n",
              "<style scoped>\n",
              "    .dataframe tbody tr th:only-of-type {\n",
              "        vertical-align: middle;\n",
              "    }\n",
              "\n",
              "    .dataframe tbody tr th {\n",
              "        vertical-align: top;\n",
              "    }\n",
              "\n",
              "    .dataframe thead th {\n",
              "        text-align: right;\n",
              "    }\n",
              "</style>\n",
              "<table border=\"1\" class=\"dataframe\">\n",
              "  <thead>\n",
              "    <tr style=\"text-align: right;\">\n",
              "      <th></th>\n",
              "      <th>Unnamed: 0</th>\n",
              "      <th>Area</th>\n",
              "      <th>Region</th>\n",
              "      <th>YearPeriod</th>\n",
              "      <th>PrimaryColonizer</th>\n",
              "      <th>AVG_PercentFemale</th>\n",
              "      <th>AVG_PercentMale</th>\n",
              "    </tr>\n",
              "  </thead>\n",
              "  <tbody>\n",
              "    <tr>\n",
              "      <th>0</th>\n",
              "      <td>1</td>\n",
              "      <td>Albania</td>\n",
              "      <td>Europe</td>\n",
              "      <td>Y20002002</td>\n",
              "      <td>NaN</td>\n",
              "      <td>NaN</td>\n",
              "      <td>NaN</td>\n",
              "    </tr>\n",
              "    <tr>\n",
              "      <th>1</th>\n",
              "      <td>2</td>\n",
              "      <td>Albania</td>\n",
              "      <td>Europe</td>\n",
              "      <td>Y20012003</td>\n",
              "      <td>NaN</td>\n",
              "      <td>NaN</td>\n",
              "      <td>NaN</td>\n",
              "    </tr>\n",
              "    <tr>\n",
              "      <th>2</th>\n",
              "      <td>3</td>\n",
              "      <td>Albania</td>\n",
              "      <td>Europe</td>\n",
              "      <td>Y20022004</td>\n",
              "      <td>NaN</td>\n",
              "      <td>NaN</td>\n",
              "      <td>NaN</td>\n",
              "    </tr>\n",
              "    <tr>\n",
              "      <th>3</th>\n",
              "      <td>4</td>\n",
              "      <td>Albania</td>\n",
              "      <td>Europe</td>\n",
              "      <td>Y20032005</td>\n",
              "      <td>NaN</td>\n",
              "      <td>NaN</td>\n",
              "      <td>NaN</td>\n",
              "    </tr>\n",
              "    <tr>\n",
              "      <th>4</th>\n",
              "      <td>5</td>\n",
              "      <td>Albania</td>\n",
              "      <td>Europe</td>\n",
              "      <td>Y20042006</td>\n",
              "      <td>NaN</td>\n",
              "      <td>NaN</td>\n",
              "      <td>NaN</td>\n",
              "    </tr>\n",
              "  </tbody>\n",
              "</table>\n",
              "</div>"
            ],
            "text/plain": [
              "   Unnamed: 0     Area  Region YearPeriod PrimaryColonizer AVG_PercentFemale  \\\n",
              "0           1  Albania  Europe  Y20002002              NaN               NaN   \n",
              "1           2  Albania  Europe  Y20012003              NaN               NaN   \n",
              "2           3  Albania  Europe  Y20022004              NaN               NaN   \n",
              "3           4  Albania  Europe  Y20032005              NaN               NaN   \n",
              "4           5  Albania  Europe  Y20042006              NaN               NaN   \n",
              "\n",
              "  AVG_PercentMale  \n",
              "0             NaN  \n",
              "1             NaN  \n",
              "2             NaN  \n",
              "3             NaN  \n",
              "4             NaN  "
            ]
          },
          "execution_count": 623,
          "metadata": {},
          "output_type": "execute_result"
        }
      ],
      "source": [
        "# load the data\n",
        "cleaned_df = pd.read_csv('./data/CleanedData/foodinsecuritybygender.csv', encoding='ISO-8859-1')\n",
        "# convert it to dataframe\n",
        "cleaned_df = pd.DataFrame(cleaned_df)\n",
        "cleaned_df.head()"
      ]
    },
    {
      "cell_type": "code",
      "execution_count": 624,
      "metadata": {
        "vscode": {
          "languageId": "python"
        }
      },
      "outputs": [
        {
          "data": {
            "text/html": [
              "<div>\n",
              "<style scoped>\n",
              "    .dataframe tbody tr th:only-of-type {\n",
              "        vertical-align: middle;\n",
              "    }\n",
              "\n",
              "    .dataframe tbody tr th {\n",
              "        vertical-align: top;\n",
              "    }\n",
              "\n",
              "    .dataframe thead th {\n",
              "        text-align: right;\n",
              "    }\n",
              "</style>\n",
              "<table border=\"1\" class=\"dataframe\">\n",
              "  <thead>\n",
              "    <tr style=\"text-align: right;\">\n",
              "      <th></th>\n",
              "      <th>Unnamed: 0</th>\n",
              "      <th>Area</th>\n",
              "      <th>Region</th>\n",
              "      <th>YearPeriod</th>\n",
              "      <th>PrimaryColonizer</th>\n",
              "      <th>AVG_PercentFemale</th>\n",
              "      <th>AVG_PercentMale</th>\n",
              "      <th>colonizer</th>\n",
              "    </tr>\n",
              "  </thead>\n",
              "  <tbody>\n",
              "    <tr>\n",
              "      <th>0</th>\n",
              "      <td>1</td>\n",
              "      <td>Albania</td>\n",
              "      <td>Europe</td>\n",
              "      <td>Y20002002</td>\n",
              "      <td>NaN</td>\n",
              "      <td>0.0</td>\n",
              "      <td>0.0</td>\n",
              "      <td>False</td>\n",
              "    </tr>\n",
              "    <tr>\n",
              "      <th>1</th>\n",
              "      <td>2</td>\n",
              "      <td>Albania</td>\n",
              "      <td>Europe</td>\n",
              "      <td>Y20012003</td>\n",
              "      <td>NaN</td>\n",
              "      <td>0.0</td>\n",
              "      <td>0.0</td>\n",
              "      <td>False</td>\n",
              "    </tr>\n",
              "    <tr>\n",
              "      <th>2</th>\n",
              "      <td>3</td>\n",
              "      <td>Albania</td>\n",
              "      <td>Europe</td>\n",
              "      <td>Y20022004</td>\n",
              "      <td>NaN</td>\n",
              "      <td>0.0</td>\n",
              "      <td>0.0</td>\n",
              "      <td>False</td>\n",
              "    </tr>\n",
              "    <tr>\n",
              "      <th>3</th>\n",
              "      <td>4</td>\n",
              "      <td>Albania</td>\n",
              "      <td>Europe</td>\n",
              "      <td>Y20032005</td>\n",
              "      <td>NaN</td>\n",
              "      <td>0.0</td>\n",
              "      <td>0.0</td>\n",
              "      <td>False</td>\n",
              "    </tr>\n",
              "    <tr>\n",
              "      <th>4</th>\n",
              "      <td>5</td>\n",
              "      <td>Albania</td>\n",
              "      <td>Europe</td>\n",
              "      <td>Y20042006</td>\n",
              "      <td>NaN</td>\n",
              "      <td>0.0</td>\n",
              "      <td>0.0</td>\n",
              "      <td>False</td>\n",
              "    </tr>\n",
              "    <tr>\n",
              "      <th>...</th>\n",
              "      <td>...</td>\n",
              "      <td>...</td>\n",
              "      <td>...</td>\n",
              "      <td>...</td>\n",
              "      <td>...</td>\n",
              "      <td>...</td>\n",
              "      <td>...</td>\n",
              "      <td>...</td>\n",
              "    </tr>\n",
              "    <tr>\n",
              "      <th>1969</th>\n",
              "      <td>1970</td>\n",
              "      <td>Zimbabwe</td>\n",
              "      <td>Africa</td>\n",
              "      <td>Y20162018</td>\n",
              "      <td>United Kingdom of Great Britain and Northern I...</td>\n",
              "      <td>37.1</td>\n",
              "      <td>34.6</td>\n",
              "      <td>True</td>\n",
              "    </tr>\n",
              "    <tr>\n",
              "      <th>1970</th>\n",
              "      <td>1971</td>\n",
              "      <td>Zimbabwe</td>\n",
              "      <td>Africa</td>\n",
              "      <td>Y20172019</td>\n",
              "      <td>United Kingdom of Great Britain and Northern I...</td>\n",
              "      <td>35.8</td>\n",
              "      <td>32.5</td>\n",
              "      <td>True</td>\n",
              "    </tr>\n",
              "    <tr>\n",
              "      <th>1971</th>\n",
              "      <td>1972</td>\n",
              "      <td>Zimbabwe</td>\n",
              "      <td>Africa</td>\n",
              "      <td>Y20182020</td>\n",
              "      <td>United Kingdom of Great Britain and Northern I...</td>\n",
              "      <td>33.7</td>\n",
              "      <td>30.6</td>\n",
              "      <td>True</td>\n",
              "    </tr>\n",
              "    <tr>\n",
              "      <th>1972</th>\n",
              "      <td>1973</td>\n",
              "      <td>Zimbabwe</td>\n",
              "      <td>Africa</td>\n",
              "      <td>Y20192021</td>\n",
              "      <td>United Kingdom of Great Britain and Northern I...</td>\n",
              "      <td>33.1</td>\n",
              "      <td>29.6</td>\n",
              "      <td>True</td>\n",
              "    </tr>\n",
              "    <tr>\n",
              "      <th>1973</th>\n",
              "      <td>1974</td>\n",
              "      <td>Zimbabwe</td>\n",
              "      <td>Africa</td>\n",
              "      <td>Y20202022</td>\n",
              "      <td>United Kingdom of Great Britain and Northern I...</td>\n",
              "      <td>30.2</td>\n",
              "      <td>27.0</td>\n",
              "      <td>True</td>\n",
              "    </tr>\n",
              "  </tbody>\n",
              "</table>\n",
              "<p>1974 rows × 8 columns</p>\n",
              "</div>"
            ],
            "text/plain": [
              "      Unnamed: 0      Area  Region YearPeriod  \\\n",
              "0              1   Albania  Europe  Y20002002   \n",
              "1              2   Albania  Europe  Y20012003   \n",
              "2              3   Albania  Europe  Y20022004   \n",
              "3              4   Albania  Europe  Y20032005   \n",
              "4              5   Albania  Europe  Y20042006   \n",
              "...          ...       ...     ...        ...   \n",
              "1969        1970  Zimbabwe  Africa  Y20162018   \n",
              "1970        1971  Zimbabwe  Africa  Y20172019   \n",
              "1971        1972  Zimbabwe  Africa  Y20182020   \n",
              "1972        1973  Zimbabwe  Africa  Y20192021   \n",
              "1973        1974  Zimbabwe  Africa  Y20202022   \n",
              "\n",
              "                                       PrimaryColonizer  AVG_PercentFemale  \\\n",
              "0                                                   NaN                0.0   \n",
              "1                                                   NaN                0.0   \n",
              "2                                                   NaN                0.0   \n",
              "3                                                   NaN                0.0   \n",
              "4                                                   NaN                0.0   \n",
              "...                                                 ...                ...   \n",
              "1969  United Kingdom of Great Britain and Northern I...               37.1   \n",
              "1970  United Kingdom of Great Britain and Northern I...               35.8   \n",
              "1971  United Kingdom of Great Britain and Northern I...               33.7   \n",
              "1972  United Kingdom of Great Britain and Northern I...               33.1   \n",
              "1973  United Kingdom of Great Britain and Northern I...               30.2   \n",
              "\n",
              "      AVG_PercentMale  colonizer  \n",
              "0                 0.0      False  \n",
              "1                 0.0      False  \n",
              "2                 0.0      False  \n",
              "3                 0.0      False  \n",
              "4                 0.0      False  \n",
              "...               ...        ...  \n",
              "1969             34.6       True  \n",
              "1970             32.5       True  \n",
              "1971             30.6       True  \n",
              "1972             29.6       True  \n",
              "1973             27.0       True  \n",
              "\n",
              "[1974 rows x 8 columns]"
            ]
          },
          "execution_count": 624,
          "metadata": {},
          "output_type": "execute_result"
        }
      ],
      "source": [
        "# fill the null values with 0\n",
        "cleaned_df['AVG_PercentFemale']= cleaned_df['AVG_PercentFemale'].fillna(0)\n",
        "cleaned_df['AVG_PercentMale']= cleaned_df['AVG_PercentMale'].fillna(0)\n",
        "\n",
        "# convert the data type to numeric\n",
        "cleaned_df['AVG_PercentFemale'] = pd.to_numeric(cleaned_df['AVG_PercentFemale'], errors='coerce')\n",
        "cleaned_df['AVG_PercentMale'] = pd.to_numeric(cleaned_df['AVG_PercentMale'], errors='coerce')\n",
        "\n",
        "# add a new boolean column if the primarycolonizer column is not null\n",
        "cleaned_df['colonizer'] = cleaned_df['PrimaryColonizer'].notnull()\n",
        "\n",
        "cleaned_df"
      ]
    },
    {
      "cell_type": "code",
      "execution_count": 625,
      "metadata": {
        "vscode": {
          "languageId": "python"
        }
      },
      "outputs": [
        {
          "data": {
            "text/html": [
              "<div>\n",
              "<style scoped>\n",
              "    .dataframe tbody tr th:only-of-type {\n",
              "        vertical-align: middle;\n",
              "    }\n",
              "\n",
              "    .dataframe tbody tr th {\n",
              "        vertical-align: top;\n",
              "    }\n",
              "\n",
              "    .dataframe thead th {\n",
              "        text-align: right;\n",
              "    }\n",
              "</style>\n",
              "<table border=\"1\" class=\"dataframe\">\n",
              "  <thead>\n",
              "    <tr style=\"text-align: right;\">\n",
              "      <th></th>\n",
              "      <th>Area</th>\n",
              "      <th>Region</th>\n",
              "      <th>AVG_PercentFemale</th>\n",
              "      <th>AVG_PercentMale</th>\n",
              "    </tr>\n",
              "  </thead>\n",
              "  <tbody>\n",
              "    <tr>\n",
              "      <th>0</th>\n",
              "      <td>Albania</td>\n",
              "      <td>Europe</td>\n",
              "      <td>73.8</td>\n",
              "      <td>57.2</td>\n",
              "    </tr>\n",
              "    <tr>\n",
              "      <th>1</th>\n",
              "      <td>Algeria</td>\n",
              "      <td>Africa</td>\n",
              "      <td>67.5</td>\n",
              "      <td>62.9</td>\n",
              "    </tr>\n",
              "    <tr>\n",
              "      <th>2</th>\n",
              "      <td>Andorra</td>\n",
              "      <td>Europe</td>\n",
              "      <td>0.0</td>\n",
              "      <td>0.0</td>\n",
              "    </tr>\n",
              "    <tr>\n",
              "      <th>3</th>\n",
              "      <td>Angola</td>\n",
              "      <td>Africa</td>\n",
              "      <td>139.6</td>\n",
              "      <td>127.7</td>\n",
              "    </tr>\n",
              "    <tr>\n",
              "      <th>4</th>\n",
              "      <td>Austria</td>\n",
              "      <td>Europe</td>\n",
              "      <td>8.5</td>\n",
              "      <td>8.1</td>\n",
              "    </tr>\n",
              "  </tbody>\n",
              "</table>\n",
              "</div>"
            ],
            "text/plain": [
              "      Area  Region  AVG_PercentFemale  AVG_PercentMale\n",
              "0  Albania  Europe               73.8             57.2\n",
              "1  Algeria  Africa               67.5             62.9\n",
              "2  Andorra  Europe                0.0              0.0\n",
              "3   Angola  Africa              139.6            127.7\n",
              "4  Austria  Europe                8.5              8.1"
            ]
          },
          "execution_count": 625,
          "metadata": {},
          "output_type": "execute_result"
        }
      ],
      "source": [
        "# drop the year column\n",
        "another_df = cleaned_df.drop(columns=['YearPeriod', 'Unnamed: 0', 'PrimaryColonizer', 'colonizer'])\n",
        "# group by the country and get the sum of all the values\n",
        "another_df = another_df.groupby(['Area', 'Region'], as_index=False).sum().reset_index(drop=True)\n",
        "another_df.head()"
      ]
    },
    {
      "cell_type": "code",
      "execution_count": 626,
      "metadata": {
        "vscode": {
          "languageId": "python"
        }
      },
      "outputs": [
        {
          "data": {
            "text/html": [
              "<div>\n",
              "<style scoped>\n",
              "    .dataframe tbody tr th:only-of-type {\n",
              "        vertical-align: middle;\n",
              "    }\n",
              "\n",
              "    .dataframe tbody tr th {\n",
              "        vertical-align: top;\n",
              "    }\n",
              "\n",
              "    .dataframe thead th {\n",
              "        text-align: right;\n",
              "    }\n",
              "</style>\n",
              "<table border=\"1\" class=\"dataframe\">\n",
              "  <thead>\n",
              "    <tr style=\"text-align: right;\">\n",
              "      <th></th>\n",
              "      <th>Region</th>\n",
              "      <th>AVG_PercentFemale</th>\n",
              "      <th>AVG_PercentMale</th>\n",
              "    </tr>\n",
              "  </thead>\n",
              "  <tbody>\n",
              "    <tr>\n",
              "      <th>0</th>\n",
              "      <td>Africa</td>\n",
              "      <td>6061.9</td>\n",
              "      <td>5860.8</td>\n",
              "    </tr>\n",
              "    <tr>\n",
              "      <th>1</th>\n",
              "      <td>Europe</td>\n",
              "      <td>520.5</td>\n",
              "      <td>492.7</td>\n",
              "    </tr>\n",
              "  </tbody>\n",
              "</table>\n",
              "</div>"
            ],
            "text/plain": [
              "   Region  AVG_PercentFemale  AVG_PercentMale\n",
              "0  Africa             6061.9           5860.8\n",
              "1  Europe              520.5            492.7"
            ]
          },
          "execution_count": 626,
          "metadata": {},
          "output_type": "execute_result"
        }
      ],
      "source": [
        "# group by region again\n",
        "region_sum = another_df.groupby('Region').agg({'AVG_PercentFemale': 'sum', 'AVG_PercentMale': 'sum'}).reset_index()\n",
        "region_sum"
      ]
    },
    {
      "cell_type": "code",
      "execution_count": 627,
      "metadata": {
        "vscode": {
          "languageId": "python"
        }
      },
      "outputs": [
        {
          "data": {
            "text/html": [
              "<div>\n",
              "<style scoped>\n",
              "    .dataframe tbody tr th:only-of-type {\n",
              "        vertical-align: middle;\n",
              "    }\n",
              "\n",
              "    .dataframe tbody tr th {\n",
              "        vertical-align: top;\n",
              "    }\n",
              "\n",
              "    .dataframe thead th {\n",
              "        text-align: right;\n",
              "    }\n",
              "</style>\n",
              "<table border=\"1\" class=\"dataframe\">\n",
              "  <thead>\n",
              "    <tr style=\"text-align: right;\">\n",
              "      <th></th>\n",
              "      <th>Area</th>\n",
              "      <th>Region</th>\n",
              "      <th>AVG_PercentFemale</th>\n",
              "      <th>AVG_PercentMale</th>\n",
              "      <th>Continent_Sum_Female</th>\n",
              "      <th>Continent_Sum_Male</th>\n",
              "    </tr>\n",
              "  </thead>\n",
              "  <tbody>\n",
              "    <tr>\n",
              "      <th>0</th>\n",
              "      <td>Albania</td>\n",
              "      <td>Europe</td>\n",
              "      <td>73.8</td>\n",
              "      <td>57.2</td>\n",
              "      <td>520.5</td>\n",
              "      <td>492.7</td>\n",
              "    </tr>\n",
              "    <tr>\n",
              "      <th>1</th>\n",
              "      <td>Algeria</td>\n",
              "      <td>Africa</td>\n",
              "      <td>67.5</td>\n",
              "      <td>62.9</td>\n",
              "      <td>6061.9</td>\n",
              "      <td>5860.8</td>\n",
              "    </tr>\n",
              "    <tr>\n",
              "      <th>2</th>\n",
              "      <td>Andorra</td>\n",
              "      <td>Europe</td>\n",
              "      <td>0.0</td>\n",
              "      <td>0.0</td>\n",
              "      <td>520.5</td>\n",
              "      <td>492.7</td>\n",
              "    </tr>\n",
              "    <tr>\n",
              "      <th>3</th>\n",
              "      <td>Angola</td>\n",
              "      <td>Africa</td>\n",
              "      <td>139.6</td>\n",
              "      <td>127.7</td>\n",
              "      <td>6061.9</td>\n",
              "      <td>5860.8</td>\n",
              "    </tr>\n",
              "    <tr>\n",
              "      <th>4</th>\n",
              "      <td>Austria</td>\n",
              "      <td>Europe</td>\n",
              "      <td>8.5</td>\n",
              "      <td>8.1</td>\n",
              "      <td>520.5</td>\n",
              "      <td>492.7</td>\n",
              "    </tr>\n",
              "    <tr>\n",
              "      <th>...</th>\n",
              "      <td>...</td>\n",
              "      <td>...</td>\n",
              "      <td>...</td>\n",
              "      <td>...</td>\n",
              "      <td>...</td>\n",
              "      <td>...</td>\n",
              "    </tr>\n",
              "    <tr>\n",
              "      <th>89</th>\n",
              "      <td>Ukraine</td>\n",
              "      <td>Europe</td>\n",
              "      <td>18.6</td>\n",
              "      <td>16.9</td>\n",
              "      <td>520.5</td>\n",
              "      <td>492.7</td>\n",
              "    </tr>\n",
              "    <tr>\n",
              "      <th>90</th>\n",
              "      <td>United Kingdom of Great Britain and Northern I...</td>\n",
              "      <td>Europe</td>\n",
              "      <td>11.6</td>\n",
              "      <td>9.4</td>\n",
              "      <td>520.5</td>\n",
              "      <td>492.7</td>\n",
              "    </tr>\n",
              "    <tr>\n",
              "      <th>91</th>\n",
              "      <td>United Republic of Tanzania</td>\n",
              "      <td>Africa</td>\n",
              "      <td>177.6</td>\n",
              "      <td>167.6</td>\n",
              "      <td>6061.9</td>\n",
              "      <td>5860.8</td>\n",
              "    </tr>\n",
              "    <tr>\n",
              "      <th>92</th>\n",
              "      <td>Zambia</td>\n",
              "      <td>Africa</td>\n",
              "      <td>189.1</td>\n",
              "      <td>189.6</td>\n",
              "      <td>6061.9</td>\n",
              "      <td>5860.8</td>\n",
              "    </tr>\n",
              "    <tr>\n",
              "      <th>93</th>\n",
              "      <td>Zimbabwe</td>\n",
              "      <td>Africa</td>\n",
              "      <td>243.6</td>\n",
              "      <td>225.1</td>\n",
              "      <td>6061.9</td>\n",
              "      <td>5860.8</td>\n",
              "    </tr>\n",
              "  </tbody>\n",
              "</table>\n",
              "<p>94 rows × 6 columns</p>\n",
              "</div>"
            ],
            "text/plain": [
              "                                                 Area  Region  \\\n",
              "0                                             Albania  Europe   \n",
              "1                                             Algeria  Africa   \n",
              "2                                             Andorra  Europe   \n",
              "3                                              Angola  Africa   \n",
              "4                                             Austria  Europe   \n",
              "..                                                ...     ...   \n",
              "89                                            Ukraine  Europe   \n",
              "90  United Kingdom of Great Britain and Northern I...  Europe   \n",
              "91                        United Republic of Tanzania  Africa   \n",
              "92                                             Zambia  Africa   \n",
              "93                                           Zimbabwe  Africa   \n",
              "\n",
              "    AVG_PercentFemale  AVG_PercentMale  Continent_Sum_Female  \\\n",
              "0                73.8             57.2                 520.5   \n",
              "1                67.5             62.9                6061.9   \n",
              "2                 0.0              0.0                 520.5   \n",
              "3               139.6            127.7                6061.9   \n",
              "4                 8.5              8.1                 520.5   \n",
              "..                ...              ...                   ...   \n",
              "89               18.6             16.9                 520.5   \n",
              "90               11.6              9.4                 520.5   \n",
              "91              177.6            167.6                6061.9   \n",
              "92              189.1            189.6                6061.9   \n",
              "93              243.6            225.1                6061.9   \n",
              "\n",
              "    Continent_Sum_Male  \n",
              "0                492.7  \n",
              "1               5860.8  \n",
              "2                492.7  \n",
              "3               5860.8  \n",
              "4                492.7  \n",
              "..                 ...  \n",
              "89               492.7  \n",
              "90               492.7  \n",
              "91              5860.8  \n",
              "92              5860.8  \n",
              "93              5860.8  \n",
              "\n",
              "[94 rows x 6 columns]"
            ]
          },
          "execution_count": 627,
          "metadata": {},
          "output_type": "execute_result"
        }
      ],
      "source": [
        "# merge the sum with the original DataFrame based on 'Region'\n",
        "df_merged = another_df.merge(region_sum, on='Region', suffixes=('', '_Sum'))\n",
        "# change the column name\n",
        "df_merged = df_merged.rename(columns={'AVG_PercentFemale_Sum': 'Continent_Sum_Female', 'AVG_PercentMale_Sum': 'Continent_Sum_Male'})\n",
        "df_merged"
      ]
    },
    {
      "cell_type": "code",
      "execution_count": 628,
      "metadata": {
        "vscode": {
          "languageId": "python"
        }
      },
      "outputs": [
        {
          "name": "stdout",
          "output_type": "stream",
          "text": [
            "[{'id': 'Africa', 'datum': 6061.900000000001, 'children': [{'id': 'Algeria', 'datum': {'AVG_PercentFemale': 67.5, 'AVG_PercentMale': 62.900000000000006}}, {'id': 'Angola', 'datum': {'AVG_PercentFemale': 139.60000000000002, 'AVG_PercentMale': 127.7}}, {'id': 'Benin', 'datum': {'AVG_PercentFemale': 97.39999999999999, 'AVG_PercentMale': 92.7}}, {'id': 'Botswana', 'datum': {'AVG_PercentFemale': 179.9, 'AVG_PercentMale': 143.6}}, {'id': 'Burkina Faso', 'datum': {'AVG_PercentFemale': 93.0, 'AVG_PercentMale': 108.0}}, {'id': 'Burundi', 'datum': {'AVG_PercentFemale': 0.0, 'AVG_PercentMale': 0.0}}, {'id': 'Cabo Verde', 'datum': {'AVG_PercentFemale': 38.5, 'AVG_PercentMale': 38.5}}, {'id': 'Cameroon', 'datum': {'AVG_PercentFemale': 178.0, 'AVG_PercentMale': 193.7}}, {'id': 'Central African Republic', 'datum': {'AVG_PercentFemale': 185.39999999999998, 'AVG_PercentMale': 185.39999999999998}}, {'id': 'Chad', 'datum': {'AVG_PercentFemale': 0.0, 'AVG_PercentMale': 0.0}}, {'id': 'Comoros', 'datum': {'AVG_PercentFemale': 56.8, 'AVG_PercentMale': 52.8}}, {'id': 'Congo', 'datum': {'AVG_PercentFemale': 352.5, 'AVG_PercentMale': 358.4}}, {'id': \"Cote d'Ivoire\", 'datum': {'AVG_PercentFemale': 60.099999999999994, 'AVG_PercentMale': 58.900000000000006}}, {'id': 'Democratic Republic of the Congo', 'datum': {'AVG_PercentFemale': 114.4, 'AVG_PercentMale': 122.4}}, {'id': 'Djibouti', 'datum': {'AVG_PercentFemale': 30.8, 'AVG_PercentMale': 35.2}}, {'id': 'Egypt', 'datum': {'AVG_PercentFemale': 61.8, 'AVG_PercentMale': 49.8}}, {'id': 'Equatorial Guinea', 'datum': {'AVG_PercentFemale': 0.0, 'AVG_PercentMale': 0.0}}, {'id': 'Eritrea', 'datum': {'AVG_PercentFemale': 0.0, 'AVG_PercentMale': 0.0}}, {'id': 'Eswatini', 'datum': {'AVG_PercentFemale': 34.8, 'AVG_PercentMale': 38.4}}, {'id': 'Ethiopia', 'datum': {'AVG_PercentFemale': 116.8, 'AVG_PercentMale': 114.7}}, {'id': 'Gabon', 'datum': {'AVG_PercentFemale': 0.0, 'AVG_PercentMale': 0.0}}, {'id': 'Gambia', 'datum': {'AVG_PercentFemale': 147.3, 'AVG_PercentMale': 155.6}}, {'id': 'Ghana', 'datum': {'AVG_PercentFemale': 42.6, 'AVG_PercentMale': 41.6}}, {'id': 'Guinea', 'datum': {'AVG_PercentFemale': 339.9, 'AVG_PercentMale': 337.8}}, {'id': 'Guinea-Bissau', 'datum': {'AVG_PercentFemale': 103.2, 'AVG_PercentMale': 103.3}}, {'id': 'Kenya', 'datum': {'AVG_PercentFemale': 170.1, 'AVG_PercentMale': 143.8}}, {'id': 'Lesotho', 'datum': {'AVG_PercentFemale': 118.2, 'AVG_PercentMale': 121.3}}, {'id': 'Liberia', 'datum': {'AVG_PercentFemale': 237.4, 'AVG_PercentMale': 217.3}}, {'id': 'Libya', 'datum': {'AVG_PercentFemale': 142.7, 'AVG_PercentMale': 87.7}}, {'id': 'Madagascar', 'datum': {'AVG_PercentFemale': 46.3, 'AVG_PercentMale': 37.5}}, {'id': 'Malawi', 'datum': {'AVG_PercentFemale': 362.5, 'AVG_PercentMale': 331.6}}, {'id': 'Mali', 'datum': {'AVG_PercentFemale': 0.0, 'AVG_PercentMale': 0.0}}, {'id': 'Mauritania', 'datum': {'AVG_PercentFemale': 44.1, 'AVG_PercentMale': 44.8}}, {'id': 'Mauritius', 'datum': {'AVG_PercentFemale': 60.3, 'AVG_PercentMale': 43.8}}, {'id': 'Morocco', 'datum': {'AVG_PercentFemale': 0.0, 'AVG_PercentMale': 0.0}}, {'id': 'Mozambique', 'datum': {'AVG_PercentFemale': 210.3, 'AVG_PercentMale': 193.3}}, {'id': 'Namibia', 'datum': {'AVG_PercentFemale': 225.0, 'AVG_PercentMale': 210.9}}, {'id': 'Niger', 'datum': {'AVG_PercentFemale': 71.1, 'AVG_PercentMale': 66.9}}, {'id': 'Nigeria', 'datum': {'AVG_PercentFemale': 107.3, 'AVG_PercentMale': 113.4}}, {'id': 'Rwanda', 'datum': {'AVG_PercentFemale': 0.0, 'AVG_PercentMale': 0.0}}, {'id': 'Sao Tome and Principe', 'datum': {'AVG_PercentFemale': 28.8, 'AVG_PercentMale': 27.6}}, {'id': 'Senegal', 'datum': {'AVG_PercentFemale': 58.4, 'AVG_PercentMale': 66.9}}, {'id': 'Seychelles', 'datum': {'AVG_PercentFemale': 12.9, 'AVG_PercentMale': 12.9}}, {'id': 'Sierra Leone', 'datum': {'AVG_PercentFemale': 223.0, 'AVG_PercentMale': 215.4}}, {'id': 'Somalia', 'datum': {'AVG_PercentFemale': 85.1, 'AVG_PercentMale': 85.1}}, {'id': 'South Africa', 'datum': {'AVG_PercentFemale': 34.8, 'AVG_PercentMale': 27.9}}, {'id': 'South Sudan', 'datum': {'AVG_PercentFemale': 317.6, 'AVG_PercentMale': 317.6}}, {'id': 'Sudan', 'datum': {'AVG_PercentFemale': 112.0, 'AVG_PercentMale': 112.0}}, {'id': 'Togo', 'datum': {'AVG_PercentFemale': 108.69999999999999, 'AVG_PercentMale': 132.5}}, {'id': 'Tunisia', 'datum': {'AVG_PercentFemale': 74.4, 'AVG_PercentMale': 72.2}}, {'id': 'Uganda', 'datum': {'AVG_PercentFemale': 160.3, 'AVG_PercentMale': 174.7}}, {'id': 'United Republic of Tanzania', 'datum': {'AVG_PercentFemale': 177.6, 'AVG_PercentMale': 167.6}}, {'id': 'Zambia', 'datum': {'AVG_PercentFemale': 189.1, 'AVG_PercentMale': 189.6}}, {'id': 'Zimbabwe', 'datum': {'AVG_PercentFemale': 243.6, 'AVG_PercentMale': 225.1}}]}, {'id': 'Europe', 'datum': 520.5, 'children': [{'id': 'Albania', 'datum': {'AVG_PercentFemale': 73.8, 'AVG_PercentMale': 57.2}}, {'id': 'Andorra', 'datum': {'AVG_PercentFemale': 0.0, 'AVG_PercentMale': 0.0}}, {'id': 'Austria', 'datum': {'AVG_PercentFemale': 8.5, 'AVG_PercentMale': 8.1}}, {'id': 'Belarus', 'datum': {'AVG_PercentFemale': 0.0, 'AVG_PercentMale': 0.0}}, {'id': 'Belgium', 'datum': {'AVG_PercentFemale': 3.8, 'AVG_PercentMale': 4.1}}, {'id': 'Bosnia and Herzegovina', 'datum': {'AVG_PercentFemale': 13.1, 'AVG_PercentMale': 14.8}}, {'id': 'Bulgaria', 'datum': {'AVG_PercentFemale': 18.0, 'AVG_PercentMale': 16.2}}, {'id': 'Croatia', 'datum': {'AVG_PercentFemale': 9.100000000000001, 'AVG_PercentMale': 5.6}}, {'id': 'Czechia', 'datum': {'AVG_PercentFemale': 5.6, 'AVG_PercentMale': 6.4}}, {'id': 'Denmark', 'datum': {'AVG_PercentFemale': 10.2, 'AVG_PercentMale': 7.0}}, {'id': 'Estonia', 'datum': {'AVG_PercentFemale': 5.8, 'AVG_PercentMale': 6.2}}, {'id': 'Finland', 'datum': {'AVG_PercentFemale': 17.3, 'AVG_PercentMale': 13.8}}, {'id': 'France', 'datum': {'AVG_PercentFemale': 4.800000000000001, 'AVG_PercentMale': 9.1}}, {'id': 'Germany', 'datum': {'AVG_PercentFemale': 5.8, 'AVG_PercentMale': 7.0}}, {'id': 'Greece', 'datum': {'AVG_PercentFemale': 16.3, 'AVG_PercentMale': 15.8}}, {'id': 'Hungary', 'datum': {'AVG_PercentFemale': 11.9, 'AVG_PercentMale': 9.7}}, {'id': 'Iceland', 'datum': {'AVG_PercentFemale': 10.0, 'AVG_PercentMale': 11.4}}, {'id': 'Ireland', 'datum': {'AVG_PercentFemale': 17.7, 'AVG_PercentMale': 27.299999999999997}}, {'id': 'Italy', 'datum': {'AVG_PercentFemale': 5.8, 'AVG_PercentMale': 13.1}}, {'id': 'Latvia', 'datum': {'AVG_PercentFemale': 4.4, 'AVG_PercentMale': 4.8}}, {'id': 'Lithuania', 'datum': {'AVG_PercentFemale': 12.4, 'AVG_PercentMale': 13.2}}, {'id': 'Luxembourg', 'datum': {'AVG_PercentFemale': 6.7, 'AVG_PercentMale': 7.5}}, {'id': 'Malta', 'datum': {'AVG_PercentFemale': 11.4, 'AVG_PercentMale': 6.0}}, {'id': 'Montenegro', 'datum': {'AVG_PercentFemale': 18.6, 'AVG_PercentMale': 18.0}}, {'id': 'Netherlands (Kingdom of the)', 'datum': {'AVG_PercentFemale': 11.3, 'AVG_PercentMale': 9.9}}, {'id': 'North Macedonia', 'datum': {'AVG_PercentFemale': 32.0, 'AVG_PercentMale': 29.5}}, {'id': 'Norway', 'datum': {'AVG_PercentFemale': 7.1, 'AVG_PercentMale': 8.5}}, {'id': 'Poland', 'datum': {'AVG_PercentFemale': 6.2, 'AVG_PercentMale': 6.1}}, {'id': 'Portugal', 'datum': {'AVG_PercentFemale': 24.4, 'AVG_PercentMale': 23.7}}, {'id': 'Republic of Moldova', 'datum': {'AVG_PercentFemale': 26.2, 'AVG_PercentMale': 23.6}}, {'id': 'Romania', 'datum': {'AVG_PercentFemale': 33.9, 'AVG_PercentMale': 27.3}}, {'id': 'Russian Federation', 'datum': {'AVG_PercentFemale': 2.1, 'AVG_PercentMale': 2.4}}, {'id': 'Serbia', 'datum': {'AVG_PercentFemale': 19.299999999999997, 'AVG_PercentMale': 17.6}}, {'id': 'Slovakia', 'datum': {'AVG_PercentFemale': 9.3, 'AVG_PercentMale': 7.1}}, {'id': 'Slovenia', 'datum': {'AVG_PercentFemale': 4.9, 'AVG_PercentMale': 2.2}}, {'id': 'Spain', 'datum': {'AVG_PercentFemale': 12.0, 'AVG_PercentMale': 10.4}}, {'id': 'Sweden', 'datum': {'AVG_PercentFemale': 6.9, 'AVG_PercentMale': 8.9}}, {'id': 'Switzerland', 'datum': {'AVG_PercentFemale': 3.7, 'AVG_PercentMale': 6.9}}, {'id': 'Ukraine', 'datum': {'AVG_PercentFemale': 18.6, 'AVG_PercentMale': 16.9}}, {'id': 'United Kingdom of Great Britain and Northern Ireland', 'datum': {'AVG_PercentFemale': 11.6, 'AVG_PercentMale': 9.4}}]}]\n"
          ]
        }
      ],
      "source": [
        "# change the dataframe to dictionary\n",
        "df2 = df_merged.groupby('Region')\n",
        "# initialize the dictionary\n",
        "data = []\n",
        "\n",
        "# iterate over each group\n",
        "for region, group in df2:\n",
        "    children = []\n",
        "    # iterate over each row in the group\n",
        "    for _, row in group.iterrows():\n",
        "        children.append({\n",
        "            'id': row['Area'],\n",
        "            'datum': {'AVG_PercentFemale': row['AVG_PercentFemale'], 'AVG_PercentMale': row['AVG_PercentMale']}\n",
        "        })\n",
        "    # append region and its children to the data dictionary\n",
        "    data.append({'id': region, 'datum': group['AVG_PercentFemale'].sum(), 'children': children})\n",
        "\n",
        "print(data)"
      ]
    },
    {
      "cell_type": "code",
      "execution_count": 629,
      "metadata": {
        "vscode": {
          "languageId": "python"
        }
      },
      "outputs": [
        {
          "ename": "TypeError",
          "evalue": "unsupported operand type(s) for +: 'dict' and 'int'",
          "output_type": "error",
          "traceback": [
            "\u001b[0;31m---------------------------------------------------------------------------\u001b[0m",
            "\u001b[0;31mTypeError\u001b[0m                                 Traceback (most recent call last)",
            "Cell \u001b[0;32mIn[629], line 1\u001b[0m\n\u001b[0;32m----> 1\u001b[0m circles \u001b[38;5;241m=\u001b[39m \u001b[43mcirclify\u001b[49m\u001b[38;5;241;43m.\u001b[39;49m\u001b[43mcirclify\u001b[49m\u001b[43m(\u001b[49m\n\u001b[1;32m      2\u001b[0m \u001b[43m    \u001b[49m\u001b[43mdata\u001b[49m\u001b[43m,\u001b[49m\n\u001b[1;32m      3\u001b[0m \u001b[43m    \u001b[49m\u001b[43mshow_enclosure\u001b[49m\u001b[38;5;241;43m=\u001b[39;49m\u001b[38;5;28;43;01mFalse\u001b[39;49;00m\u001b[43m,\u001b[49m\n\u001b[1;32m      4\u001b[0m \u001b[43m    \u001b[49m\u001b[43mtarget_enclosure\u001b[49m\u001b[38;5;241;43m=\u001b[39;49m\u001b[43mcirclify\u001b[49m\u001b[38;5;241;43m.\u001b[39;49m\u001b[43mCircle\u001b[49m\u001b[43m(\u001b[49m\u001b[43mx\u001b[49m\u001b[38;5;241;43m=\u001b[39;49m\u001b[38;5;241;43m0\u001b[39;49m\u001b[43m,\u001b[49m\u001b[43m \u001b[49m\u001b[43my\u001b[49m\u001b[38;5;241;43m=\u001b[39;49m\u001b[38;5;241;43m0\u001b[39;49m\u001b[43m,\u001b[49m\u001b[43m \u001b[49m\u001b[43mr\u001b[49m\u001b[38;5;241;43m=\u001b[39;49m\u001b[38;5;241;43m1\u001b[39;49m\u001b[43m)\u001b[49m\n\u001b[1;32m      5\u001b[0m \u001b[43m)\u001b[49m\n",
            "File \u001b[0;32m/Library/Frameworks/Python.framework/Versions/3.11/lib/python3.11/site-packages/circlify.py:636\u001b[0m, in \u001b[0;36mcirclify\u001b[0;34m(data, target_enclosure, show_enclosure, datum_field, id_field, children_field)\u001b[0m\n\u001b[1;32m    634\u001b[0m \u001b[38;5;28;01mif\u001b[39;00m target_enclosure \u001b[38;5;129;01mis\u001b[39;00m \u001b[38;5;28;01mNone\u001b[39;00m:\n\u001b[1;32m    635\u001b[0m     target_enclosure \u001b[38;5;241m=\u001b[39m Circle(level\u001b[38;5;241m=\u001b[39m\u001b[38;5;241m0\u001b[39m, x\u001b[38;5;241m=\u001b[39m\u001b[38;5;241m0.0\u001b[39m, y\u001b[38;5;241m=\u001b[39m\u001b[38;5;241m0.0\u001b[39m, r\u001b[38;5;241m=\u001b[39m\u001b[38;5;241m1.0\u001b[39m)\n\u001b[0;32m--> 636\u001b[0m all_circles \u001b[38;5;241m=\u001b[39m \u001b[43m_circlify_level\u001b[49m\u001b[43m(\u001b[49m\u001b[43mdata\u001b[49m\u001b[43m,\u001b[49m\u001b[43m \u001b[49m\u001b[43mtarget_enclosure\u001b[49m\u001b[43m,\u001b[49m\u001b[43m \u001b[49m\u001b[43mfields\u001b[49m\u001b[43m)\u001b[49m\n\u001b[1;32m    637\u001b[0m \u001b[38;5;28;01mif\u001b[39;00m show_enclosure:\n\u001b[1;32m    638\u001b[0m     all_circles\u001b[38;5;241m.\u001b[39mappend(target_enclosure)\n",
            "File \u001b[0;32m/Library/Frameworks/Python.framework/Versions/3.11/lib/python3.11/site-packages/circlify.py:584\u001b[0m, in \u001b[0;36m_circlify_level\u001b[0;34m(data, target_enclosure, fields, level)\u001b[0m\n\u001b[1;32m    582\u001b[0m circle\u001b[38;5;241m.\u001b[39mcircle \u001b[38;5;241m=\u001b[39m scale(inner_circle, target_enclosure, enclosure)\n\u001b[1;32m    583\u001b[0m \u001b[38;5;28;01mif\u001b[39;00m circle\u001b[38;5;241m.\u001b[39mex \u001b[38;5;129;01mand\u001b[39;00m fields\u001b[38;5;241m.\u001b[39mchildren \u001b[38;5;129;01min\u001b[39;00m circle\u001b[38;5;241m.\u001b[39mex:\n\u001b[0;32m--> 584\u001b[0m     all_circles \u001b[38;5;241m+\u001b[39m\u001b[38;5;241m=\u001b[39m \u001b[43m_circlify_level\u001b[49m\u001b[43m(\u001b[49m\n\u001b[1;32m    585\u001b[0m \u001b[43m        \u001b[49m\u001b[43mcircle\u001b[49m\u001b[38;5;241;43m.\u001b[39;49m\u001b[43mex\u001b[49m\u001b[43m[\u001b[49m\u001b[43mfields\u001b[49m\u001b[38;5;241;43m.\u001b[39;49m\u001b[43mchildren\u001b[49m\u001b[43m]\u001b[49m\u001b[43m,\u001b[49m\u001b[43m \u001b[49m\u001b[43mcircle\u001b[49m\u001b[38;5;241;43m.\u001b[39;49m\u001b[43mcircle\u001b[49m\u001b[43m,\u001b[49m\u001b[43m \u001b[49m\u001b[43mfields\u001b[49m\u001b[43m,\u001b[49m\u001b[43m \u001b[49m\u001b[43mlevel\u001b[49m\u001b[43m \u001b[49m\u001b[38;5;241;43m+\u001b[39;49m\u001b[43m \u001b[49m\u001b[38;5;241;43m1\u001b[39;49m\n\u001b[1;32m    586\u001b[0m \u001b[43m    \u001b[49m\u001b[43m)\u001b[49m\n\u001b[1;32m    587\u001b[0m \u001b[38;5;28;01melif\u001b[39;00m __debug__:\n\u001b[1;32m    588\u001b[0m     \u001b[38;5;28;01mfor\u001b[39;00m key \u001b[38;5;129;01min\u001b[39;00m circle\u001b[38;5;241m.\u001b[39mex:\n",
            "File \u001b[0;32m/Library/Frameworks/Python.framework/Versions/3.11/lib/python3.11/site-packages/circlify.py:576\u001b[0m, in \u001b[0;36m_circlify_level\u001b[0;34m(data, target_enclosure, fields, level)\u001b[0m\n\u001b[1;32m    574\u001b[0m \u001b[38;5;28;01mif\u001b[39;00m \u001b[38;5;129;01mnot\u001b[39;00m data:\n\u001b[1;32m    575\u001b[0m     \u001b[38;5;28;01mreturn\u001b[39;00m all_circles\n\u001b[0;32m--> 576\u001b[0m circles \u001b[38;5;241m=\u001b[39m \u001b[43m_handle\u001b[49m\u001b[43m(\u001b[49m\u001b[43mdata\u001b[49m\u001b[43m,\u001b[49m\u001b[43m \u001b[49m\u001b[38;5;241;43m1\u001b[39;49m\u001b[43m,\u001b[49m\u001b[43m \u001b[49m\u001b[43mfields\u001b[49m\u001b[43m)\u001b[49m\n\u001b[1;32m    577\u001b[0m packed \u001b[38;5;241m=\u001b[39m pack_A1_0([circle\u001b[38;5;241m.\u001b[39mr \u001b[38;5;28;01mfor\u001b[39;00m circle \u001b[38;5;129;01min\u001b[39;00m circles])\n\u001b[1;32m    578\u001b[0m enclosure \u001b[38;5;241m=\u001b[39m enclose(packed)\n",
            "File \u001b[0;32m/Library/Frameworks/Python.framework/Versions/3.11/lib/python3.11/site-packages/circlify.py:541\u001b[0m, in \u001b[0;36m_handle\u001b[0;34m(data, level, fields)\u001b[0m\n\u001b[1;32m    539\u001b[0m \u001b[38;5;28;01mif\u001b[39;00m \u001b[38;5;28misinstance\u001b[39m(datum, \u001b[38;5;28mdict\u001b[39m):\n\u001b[1;32m    540\u001b[0m     value \u001b[38;5;241m=\u001b[39m datum[datum_field]\n\u001b[0;32m--> 541\u001b[0m     elements\u001b[38;5;241m.\u001b[39mappend(Circle(r\u001b[38;5;241m=\u001b[39m\u001b[43mvalue\u001b[49m\u001b[43m \u001b[49m\u001b[38;5;241;43m+\u001b[39;49m\u001b[43m \u001b[49m\u001b[38;5;241;43m0\u001b[39;49m, level\u001b[38;5;241m=\u001b[39mlevel, ex\u001b[38;5;241m=\u001b[39mdatum))\n\u001b[1;32m    542\u001b[0m     \u001b[38;5;28;01mcontinue\u001b[39;00m\n\u001b[1;32m    543\u001b[0m \u001b[38;5;28;01mif\u001b[39;00m datum \u001b[38;5;241m<\u001b[39m\u001b[38;5;241m=\u001b[39m \u001b[38;5;241m0.0\u001b[39m:\n",
            "\u001b[0;31mTypeError\u001b[0m: unsupported operand type(s) for +: 'dict' and 'int'"
          ]
        }
      ],
      "source": [
        "circles = circlify.circlify(\n",
        "    data,\n",
        "    show_enclosure=False,\n",
        "    target_enclosure=circlify.Circle(x=0, y=0, r=1)\n",
        ")"
      ]
    },
    {
      "cell_type": "code",
      "execution_count": 600,
      "metadata": {
        "vscode": {
          "languageId": "python"
        }
      },
      "outputs": [
        {
          "ename": "TypeError",
          "evalue": "unsupported operand type(s) for +: 'dict' and 'int'",
          "output_type": "error",
          "traceback": [
            "\u001b[0;31m---------------------------------------------------------------------------\u001b[0m",
            "\u001b[0;31mTypeError\u001b[0m                                 Traceback (most recent call last)",
            "Cell \u001b[0;32mIn[600], line 1\u001b[0m\n\u001b[0;32m----> 1\u001b[0m circles \u001b[38;5;241m=\u001b[39m \u001b[43mcirclify\u001b[49m\u001b[38;5;241;43m.\u001b[39;49m\u001b[43mcirclify\u001b[49m\u001b[43m(\u001b[49m\n\u001b[1;32m      2\u001b[0m \u001b[43m    \u001b[49m\u001b[43mdata\u001b[49m\u001b[43m,\u001b[49m\n\u001b[1;32m      3\u001b[0m \u001b[43m    \u001b[49m\u001b[43mshow_enclosure\u001b[49m\u001b[38;5;241;43m=\u001b[39;49m\u001b[38;5;28;43;01mFalse\u001b[39;49;00m\u001b[43m,\u001b[49m\n\u001b[1;32m      4\u001b[0m \u001b[43m    \u001b[49m\u001b[43mtarget_enclosure\u001b[49m\u001b[38;5;241;43m=\u001b[39;49m\u001b[43mcirclify\u001b[49m\u001b[38;5;241;43m.\u001b[39;49m\u001b[43mCircle\u001b[49m\u001b[43m(\u001b[49m\u001b[43mx\u001b[49m\u001b[38;5;241;43m=\u001b[39;49m\u001b[38;5;241;43m0\u001b[39;49m\u001b[43m,\u001b[49m\u001b[43m \u001b[49m\u001b[43my\u001b[49m\u001b[38;5;241;43m=\u001b[39;49m\u001b[38;5;241;43m0\u001b[39;49m\u001b[43m,\u001b[49m\u001b[43m \u001b[49m\u001b[43mr\u001b[49m\u001b[38;5;241;43m=\u001b[39;49m\u001b[38;5;241;43m1\u001b[39;49m\u001b[43m)\u001b[49m\n\u001b[1;32m      5\u001b[0m \u001b[43m)\u001b[49m\n\u001b[1;32m      7\u001b[0m \u001b[38;5;66;03m# create just a figure and only one subplot\u001b[39;00m\n\u001b[1;32m      8\u001b[0m fig, ax \u001b[38;5;241m=\u001b[39m plt\u001b[38;5;241m.\u001b[39msubplots(figsize\u001b[38;5;241m=\u001b[39m(\u001b[38;5;241m14\u001b[39m, \u001b[38;5;241m14\u001b[39m))\n",
            "File \u001b[0;32m/Library/Frameworks/Python.framework/Versions/3.11/lib/python3.11/site-packages/circlify.py:636\u001b[0m, in \u001b[0;36mcirclify\u001b[0;34m(data, target_enclosure, show_enclosure, datum_field, id_field, children_field)\u001b[0m\n\u001b[1;32m    634\u001b[0m \u001b[38;5;28;01mif\u001b[39;00m target_enclosure \u001b[38;5;129;01mis\u001b[39;00m \u001b[38;5;28;01mNone\u001b[39;00m:\n\u001b[1;32m    635\u001b[0m     target_enclosure \u001b[38;5;241m=\u001b[39m Circle(level\u001b[38;5;241m=\u001b[39m\u001b[38;5;241m0\u001b[39m, x\u001b[38;5;241m=\u001b[39m\u001b[38;5;241m0.0\u001b[39m, y\u001b[38;5;241m=\u001b[39m\u001b[38;5;241m0.0\u001b[39m, r\u001b[38;5;241m=\u001b[39m\u001b[38;5;241m1.0\u001b[39m)\n\u001b[0;32m--> 636\u001b[0m all_circles \u001b[38;5;241m=\u001b[39m \u001b[43m_circlify_level\u001b[49m\u001b[43m(\u001b[49m\u001b[43mdata\u001b[49m\u001b[43m,\u001b[49m\u001b[43m \u001b[49m\u001b[43mtarget_enclosure\u001b[49m\u001b[43m,\u001b[49m\u001b[43m \u001b[49m\u001b[43mfields\u001b[49m\u001b[43m)\u001b[49m\n\u001b[1;32m    637\u001b[0m \u001b[38;5;28;01mif\u001b[39;00m show_enclosure:\n\u001b[1;32m    638\u001b[0m     all_circles\u001b[38;5;241m.\u001b[39mappend(target_enclosure)\n",
            "File \u001b[0;32m/Library/Frameworks/Python.framework/Versions/3.11/lib/python3.11/site-packages/circlify.py:584\u001b[0m, in \u001b[0;36m_circlify_level\u001b[0;34m(data, target_enclosure, fields, level)\u001b[0m\n\u001b[1;32m    582\u001b[0m circle\u001b[38;5;241m.\u001b[39mcircle \u001b[38;5;241m=\u001b[39m scale(inner_circle, target_enclosure, enclosure)\n\u001b[1;32m    583\u001b[0m \u001b[38;5;28;01mif\u001b[39;00m circle\u001b[38;5;241m.\u001b[39mex \u001b[38;5;129;01mand\u001b[39;00m fields\u001b[38;5;241m.\u001b[39mchildren \u001b[38;5;129;01min\u001b[39;00m circle\u001b[38;5;241m.\u001b[39mex:\n\u001b[0;32m--> 584\u001b[0m     all_circles \u001b[38;5;241m+\u001b[39m\u001b[38;5;241m=\u001b[39m \u001b[43m_circlify_level\u001b[49m\u001b[43m(\u001b[49m\n\u001b[1;32m    585\u001b[0m \u001b[43m        \u001b[49m\u001b[43mcircle\u001b[49m\u001b[38;5;241;43m.\u001b[39;49m\u001b[43mex\u001b[49m\u001b[43m[\u001b[49m\u001b[43mfields\u001b[49m\u001b[38;5;241;43m.\u001b[39;49m\u001b[43mchildren\u001b[49m\u001b[43m]\u001b[49m\u001b[43m,\u001b[49m\u001b[43m \u001b[49m\u001b[43mcircle\u001b[49m\u001b[38;5;241;43m.\u001b[39;49m\u001b[43mcircle\u001b[49m\u001b[43m,\u001b[49m\u001b[43m \u001b[49m\u001b[43mfields\u001b[49m\u001b[43m,\u001b[49m\u001b[43m \u001b[49m\u001b[43mlevel\u001b[49m\u001b[43m \u001b[49m\u001b[38;5;241;43m+\u001b[39;49m\u001b[43m \u001b[49m\u001b[38;5;241;43m1\u001b[39;49m\n\u001b[1;32m    586\u001b[0m \u001b[43m    \u001b[49m\u001b[43m)\u001b[49m\n\u001b[1;32m    587\u001b[0m \u001b[38;5;28;01melif\u001b[39;00m __debug__:\n\u001b[1;32m    588\u001b[0m     \u001b[38;5;28;01mfor\u001b[39;00m key \u001b[38;5;129;01min\u001b[39;00m circle\u001b[38;5;241m.\u001b[39mex:\n",
            "File \u001b[0;32m/Library/Frameworks/Python.framework/Versions/3.11/lib/python3.11/site-packages/circlify.py:576\u001b[0m, in \u001b[0;36m_circlify_level\u001b[0;34m(data, target_enclosure, fields, level)\u001b[0m\n\u001b[1;32m    574\u001b[0m \u001b[38;5;28;01mif\u001b[39;00m \u001b[38;5;129;01mnot\u001b[39;00m data:\n\u001b[1;32m    575\u001b[0m     \u001b[38;5;28;01mreturn\u001b[39;00m all_circles\n\u001b[0;32m--> 576\u001b[0m circles \u001b[38;5;241m=\u001b[39m \u001b[43m_handle\u001b[49m\u001b[43m(\u001b[49m\u001b[43mdata\u001b[49m\u001b[43m,\u001b[49m\u001b[43m \u001b[49m\u001b[38;5;241;43m1\u001b[39;49m\u001b[43m,\u001b[49m\u001b[43m \u001b[49m\u001b[43mfields\u001b[49m\u001b[43m)\u001b[49m\n\u001b[1;32m    577\u001b[0m packed \u001b[38;5;241m=\u001b[39m pack_A1_0([circle\u001b[38;5;241m.\u001b[39mr \u001b[38;5;28;01mfor\u001b[39;00m circle \u001b[38;5;129;01min\u001b[39;00m circles])\n\u001b[1;32m    578\u001b[0m enclosure \u001b[38;5;241m=\u001b[39m enclose(packed)\n",
            "File \u001b[0;32m/Library/Frameworks/Python.framework/Versions/3.11/lib/python3.11/site-packages/circlify.py:541\u001b[0m, in \u001b[0;36m_handle\u001b[0;34m(data, level, fields)\u001b[0m\n\u001b[1;32m    539\u001b[0m \u001b[38;5;28;01mif\u001b[39;00m \u001b[38;5;28misinstance\u001b[39m(datum, \u001b[38;5;28mdict\u001b[39m):\n\u001b[1;32m    540\u001b[0m     value \u001b[38;5;241m=\u001b[39m datum[datum_field]\n\u001b[0;32m--> 541\u001b[0m     elements\u001b[38;5;241m.\u001b[39mappend(Circle(r\u001b[38;5;241m=\u001b[39m\u001b[43mvalue\u001b[49m\u001b[43m \u001b[49m\u001b[38;5;241;43m+\u001b[39;49m\u001b[43m \u001b[49m\u001b[38;5;241;43m0\u001b[39;49m, level\u001b[38;5;241m=\u001b[39mlevel, ex\u001b[38;5;241m=\u001b[39mdatum))\n\u001b[1;32m    542\u001b[0m     \u001b[38;5;28;01mcontinue\u001b[39;00m\n\u001b[1;32m    543\u001b[0m \u001b[38;5;28;01mif\u001b[39;00m datum \u001b[38;5;241m<\u001b[39m\u001b[38;5;241m=\u001b[39m \u001b[38;5;241m0.0\u001b[39m:\n",
            "\u001b[0;31mTypeError\u001b[0m: unsupported operand type(s) for +: 'dict' and 'int'"
          ]
        }
      ],
      "source": [
        "\n",
        "\n",
        "# create just a figure and only one subplot\n",
        "fig, ax = plt.subplots(figsize=(14, 14))\n",
        "\n",
        "# title\n",
        "ax.set_title('Repartition of the world population')\n",
        "\n",
        "# remove axes\n",
        "ax.axis('off')\n",
        "\n",
        "# find axis boundaries\n",
        "lim = max(\n",
        "    max(\n",
        "        circle['x'] + circle['r'],\n",
        "        circle['y'] + circle['r'],\n",
        "    )\n",
        "    for circle in circles\n",
        ")\n",
        "plt.xlim(-lim, lim)\n",
        "plt.ylim(-lim, lim)\n",
        "\n",
        "# print circle the highest level (continents):\n",
        "for circle in circles:\n",
        "    if circle['level'] != 2:\n",
        "        continue\n",
        "    x, y, r = circle['x'], circle['y'], circle['r']\n",
        "    ax.add_patch(plt.Circle((x, y), r, alpha=0.5,\n",
        "                 linewidth=2, color=\"lightblue\"))\n",
        "\n",
        "# print circle and labels for the highest level:\n",
        "for circle in circles:\n",
        "    if circle['level'] != 3:\n",
        "        continue\n",
        "    x, y, r = circle['x'], circle['y'], circle['r']\n",
        "    label = circle['ex'][\"id\"]\n",
        "    ax.add_patch(plt.Circle((x, y), r, alpha=0.5,\n",
        "                 linewidth=2, color=\"#69b3a2\"))\n",
        "    plt.annotate(label, (x, y), ha='center', color=\"white\")\n",
        "\n",
        "# print labels for the continents\n",
        "for circle in circles:\n",
        "    if circle['level'] != 2:\n",
        "        continue\n",
        "    x, y, _ = circle['x'], circle['y'], circle['r']\n",
        "    label = circle['ex'][\"id\"]\n",
        "    plt.annotate(label, (x, y), va='center', ha='center', bbox=dict(\n",
        "        facecolor='white', edgecolor='black', boxstyle='round', pad=.5))"
      ]
    },
    {
      "cell_type": "markdown",
      "metadata": {},
      "source": [
        "Colors:\n",
        "\n",
        "Europe: #140D4F\n",
        "Africa: #598B2C\n",
        "\n",
        "#11270B\n",
        "#42CAFD\n",
        "#FFA400\n",
        "#F5EDF0\n",
        "#1C0B19\n",
        "#66B3BA\n",
        "#92140C"
      ]
    },
    {
      "cell_type": "code",
      "execution_count": 526,
      "metadata": {
        "vscode": {
          "languageId": "python"
        }
      },
      "outputs": [],
      "source": [
        "colors = ['#11270B', '#42CAFD', '#FFA400', '#F5EDF0', '#1C0B19', '#66B3BA', '#92140C']\n",
        "\n",
        "data_dict = {\n",
        "    'Area': another_df['Area'].tolist(),\n",
        "    'AVG_PercentFemale': another_df['AVG_PercentFemale'].tolist(),\n",
        "    'AVG_PercentMale': another_df['AVG_PercentMale'].tolist(),\n",
        "    'color': colors[:len(another_df)]  # Selecting colors based on the length of the DataFrame\n",
        "}"
      ]
    },
    {
      "cell_type": "code",
      "execution_count": 527,
      "metadata": {
        "vscode": {
          "languageId": "python"
        }
      },
      "outputs": [
        {
          "ename": "IndexError",
          "evalue": "list index out of range",
          "output_type": "error",
          "traceback": [
            "\u001b[0;31m---------------------------------------------------------------------------\u001b[0m",
            "\u001b[0;31mIndexError\u001b[0m                                Traceback (most recent call last)",
            "Cell \u001b[0;32mIn[527], line 150\u001b[0m\n\u001b[1;32m    147\u001b[0m bubble_chart\u001b[38;5;241m.\u001b[39mcollapse()\n\u001b[1;32m    149\u001b[0m fig, ax \u001b[38;5;241m=\u001b[39m plt\u001b[38;5;241m.\u001b[39msubplots(subplot_kw\u001b[38;5;241m=\u001b[39m\u001b[38;5;28mdict\u001b[39m(aspect\u001b[38;5;241m=\u001b[39m\u001b[38;5;124m\"\u001b[39m\u001b[38;5;124mequal\u001b[39m\u001b[38;5;124m\"\u001b[39m))\n\u001b[0;32m--> 150\u001b[0m \u001b[43mbubble_chart\u001b[49m\u001b[38;5;241;43m.\u001b[39;49m\u001b[43mplot\u001b[49m\u001b[43m(\u001b[49m\u001b[43max\u001b[49m\u001b[43m,\u001b[49m\u001b[43m \u001b[49m\u001b[43mdata_dict\u001b[49m\u001b[43m[\u001b[49m\u001b[38;5;124;43m'\u001b[39;49m\u001b[38;5;124;43mArea\u001b[39;49m\u001b[38;5;124;43m'\u001b[39;49m\u001b[43m]\u001b[49m\u001b[43m,\u001b[49m\u001b[43m \u001b[49m\u001b[43mcolors\u001b[49m\u001b[43m)\u001b[49m\n\u001b[1;32m    151\u001b[0m ax\u001b[38;5;241m.\u001b[39maxis(\u001b[38;5;124m\"\u001b[39m\u001b[38;5;124moff\u001b[39m\u001b[38;5;124m\"\u001b[39m)\n\u001b[1;32m    152\u001b[0m ax\u001b[38;5;241m.\u001b[39mrelim()\n",
            "Cell \u001b[0;32mIn[527], line 138\u001b[0m, in \u001b[0;36mBubbleChart.plot\u001b[0;34m(self, ax, labels, colors)\u001b[0m\n\u001b[1;32m    125\u001b[0m \u001b[38;5;250m\u001b[39m\u001b[38;5;124;03m\"\"\"\u001b[39;00m\n\u001b[1;32m    126\u001b[0m \u001b[38;5;124;03mDraw the bubble plot.\u001b[39;00m\n\u001b[1;32m    127\u001b[0m \n\u001b[0;32m   (...)\u001b[0m\n\u001b[1;32m    134\u001b[0m \u001b[38;5;124;03m    Colors of the bubbles.\u001b[39;00m\n\u001b[1;32m    135\u001b[0m \u001b[38;5;124;03m\"\"\"\u001b[39;00m\n\u001b[1;32m    136\u001b[0m \u001b[38;5;28;01mfor\u001b[39;00m i \u001b[38;5;129;01min\u001b[39;00m \u001b[38;5;28mrange\u001b[39m(\u001b[38;5;28mlen\u001b[39m(\u001b[38;5;28mself\u001b[39m\u001b[38;5;241m.\u001b[39mbubbles)):\n\u001b[1;32m    137\u001b[0m     circ \u001b[38;5;241m=\u001b[39m plt\u001b[38;5;241m.\u001b[39mCircle(\n\u001b[0;32m--> 138\u001b[0m         \u001b[38;5;28mself\u001b[39m\u001b[38;5;241m.\u001b[39mbubbles[i, :\u001b[38;5;241m2\u001b[39m], \u001b[38;5;28mself\u001b[39m\u001b[38;5;241m.\u001b[39mbubbles[i, \u001b[38;5;241m2\u001b[39m], color\u001b[38;5;241m=\u001b[39m\u001b[43mcolors\u001b[49m\u001b[43m[\u001b[49m\u001b[43mi\u001b[49m\u001b[43m]\u001b[49m)\n\u001b[1;32m    139\u001b[0m     ax\u001b[38;5;241m.\u001b[39madd_patch(circ)\n\u001b[1;32m    140\u001b[0m     ax\u001b[38;5;241m.\u001b[39mtext(\u001b[38;5;241m*\u001b[39m\u001b[38;5;28mself\u001b[39m\u001b[38;5;241m.\u001b[39mbubbles[i, :\u001b[38;5;241m2\u001b[39m], labels[i],\n\u001b[1;32m    141\u001b[0m             horizontalalignment\u001b[38;5;241m=\u001b[39m\u001b[38;5;124m'\u001b[39m\u001b[38;5;124mcenter\u001b[39m\u001b[38;5;124m'\u001b[39m, verticalalignment\u001b[38;5;241m=\u001b[39m\u001b[38;5;124m'\u001b[39m\u001b[38;5;124mcenter\u001b[39m\u001b[38;5;124m'\u001b[39m)\n",
            "\u001b[0;31mIndexError\u001b[0m: list index out of range"
          ]
        },
        {
          "name": "stdout",
          "output_type": "stream",
          "text": [
            "Error in callback <function flush_figures at 0x336e300e0> (for post_execute), with arguments args (),kwargs {}:\n"
          ]
        },
        {
          "ename": "KeyboardInterrupt",
          "evalue": "",
          "output_type": "error",
          "traceback": [
            "\u001b[0;31m---------------------------------------------------------------------------\u001b[0m",
            "\u001b[0;31mAttributeError\u001b[0m                            Traceback (most recent call last)",
            "File \u001b[0;32m/Library/Frameworks/Python.framework/Versions/3.11/lib/python3.11/site-packages/PIL/ImageFile.py:536\u001b[0m, in \u001b[0;36m_save\u001b[0;34m(im, fp, tile, bufsize)\u001b[0m\n\u001b[1;32m    535\u001b[0m \u001b[38;5;28;01mtry\u001b[39;00m:\n\u001b[0;32m--> 536\u001b[0m     fh \u001b[38;5;241m=\u001b[39m \u001b[43mfp\u001b[49m\u001b[38;5;241;43m.\u001b[39;49m\u001b[43mfileno\u001b[49m()\n\u001b[1;32m    537\u001b[0m     fp\u001b[38;5;241m.\u001b[39mflush()\n",
            "\u001b[0;31mAttributeError\u001b[0m: '_idat' object has no attribute 'fileno'",
            "\nDuring handling of the above exception, another exception occurred:\n",
            "\u001b[0;31mKeyboardInterrupt\u001b[0m                         Traceback (most recent call last)",
            "File \u001b[0;32m/Library/Frameworks/Python.framework/Versions/3.11/lib/python3.11/site-packages/matplotlib_inline/backend_inline.py:126\u001b[0m, in \u001b[0;36mflush_figures\u001b[0;34m()\u001b[0m\n\u001b[1;32m    123\u001b[0m \u001b[38;5;28;01mif\u001b[39;00m InlineBackend\u001b[38;5;241m.\u001b[39minstance()\u001b[38;5;241m.\u001b[39mclose_figures:\n\u001b[1;32m    124\u001b[0m     \u001b[38;5;66;03m# ignore the tracking, just draw and close all figures\u001b[39;00m\n\u001b[1;32m    125\u001b[0m     \u001b[38;5;28;01mtry\u001b[39;00m:\n\u001b[0;32m--> 126\u001b[0m         \u001b[38;5;28;01mreturn\u001b[39;00m \u001b[43mshow\u001b[49m\u001b[43m(\u001b[49m\u001b[38;5;28;43;01mTrue\u001b[39;49;00m\u001b[43m)\u001b[49m\n\u001b[1;32m    127\u001b[0m     \u001b[38;5;28;01mexcept\u001b[39;00m \u001b[38;5;167;01mException\u001b[39;00m \u001b[38;5;28;01mas\u001b[39;00m e:\n\u001b[1;32m    128\u001b[0m         \u001b[38;5;66;03m# safely show traceback if in IPython, else raise\u001b[39;00m\n\u001b[1;32m    129\u001b[0m         ip \u001b[38;5;241m=\u001b[39m get_ipython()\n",
            "File \u001b[0;32m/Library/Frameworks/Python.framework/Versions/3.11/lib/python3.11/site-packages/matplotlib_inline/backend_inline.py:90\u001b[0m, in \u001b[0;36mshow\u001b[0;34m(close, block)\u001b[0m\n\u001b[1;32m     88\u001b[0m \u001b[38;5;28;01mtry\u001b[39;00m:\n\u001b[1;32m     89\u001b[0m     \u001b[38;5;28;01mfor\u001b[39;00m figure_manager \u001b[38;5;129;01min\u001b[39;00m Gcf\u001b[38;5;241m.\u001b[39mget_all_fig_managers():\n\u001b[0;32m---> 90\u001b[0m         \u001b[43mdisplay\u001b[49m\u001b[43m(\u001b[49m\n\u001b[1;32m     91\u001b[0m \u001b[43m            \u001b[49m\u001b[43mfigure_manager\u001b[49m\u001b[38;5;241;43m.\u001b[39;49m\u001b[43mcanvas\u001b[49m\u001b[38;5;241;43m.\u001b[39;49m\u001b[43mfigure\u001b[49m\u001b[43m,\u001b[49m\n\u001b[1;32m     92\u001b[0m \u001b[43m            \u001b[49m\u001b[43mmetadata\u001b[49m\u001b[38;5;241;43m=\u001b[39;49m\u001b[43m_fetch_figure_metadata\u001b[49m\u001b[43m(\u001b[49m\u001b[43mfigure_manager\u001b[49m\u001b[38;5;241;43m.\u001b[39;49m\u001b[43mcanvas\u001b[49m\u001b[38;5;241;43m.\u001b[39;49m\u001b[43mfigure\u001b[49m\u001b[43m)\u001b[49m\n\u001b[1;32m     93\u001b[0m \u001b[43m        \u001b[49m\u001b[43m)\u001b[49m\n\u001b[1;32m     94\u001b[0m \u001b[38;5;28;01mfinally\u001b[39;00m:\n\u001b[1;32m     95\u001b[0m     show\u001b[38;5;241m.\u001b[39m_to_draw \u001b[38;5;241m=\u001b[39m []\n",
            "File \u001b[0;32m/Library/Frameworks/Python.framework/Versions/3.11/lib/python3.11/site-packages/IPython/core/display_functions.py:298\u001b[0m, in \u001b[0;36mdisplay\u001b[0;34m(include, exclude, metadata, transient, display_id, raw, clear, *objs, **kwargs)\u001b[0m\n\u001b[1;32m    296\u001b[0m     publish_display_data(data\u001b[38;5;241m=\u001b[39mobj, metadata\u001b[38;5;241m=\u001b[39mmetadata, \u001b[38;5;241m*\u001b[39m\u001b[38;5;241m*\u001b[39mkwargs)\n\u001b[1;32m    297\u001b[0m \u001b[38;5;28;01melse\u001b[39;00m:\n\u001b[0;32m--> 298\u001b[0m     format_dict, md_dict \u001b[38;5;241m=\u001b[39m \u001b[38;5;28;43mformat\u001b[39;49m\u001b[43m(\u001b[49m\u001b[43mobj\u001b[49m\u001b[43m,\u001b[49m\u001b[43m \u001b[49m\u001b[43minclude\u001b[49m\u001b[38;5;241;43m=\u001b[39;49m\u001b[43minclude\u001b[49m\u001b[43m,\u001b[49m\u001b[43m \u001b[49m\u001b[43mexclude\u001b[49m\u001b[38;5;241;43m=\u001b[39;49m\u001b[43mexclude\u001b[49m\u001b[43m)\u001b[49m\n\u001b[1;32m    299\u001b[0m     \u001b[38;5;28;01mif\u001b[39;00m \u001b[38;5;129;01mnot\u001b[39;00m format_dict:\n\u001b[1;32m    300\u001b[0m         \u001b[38;5;66;03m# nothing to display (e.g. _ipython_display_ took over)\u001b[39;00m\n\u001b[1;32m    301\u001b[0m         \u001b[38;5;28;01mcontinue\u001b[39;00m\n",
            "File \u001b[0;32m/Library/Frameworks/Python.framework/Versions/3.11/lib/python3.11/site-packages/IPython/core/formatters.py:182\u001b[0m, in \u001b[0;36mDisplayFormatter.format\u001b[0;34m(self, obj, include, exclude)\u001b[0m\n\u001b[1;32m    180\u001b[0m md \u001b[38;5;241m=\u001b[39m \u001b[38;5;28;01mNone\u001b[39;00m\n\u001b[1;32m    181\u001b[0m \u001b[38;5;28;01mtry\u001b[39;00m:\n\u001b[0;32m--> 182\u001b[0m     data \u001b[38;5;241m=\u001b[39m \u001b[43mformatter\u001b[49m\u001b[43m(\u001b[49m\u001b[43mobj\u001b[49m\u001b[43m)\u001b[49m\n\u001b[1;32m    183\u001b[0m \u001b[38;5;28;01mexcept\u001b[39;00m:\n\u001b[1;32m    184\u001b[0m     \u001b[38;5;66;03m# FIXME: log the exception\u001b[39;00m\n\u001b[1;32m    185\u001b[0m     \u001b[38;5;28;01mraise\u001b[39;00m\n",
            "File \u001b[0;32m/Library/Frameworks/Python.framework/Versions/3.11/lib/python3.11/site-packages/decorator.py:232\u001b[0m, in \u001b[0;36mdecorate.<locals>.fun\u001b[0;34m(*args, **kw)\u001b[0m\n\u001b[1;32m    230\u001b[0m \u001b[38;5;28;01mif\u001b[39;00m \u001b[38;5;129;01mnot\u001b[39;00m kwsyntax:\n\u001b[1;32m    231\u001b[0m     args, kw \u001b[38;5;241m=\u001b[39m fix(args, kw, sig)\n\u001b[0;32m--> 232\u001b[0m \u001b[38;5;28;01mreturn\u001b[39;00m \u001b[43mcaller\u001b[49m\u001b[43m(\u001b[49m\u001b[43mfunc\u001b[49m\u001b[43m,\u001b[49m\u001b[43m \u001b[49m\u001b[38;5;241;43m*\u001b[39;49m\u001b[43m(\u001b[49m\u001b[43mextras\u001b[49m\u001b[43m \u001b[49m\u001b[38;5;241;43m+\u001b[39;49m\u001b[43m \u001b[49m\u001b[43margs\u001b[49m\u001b[43m)\u001b[49m\u001b[43m,\u001b[49m\u001b[43m \u001b[49m\u001b[38;5;241;43m*\u001b[39;49m\u001b[38;5;241;43m*\u001b[39;49m\u001b[43mkw\u001b[49m\u001b[43m)\u001b[49m\n",
            "File \u001b[0;32m/Library/Frameworks/Python.framework/Versions/3.11/lib/python3.11/site-packages/IPython/core/formatters.py:226\u001b[0m, in \u001b[0;36mcatch_format_error\u001b[0;34m(method, self, *args, **kwargs)\u001b[0m\n\u001b[1;32m    224\u001b[0m \u001b[38;5;250m\u001b[39m\u001b[38;5;124;03m\"\"\"show traceback on failed format call\"\"\"\u001b[39;00m\n\u001b[1;32m    225\u001b[0m \u001b[38;5;28;01mtry\u001b[39;00m:\n\u001b[0;32m--> 226\u001b[0m     r \u001b[38;5;241m=\u001b[39m \u001b[43mmethod\u001b[49m\u001b[43m(\u001b[49m\u001b[38;5;28;43mself\u001b[39;49m\u001b[43m,\u001b[49m\u001b[43m \u001b[49m\u001b[38;5;241;43m*\u001b[39;49m\u001b[43margs\u001b[49m\u001b[43m,\u001b[49m\u001b[43m \u001b[49m\u001b[38;5;241;43m*\u001b[39;49m\u001b[38;5;241;43m*\u001b[39;49m\u001b[43mkwargs\u001b[49m\u001b[43m)\u001b[49m\n\u001b[1;32m    227\u001b[0m \u001b[38;5;28;01mexcept\u001b[39;00m \u001b[38;5;167;01mNotImplementedError\u001b[39;00m:\n\u001b[1;32m    228\u001b[0m     \u001b[38;5;66;03m# don't warn on NotImplementedErrors\u001b[39;00m\n\u001b[1;32m    229\u001b[0m     \u001b[38;5;28;01mreturn\u001b[39;00m \u001b[38;5;28mself\u001b[39m\u001b[38;5;241m.\u001b[39m_check_return(\u001b[38;5;28;01mNone\u001b[39;00m, args[\u001b[38;5;241m0\u001b[39m])\n",
            "File \u001b[0;32m/Library/Frameworks/Python.framework/Versions/3.11/lib/python3.11/site-packages/IPython/core/formatters.py:343\u001b[0m, in \u001b[0;36mBaseFormatter.__call__\u001b[0;34m(self, obj)\u001b[0m\n\u001b[1;32m    341\u001b[0m     \u001b[38;5;28;01mpass\u001b[39;00m\n\u001b[1;32m    342\u001b[0m \u001b[38;5;28;01melse\u001b[39;00m:\n\u001b[0;32m--> 343\u001b[0m     \u001b[38;5;28;01mreturn\u001b[39;00m \u001b[43mprinter\u001b[49m\u001b[43m(\u001b[49m\u001b[43mobj\u001b[49m\u001b[43m)\u001b[49m\n\u001b[1;32m    344\u001b[0m \u001b[38;5;66;03m# Finally look for special method names\u001b[39;00m\n\u001b[1;32m    345\u001b[0m method \u001b[38;5;241m=\u001b[39m get_real_method(obj, \u001b[38;5;28mself\u001b[39m\u001b[38;5;241m.\u001b[39mprint_method)\n",
            "File \u001b[0;32m/Library/Frameworks/Python.framework/Versions/3.11/lib/python3.11/site-packages/IPython/core/pylabtools.py:152\u001b[0m, in \u001b[0;36mprint_figure\u001b[0;34m(fig, fmt, bbox_inches, base64, **kwargs)\u001b[0m\n\u001b[1;32m    149\u001b[0m     \u001b[38;5;28;01mfrom\u001b[39;00m \u001b[38;5;21;01mmatplotlib\u001b[39;00m\u001b[38;5;21;01m.\u001b[39;00m\u001b[38;5;21;01mbackend_bases\u001b[39;00m \u001b[38;5;28;01mimport\u001b[39;00m FigureCanvasBase\n\u001b[1;32m    150\u001b[0m     FigureCanvasBase(fig)\n\u001b[0;32m--> 152\u001b[0m \u001b[43mfig\u001b[49m\u001b[38;5;241;43m.\u001b[39;49m\u001b[43mcanvas\u001b[49m\u001b[38;5;241;43m.\u001b[39;49m\u001b[43mprint_figure\u001b[49m\u001b[43m(\u001b[49m\u001b[43mbytes_io\u001b[49m\u001b[43m,\u001b[49m\u001b[43m \u001b[49m\u001b[38;5;241;43m*\u001b[39;49m\u001b[38;5;241;43m*\u001b[39;49m\u001b[43mkw\u001b[49m\u001b[43m)\u001b[49m\n\u001b[1;32m    153\u001b[0m data \u001b[38;5;241m=\u001b[39m bytes_io\u001b[38;5;241m.\u001b[39mgetvalue()\n\u001b[1;32m    154\u001b[0m \u001b[38;5;28;01mif\u001b[39;00m fmt \u001b[38;5;241m==\u001b[39m \u001b[38;5;124m'\u001b[39m\u001b[38;5;124msvg\u001b[39m\u001b[38;5;124m'\u001b[39m:\n",
            "File \u001b[0;32m/Library/Frameworks/Python.framework/Versions/3.11/lib/python3.11/site-packages/matplotlib/backend_bases.py:2193\u001b[0m, in \u001b[0;36mFigureCanvasBase.print_figure\u001b[0;34m(self, filename, dpi, facecolor, edgecolor, orientation, format, bbox_inches, pad_inches, bbox_extra_artists, backend, **kwargs)\u001b[0m\n\u001b[1;32m   2189\u001b[0m \u001b[38;5;28;01mtry\u001b[39;00m:\n\u001b[1;32m   2190\u001b[0m     \u001b[38;5;66;03m# _get_renderer may change the figure dpi (as vector formats\u001b[39;00m\n\u001b[1;32m   2191\u001b[0m     \u001b[38;5;66;03m# force the figure dpi to 72), so we need to set it again here.\u001b[39;00m\n\u001b[1;32m   2192\u001b[0m     \u001b[38;5;28;01mwith\u001b[39;00m cbook\u001b[38;5;241m.\u001b[39m_setattr_cm(\u001b[38;5;28mself\u001b[39m\u001b[38;5;241m.\u001b[39mfigure, dpi\u001b[38;5;241m=\u001b[39mdpi):\n\u001b[0;32m-> 2193\u001b[0m         result \u001b[38;5;241m=\u001b[39m \u001b[43mprint_method\u001b[49m\u001b[43m(\u001b[49m\n\u001b[1;32m   2194\u001b[0m \u001b[43m            \u001b[49m\u001b[43mfilename\u001b[49m\u001b[43m,\u001b[49m\n\u001b[1;32m   2195\u001b[0m \u001b[43m            \u001b[49m\u001b[43mfacecolor\u001b[49m\u001b[38;5;241;43m=\u001b[39;49m\u001b[43mfacecolor\u001b[49m\u001b[43m,\u001b[49m\n\u001b[1;32m   2196\u001b[0m \u001b[43m            \u001b[49m\u001b[43medgecolor\u001b[49m\u001b[38;5;241;43m=\u001b[39;49m\u001b[43medgecolor\u001b[49m\u001b[43m,\u001b[49m\n\u001b[1;32m   2197\u001b[0m \u001b[43m            \u001b[49m\u001b[43morientation\u001b[49m\u001b[38;5;241;43m=\u001b[39;49m\u001b[43morientation\u001b[49m\u001b[43m,\u001b[49m\n\u001b[1;32m   2198\u001b[0m \u001b[43m            \u001b[49m\u001b[43mbbox_inches_restore\u001b[49m\u001b[38;5;241;43m=\u001b[39;49m\u001b[43m_bbox_inches_restore\u001b[49m\u001b[43m,\u001b[49m\n\u001b[1;32m   2199\u001b[0m \u001b[43m            \u001b[49m\u001b[38;5;241;43m*\u001b[39;49m\u001b[38;5;241;43m*\u001b[39;49m\u001b[43mkwargs\u001b[49m\u001b[43m)\u001b[49m\n\u001b[1;32m   2200\u001b[0m \u001b[38;5;28;01mfinally\u001b[39;00m:\n\u001b[1;32m   2201\u001b[0m     \u001b[38;5;28;01mif\u001b[39;00m bbox_inches \u001b[38;5;129;01mand\u001b[39;00m restore_bbox:\n",
            "File \u001b[0;32m/Library/Frameworks/Python.framework/Versions/3.11/lib/python3.11/site-packages/matplotlib/backend_bases.py:2043\u001b[0m, in \u001b[0;36mFigureCanvasBase._switch_canvas_and_return_print_method.<locals>.<lambda>\u001b[0;34m(*args, **kwargs)\u001b[0m\n\u001b[1;32m   2039\u001b[0m     optional_kws \u001b[38;5;241m=\u001b[39m {  \u001b[38;5;66;03m# Passed by print_figure for other renderers.\u001b[39;00m\n\u001b[1;32m   2040\u001b[0m         \u001b[38;5;124m\"\u001b[39m\u001b[38;5;124mdpi\u001b[39m\u001b[38;5;124m\"\u001b[39m, \u001b[38;5;124m\"\u001b[39m\u001b[38;5;124mfacecolor\u001b[39m\u001b[38;5;124m\"\u001b[39m, \u001b[38;5;124m\"\u001b[39m\u001b[38;5;124medgecolor\u001b[39m\u001b[38;5;124m\"\u001b[39m, \u001b[38;5;124m\"\u001b[39m\u001b[38;5;124morientation\u001b[39m\u001b[38;5;124m\"\u001b[39m,\n\u001b[1;32m   2041\u001b[0m         \u001b[38;5;124m\"\u001b[39m\u001b[38;5;124mbbox_inches_restore\u001b[39m\u001b[38;5;124m\"\u001b[39m}\n\u001b[1;32m   2042\u001b[0m     skip \u001b[38;5;241m=\u001b[39m optional_kws \u001b[38;5;241m-\u001b[39m {\u001b[38;5;241m*\u001b[39minspect\u001b[38;5;241m.\u001b[39msignature(meth)\u001b[38;5;241m.\u001b[39mparameters}\n\u001b[0;32m-> 2043\u001b[0m     print_method \u001b[38;5;241m=\u001b[39m functools\u001b[38;5;241m.\u001b[39mwraps(meth)(\u001b[38;5;28;01mlambda\u001b[39;00m \u001b[38;5;241m*\u001b[39margs, \u001b[38;5;241m*\u001b[39m\u001b[38;5;241m*\u001b[39mkwargs: \u001b[43mmeth\u001b[49m\u001b[43m(\u001b[49m\n\u001b[1;32m   2044\u001b[0m \u001b[43m        \u001b[49m\u001b[38;5;241;43m*\u001b[39;49m\u001b[43margs\u001b[49m\u001b[43m,\u001b[49m\u001b[43m \u001b[49m\u001b[38;5;241;43m*\u001b[39;49m\u001b[38;5;241;43m*\u001b[39;49m\u001b[43m{\u001b[49m\u001b[43mk\u001b[49m\u001b[43m:\u001b[49m\u001b[43m \u001b[49m\u001b[43mv\u001b[49m\u001b[43m \u001b[49m\u001b[38;5;28;43;01mfor\u001b[39;49;00m\u001b[43m \u001b[49m\u001b[43mk\u001b[49m\u001b[43m,\u001b[49m\u001b[43m \u001b[49m\u001b[43mv\u001b[49m\u001b[43m \u001b[49m\u001b[38;5;129;43;01min\u001b[39;49;00m\u001b[43m \u001b[49m\u001b[43mkwargs\u001b[49m\u001b[38;5;241;43m.\u001b[39;49m\u001b[43mitems\u001b[49m\u001b[43m(\u001b[49m\u001b[43m)\u001b[49m\u001b[43m \u001b[49m\u001b[38;5;28;43;01mif\u001b[39;49;00m\u001b[43m \u001b[49m\u001b[43mk\u001b[49m\u001b[43m \u001b[49m\u001b[38;5;129;43;01mnot\u001b[39;49;00m\u001b[43m \u001b[49m\u001b[38;5;129;43;01min\u001b[39;49;00m\u001b[43m \u001b[49m\u001b[43mskip\u001b[49m\u001b[43m}\u001b[49m\u001b[43m)\u001b[49m)\n\u001b[1;32m   2045\u001b[0m \u001b[38;5;28;01melse\u001b[39;00m:  \u001b[38;5;66;03m# Let third-parties do as they see fit.\u001b[39;00m\n\u001b[1;32m   2046\u001b[0m     print_method \u001b[38;5;241m=\u001b[39m meth\n",
            "File \u001b[0;32m/Library/Frameworks/Python.framework/Versions/3.11/lib/python3.11/site-packages/matplotlib/backends/backend_agg.py:497\u001b[0m, in \u001b[0;36mFigureCanvasAgg.print_png\u001b[0;34m(self, filename_or_obj, metadata, pil_kwargs)\u001b[0m\n\u001b[1;32m    450\u001b[0m \u001b[38;5;28;01mdef\u001b[39;00m \u001b[38;5;21mprint_png\u001b[39m(\u001b[38;5;28mself\u001b[39m, filename_or_obj, \u001b[38;5;241m*\u001b[39m, metadata\u001b[38;5;241m=\u001b[39m\u001b[38;5;28;01mNone\u001b[39;00m, pil_kwargs\u001b[38;5;241m=\u001b[39m\u001b[38;5;28;01mNone\u001b[39;00m):\n\u001b[1;32m    451\u001b[0m \u001b[38;5;250m    \u001b[39m\u001b[38;5;124;03m\"\"\"\u001b[39;00m\n\u001b[1;32m    452\u001b[0m \u001b[38;5;124;03m    Write the figure to a PNG file.\u001b[39;00m\n\u001b[1;32m    453\u001b[0m \n\u001b[0;32m   (...)\u001b[0m\n\u001b[1;32m    495\u001b[0m \u001b[38;5;124;03m        *metadata*, including the default 'Software' key.\u001b[39;00m\n\u001b[1;32m    496\u001b[0m \u001b[38;5;124;03m    \"\"\"\u001b[39;00m\n\u001b[0;32m--> 497\u001b[0m     \u001b[38;5;28;43mself\u001b[39;49m\u001b[38;5;241;43m.\u001b[39;49m\u001b[43m_print_pil\u001b[49m\u001b[43m(\u001b[49m\u001b[43mfilename_or_obj\u001b[49m\u001b[43m,\u001b[49m\u001b[43m \u001b[49m\u001b[38;5;124;43m\"\u001b[39;49m\u001b[38;5;124;43mpng\u001b[39;49m\u001b[38;5;124;43m\"\u001b[39;49m\u001b[43m,\u001b[49m\u001b[43m \u001b[49m\u001b[43mpil_kwargs\u001b[49m\u001b[43m,\u001b[49m\u001b[43m \u001b[49m\u001b[43mmetadata\u001b[49m\u001b[43m)\u001b[49m\n",
            "File \u001b[0;32m/Library/Frameworks/Python.framework/Versions/3.11/lib/python3.11/site-packages/matplotlib/backends/backend_agg.py:446\u001b[0m, in \u001b[0;36mFigureCanvasAgg._print_pil\u001b[0;34m(self, filename_or_obj, fmt, pil_kwargs, metadata)\u001b[0m\n\u001b[1;32m    441\u001b[0m \u001b[38;5;250m\u001b[39m\u001b[38;5;124;03m\"\"\"\u001b[39;00m\n\u001b[1;32m    442\u001b[0m \u001b[38;5;124;03mDraw the canvas, then save it using `.image.imsave` (to which\u001b[39;00m\n\u001b[1;32m    443\u001b[0m \u001b[38;5;124;03m*pil_kwargs* and *metadata* are forwarded).\u001b[39;00m\n\u001b[1;32m    444\u001b[0m \u001b[38;5;124;03m\"\"\"\u001b[39;00m\n\u001b[1;32m    445\u001b[0m FigureCanvasAgg\u001b[38;5;241m.\u001b[39mdraw(\u001b[38;5;28mself\u001b[39m)\n\u001b[0;32m--> 446\u001b[0m \u001b[43mmpl\u001b[49m\u001b[38;5;241;43m.\u001b[39;49m\u001b[43mimage\u001b[49m\u001b[38;5;241;43m.\u001b[39;49m\u001b[43mimsave\u001b[49m\u001b[43m(\u001b[49m\n\u001b[1;32m    447\u001b[0m \u001b[43m    \u001b[49m\u001b[43mfilename_or_obj\u001b[49m\u001b[43m,\u001b[49m\u001b[43m \u001b[49m\u001b[38;5;28;43mself\u001b[39;49m\u001b[38;5;241;43m.\u001b[39;49m\u001b[43mbuffer_rgba\u001b[49m\u001b[43m(\u001b[49m\u001b[43m)\u001b[49m\u001b[43m,\u001b[49m\u001b[43m \u001b[49m\u001b[38;5;28;43mformat\u001b[39;49m\u001b[38;5;241;43m=\u001b[39;49m\u001b[43mfmt\u001b[49m\u001b[43m,\u001b[49m\u001b[43m \u001b[49m\u001b[43morigin\u001b[49m\u001b[38;5;241;43m=\u001b[39;49m\u001b[38;5;124;43m\"\u001b[39;49m\u001b[38;5;124;43mupper\u001b[39;49m\u001b[38;5;124;43m\"\u001b[39;49m\u001b[43m,\u001b[49m\n\u001b[1;32m    448\u001b[0m \u001b[43m    \u001b[49m\u001b[43mdpi\u001b[49m\u001b[38;5;241;43m=\u001b[39;49m\u001b[38;5;28;43mself\u001b[39;49m\u001b[38;5;241;43m.\u001b[39;49m\u001b[43mfigure\u001b[49m\u001b[38;5;241;43m.\u001b[39;49m\u001b[43mdpi\u001b[49m\u001b[43m,\u001b[49m\u001b[43m \u001b[49m\u001b[43mmetadata\u001b[49m\u001b[38;5;241;43m=\u001b[39;49m\u001b[43mmetadata\u001b[49m\u001b[43m,\u001b[49m\u001b[43m \u001b[49m\u001b[43mpil_kwargs\u001b[49m\u001b[38;5;241;43m=\u001b[39;49m\u001b[43mpil_kwargs\u001b[49m\u001b[43m)\u001b[49m\n",
            "File \u001b[0;32m/Library/Frameworks/Python.framework/Versions/3.11/lib/python3.11/site-packages/matplotlib/image.py:1656\u001b[0m, in \u001b[0;36mimsave\u001b[0;34m(fname, arr, vmin, vmax, cmap, format, origin, dpi, metadata, pil_kwargs)\u001b[0m\n\u001b[1;32m   1654\u001b[0m pil_kwargs\u001b[38;5;241m.\u001b[39msetdefault(\u001b[38;5;124m\"\u001b[39m\u001b[38;5;124mformat\u001b[39m\u001b[38;5;124m\"\u001b[39m, \u001b[38;5;28mformat\u001b[39m)\n\u001b[1;32m   1655\u001b[0m pil_kwargs\u001b[38;5;241m.\u001b[39msetdefault(\u001b[38;5;124m\"\u001b[39m\u001b[38;5;124mdpi\u001b[39m\u001b[38;5;124m\"\u001b[39m, (dpi, dpi))\n\u001b[0;32m-> 1656\u001b[0m \u001b[43mimage\u001b[49m\u001b[38;5;241;43m.\u001b[39;49m\u001b[43msave\u001b[49m\u001b[43m(\u001b[49m\u001b[43mfname\u001b[49m\u001b[43m,\u001b[49m\u001b[43m \u001b[49m\u001b[38;5;241;43m*\u001b[39;49m\u001b[38;5;241;43m*\u001b[39;49m\u001b[43mpil_kwargs\u001b[49m\u001b[43m)\u001b[49m\n",
            "File \u001b[0;32m/Library/Frameworks/Python.framework/Versions/3.11/lib/python3.11/site-packages/PIL/Image.py:2439\u001b[0m, in \u001b[0;36mImage.save\u001b[0;34m(self, fp, format, **params)\u001b[0m\n\u001b[1;32m   2436\u001b[0m         fp \u001b[38;5;241m=\u001b[39m builtins\u001b[38;5;241m.\u001b[39mopen(filename, \u001b[38;5;124m\"\u001b[39m\u001b[38;5;124mw+b\u001b[39m\u001b[38;5;124m\"\u001b[39m)\n\u001b[1;32m   2438\u001b[0m \u001b[38;5;28;01mtry\u001b[39;00m:\n\u001b[0;32m-> 2439\u001b[0m     \u001b[43msave_handler\u001b[49m\u001b[43m(\u001b[49m\u001b[38;5;28;43mself\u001b[39;49m\u001b[43m,\u001b[49m\u001b[43m \u001b[49m\u001b[43mfp\u001b[49m\u001b[43m,\u001b[49m\u001b[43m \u001b[49m\u001b[43mfilename\u001b[49m\u001b[43m)\u001b[49m\n\u001b[1;32m   2440\u001b[0m \u001b[38;5;28;01mexcept\u001b[39;00m \u001b[38;5;167;01mException\u001b[39;00m:\n\u001b[1;32m   2441\u001b[0m     \u001b[38;5;28;01mif\u001b[39;00m open_fp:\n",
            "File \u001b[0;32m/Library/Frameworks/Python.framework/Versions/3.11/lib/python3.11/site-packages/PIL/PngImagePlugin.py:1402\u001b[0m, in \u001b[0;36m_save\u001b[0;34m(im, fp, filename, chunk, save_all)\u001b[0m\n\u001b[1;32m   1398\u001b[0m     im \u001b[38;5;241m=\u001b[39m _write_multiple_frames(\n\u001b[1;32m   1399\u001b[0m         im, fp, chunk, rawmode, default_image, append_images\n\u001b[1;32m   1400\u001b[0m     )\n\u001b[1;32m   1401\u001b[0m \u001b[38;5;28;01mif\u001b[39;00m im:\n\u001b[0;32m-> 1402\u001b[0m     \u001b[43mImageFile\u001b[49m\u001b[38;5;241;43m.\u001b[39;49m\u001b[43m_save\u001b[49m\u001b[43m(\u001b[49m\u001b[43mim\u001b[49m\u001b[43m,\u001b[49m\u001b[43m \u001b[49m\u001b[43m_idat\u001b[49m\u001b[43m(\u001b[49m\u001b[43mfp\u001b[49m\u001b[43m,\u001b[49m\u001b[43m \u001b[49m\u001b[43mchunk\u001b[49m\u001b[43m)\u001b[49m\u001b[43m,\u001b[49m\u001b[43m \u001b[49m\u001b[43m[\u001b[49m\u001b[43m(\u001b[49m\u001b[38;5;124;43m\"\u001b[39;49m\u001b[38;5;124;43mzip\u001b[39;49m\u001b[38;5;124;43m\"\u001b[39;49m\u001b[43m,\u001b[49m\u001b[43m \u001b[49m\u001b[43m(\u001b[49m\u001b[38;5;241;43m0\u001b[39;49m\u001b[43m,\u001b[49m\u001b[43m \u001b[49m\u001b[38;5;241;43m0\u001b[39;49m\u001b[43m)\u001b[49m\u001b[43m \u001b[49m\u001b[38;5;241;43m+\u001b[39;49m\u001b[43m \u001b[49m\u001b[43mim\u001b[49m\u001b[38;5;241;43m.\u001b[39;49m\u001b[43msize\u001b[49m\u001b[43m,\u001b[49m\u001b[43m \u001b[49m\u001b[38;5;241;43m0\u001b[39;49m\u001b[43m,\u001b[49m\u001b[43m \u001b[49m\u001b[43mrawmode\u001b[49m\u001b[43m)\u001b[49m\u001b[43m]\u001b[49m\u001b[43m)\u001b[49m\n\u001b[1;32m   1404\u001b[0m \u001b[38;5;28;01mif\u001b[39;00m info:\n\u001b[1;32m   1405\u001b[0m     \u001b[38;5;28;01mfor\u001b[39;00m info_chunk \u001b[38;5;129;01min\u001b[39;00m info\u001b[38;5;241m.\u001b[39mchunks:\n",
            "File \u001b[0;32m/Library/Frameworks/Python.framework/Versions/3.11/lib/python3.11/site-packages/PIL/ImageFile.py:540\u001b[0m, in \u001b[0;36m_save\u001b[0;34m(im, fp, tile, bufsize)\u001b[0m\n\u001b[1;32m    538\u001b[0m     _encode_tile(im, fp, tile, bufsize, fh)\n\u001b[1;32m    539\u001b[0m \u001b[38;5;28;01mexcept\u001b[39;00m (\u001b[38;5;167;01mAttributeError\u001b[39;00m, io\u001b[38;5;241m.\u001b[39mUnsupportedOperation) \u001b[38;5;28;01mas\u001b[39;00m exc:\n\u001b[0;32m--> 540\u001b[0m     \u001b[43m_encode_tile\u001b[49m\u001b[43m(\u001b[49m\u001b[43mim\u001b[49m\u001b[43m,\u001b[49m\u001b[43m \u001b[49m\u001b[43mfp\u001b[49m\u001b[43m,\u001b[49m\u001b[43m \u001b[49m\u001b[43mtile\u001b[49m\u001b[43m,\u001b[49m\u001b[43m \u001b[49m\u001b[43mbufsize\u001b[49m\u001b[43m,\u001b[49m\u001b[43m \u001b[49m\u001b[38;5;28;43;01mNone\u001b[39;49;00m\u001b[43m,\u001b[49m\u001b[43m \u001b[49m\u001b[43mexc\u001b[49m\u001b[43m)\u001b[49m\n\u001b[1;32m    541\u001b[0m \u001b[38;5;28;01mif\u001b[39;00m \u001b[38;5;28mhasattr\u001b[39m(fp, \u001b[38;5;124m\"\u001b[39m\u001b[38;5;124mflush\u001b[39m\u001b[38;5;124m\"\u001b[39m):\n\u001b[1;32m    542\u001b[0m     fp\u001b[38;5;241m.\u001b[39mflush()\n",
            "File \u001b[0;32m/Library/Frameworks/Python.framework/Versions/3.11/lib/python3.11/site-packages/PIL/ImageFile.py:559\u001b[0m, in \u001b[0;36m_encode_tile\u001b[0;34m(im, fp, tile, bufsize, fh, exc)\u001b[0m\n\u001b[1;32m    556\u001b[0m \u001b[38;5;28;01mif\u001b[39;00m exc:\n\u001b[1;32m    557\u001b[0m     \u001b[38;5;66;03m# compress to Python file-compatible object\u001b[39;00m\n\u001b[1;32m    558\u001b[0m     \u001b[38;5;28;01mwhile\u001b[39;00m \u001b[38;5;28;01mTrue\u001b[39;00m:\n\u001b[0;32m--> 559\u001b[0m         errcode, data \u001b[38;5;241m=\u001b[39m \u001b[43mencoder\u001b[49m\u001b[38;5;241;43m.\u001b[39;49m\u001b[43mencode\u001b[49m\u001b[43m(\u001b[49m\u001b[43mbufsize\u001b[49m\u001b[43m)\u001b[49m[\u001b[38;5;241m1\u001b[39m:]\n\u001b[1;32m    560\u001b[0m         fp\u001b[38;5;241m.\u001b[39mwrite(data)\n\u001b[1;32m    561\u001b[0m         \u001b[38;5;28;01mif\u001b[39;00m errcode:\n",
            "\u001b[0;31mKeyboardInterrupt\u001b[0m: "
          ]
        }
      ],
      "source": [
        "#| vscode: {languageId: python}\n",
        "# browser_market_share = {\n",
        "#     'browsers': ['firefox', 'chrome', 'safari', 'edge', 'ie', 'opera'],\n",
        "#     'market_share': [8.61, 69.55, 8.36, 4.12, 2.76, 2.43],\n",
        "#     'color': ['#5A69AF', '#579E65', '#F9C784', '#FC944A', '#F24C00']\n",
        "# }\n",
        "\n",
        "# colors = {'color': ['#11270B', '#42CAFD', '#FFA400', '#F5EDF0', '#1C0B19', '#66B3BA', '#92140C']}\n",
        "\n",
        "\n",
        "class BubbleChart:\n",
        "    def __init__(self, area, bubble_spacing=0):\n",
        "        \"\"\"\n",
        "        Setup for bubble collapse.\n",
        "\n",
        "        Parameters\n",
        "        ----------\n",
        "        area : array-like\n",
        "            Area of the bubbles.\n",
        "        bubble_spacing : float, default: 0\n",
        "            Minimal spacing between bubbles after collapsing.\n",
        "\n",
        "        Notes\n",
        "        -----\n",
        "        If \"area\" is sorted, the results might look weird.\n",
        "        \"\"\"\n",
        "        area = np.asarray(area)\n",
        "        r = np.sqrt(area / np.pi)\n",
        "\n",
        "        self.bubble_spacing = bubble_spacing\n",
        "        self.bubbles = np.ones((len(area), 4))\n",
        "        self.bubbles[:, 2] = r\n",
        "        self.bubbles[:, 3] = area\n",
        "        self.maxstep = 2 * self.bubbles[:, 2].max() + self.bubble_spacing\n",
        "        self.step_dist = self.maxstep / 2\n",
        "\n",
        "        # calculate initial grid layout for bubbles\n",
        "        length = np.ceil(np.sqrt(len(self.bubbles)))\n",
        "        grid = np.arange(length) * self.maxstep\n",
        "        gx, gy = np.meshgrid(grid, grid)\n",
        "        self.bubbles[:, 0] = gx.flatten()[:len(self.bubbles)]\n",
        "        self.bubbles[:, 1] = gy.flatten()[:len(self.bubbles)]\n",
        "\n",
        "        self.com = self.center_of_mass()\n",
        "\n",
        "    def center_of_mass(self):\n",
        "        return np.average(\n",
        "            self.bubbles[:, :2], axis=0, weights=self.bubbles[:, 3]\n",
        "        )\n",
        "\n",
        "    def center_distance(self, bubble, bubbles):\n",
        "        return np.hypot(bubble[0] - bubbles[:, 0],\n",
        "                        bubble[1] - bubbles[:, 1])\n",
        "\n",
        "    def outline_distance(self, bubble, bubbles):\n",
        "        center_distance = self.center_distance(bubble, bubbles)\n",
        "        return center_distance - bubble[2] - \\\n",
        "            bubbles[:, 2] - self.bubble_spacing\n",
        "\n",
        "    def check_collisions(self, bubble, bubbles):\n",
        "        distance = self.outline_distance(bubble, bubbles)\n",
        "        return len(distance[distance < 0])\n",
        "\n",
        "    def collides_with(self, bubble, bubbles):\n",
        "        distance = self.outline_distance(bubble, bubbles)\n",
        "        return np.argmin(distance, keepdims=True)\n",
        "\n",
        "    def collapse(self, n_iterations=50):\n",
        "        \"\"\"\n",
        "        Move bubbles to the center of mass.\n",
        "\n",
        "        Parameters\n",
        "        ----------\n",
        "        n_iterations : int, default: 50\n",
        "            Number of moves to perform.\n",
        "        \"\"\"\n",
        "        for _i in range(n_iterations):\n",
        "            moves = 0\n",
        "            for i in range(len(self.bubbles)):\n",
        "                rest_bub = np.delete(self.bubbles, i, 0)\n",
        "                # try to move directly towards the center of mass\n",
        "                # direction vector from bubble to the center of mass\n",
        "                dir_vec = self.com - self.bubbles[i, :2]\n",
        "\n",
        "                # shorten direction vector to have length of 1\n",
        "                dir_vec = dir_vec / np.sqrt(dir_vec.dot(dir_vec))\n",
        "\n",
        "                # calculate new bubble position\n",
        "                new_point = self.bubbles[i, :2] + dir_vec * self.step_dist\n",
        "                new_bubble = np.append(new_point, self.bubbles[i, 2:4])\n",
        "\n",
        "                # check whether new bubble collides with other bubbles\n",
        "                if not self.check_collisions(new_bubble, rest_bub):\n",
        "                    self.bubbles[i, :] = new_bubble\n",
        "                    self.com = self.center_of_mass()\n",
        "                    moves += 1\n",
        "                else:\n",
        "                    # try to move around a bubble that you collide with\n",
        "                    # find colliding bubble\n",
        "                    for colliding in self.collides_with(new_bubble, rest_bub):\n",
        "                        # calculate direction vector\n",
        "                        dir_vec = rest_bub[colliding, :2] - self.bubbles[i, :2]\n",
        "                        dir_vec = dir_vec / np.sqrt(dir_vec.dot(dir_vec))\n",
        "                        # calculate orthogonal vector\n",
        "                        orth = np.array([dir_vec[1], -dir_vec[0]])\n",
        "                        # test which direction to go\n",
        "                        new_point1 = (self.bubbles[i, :2] + orth *\n",
        "                                      self.step_dist)\n",
        "                        new_point2 = (self.bubbles[i, :2] - orth *\n",
        "                                      self.step_dist)\n",
        "                        dist1 = self.center_distance(\n",
        "                            self.com, np.array([new_point1]))\n",
        "                        dist2 = self.center_distance(\n",
        "                            self.com, np.array([new_point2]))\n",
        "                        new_point = new_point1 if dist1 < dist2 else new_point2\n",
        "                        new_bubble = np.append(new_point, self.bubbles[i, 2:4])\n",
        "                        if not self.check_collisions(new_bubble, rest_bub):\n",
        "                            self.bubbles[i, :] = new_bubble\n",
        "                            self.com = self.center_of_mass()\n",
        "\n",
        "            if moves / len(self.bubbles) < 0.1:\n",
        "                self.step_dist = self.step_dist / 2\n",
        "\n",
        "    def plot(self, ax, labels, colors):\n",
        "        \"\"\"\n",
        "        Draw the bubble plot.\n",
        "\n",
        "        Parameters\n",
        "        ----------\n",
        "        ax : matplotlib.axes.Axes\n",
        "        labels : list\n",
        "            Labels of the bubbles.\n",
        "        colors : list\n",
        "            Colors of the bubbles.\n",
        "        \"\"\"\n",
        "        for i in range(len(self.bubbles)):\n",
        "            circ = plt.Circle(\n",
        "                self.bubbles[i, :2], self.bubbles[i, 2], color=colors[i])\n",
        "            ax.add_patch(circ)\n",
        "            ax.text(*self.bubbles[i, :2], labels[i],\n",
        "                    horizontalalignment='center', verticalalignment='center')\n",
        "\n",
        "\n",
        "bubble_chart = BubbleChart(area=data_dict['AVG_PercentFemale'],\n",
        "                           bubble_spacing=0.1)\n",
        "\n",
        "bubble_chart.collapse()\n",
        "\n",
        "fig, ax = plt.subplots(subplot_kw=dict(aspect=\"equal\"))\n",
        "bubble_chart.plot(ax, data_dict['Area'], colors)\n",
        "ax.axis(\"off\")\n",
        "ax.relim()\n",
        "ax.autoscale_view()\n",
        "ax.set_title('Food Insecurity')\n",
        "\n",
        "plt.show()"
      ]
    }
  ],
  "metadata": {
    "kernelspec": {
      "display_name": "Python 3 (ipykernel)",
      "language": "python",
      "name": "python3"
    }
  },
  "nbformat": 4,
  "nbformat_minor": 4
}
