{
 "cells": [
  {
   "cell_type": "raw",
   "metadata": {
    "vscode": {
     "languageId": "raw"
    }
   },
   "source": [
    "---\n",
    "title: Climate Change and Food Insecurity \n",
    "author: Hannah Kim\n",
    "format: \n",
    "    html:\n",
    "        embed-resources: true\n",
    "---"
   ]
  },
  {
   "cell_type": "code",
   "execution_count": 231,
   "metadata": {},
   "outputs": [],
   "source": [
    "import numpy as np\n",
    "import pandas as pd\n",
    "import matplotlib.pyplot as plt\n",
    "import seaborn as sns\n",
    "import plotly.express as px"
   ]
  },
  {
   "cell_type": "markdown",
   "metadata": {},
   "source": [
    "## Load the data"
   ]
  },
  {
   "cell_type": "code",
   "execution_count": 232,
   "metadata": {},
   "outputs": [
    {
     "data": {
      "text/html": [
       "<div>\n",
       "<style scoped>\n",
       "    .dataframe tbody tr th:only-of-type {\n",
       "        vertical-align: middle;\n",
       "    }\n",
       "\n",
       "    .dataframe tbody tr th {\n",
       "        vertical-align: top;\n",
       "    }\n",
       "\n",
       "    .dataframe thead th {\n",
       "        text-align: right;\n",
       "    }\n",
       "</style>\n",
       "<table border=\"1\" class=\"dataframe\">\n",
       "  <thead>\n",
       "    <tr style=\"text-align: right;\">\n",
       "      <th></th>\n",
       "      <th>Domain Code</th>\n",
       "      <th>Domain</th>\n",
       "      <th>Area Code (M49)</th>\n",
       "      <th>Area</th>\n",
       "      <th>Element Code</th>\n",
       "      <th>Element</th>\n",
       "      <th>Item Code</th>\n",
       "      <th>Item</th>\n",
       "      <th>Year Code</th>\n",
       "      <th>Year</th>\n",
       "      <th>Unit</th>\n",
       "      <th>Value</th>\n",
       "      <th>Flag</th>\n",
       "      <th>Flag Description</th>\n",
       "      <th>Note</th>\n",
       "    </tr>\n",
       "  </thead>\n",
       "  <tbody>\n",
       "    <tr>\n",
       "      <th>0</th>\n",
       "      <td>FS</td>\n",
       "      <td>Suite of Food Security Indicators</td>\n",
       "      <td>4</td>\n",
       "      <td>Afghanistan</td>\n",
       "      <td>6121</td>\n",
       "      <td>Value</td>\n",
       "      <td>21010</td>\n",
       "      <td>Average dietary energy supply adequacy (percen...</td>\n",
       "      <td>20002002</td>\n",
       "      <td>2000-2002</td>\n",
       "      <td>%</td>\n",
       "      <td>88</td>\n",
       "      <td>E</td>\n",
       "      <td>Estimated value</td>\n",
       "      <td>NaN</td>\n",
       "    </tr>\n",
       "    <tr>\n",
       "      <th>1</th>\n",
       "      <td>FS</td>\n",
       "      <td>Suite of Food Security Indicators</td>\n",
       "      <td>4</td>\n",
       "      <td>Afghanistan</td>\n",
       "      <td>6121</td>\n",
       "      <td>Value</td>\n",
       "      <td>21010</td>\n",
       "      <td>Average dietary energy supply adequacy (percen...</td>\n",
       "      <td>20012003</td>\n",
       "      <td>2001-2003</td>\n",
       "      <td>%</td>\n",
       "      <td>89</td>\n",
       "      <td>E</td>\n",
       "      <td>Estimated value</td>\n",
       "      <td>NaN</td>\n",
       "    </tr>\n",
       "    <tr>\n",
       "      <th>2</th>\n",
       "      <td>FS</td>\n",
       "      <td>Suite of Food Security Indicators</td>\n",
       "      <td>4</td>\n",
       "      <td>Afghanistan</td>\n",
       "      <td>6121</td>\n",
       "      <td>Value</td>\n",
       "      <td>21010</td>\n",
       "      <td>Average dietary energy supply adequacy (percen...</td>\n",
       "      <td>20022004</td>\n",
       "      <td>2002-2004</td>\n",
       "      <td>%</td>\n",
       "      <td>92</td>\n",
       "      <td>E</td>\n",
       "      <td>Estimated value</td>\n",
       "      <td>NaN</td>\n",
       "    </tr>\n",
       "    <tr>\n",
       "      <th>3</th>\n",
       "      <td>FS</td>\n",
       "      <td>Suite of Food Security Indicators</td>\n",
       "      <td>4</td>\n",
       "      <td>Afghanistan</td>\n",
       "      <td>6121</td>\n",
       "      <td>Value</td>\n",
       "      <td>21010</td>\n",
       "      <td>Average dietary energy supply adequacy (percen...</td>\n",
       "      <td>20032005</td>\n",
       "      <td>2003-2005</td>\n",
       "      <td>%</td>\n",
       "      <td>93</td>\n",
       "      <td>E</td>\n",
       "      <td>Estimated value</td>\n",
       "      <td>NaN</td>\n",
       "    </tr>\n",
       "    <tr>\n",
       "      <th>4</th>\n",
       "      <td>FS</td>\n",
       "      <td>Suite of Food Security Indicators</td>\n",
       "      <td>4</td>\n",
       "      <td>Afghanistan</td>\n",
       "      <td>6121</td>\n",
       "      <td>Value</td>\n",
       "      <td>21010</td>\n",
       "      <td>Average dietary energy supply adequacy (percen...</td>\n",
       "      <td>20042006</td>\n",
       "      <td>2004-2006</td>\n",
       "      <td>%</td>\n",
       "      <td>94</td>\n",
       "      <td>E</td>\n",
       "      <td>Estimated value</td>\n",
       "      <td>NaN</td>\n",
       "    </tr>\n",
       "    <tr>\n",
       "      <th>...</th>\n",
       "      <td>...</td>\n",
       "      <td>...</td>\n",
       "      <td>...</td>\n",
       "      <td>...</td>\n",
       "      <td>...</td>\n",
       "      <td>...</td>\n",
       "      <td>...</td>\n",
       "      <td>...</td>\n",
       "      <td>...</td>\n",
       "      <td>...</td>\n",
       "      <td>...</td>\n",
       "      <td>...</td>\n",
       "      <td>...</td>\n",
       "      <td>...</td>\n",
       "      <td>...</td>\n",
       "    </tr>\n",
       "    <tr>\n",
       "      <th>139523</th>\n",
       "      <td>FS</td>\n",
       "      <td>Suite of Food Security Indicators</td>\n",
       "      <td>716</td>\n",
       "      <td>Zimbabwe</td>\n",
       "      <td>6123</td>\n",
       "      <td>Value</td>\n",
       "      <td>21061</td>\n",
       "      <td>Average fat supply (g/cap/day) (3-year average)</td>\n",
       "      <td>20142016</td>\n",
       "      <td>2014-2016</td>\n",
       "      <td>g/pc/d</td>\n",
       "      <td>69.9</td>\n",
       "      <td>E</td>\n",
       "      <td>Estimated value</td>\n",
       "      <td>NaN</td>\n",
       "    </tr>\n",
       "    <tr>\n",
       "      <th>139524</th>\n",
       "      <td>FS</td>\n",
       "      <td>Suite of Food Security Indicators</td>\n",
       "      <td>716</td>\n",
       "      <td>Zimbabwe</td>\n",
       "      <td>6123</td>\n",
       "      <td>Value</td>\n",
       "      <td>21061</td>\n",
       "      <td>Average fat supply (g/cap/day) (3-year average)</td>\n",
       "      <td>20152017</td>\n",
       "      <td>2015-2017</td>\n",
       "      <td>g/pc/d</td>\n",
       "      <td>68.6</td>\n",
       "      <td>E</td>\n",
       "      <td>Estimated value</td>\n",
       "      <td>NaN</td>\n",
       "    </tr>\n",
       "    <tr>\n",
       "      <th>139525</th>\n",
       "      <td>FS</td>\n",
       "      <td>Suite of Food Security Indicators</td>\n",
       "      <td>716</td>\n",
       "      <td>Zimbabwe</td>\n",
       "      <td>6123</td>\n",
       "      <td>Value</td>\n",
       "      <td>21061</td>\n",
       "      <td>Average fat supply (g/cap/day) (3-year average)</td>\n",
       "      <td>20162018</td>\n",
       "      <td>2016-2018</td>\n",
       "      <td>g/pc/d</td>\n",
       "      <td>66.9</td>\n",
       "      <td>E</td>\n",
       "      <td>Estimated value</td>\n",
       "      <td>NaN</td>\n",
       "    </tr>\n",
       "    <tr>\n",
       "      <th>139526</th>\n",
       "      <td>FS</td>\n",
       "      <td>Suite of Food Security Indicators</td>\n",
       "      <td>716</td>\n",
       "      <td>Zimbabwe</td>\n",
       "      <td>6123</td>\n",
       "      <td>Value</td>\n",
       "      <td>21061</td>\n",
       "      <td>Average fat supply (g/cap/day) (3-year average)</td>\n",
       "      <td>20172019</td>\n",
       "      <td>2017-2019</td>\n",
       "      <td>g/pc/d</td>\n",
       "      <td>63.6</td>\n",
       "      <td>E</td>\n",
       "      <td>Estimated value</td>\n",
       "      <td>NaN</td>\n",
       "    </tr>\n",
       "    <tr>\n",
       "      <th>139527</th>\n",
       "      <td>FS</td>\n",
       "      <td>Suite of Food Security Indicators</td>\n",
       "      <td>716</td>\n",
       "      <td>Zimbabwe</td>\n",
       "      <td>6123</td>\n",
       "      <td>Value</td>\n",
       "      <td>21061</td>\n",
       "      <td>Average fat supply (g/cap/day) (3-year average)</td>\n",
       "      <td>20182020</td>\n",
       "      <td>2018-2020</td>\n",
       "      <td>g/pc/d</td>\n",
       "      <td>63.3</td>\n",
       "      <td>E</td>\n",
       "      <td>Estimated value</td>\n",
       "      <td>NaN</td>\n",
       "    </tr>\n",
       "  </tbody>\n",
       "</table>\n",
       "<p>139528 rows × 15 columns</p>\n",
       "</div>"
      ],
      "text/plain": [
       "       Domain Code                             Domain  Area Code (M49)  \\\n",
       "0               FS  Suite of Food Security Indicators                4   \n",
       "1               FS  Suite of Food Security Indicators                4   \n",
       "2               FS  Suite of Food Security Indicators                4   \n",
       "3               FS  Suite of Food Security Indicators                4   \n",
       "4               FS  Suite of Food Security Indicators                4   \n",
       "...            ...                                ...              ...   \n",
       "139523          FS  Suite of Food Security Indicators              716   \n",
       "139524          FS  Suite of Food Security Indicators              716   \n",
       "139525          FS  Suite of Food Security Indicators              716   \n",
       "139526          FS  Suite of Food Security Indicators              716   \n",
       "139527          FS  Suite of Food Security Indicators              716   \n",
       "\n",
       "               Area  Element Code Element Item Code  \\\n",
       "0       Afghanistan          6121   Value     21010   \n",
       "1       Afghanistan          6121   Value     21010   \n",
       "2       Afghanistan          6121   Value     21010   \n",
       "3       Afghanistan          6121   Value     21010   \n",
       "4       Afghanistan          6121   Value     21010   \n",
       "...             ...           ...     ...       ...   \n",
       "139523     Zimbabwe          6123   Value     21061   \n",
       "139524     Zimbabwe          6123   Value     21061   \n",
       "139525     Zimbabwe          6123   Value     21061   \n",
       "139526     Zimbabwe          6123   Value     21061   \n",
       "139527     Zimbabwe          6123   Value     21061   \n",
       "\n",
       "                                                     Item  Year Code  \\\n",
       "0       Average dietary energy supply adequacy (percen...   20002002   \n",
       "1       Average dietary energy supply adequacy (percen...   20012003   \n",
       "2       Average dietary energy supply adequacy (percen...   20022004   \n",
       "3       Average dietary energy supply adequacy (percen...   20032005   \n",
       "4       Average dietary energy supply adequacy (percen...   20042006   \n",
       "...                                                   ...        ...   \n",
       "139523    Average fat supply (g/cap/day) (3-year average)   20142016   \n",
       "139524    Average fat supply (g/cap/day) (3-year average)   20152017   \n",
       "139525    Average fat supply (g/cap/day) (3-year average)   20162018   \n",
       "139526    Average fat supply (g/cap/day) (3-year average)   20172019   \n",
       "139527    Average fat supply (g/cap/day) (3-year average)   20182020   \n",
       "\n",
       "             Year    Unit Value Flag Flag Description Note  \n",
       "0       2000-2002       %    88    E  Estimated value  NaN  \n",
       "1       2001-2003       %    89    E  Estimated value  NaN  \n",
       "2       2002-2004       %    92    E  Estimated value  NaN  \n",
       "3       2003-2005       %    93    E  Estimated value  NaN  \n",
       "4       2004-2006       %    94    E  Estimated value  NaN  \n",
       "...           ...     ...   ...  ...              ...  ...  \n",
       "139523  2014-2016  g/pc/d  69.9    E  Estimated value  NaN  \n",
       "139524  2015-2017  g/pc/d  68.6    E  Estimated value  NaN  \n",
       "139525  2016-2018  g/pc/d  66.9    E  Estimated value  NaN  \n",
       "139526  2017-2019  g/pc/d  63.6    E  Estimated value  NaN  \n",
       "139527  2018-2020  g/pc/d  63.3    E  Estimated value  NaN  \n",
       "\n",
       "[139528 rows x 15 columns]"
      ]
     },
     "execution_count": 232,
     "metadata": {},
     "output_type": "execute_result"
    }
   ],
   "source": [
    "raw_df = pd.read_csv('./data/FAOSTAT_data.csv')\n",
    "raw_df"
   ]
  },
  {
   "cell_type": "markdown",
   "metadata": {},
   "source": [
    "Food insecurity:\n",
    "\n",
    "* Prevalence of severe food insecurity in the total population (percent): 210401 (M/F)\n",
    "* Prevalence of moderate or severe food insecurity in the total population (percent): 210091 (M/F)\n",
    "* Number of severely food insecure people (million): 210071 (M/F)\n",
    "* Number of moderately or severely food insecure people (million): 210081 (M/F)"
   ]
  },
  {
   "cell_type": "markdown",
   "metadata": {},
   "source": [
    "## Further cleaning and preprocessing"
   ]
  },
  {
   "cell_type": "code",
   "execution_count": 233,
   "metadata": {},
   "outputs": [],
   "source": [
    "raw_df.columns = raw_df.columns.str.lower()\n",
    "raw_df.columns = raw_df.columns.str.replace(' ', '_')\n",
    "# change the area column to country column\n",
    "raw_df = raw_df.rename(columns={'area': 'country'})"
   ]
  },
  {
   "cell_type": "code",
   "execution_count": 234,
   "metadata": {},
   "outputs": [],
   "source": [
    "# filter out the data by item code\n",
    "# prevalence of severe food insecurity in the total population\n",
    "prev_severe_total = raw_df[raw_df['item_code'] == '210401'] \n",
    "prev_severe_male = raw_df[raw_df['item_code'] == '210401M']\n",
    "prev_sever_female = raw_df[raw_df['item_code'] == '210401F']\n",
    "\n",
    "# prevalence of moderate or severe food insecurity in the total population\n",
    "prev_mod_total = raw_df[raw_df['item_code'] == '210091']\n",
    "prev_mod_male = raw_df[raw_df['item_code'] == '210091M']\n",
    "prev_mod_female = raw_df[raw_df['item_code'] == '210091F']\n"
   ]
  },
  {
   "cell_type": "code",
   "execution_count": 235,
   "metadata": {},
   "outputs": [
    {
     "data": {
      "text/html": [
       "<div>\n",
       "<style scoped>\n",
       "    .dataframe tbody tr th:only-of-type {\n",
       "        vertical-align: middle;\n",
       "    }\n",
       "\n",
       "    .dataframe tbody tr th {\n",
       "        vertical-align: top;\n",
       "    }\n",
       "\n",
       "    .dataframe thead th {\n",
       "        text-align: right;\n",
       "    }\n",
       "</style>\n",
       "<table border=\"1\" class=\"dataframe\">\n",
       "  <thead>\n",
       "    <tr style=\"text-align: right;\">\n",
       "      <th></th>\n",
       "      <th>domain_code</th>\n",
       "      <th>domain</th>\n",
       "      <th>area_code_(m49)</th>\n",
       "      <th>country</th>\n",
       "      <th>element_code</th>\n",
       "      <th>element</th>\n",
       "      <th>item_code</th>\n",
       "      <th>item</th>\n",
       "      <th>year_code</th>\n",
       "      <th>year</th>\n",
       "      <th>unit</th>\n",
       "      <th>value</th>\n",
       "      <th>flag</th>\n",
       "      <th>flag_description</th>\n",
       "      <th>note</th>\n",
       "    </tr>\n",
       "  </thead>\n",
       "  <tbody>\n",
       "    <tr>\n",
       "      <th>140</th>\n",
       "      <td>FS</td>\n",
       "      <td>Suite of Food Security Indicators</td>\n",
       "      <td>4</td>\n",
       "      <td>Afghanistan</td>\n",
       "      <td>6121</td>\n",
       "      <td>Value</td>\n",
       "      <td>210401</td>\n",
       "      <td>Prevalence of severe food insecurity in the to...</td>\n",
       "      <td>20142016</td>\n",
       "      <td>2014-2016</td>\n",
       "      <td>%</td>\n",
       "      <td>14.8</td>\n",
       "      <td>A</td>\n",
       "      <td>Official figure</td>\n",
       "      <td>FAO data</td>\n",
       "    </tr>\n",
       "    <tr>\n",
       "      <th>141</th>\n",
       "      <td>FS</td>\n",
       "      <td>Suite of Food Security Indicators</td>\n",
       "      <td>4</td>\n",
       "      <td>Afghanistan</td>\n",
       "      <td>6121</td>\n",
       "      <td>Value</td>\n",
       "      <td>210401</td>\n",
       "      <td>Prevalence of severe food insecurity in the to...</td>\n",
       "      <td>20152017</td>\n",
       "      <td>2015-2017</td>\n",
       "      <td>%</td>\n",
       "      <td>15.1</td>\n",
       "      <td>A</td>\n",
       "      <td>Official figure</td>\n",
       "      <td>FAO data</td>\n",
       "    </tr>\n",
       "    <tr>\n",
       "      <th>142</th>\n",
       "      <td>FS</td>\n",
       "      <td>Suite of Food Security Indicators</td>\n",
       "      <td>4</td>\n",
       "      <td>Afghanistan</td>\n",
       "      <td>6121</td>\n",
       "      <td>Value</td>\n",
       "      <td>210401</td>\n",
       "      <td>Prevalence of severe food insecurity in the to...</td>\n",
       "      <td>20162018</td>\n",
       "      <td>2016-2018</td>\n",
       "      <td>%</td>\n",
       "      <td>17.3</td>\n",
       "      <td>A</td>\n",
       "      <td>Official figure</td>\n",
       "      <td>FAO data</td>\n",
       "    </tr>\n",
       "    <tr>\n",
       "      <th>143</th>\n",
       "      <td>FS</td>\n",
       "      <td>Suite of Food Security Indicators</td>\n",
       "      <td>4</td>\n",
       "      <td>Afghanistan</td>\n",
       "      <td>6121</td>\n",
       "      <td>Value</td>\n",
       "      <td>210401</td>\n",
       "      <td>Prevalence of severe food insecurity in the to...</td>\n",
       "      <td>20172019</td>\n",
       "      <td>2017-2019</td>\n",
       "      <td>%</td>\n",
       "      <td>17.3</td>\n",
       "      <td>A</td>\n",
       "      <td>Official figure</td>\n",
       "      <td>Official estimate</td>\n",
       "    </tr>\n",
       "    <tr>\n",
       "      <th>144</th>\n",
       "      <td>FS</td>\n",
       "      <td>Suite of Food Security Indicators</td>\n",
       "      <td>4</td>\n",
       "      <td>Afghanistan</td>\n",
       "      <td>6121</td>\n",
       "      <td>Value</td>\n",
       "      <td>210401</td>\n",
       "      <td>Prevalence of severe food insecurity in the to...</td>\n",
       "      <td>20182020</td>\n",
       "      <td>2018-2020</td>\n",
       "      <td>%</td>\n",
       "      <td>19.8</td>\n",
       "      <td>A</td>\n",
       "      <td>Official figure</td>\n",
       "      <td>Official estimate</td>\n",
       "    </tr>\n",
       "  </tbody>\n",
       "</table>\n",
       "</div>"
      ],
      "text/plain": [
       "    domain_code                             domain  area_code_(m49)  \\\n",
       "140          FS  Suite of Food Security Indicators                4   \n",
       "141          FS  Suite of Food Security Indicators                4   \n",
       "142          FS  Suite of Food Security Indicators                4   \n",
       "143          FS  Suite of Food Security Indicators                4   \n",
       "144          FS  Suite of Food Security Indicators                4   \n",
       "\n",
       "         country  element_code element item_code  \\\n",
       "140  Afghanistan          6121   Value    210401   \n",
       "141  Afghanistan          6121   Value    210401   \n",
       "142  Afghanistan          6121   Value    210401   \n",
       "143  Afghanistan          6121   Value    210401   \n",
       "144  Afghanistan          6121   Value    210401   \n",
       "\n",
       "                                                  item  year_code       year  \\\n",
       "140  Prevalence of severe food insecurity in the to...   20142016  2014-2016   \n",
       "141  Prevalence of severe food insecurity in the to...   20152017  2015-2017   \n",
       "142  Prevalence of severe food insecurity in the to...   20162018  2016-2018   \n",
       "143  Prevalence of severe food insecurity in the to...   20172019  2017-2019   \n",
       "144  Prevalence of severe food insecurity in the to...   20182020  2018-2020   \n",
       "\n",
       "    unit value flag flag_description               note  \n",
       "140    %  14.8    A  Official figure           FAO data  \n",
       "141    %  15.1    A  Official figure           FAO data  \n",
       "142    %  17.3    A  Official figure           FAO data  \n",
       "143    %  17.3    A  Official figure  Official estimate  \n",
       "144    %  19.8    A  Official figure  Official estimate  "
      ]
     },
     "execution_count": 235,
     "metadata": {},
     "output_type": "execute_result"
    }
   ],
   "source": [
    "prev_severe_total.head()"
   ]
  },
  {
   "cell_type": "code",
   "execution_count": 236,
   "metadata": {},
   "outputs": [
    {
     "name": "stdout",
     "output_type": "stream",
     "text": [
      "[  4   8  12  16  20  24  28  32  51  36  40  31  44  48  50  52 112  56\n",
      "  84 204  60  64  68  70  72  76  96 100 854 108 132 116 120 124 140 148\n",
      " 152 159 344 446 156 158 170 174 178 184 188 384 191 192 196 203 408 180\n",
      " 208 262 212 214 218 818 222 226 232 233 748 231 242 246 250 258 266 270\n",
      " 268 276 288 300 304 308 320 324 624 328 332 340 348 352 356 360 364 368\n",
      " 372 376 380 388 392 400 398 404 296 414 417 418 428 422 426 430 434 440\n",
      " 442 450 454 458 462 466 470 584 478 480 484 583 496 499 504 508 104 516\n",
      " 520 524 528 540 554 558 562 566 570 807 578 512 586 585 275 591 598 600\n",
      " 604 608 616 620 630 634 410 498 642 643 646 659 662 670 882 678 682 686\n",
      " 688 690 694 702 703 705  90 706 710 728 724 144 729 740 752 756 760 762\n",
      " 764 626 768 772 776 780 788 792 795 798 800 804 784 826 834 840 858 860\n",
      " 548 862 704 887 894 716]\n"
     ]
    }
   ],
   "source": [
    "print(prev_severe_total['area_code_(m49)'].unique())"
   ]
  },
  {
   "cell_type": "code",
   "execution_count": 237,
   "metadata": {},
   "outputs": [
    {
     "data": {
      "text/html": [
       "<div>\n",
       "<style scoped>\n",
       "    .dataframe tbody tr th:only-of-type {\n",
       "        vertical-align: middle;\n",
       "    }\n",
       "\n",
       "    .dataframe tbody tr th {\n",
       "        vertical-align: top;\n",
       "    }\n",
       "\n",
       "    .dataframe thead th {\n",
       "        text-align: right;\n",
       "    }\n",
       "</style>\n",
       "<table border=\"1\" class=\"dataframe\">\n",
       "  <thead>\n",
       "    <tr style=\"text-align: right;\">\n",
       "      <th></th>\n",
       "      <th>country</th>\n",
       "      <th>continent</th>\n",
       "    </tr>\n",
       "  </thead>\n",
       "  <tbody>\n",
       "    <tr>\n",
       "      <th>0</th>\n",
       "      <td>United States</td>\n",
       "      <td>North America</td>\n",
       "    </tr>\n",
       "    <tr>\n",
       "      <th>1</th>\n",
       "      <td>Dominican Republic</td>\n",
       "      <td>North Americ</td>\n",
       "    </tr>\n",
       "    <tr>\n",
       "      <th>2</th>\n",
       "      <td>Canada</td>\n",
       "      <td>North America</td>\n",
       "    </tr>\n",
       "    <tr>\n",
       "      <th>3</th>\n",
       "      <td>Honduras</td>\n",
       "      <td>North America</td>\n",
       "    </tr>\n",
       "    <tr>\n",
       "      <th>4</th>\n",
       "      <td>Costa Rica</td>\n",
       "      <td>North America</td>\n",
       "    </tr>\n",
       "  </tbody>\n",
       "</table>\n",
       "</div>"
      ],
      "text/plain": [
       "              country      continent\n",
       "0       United States  North America\n",
       "1  Dominican Republic   North Americ\n",
       "2              Canada  North America\n",
       "3            Honduras  North America\n",
       "4          Costa Rica  North America"
      ]
     },
     "execution_count": 237,
     "metadata": {},
     "output_type": "execute_result"
    }
   ],
   "source": [
    "# read the data\n",
    "code_df = pd.read_csv('./data/country_annotation.csv')\n",
    "\n",
    "# drop unnecessary columns\n",
    "code_df = code_df.drop(columns=['code', 'languages'])\n",
    "\n",
    "# rename the columns\n",
    "code_df = code_df.rename(columns={'name':'country'})\n",
    "\n",
    "code_df.head()"
   ]
  },
  {
   "cell_type": "code",
   "execution_count": 238,
   "metadata": {},
   "outputs": [],
   "source": [
    "# copy the dataframe\n",
    "df = prev_severe_total.copy()\n",
    "# change the value column type to numeric value\n",
    "df['value'] = pd.to_numeric(df['value'], errors='coerce')"
   ]
  },
  {
   "cell_type": "code",
   "execution_count": 239,
   "metadata": {},
   "outputs": [
    {
     "data": {
      "text/html": [
       "<div>\n",
       "<style scoped>\n",
       "    .dataframe tbody tr th:only-of-type {\n",
       "        vertical-align: middle;\n",
       "    }\n",
       "\n",
       "    .dataframe tbody tr th {\n",
       "        vertical-align: top;\n",
       "    }\n",
       "\n",
       "    .dataframe thead th {\n",
       "        text-align: right;\n",
       "    }\n",
       "</style>\n",
       "<table border=\"1\" class=\"dataframe\">\n",
       "  <thead>\n",
       "    <tr style=\"text-align: right;\">\n",
       "      <th></th>\n",
       "      <th>country</th>\n",
       "      <th>value</th>\n",
       "    </tr>\n",
       "  </thead>\n",
       "  <tbody>\n",
       "    <tr>\n",
       "      <th>0</th>\n",
       "      <td>Afghanistan</td>\n",
       "      <td>135.3</td>\n",
       "    </tr>\n",
       "    <tr>\n",
       "      <th>1</th>\n",
       "      <td>Albania</td>\n",
       "      <td>65.5</td>\n",
       "    </tr>\n",
       "    <tr>\n",
       "      <th>2</th>\n",
       "      <td>Algeria</td>\n",
       "      <td>65.1</td>\n",
       "    </tr>\n",
       "    <tr>\n",
       "      <th>3</th>\n",
       "      <td>American Samoa</td>\n",
       "      <td>0.0</td>\n",
       "    </tr>\n",
       "    <tr>\n",
       "      <th>4</th>\n",
       "      <td>Andorra</td>\n",
       "      <td>0.0</td>\n",
       "    </tr>\n",
       "    <tr>\n",
       "      <th>...</th>\n",
       "      <td>...</td>\n",
       "      <td>...</td>\n",
       "    </tr>\n",
       "    <tr>\n",
       "      <th>199</th>\n",
       "      <td>Venezuela (Bolivarian Republic of)</td>\n",
       "      <td>0.0</td>\n",
       "    </tr>\n",
       "    <tr>\n",
       "      <th>200</th>\n",
       "      <td>Viet Nam</td>\n",
       "      <td>2.3</td>\n",
       "    </tr>\n",
       "    <tr>\n",
       "      <th>201</th>\n",
       "      <td>Yemen</td>\n",
       "      <td>80.4</td>\n",
       "    </tr>\n",
       "    <tr>\n",
       "      <th>202</th>\n",
       "      <td>Zambia</td>\n",
       "      <td>189.4</td>\n",
       "    </tr>\n",
       "    <tr>\n",
       "      <th>203</th>\n",
       "      <td>Zimbabwe</td>\n",
       "      <td>234.3</td>\n",
       "    </tr>\n",
       "  </tbody>\n",
       "</table>\n",
       "<p>204 rows × 2 columns</p>\n",
       "</div>"
      ],
      "text/plain": [
       "                                country  value\n",
       "0                           Afghanistan  135.3\n",
       "1                               Albania   65.5\n",
       "2                               Algeria   65.1\n",
       "3                        American Samoa    0.0\n",
       "4                               Andorra    0.0\n",
       "..                                  ...    ...\n",
       "199  Venezuela (Bolivarian Republic of)    0.0\n",
       "200                            Viet Nam    2.3\n",
       "201                               Yemen   80.4\n",
       "202                              Zambia  189.4\n",
       "203                            Zimbabwe  234.3\n",
       "\n",
       "[204 rows x 2 columns]"
      ]
     },
     "execution_count": 239,
     "metadata": {},
     "output_type": "execute_result"
    }
   ],
   "source": [
    "# group by the country and get the sum of all the values\n",
    "df = df.groupby('country', as_index=False)['value'].sum().reset_index(drop=True)\n",
    "df"
   ]
  },
  {
   "cell_type": "code",
   "execution_count": 240,
   "metadata": {},
   "outputs": [],
   "source": [
    "# merge the region data with the main data\n",
    "df = pd.merge(df, code_df, on='country', how='left')"
   ]
  },
  {
   "cell_type": "code",
   "execution_count": 241,
   "metadata": {},
   "outputs": [
    {
     "data": {
      "text/html": [
       "<div>\n",
       "<style scoped>\n",
       "    .dataframe tbody tr th:only-of-type {\n",
       "        vertical-align: middle;\n",
       "    }\n",
       "\n",
       "    .dataframe tbody tr th {\n",
       "        vertical-align: top;\n",
       "    }\n",
       "\n",
       "    .dataframe thead th {\n",
       "        text-align: right;\n",
       "    }\n",
       "</style>\n",
       "<table border=\"1\" class=\"dataframe\">\n",
       "  <thead>\n",
       "    <tr style=\"text-align: right;\">\n",
       "      <th></th>\n",
       "      <th>country</th>\n",
       "      <th>value</th>\n",
       "      <th>continent</th>\n",
       "    </tr>\n",
       "  </thead>\n",
       "  <tbody>\n",
       "    <tr>\n",
       "      <th>0</th>\n",
       "      <td>Afghanistan</td>\n",
       "      <td>135.3</td>\n",
       "      <td>Asia</td>\n",
       "    </tr>\n",
       "    <tr>\n",
       "      <th>1</th>\n",
       "      <td>Albania</td>\n",
       "      <td>65.5</td>\n",
       "      <td>Europe</td>\n",
       "    </tr>\n",
       "    <tr>\n",
       "      <th>2</th>\n",
       "      <td>Algeria</td>\n",
       "      <td>65.1</td>\n",
       "      <td>Africa</td>\n",
       "    </tr>\n",
       "    <tr>\n",
       "      <th>3</th>\n",
       "      <td>American Samoa</td>\n",
       "      <td>0.0</td>\n",
       "      <td>Oceania</td>\n",
       "    </tr>\n",
       "    <tr>\n",
       "      <th>4</th>\n",
       "      <td>Andorra</td>\n",
       "      <td>0.0</td>\n",
       "      <td>Europe</td>\n",
       "    </tr>\n",
       "    <tr>\n",
       "      <th>...</th>\n",
       "      <td>...</td>\n",
       "      <td>...</td>\n",
       "      <td>...</td>\n",
       "    </tr>\n",
       "    <tr>\n",
       "      <th>199</th>\n",
       "      <td>Venezuela (Bolivarian Republic of)</td>\n",
       "      <td>0.0</td>\n",
       "      <td>NaN</td>\n",
       "    </tr>\n",
       "    <tr>\n",
       "      <th>200</th>\n",
       "      <td>Viet Nam</td>\n",
       "      <td>2.3</td>\n",
       "      <td>NaN</td>\n",
       "    </tr>\n",
       "    <tr>\n",
       "      <th>201</th>\n",
       "      <td>Yemen</td>\n",
       "      <td>80.4</td>\n",
       "      <td>Asia</td>\n",
       "    </tr>\n",
       "    <tr>\n",
       "      <th>202</th>\n",
       "      <td>Zambia</td>\n",
       "      <td>189.4</td>\n",
       "      <td>Africa</td>\n",
       "    </tr>\n",
       "    <tr>\n",
       "      <th>203</th>\n",
       "      <td>Zimbabwe</td>\n",
       "      <td>234.3</td>\n",
       "      <td>Africa</td>\n",
       "    </tr>\n",
       "  </tbody>\n",
       "</table>\n",
       "<p>204 rows × 3 columns</p>\n",
       "</div>"
      ],
      "text/plain": [
       "                                country  value continent\n",
       "0                           Afghanistan  135.3      Asia\n",
       "1                               Albania   65.5    Europe\n",
       "2                               Algeria   65.1    Africa\n",
       "3                        American Samoa    0.0   Oceania\n",
       "4                               Andorra    0.0    Europe\n",
       "..                                  ...    ...       ...\n",
       "199  Venezuela (Bolivarian Republic of)    0.0       NaN\n",
       "200                            Viet Nam    2.3       NaN\n",
       "201                               Yemen   80.4      Asia\n",
       "202                              Zambia  189.4    Africa\n",
       "203                            Zimbabwe  234.3    Africa\n",
       "\n",
       "[204 rows x 3 columns]"
      ]
     },
     "execution_count": 241,
     "metadata": {},
     "output_type": "execute_result"
    }
   ],
   "source": [
    "df"
   ]
  },
  {
   "cell_type": "code",
   "execution_count": 242,
   "metadata": {},
   "outputs": [
    {
     "data": {
      "text/html": [
       "<div>\n",
       "<style scoped>\n",
       "    .dataframe tbody tr th:only-of-type {\n",
       "        vertical-align: middle;\n",
       "    }\n",
       "\n",
       "    .dataframe tbody tr th {\n",
       "        vertical-align: top;\n",
       "    }\n",
       "\n",
       "    .dataframe thead th {\n",
       "        text-align: right;\n",
       "    }\n",
       "</style>\n",
       "<table border=\"1\" class=\"dataframe\">\n",
       "  <thead>\n",
       "    <tr style=\"text-align: right;\">\n",
       "      <th></th>\n",
       "      <th>country</th>\n",
       "      <th>value</th>\n",
       "      <th>continent</th>\n",
       "    </tr>\n",
       "  </thead>\n",
       "  <tbody>\n",
       "    <tr>\n",
       "      <th>0</th>\n",
       "      <td>Afghanistan</td>\n",
       "      <td>135.3</td>\n",
       "      <td>Asia</td>\n",
       "    </tr>\n",
       "    <tr>\n",
       "      <th>1</th>\n",
       "      <td>Albania</td>\n",
       "      <td>65.5</td>\n",
       "      <td>Europe</td>\n",
       "    </tr>\n",
       "    <tr>\n",
       "      <th>2</th>\n",
       "      <td>Algeria</td>\n",
       "      <td>65.1</td>\n",
       "      <td>Africa</td>\n",
       "    </tr>\n",
       "    <tr>\n",
       "      <th>3</th>\n",
       "      <td>Angola</td>\n",
       "      <td>133.5</td>\n",
       "      <td>Africa</td>\n",
       "    </tr>\n",
       "    <tr>\n",
       "      <th>4</th>\n",
       "      <td>Antigua and Barbuda</td>\n",
       "      <td>14.2</td>\n",
       "      <td>NaN</td>\n",
       "    </tr>\n",
       "    <tr>\n",
       "      <th>...</th>\n",
       "      <td>...</td>\n",
       "      <td>...</td>\n",
       "      <td>...</td>\n",
       "    </tr>\n",
       "    <tr>\n",
       "      <th>141</th>\n",
       "      <td>Vanuatu</td>\n",
       "      <td>9.6</td>\n",
       "      <td>Oceania</td>\n",
       "    </tr>\n",
       "    <tr>\n",
       "      <th>142</th>\n",
       "      <td>Viet Nam</td>\n",
       "      <td>2.3</td>\n",
       "      <td>NaN</td>\n",
       "    </tr>\n",
       "    <tr>\n",
       "      <th>143</th>\n",
       "      <td>Yemen</td>\n",
       "      <td>80.4</td>\n",
       "      <td>Asia</td>\n",
       "    </tr>\n",
       "    <tr>\n",
       "      <th>144</th>\n",
       "      <td>Zambia</td>\n",
       "      <td>189.4</td>\n",
       "      <td>Africa</td>\n",
       "    </tr>\n",
       "    <tr>\n",
       "      <th>145</th>\n",
       "      <td>Zimbabwe</td>\n",
       "      <td>234.3</td>\n",
       "      <td>Africa</td>\n",
       "    </tr>\n",
       "  </tbody>\n",
       "</table>\n",
       "<p>146 rows × 3 columns</p>\n",
       "</div>"
      ],
      "text/plain": [
       "                 country  value continent\n",
       "0            Afghanistan  135.3      Asia\n",
       "1                Albania   65.5    Europe\n",
       "2                Algeria   65.1    Africa\n",
       "3                 Angola  133.5    Africa\n",
       "4    Antigua and Barbuda   14.2       NaN\n",
       "..                   ...    ...       ...\n",
       "141              Vanuatu    9.6   Oceania\n",
       "142             Viet Nam    2.3       NaN\n",
       "143                Yemen   80.4      Asia\n",
       "144               Zambia  189.4    Africa\n",
       "145             Zimbabwe  234.3    Africa\n",
       "\n",
       "[146 rows x 3 columns]"
      ]
     },
     "execution_count": 242,
     "metadata": {},
     "output_type": "execute_result"
    }
   ],
   "source": [
    "# drop the rows with value 0\n",
    "df = df[df['value'] != 0].reset_index(drop=True)\n",
    "df"
   ]
  },
  {
   "cell_type": "code",
   "execution_count": 243,
   "metadata": {},
   "outputs": [
    {
     "data": {
      "text/html": [
       "<div>\n",
       "<style scoped>\n",
       "    .dataframe tbody tr th:only-of-type {\n",
       "        vertical-align: middle;\n",
       "    }\n",
       "\n",
       "    .dataframe tbody tr th {\n",
       "        vertical-align: top;\n",
       "    }\n",
       "\n",
       "    .dataframe thead th {\n",
       "        text-align: right;\n",
       "    }\n",
       "</style>\n",
       "<table border=\"1\" class=\"dataframe\">\n",
       "  <thead>\n",
       "    <tr style=\"text-align: right;\">\n",
       "      <th></th>\n",
       "      <th>country</th>\n",
       "      <th>value</th>\n",
       "      <th>continent</th>\n",
       "    </tr>\n",
       "  </thead>\n",
       "  <tbody>\n",
       "    <tr>\n",
       "      <th>0</th>\n",
       "      <td>Afghanistan</td>\n",
       "      <td>135.3</td>\n",
       "      <td>Asia</td>\n",
       "    </tr>\n",
       "    <tr>\n",
       "      <th>1</th>\n",
       "      <td>Albania</td>\n",
       "      <td>65.5</td>\n",
       "      <td>Europe</td>\n",
       "    </tr>\n",
       "    <tr>\n",
       "      <th>2</th>\n",
       "      <td>Algeria</td>\n",
       "      <td>65.1</td>\n",
       "      <td>Africa</td>\n",
       "    </tr>\n",
       "    <tr>\n",
       "      <th>3</th>\n",
       "      <td>Angola</td>\n",
       "      <td>133.5</td>\n",
       "      <td>Africa</td>\n",
       "    </tr>\n",
       "    <tr>\n",
       "      <th>4</th>\n",
       "      <td>Antigua and Barbuda</td>\n",
       "      <td>14.2</td>\n",
       "      <td>North America</td>\n",
       "    </tr>\n",
       "    <tr>\n",
       "      <th>...</th>\n",
       "      <td>...</td>\n",
       "      <td>...</td>\n",
       "      <td>...</td>\n",
       "    </tr>\n",
       "    <tr>\n",
       "      <th>141</th>\n",
       "      <td>Vanuatu</td>\n",
       "      <td>9.6</td>\n",
       "      <td>Oceania</td>\n",
       "    </tr>\n",
       "    <tr>\n",
       "      <th>142</th>\n",
       "      <td>Viet Nam</td>\n",
       "      <td>2.3</td>\n",
       "      <td>Asia</td>\n",
       "    </tr>\n",
       "    <tr>\n",
       "      <th>143</th>\n",
       "      <td>Yemen</td>\n",
       "      <td>80.4</td>\n",
       "      <td>Asia</td>\n",
       "    </tr>\n",
       "    <tr>\n",
       "      <th>144</th>\n",
       "      <td>Zambia</td>\n",
       "      <td>189.4</td>\n",
       "      <td>Africa</td>\n",
       "    </tr>\n",
       "    <tr>\n",
       "      <th>145</th>\n",
       "      <td>Zimbabwe</td>\n",
       "      <td>234.3</td>\n",
       "      <td>Africa</td>\n",
       "    </tr>\n",
       "  </tbody>\n",
       "</table>\n",
       "<p>146 rows × 3 columns</p>\n",
       "</div>"
      ],
      "text/plain": [
       "                 country  value      continent\n",
       "0            Afghanistan  135.3           Asia\n",
       "1                Albania   65.5         Europe\n",
       "2                Algeria   65.1         Africa\n",
       "3                 Angola  133.5         Africa\n",
       "4    Antigua and Barbuda   14.2  North America\n",
       "..                   ...    ...            ...\n",
       "141              Vanuatu    9.6        Oceania\n",
       "142             Viet Nam    2.3           Asia\n",
       "143                Yemen   80.4           Asia\n",
       "144               Zambia  189.4         Africa\n",
       "145             Zimbabwe  234.3         Africa\n",
       "\n",
       "[146 rows x 3 columns]"
      ]
     },
     "execution_count": 243,
     "metadata": {},
     "output_type": "execute_result"
    }
   ],
   "source": [
    "# dictionary mapping each country to its continent\n",
    "country_to_continent = {\n",
    "    'Antigua and Barbuda': 'North America',\n",
    "    'Bahamas': 'North America',\n",
    "    'Barbados': 'North America',\n",
    "    'Belize': 'North America',\n",
    "    'Cabo Verde': 'Africa',\n",
    "    'Congo': 'Africa',\n",
    "    'Czechia': 'Europe',\n",
    "    'Côte d\\'Ivoire': 'Africa',\n",
    "    'Eswatini': 'Africa',\n",
    "    'Grenada': 'North America',\n",
    "    'Haiti': 'North America',\n",
    "    'Iran (Islamic Republic of)': 'Asia',\n",
    "    'Jamaica': 'North America',\n",
    "    'Lao People\\'s Democratic Republic': 'Asia',\n",
    "    'Myanmar': 'Asia',\n",
    "    'Netherlands (Kingdom of the)': 'Europe',\n",
    "    'Republic of Korea': 'Asia',\n",
    "    'Republic of Moldova': 'Europe',\n",
    "    'Russian Federation': 'Europe',\n",
    "    'Saint Kitts and Nevis': 'North America',\n",
    "    'Saint Lucia': 'North America',\n",
    "    'Saint Vincent and the Grenadines': 'North America',\n",
    "    'Sao Tome and Principe': 'Africa',\n",
    "    'Trinidad and Tobago': 'North America',\n",
    "    'United Kingdom of Great Britain and Northern Ireland': 'Europe',\n",
    "    'United Republic of Tanzania': 'Africa',\n",
    "    'United States of America': 'North America',\n",
    "    'Viet Nam': 'Asia'\n",
    "}\n",
    "\n",
    "# map the country to the continent\n",
    "df['continent'] = df['continent'].fillna(df['country'].map(country_to_continent))\n",
    "\n",
    "df\n"
   ]
  },
  {
   "cell_type": "code",
   "execution_count": 244,
   "metadata": {},
   "outputs": [
    {
     "data": {
      "text/plain": [
       "array(['Asia', 'Europe', 'Africa', 'North America', 'South America',\n",
       "       'Oceania'], dtype=object)"
      ]
     },
     "execution_count": 244,
     "metadata": {},
     "output_type": "execute_result"
    }
   ],
   "source": [
    "# data sanity check\n",
    "# check the continent value\n",
    "df.continent.unique()\n",
    "\n",
    "# replace the incorrect value\n",
    "df['continent'] = df['continent'].str.replace('North Americ', 'North America')\n",
    "df['continent'] = df['continent'].str.replace('North Americaa', 'North America')"
   ]
  },
  {
   "cell_type": "code",
   "execution_count": 246,
   "metadata": {},
   "outputs": [
    {
     "data": {
      "text/html": [
       "<div>\n",
       "<style scoped>\n",
       "    .dataframe tbody tr th:only-of-type {\n",
       "        vertical-align: middle;\n",
       "    }\n",
       "\n",
       "    .dataframe tbody tr th {\n",
       "        vertical-align: top;\n",
       "    }\n",
       "\n",
       "    .dataframe thead th {\n",
       "        text-align: right;\n",
       "    }\n",
       "</style>\n",
       "<table border=\"1\" class=\"dataframe\">\n",
       "  <thead>\n",
       "    <tr style=\"text-align: right;\">\n",
       "      <th></th>\n",
       "      <th>country</th>\n",
       "      <th>value</th>\n",
       "      <th>continent</th>\n",
       "    </tr>\n",
       "  </thead>\n",
       "  <tbody>\n",
       "    <tr>\n",
       "      <th>0</th>\n",
       "      <td>Afghanistan</td>\n",
       "      <td>135.3</td>\n",
       "      <td>Asia</td>\n",
       "    </tr>\n",
       "    <tr>\n",
       "      <th>1</th>\n",
       "      <td>Albania</td>\n",
       "      <td>65.5</td>\n",
       "      <td>Europe</td>\n",
       "    </tr>\n",
       "    <tr>\n",
       "      <th>2</th>\n",
       "      <td>Algeria</td>\n",
       "      <td>65.1</td>\n",
       "      <td>Africa</td>\n",
       "    </tr>\n",
       "    <tr>\n",
       "      <th>3</th>\n",
       "      <td>Angola</td>\n",
       "      <td>133.5</td>\n",
       "      <td>Africa</td>\n",
       "    </tr>\n",
       "    <tr>\n",
       "      <th>4</th>\n",
       "      <td>Antigua and Barbuda</td>\n",
       "      <td>14.2</td>\n",
       "      <td>North America</td>\n",
       "    </tr>\n",
       "    <tr>\n",
       "      <th>...</th>\n",
       "      <td>...</td>\n",
       "      <td>...</td>\n",
       "      <td>...</td>\n",
       "    </tr>\n",
       "    <tr>\n",
       "      <th>141</th>\n",
       "      <td>Vanuatu</td>\n",
       "      <td>9.6</td>\n",
       "      <td>Oceania</td>\n",
       "    </tr>\n",
       "    <tr>\n",
       "      <th>142</th>\n",
       "      <td>Viet Nam</td>\n",
       "      <td>2.3</td>\n",
       "      <td>Asia</td>\n",
       "    </tr>\n",
       "    <tr>\n",
       "      <th>143</th>\n",
       "      <td>Yemen</td>\n",
       "      <td>80.4</td>\n",
       "      <td>Asia</td>\n",
       "    </tr>\n",
       "    <tr>\n",
       "      <th>144</th>\n",
       "      <td>Zambia</td>\n",
       "      <td>189.4</td>\n",
       "      <td>Africa</td>\n",
       "    </tr>\n",
       "    <tr>\n",
       "      <th>145</th>\n",
       "      <td>Zimbabwe</td>\n",
       "      <td>234.3</td>\n",
       "      <td>Africa</td>\n",
       "    </tr>\n",
       "  </tbody>\n",
       "</table>\n",
       "<p>146 rows × 3 columns</p>\n",
       "</div>"
      ],
      "text/plain": [
       "                 country  value      continent\n",
       "0            Afghanistan  135.3           Asia\n",
       "1                Albania   65.5         Europe\n",
       "2                Algeria   65.1         Africa\n",
       "3                 Angola  133.5         Africa\n",
       "4    Antigua and Barbuda   14.2  North America\n",
       "..                   ...    ...            ...\n",
       "141              Vanuatu    9.6        Oceania\n",
       "142             Viet Nam    2.3           Asia\n",
       "143                Yemen   80.4           Asia\n",
       "144               Zambia  189.4         Africa\n",
       "145             Zimbabwe  234.3         Africa\n",
       "\n",
       "[146 rows x 3 columns]"
      ]
     },
     "execution_count": 246,
     "metadata": {},
     "output_type": "execute_result"
    }
   ],
   "source": [
    "df"
   ]
  },
  {
   "cell_type": "markdown",
   "metadata": {},
   "source": [
    "## Data Visualiztion: Prevalence of severe food insecurity in the total population\n",
    "\n",
    "### Nested pie chart"
   ]
  },
  {
   "cell_type": "code",
   "execution_count": 248,
   "metadata": {},
   "outputs": [
    {
     "data": {
      "application/vnd.plotly.v1+json": {
       "config": {
        "plotlyServerURL": "https://plot.ly"
       },
       "data": [
        {
         "branchvalues": "total",
         "domain": {
          "x": [
           0,
           1
          ],
          "y": [
           0,
           1
          ]
         },
         "hovertemplate": "labels=%{label}<br>value=%{value}<br>parent=%{parent}<br>id=%{id}<extra></extra>",
         "ids": [
          "Asia/Afghanistan",
          "Europe/Albania",
          "Africa/Algeria",
          "Africa/Angola",
          "North America/Antigua and Barbuda",
          "South America/Argentina",
          "Asia/Armenia",
          "Oceania/Australia",
          "Europe/Austria",
          "North America/Bahamas",
          "Asia/Bangladesh",
          "North America/Barbados",
          "Europe/Belgium",
          "North America/Belize",
          "Africa/Benin",
          "Europe/Bosnia and Herzegovina",
          "Africa/Botswana",
          "South America/Brazil",
          "Europe/Bulgaria",
          "Africa/Burkina Faso",
          "Africa/Cabo Verde",
          "Asia/Cambodia",
          "Africa/Cameroon",
          "North America/Canada",
          "Africa/Central African Republic",
          "South America/Chile",
          "Africa/Comoros",
          "Africa/Congo",
          "North America/Costa Rica",
          "Europe/Croatia",
          "Europe/Czechia",
          "Africa/Côte d'Ivoire",
          "Africa/Democratic Republic of the Congo",
          "Europe/Denmark",
          "Africa/Djibouti",
          "North America/Dominican Republic",
          "South America/Ecuador",
          "Africa/Egypt",
          "North America/El Salvador",
          "Europe/Estonia",
          "Africa/Eswatini",
          "Africa/Ethiopia",
          "Oceania/Fiji",
          "Europe/Finland",
          "Europe/France",
          "Africa/Gambia",
          "Asia/Georgia",
          "Europe/Germany",
          "Africa/Ghana",
          "Europe/Greece",
          "North America/Grenada",
          "North America/Guatemala",
          "Africa/Guinea",
          "Africa/Guinea-Bissau",
          "North America/Haiti",
          "North America/Honduras",
          "Europe/Hungary",
          "Europe/Iceland",
          "Asia/Indonesia",
          "Asia/Iran (Islamic Republic of)",
          "Europe/Ireland",
          "Asia/Israel",
          "Europe/Italy",
          "North America/Jamaica",
          "Asia/Japan",
          "Asia/Kazakhstan",
          "Africa/Kenya",
          "Oceania/Kiribati",
          "Asia/Kuwait",
          "Asia/Kyrgyzstan",
          "Asia/Lao People's Democratic Republic",
          "Europe/Latvia",
          "Asia/Lebanon",
          "Africa/Lesotho",
          "Africa/Liberia",
          "Africa/Libya",
          "Europe/Lithuania",
          "Europe/Luxembourg",
          "Africa/Madagascar",
          "Africa/Malawi",
          "Asia/Malaysia",
          "Asia/Maldives",
          "Europe/Malta",
          "Africa/Mauritania",
          "Africa/Mauritius",
          "North America/Mexico",
          "Europe/Montenegro",
          "Africa/Mozambique",
          "Asia/Myanmar",
          "Africa/Namibia",
          "Asia/Nepal",
          "Europe/Netherlands (Kingdom of the)",
          "Oceania/New Zealand",
          "Africa/Niger",
          "Africa/Nigeria",
          "Europe/North Macedonia",
          "Europe/Norway",
          "Asia/Pakistan",
          "Asia/Palestine",
          "South America/Paraguay",
          "Asia/Philippines",
          "Europe/Poland",
          "Europe/Portugal",
          "Asia/Republic of Korea",
          "Europe/Republic of Moldova",
          "Europe/Romania",
          "Europe/Russian Federation",
          "North America/Saint Kitts and Nevis",
          "North America/Saint Lucia",
          "North America/Saint Vincent and the Grenadines",
          "Oceania/Samoa",
          "Africa/Sao Tome and Principe",
          "Africa/Senegal",
          "Europe/Serbia",
          "Africa/Seychelles",
          "Africa/Sierra Leone",
          "Asia/Singapore",
          "Europe/Slovakia",
          "Europe/Slovenia",
          "Africa/Somalia",
          "Africa/South Africa",
          "Africa/South Sudan",
          "Europe/Spain",
          "Asia/Sri Lanka",
          "Africa/Sudan",
          "South America/Suriname",
          "Europe/Sweden",
          "Europe/Switzerland",
          "Asia/Thailand",
          "Africa/Togo",
          "Oceania/Tonga",
          "North America/Trinidad and Tobago",
          "Africa/Tunisia",
          "Africa/Uganda",
          "Europe/Ukraine",
          "Asia/United Arab Emirates",
          "Europe/United Kingdom of Great Britain and Northern Ireland",
          "Africa/United Republic of Tanzania",
          "North America/United States of America",
          "South America/Uruguay",
          "Asia/Uzbekistan",
          "Oceania/Vanuatu",
          "Asia/Viet Nam",
          "Asia/Yemen",
          "Africa/Zambia",
          "Africa/Zimbabwe",
          "Africa",
          "Asia",
          "Europe",
          "North America",
          "Oceania",
          "South America"
         ],
         "labels": [
          "Afghanistan",
          "Albania",
          "Algeria",
          "Angola",
          "Antigua and Barbuda",
          "Argentina",
          "Armenia",
          "Australia",
          "Austria",
          "Bahamas",
          "Bangladesh",
          "Barbados",
          "Belgium",
          "Belize",
          "Benin",
          "Bosnia and Herzegovina",
          "Botswana",
          "Brazil",
          "Bulgaria",
          "Burkina Faso",
          "Cabo Verde",
          "Cambodia",
          "Cameroon",
          "Canada",
          "Central African Republic",
          "Chile",
          "Comoros",
          "Congo",
          "Costa Rica",
          "Croatia",
          "Czechia",
          "Côte d'Ivoire",
          "Democratic Republic of the Congo",
          "Denmark",
          "Djibouti",
          "Dominican Republic",
          "Ecuador",
          "Egypt",
          "El Salvador",
          "Estonia",
          "Eswatini",
          "Ethiopia",
          "Fiji",
          "Finland",
          "France",
          "Gambia",
          "Georgia",
          "Germany",
          "Ghana",
          "Greece",
          "Grenada",
          "Guatemala",
          "Guinea",
          "Guinea-Bissau",
          "Haiti",
          "Honduras",
          "Hungary",
          "Iceland",
          "Indonesia",
          "Iran (Islamic Republic of)",
          "Ireland",
          "Israel",
          "Italy",
          "Jamaica",
          "Japan",
          "Kazakhstan",
          "Kenya",
          "Kiribati",
          "Kuwait",
          "Kyrgyzstan",
          "Lao People's Democratic Republic",
          "Latvia",
          "Lebanon",
          "Lesotho",
          "Liberia",
          "Libya",
          "Lithuania",
          "Luxembourg",
          "Madagascar",
          "Malawi",
          "Malaysia",
          "Maldives",
          "Malta",
          "Mauritania",
          "Mauritius",
          "Mexico",
          "Montenegro",
          "Mozambique",
          "Myanmar",
          "Namibia",
          "Nepal",
          "Netherlands (Kingdom of the)",
          "New Zealand",
          "Niger",
          "Nigeria",
          "North Macedonia",
          "Norway",
          "Pakistan",
          "Palestine",
          "Paraguay",
          "Philippines",
          "Poland",
          "Portugal",
          "Republic of Korea",
          "Republic of Moldova",
          "Romania",
          "Russian Federation",
          "Saint Kitts and Nevis",
          "Saint Lucia",
          "Saint Vincent and the Grenadines",
          "Samoa",
          "Sao Tome and Principe",
          "Senegal",
          "Serbia",
          "Seychelles",
          "Sierra Leone",
          "Singapore",
          "Slovakia",
          "Slovenia",
          "Somalia",
          "South Africa",
          "South Sudan",
          "Spain",
          "Sri Lanka",
          "Sudan",
          "Suriname",
          "Sweden",
          "Switzerland",
          "Thailand",
          "Togo",
          "Tonga",
          "Trinidad and Tobago",
          "Tunisia",
          "Uganda",
          "Ukraine",
          "United Arab Emirates",
          "United Kingdom of Great Britain and Northern Ireland",
          "United Republic of Tanzania",
          "United States of America",
          "Uruguay",
          "Uzbekistan",
          "Vanuatu",
          "Viet Nam",
          "Yemen",
          "Zambia",
          "Zimbabwe",
          "Africa",
          "Asia",
          "Europe",
          "North America",
          "Oceania",
          "South America"
         ],
         "name": "",
         "parents": [
          "Asia",
          "Europe",
          "Africa",
          "Africa",
          "North America",
          "South America",
          "Asia",
          "Oceania",
          "Europe",
          "North America",
          "Asia",
          "North America",
          "Europe",
          "North America",
          "Africa",
          "Europe",
          "Africa",
          "South America",
          "Europe",
          "Africa",
          "Africa",
          "Asia",
          "Africa",
          "North America",
          "Africa",
          "South America",
          "Africa",
          "Africa",
          "North America",
          "Europe",
          "Europe",
          "Africa",
          "Africa",
          "Europe",
          "Africa",
          "North America",
          "South America",
          "Africa",
          "North America",
          "Europe",
          "Africa",
          "Africa",
          "Oceania",
          "Europe",
          "Europe",
          "Africa",
          "Asia",
          "Europe",
          "Africa",
          "Europe",
          "North America",
          "North America",
          "Africa",
          "Africa",
          "North America",
          "North America",
          "Europe",
          "Europe",
          "Asia",
          "Asia",
          "Europe",
          "Asia",
          "Europe",
          "North America",
          "Asia",
          "Asia",
          "Africa",
          "Oceania",
          "Asia",
          "Asia",
          "Asia",
          "Europe",
          "Asia",
          "Africa",
          "Africa",
          "Africa",
          "Europe",
          "Europe",
          "Africa",
          "Africa",
          "Asia",
          "Asia",
          "Europe",
          "Africa",
          "Africa",
          "North America",
          "Europe",
          "Africa",
          "Asia",
          "Africa",
          "Asia",
          "Europe",
          "Oceania",
          "Africa",
          "Africa",
          "Europe",
          "Europe",
          "Asia",
          "Asia",
          "South America",
          "Asia",
          "Europe",
          "Europe",
          "Asia",
          "Europe",
          "Europe",
          "Europe",
          "North America",
          "North America",
          "North America",
          "Oceania",
          "Africa",
          "Africa",
          "Europe",
          "Africa",
          "Africa",
          "Asia",
          "Europe",
          "Europe",
          "Africa",
          "Africa",
          "Africa",
          "Europe",
          "Asia",
          "Africa",
          "South America",
          "Europe",
          "Europe",
          "Asia",
          "Africa",
          "Oceania",
          "North America",
          "Africa",
          "Africa",
          "Europe",
          "Asia",
          "Europe",
          "Africa",
          "North America",
          "South America",
          "Asia",
          "Oceania",
          "Asia",
          "Asia",
          "Africa",
          "Africa",
          "",
          "",
          "",
          "",
          "",
          ""
         ],
         "type": "sunburst",
         "values": [
          135.3,
          65.5,
          65.1,
          133.5,
          14.2,
          77.2,
          3.1,
          23.9,
          8.3,
          6.8,
          80.1,
          14.8,
          3.9000000000000004,
          24,
          95,
          13.9,
          161.6,
          27.7,
          17.1,
          100.3,
          38.5,
          102.7,
          185.9,
          4.4,
          185.39999999999998,
          24.5,
          54.8,
          355.5,
          16.6,
          7.7,
          5.4,
          59.5,
          118.4,
          8.6,
          33,
          161.2,
          68.8,
          55.7,
          102.1,
          5.9,
          36.6,
          115.5,
          12.5,
          15.7,
          7.7,
          151.6,
          58.4,
          6.4,
          42,
          16,
          39,
          129.3,
          338.9,
          103,
          136.9,
          112.4,
          10.7,
          10.8,
          3.3,
          59.7,
          22.5,
          13,
          9.4,
          169.6,
          3.7,
          0.5,
          156.8,
          32,
          33.900000000000006,
          4.6,
          24.400000000000002,
          4.8,
          33.8,
          119.69999999999999,
          227.39999999999998,
          115.1,
          12.9,
          7.1,
          41.9,
          346.9,
          46.8,
          4.4,
          8.9,
          44.3,
          52,
          25.1,
          18.3,
          201.9,
          10.6,
          217.9,
          78.7,
          10.6,
          25.4,
          69,
          110.4,
          30.9,
          7.7,
          31,
          20.1,
          26.299999999999997,
          17.7,
          5.6,
          24,
          2.1,
          24.9,
          30.6,
          2,
          51.6,
          18,
          51.5,
          17,
          28.2,
          62.699999999999996,
          18.4,
          12.9,
          219.3,
          8.3,
          8.200000000000001,
          3.8,
          85.1,
          31.4,
          317.6,
          11.1,
          5.8,
          111.9,
          14.4,
          7.9,
          4.9,
          6,
          120.5,
          20.5,
          20.4,
          73.1,
          167.5,
          17.8,
          2,
          10.4,
          172.4,
          6,
          14.3,
          25.4,
          9.6,
          2.3,
          80.4,
          189.4,
          234.3,
          5959.4,
          898.1,
          506.3,
          1103.9,
          140.9,
          253.2
         ]
        }
       ],
       "layout": {
        "legend": {
         "tracegroupgap": 0
        },
        "sunburstcolorway": [
         "rgb(141,211,199)",
         "rgb(255,255,179)",
         "rgb(190,186,218)",
         "rgb(251,128,114)",
         "rgb(128,177,211)",
         "rgb(253,180,98)",
         "rgb(179,222,105)",
         "rgb(252,205,229)",
         "rgb(217,217,217)",
         "rgb(188,128,189)",
         "rgb(204,235,197)",
         "rgb(255,237,111)"
        ],
        "template": {
         "data": {
          "bar": [
           {
            "error_x": {
             "color": "#2a3f5f"
            },
            "error_y": {
             "color": "#2a3f5f"
            },
            "marker": {
             "line": {
              "color": "#E5ECF6",
              "width": 0.5
             },
             "pattern": {
              "fillmode": "overlay",
              "size": 10,
              "solidity": 0.2
             }
            },
            "type": "bar"
           }
          ],
          "barpolar": [
           {
            "marker": {
             "line": {
              "color": "#E5ECF6",
              "width": 0.5
             },
             "pattern": {
              "fillmode": "overlay",
              "size": 10,
              "solidity": 0.2
             }
            },
            "type": "barpolar"
           }
          ],
          "carpet": [
           {
            "aaxis": {
             "endlinecolor": "#2a3f5f",
             "gridcolor": "white",
             "linecolor": "white",
             "minorgridcolor": "white",
             "startlinecolor": "#2a3f5f"
            },
            "baxis": {
             "endlinecolor": "#2a3f5f",
             "gridcolor": "white",
             "linecolor": "white",
             "minorgridcolor": "white",
             "startlinecolor": "#2a3f5f"
            },
            "type": "carpet"
           }
          ],
          "choropleth": [
           {
            "colorbar": {
             "outlinewidth": 0,
             "ticks": ""
            },
            "type": "choropleth"
           }
          ],
          "contour": [
           {
            "colorbar": {
             "outlinewidth": 0,
             "ticks": ""
            },
            "colorscale": [
             [
              0,
              "#0d0887"
             ],
             [
              0.1111111111111111,
              "#46039f"
             ],
             [
              0.2222222222222222,
              "#7201a8"
             ],
             [
              0.3333333333333333,
              "#9c179e"
             ],
             [
              0.4444444444444444,
              "#bd3786"
             ],
             [
              0.5555555555555556,
              "#d8576b"
             ],
             [
              0.6666666666666666,
              "#ed7953"
             ],
             [
              0.7777777777777778,
              "#fb9f3a"
             ],
             [
              0.8888888888888888,
              "#fdca26"
             ],
             [
              1,
              "#f0f921"
             ]
            ],
            "type": "contour"
           }
          ],
          "contourcarpet": [
           {
            "colorbar": {
             "outlinewidth": 0,
             "ticks": ""
            },
            "type": "contourcarpet"
           }
          ],
          "heatmap": [
           {
            "colorbar": {
             "outlinewidth": 0,
             "ticks": ""
            },
            "colorscale": [
             [
              0,
              "#0d0887"
             ],
             [
              0.1111111111111111,
              "#46039f"
             ],
             [
              0.2222222222222222,
              "#7201a8"
             ],
             [
              0.3333333333333333,
              "#9c179e"
             ],
             [
              0.4444444444444444,
              "#bd3786"
             ],
             [
              0.5555555555555556,
              "#d8576b"
             ],
             [
              0.6666666666666666,
              "#ed7953"
             ],
             [
              0.7777777777777778,
              "#fb9f3a"
             ],
             [
              0.8888888888888888,
              "#fdca26"
             ],
             [
              1,
              "#f0f921"
             ]
            ],
            "type": "heatmap"
           }
          ],
          "heatmapgl": [
           {
            "colorbar": {
             "outlinewidth": 0,
             "ticks": ""
            },
            "colorscale": [
             [
              0,
              "#0d0887"
             ],
             [
              0.1111111111111111,
              "#46039f"
             ],
             [
              0.2222222222222222,
              "#7201a8"
             ],
             [
              0.3333333333333333,
              "#9c179e"
             ],
             [
              0.4444444444444444,
              "#bd3786"
             ],
             [
              0.5555555555555556,
              "#d8576b"
             ],
             [
              0.6666666666666666,
              "#ed7953"
             ],
             [
              0.7777777777777778,
              "#fb9f3a"
             ],
             [
              0.8888888888888888,
              "#fdca26"
             ],
             [
              1,
              "#f0f921"
             ]
            ],
            "type": "heatmapgl"
           }
          ],
          "histogram": [
           {
            "marker": {
             "pattern": {
              "fillmode": "overlay",
              "size": 10,
              "solidity": 0.2
             }
            },
            "type": "histogram"
           }
          ],
          "histogram2d": [
           {
            "colorbar": {
             "outlinewidth": 0,
             "ticks": ""
            },
            "colorscale": [
             [
              0,
              "#0d0887"
             ],
             [
              0.1111111111111111,
              "#46039f"
             ],
             [
              0.2222222222222222,
              "#7201a8"
             ],
             [
              0.3333333333333333,
              "#9c179e"
             ],
             [
              0.4444444444444444,
              "#bd3786"
             ],
             [
              0.5555555555555556,
              "#d8576b"
             ],
             [
              0.6666666666666666,
              "#ed7953"
             ],
             [
              0.7777777777777778,
              "#fb9f3a"
             ],
             [
              0.8888888888888888,
              "#fdca26"
             ],
             [
              1,
              "#f0f921"
             ]
            ],
            "type": "histogram2d"
           }
          ],
          "histogram2dcontour": [
           {
            "colorbar": {
             "outlinewidth": 0,
             "ticks": ""
            },
            "colorscale": [
             [
              0,
              "#0d0887"
             ],
             [
              0.1111111111111111,
              "#46039f"
             ],
             [
              0.2222222222222222,
              "#7201a8"
             ],
             [
              0.3333333333333333,
              "#9c179e"
             ],
             [
              0.4444444444444444,
              "#bd3786"
             ],
             [
              0.5555555555555556,
              "#d8576b"
             ],
             [
              0.6666666666666666,
              "#ed7953"
             ],
             [
              0.7777777777777778,
              "#fb9f3a"
             ],
             [
              0.8888888888888888,
              "#fdca26"
             ],
             [
              1,
              "#f0f921"
             ]
            ],
            "type": "histogram2dcontour"
           }
          ],
          "mesh3d": [
           {
            "colorbar": {
             "outlinewidth": 0,
             "ticks": ""
            },
            "type": "mesh3d"
           }
          ],
          "parcoords": [
           {
            "line": {
             "colorbar": {
              "outlinewidth": 0,
              "ticks": ""
             }
            },
            "type": "parcoords"
           }
          ],
          "pie": [
           {
            "automargin": true,
            "type": "pie"
           }
          ],
          "scatter": [
           {
            "fillpattern": {
             "fillmode": "overlay",
             "size": 10,
             "solidity": 0.2
            },
            "type": "scatter"
           }
          ],
          "scatter3d": [
           {
            "line": {
             "colorbar": {
              "outlinewidth": 0,
              "ticks": ""
             }
            },
            "marker": {
             "colorbar": {
              "outlinewidth": 0,
              "ticks": ""
             }
            },
            "type": "scatter3d"
           }
          ],
          "scattercarpet": [
           {
            "marker": {
             "colorbar": {
              "outlinewidth": 0,
              "ticks": ""
             }
            },
            "type": "scattercarpet"
           }
          ],
          "scattergeo": [
           {
            "marker": {
             "colorbar": {
              "outlinewidth": 0,
              "ticks": ""
             }
            },
            "type": "scattergeo"
           }
          ],
          "scattergl": [
           {
            "marker": {
             "colorbar": {
              "outlinewidth": 0,
              "ticks": ""
             }
            },
            "type": "scattergl"
           }
          ],
          "scattermapbox": [
           {
            "marker": {
             "colorbar": {
              "outlinewidth": 0,
              "ticks": ""
             }
            },
            "type": "scattermapbox"
           }
          ],
          "scatterpolar": [
           {
            "marker": {
             "colorbar": {
              "outlinewidth": 0,
              "ticks": ""
             }
            },
            "type": "scatterpolar"
           }
          ],
          "scatterpolargl": [
           {
            "marker": {
             "colorbar": {
              "outlinewidth": 0,
              "ticks": ""
             }
            },
            "type": "scatterpolargl"
           }
          ],
          "scatterternary": [
           {
            "marker": {
             "colorbar": {
              "outlinewidth": 0,
              "ticks": ""
             }
            },
            "type": "scatterternary"
           }
          ],
          "surface": [
           {
            "colorbar": {
             "outlinewidth": 0,
             "ticks": ""
            },
            "colorscale": [
             [
              0,
              "#0d0887"
             ],
             [
              0.1111111111111111,
              "#46039f"
             ],
             [
              0.2222222222222222,
              "#7201a8"
             ],
             [
              0.3333333333333333,
              "#9c179e"
             ],
             [
              0.4444444444444444,
              "#bd3786"
             ],
             [
              0.5555555555555556,
              "#d8576b"
             ],
             [
              0.6666666666666666,
              "#ed7953"
             ],
             [
              0.7777777777777778,
              "#fb9f3a"
             ],
             [
              0.8888888888888888,
              "#fdca26"
             ],
             [
              1,
              "#f0f921"
             ]
            ],
            "type": "surface"
           }
          ],
          "table": [
           {
            "cells": {
             "fill": {
              "color": "#EBF0F8"
             },
             "line": {
              "color": "white"
             }
            },
            "header": {
             "fill": {
              "color": "#C8D4E3"
             },
             "line": {
              "color": "white"
             }
            },
            "type": "table"
           }
          ]
         },
         "layout": {
          "annotationdefaults": {
           "arrowcolor": "#2a3f5f",
           "arrowhead": 0,
           "arrowwidth": 1
          },
          "autotypenumbers": "strict",
          "coloraxis": {
           "colorbar": {
            "outlinewidth": 0,
            "ticks": ""
           }
          },
          "colorscale": {
           "diverging": [
            [
             0,
             "#8e0152"
            ],
            [
             0.1,
             "#c51b7d"
            ],
            [
             0.2,
             "#de77ae"
            ],
            [
             0.3,
             "#f1b6da"
            ],
            [
             0.4,
             "#fde0ef"
            ],
            [
             0.5,
             "#f7f7f7"
            ],
            [
             0.6,
             "#e6f5d0"
            ],
            [
             0.7,
             "#b8e186"
            ],
            [
             0.8,
             "#7fbc41"
            ],
            [
             0.9,
             "#4d9221"
            ],
            [
             1,
             "#276419"
            ]
           ],
           "sequential": [
            [
             0,
             "#0d0887"
            ],
            [
             0.1111111111111111,
             "#46039f"
            ],
            [
             0.2222222222222222,
             "#7201a8"
            ],
            [
             0.3333333333333333,
             "#9c179e"
            ],
            [
             0.4444444444444444,
             "#bd3786"
            ],
            [
             0.5555555555555556,
             "#d8576b"
            ],
            [
             0.6666666666666666,
             "#ed7953"
            ],
            [
             0.7777777777777778,
             "#fb9f3a"
            ],
            [
             0.8888888888888888,
             "#fdca26"
            ],
            [
             1,
             "#f0f921"
            ]
           ],
           "sequentialminus": [
            [
             0,
             "#0d0887"
            ],
            [
             0.1111111111111111,
             "#46039f"
            ],
            [
             0.2222222222222222,
             "#7201a8"
            ],
            [
             0.3333333333333333,
             "#9c179e"
            ],
            [
             0.4444444444444444,
             "#bd3786"
            ],
            [
             0.5555555555555556,
             "#d8576b"
            ],
            [
             0.6666666666666666,
             "#ed7953"
            ],
            [
             0.7777777777777778,
             "#fb9f3a"
            ],
            [
             0.8888888888888888,
             "#fdca26"
            ],
            [
             1,
             "#f0f921"
            ]
           ]
          },
          "colorway": [
           "#636efa",
           "#EF553B",
           "#00cc96",
           "#ab63fa",
           "#FFA15A",
           "#19d3f3",
           "#FF6692",
           "#B6E880",
           "#FF97FF",
           "#FECB52"
          ],
          "font": {
           "color": "#2a3f5f"
          },
          "geo": {
           "bgcolor": "white",
           "lakecolor": "white",
           "landcolor": "#E5ECF6",
           "showlakes": true,
           "showland": true,
           "subunitcolor": "white"
          },
          "hoverlabel": {
           "align": "left"
          },
          "hovermode": "closest",
          "mapbox": {
           "style": "light"
          },
          "paper_bgcolor": "white",
          "plot_bgcolor": "#E5ECF6",
          "polar": {
           "angularaxis": {
            "gridcolor": "white",
            "linecolor": "white",
            "ticks": ""
           },
           "bgcolor": "#E5ECF6",
           "radialaxis": {
            "gridcolor": "white",
            "linecolor": "white",
            "ticks": ""
           }
          },
          "scene": {
           "xaxis": {
            "backgroundcolor": "#E5ECF6",
            "gridcolor": "white",
            "gridwidth": 2,
            "linecolor": "white",
            "showbackground": true,
            "ticks": "",
            "zerolinecolor": "white"
           },
           "yaxis": {
            "backgroundcolor": "#E5ECF6",
            "gridcolor": "white",
            "gridwidth": 2,
            "linecolor": "white",
            "showbackground": true,
            "ticks": "",
            "zerolinecolor": "white"
           },
           "zaxis": {
            "backgroundcolor": "#E5ECF6",
            "gridcolor": "white",
            "gridwidth": 2,
            "linecolor": "white",
            "showbackground": true,
            "ticks": "",
            "zerolinecolor": "white"
           }
          },
          "shapedefaults": {
           "line": {
            "color": "#2a3f5f"
           }
          },
          "ternary": {
           "aaxis": {
            "gridcolor": "white",
            "linecolor": "white",
            "ticks": ""
           },
           "baxis": {
            "gridcolor": "white",
            "linecolor": "white",
            "ticks": ""
           },
           "bgcolor": "#E5ECF6",
           "caxis": {
            "gridcolor": "white",
            "linecolor": "white",
            "ticks": ""
           }
          },
          "title": {
           "x": 0.05
          },
          "xaxis": {
           "automargin": true,
           "gridcolor": "white",
           "linecolor": "white",
           "ticks": "",
           "title": {
            "standoff": 15
           },
           "zerolinecolor": "white",
           "zerolinewidth": 2
          },
          "yaxis": {
           "automargin": true,
           "gridcolor": "white",
           "linecolor": "white",
           "ticks": "",
           "title": {
            "standoff": 15
           },
           "zerolinecolor": "white",
           "zerolinewidth": 2
          }
         }
        },
        "title": {
         "text": "Prevalence of severe food insecurity in the total population"
        }
       }
      }
     },
     "metadata": {},
     "output_type": "display_data"
    }
   ],
   "source": [
    "# plot a nested pie chart using plotly\n",
    "fig = px.sunburst(df, path=['continent', 'country'], values='value', title='Prevalence of severe food insecurity in the total population',\n",
    "                  color_discrete_sequence=px.colors.qualitative.Set3)\n",
    "fig.show()"
   ]
  },
  {
   "cell_type": "markdown",
   "metadata": {},
   "source": [
    "---"
   ]
  },
  {
   "cell_type": "code",
   "execution_count": 135,
   "metadata": {},
   "outputs": [
    {
     "data": {
      "text/html": [
       "<div>\n",
       "<style scoped>\n",
       "    .dataframe tbody tr th:only-of-type {\n",
       "        vertical-align: middle;\n",
       "    }\n",
       "\n",
       "    .dataframe tbody tr th {\n",
       "        vertical-align: top;\n",
       "    }\n",
       "\n",
       "    .dataframe thead th {\n",
       "        text-align: right;\n",
       "    }\n",
       "</style>\n",
       "<table border=\"1\" class=\"dataframe\">\n",
       "  <thead>\n",
       "    <tr style=\"text-align: right;\">\n",
       "      <th></th>\n",
       "      <th>Unnamed: 0</th>\n",
       "      <th>Area</th>\n",
       "      <th>Region</th>\n",
       "      <th>YearPeriod</th>\n",
       "      <th>AVG_PercentFemale</th>\n",
       "      <th>AVG_PercentMale</th>\n",
       "    </tr>\n",
       "  </thead>\n",
       "  <tbody>\n",
       "    <tr>\n",
       "      <th>0</th>\n",
       "      <td>1</td>\n",
       "      <td>Albania</td>\n",
       "      <td>Europe</td>\n",
       "      <td>Y20002002</td>\n",
       "      <td>NaN</td>\n",
       "      <td>NaN</td>\n",
       "    </tr>\n",
       "    <tr>\n",
       "      <th>1</th>\n",
       "      <td>2</td>\n",
       "      <td>Albania</td>\n",
       "      <td>Europe</td>\n",
       "      <td>Y20012003</td>\n",
       "      <td>NaN</td>\n",
       "      <td>NaN</td>\n",
       "    </tr>\n",
       "    <tr>\n",
       "      <th>2</th>\n",
       "      <td>3</td>\n",
       "      <td>Albania</td>\n",
       "      <td>Europe</td>\n",
       "      <td>Y20022004</td>\n",
       "      <td>NaN</td>\n",
       "      <td>NaN</td>\n",
       "    </tr>\n",
       "    <tr>\n",
       "      <th>3</th>\n",
       "      <td>4</td>\n",
       "      <td>Albania</td>\n",
       "      <td>Europe</td>\n",
       "      <td>Y20032005</td>\n",
       "      <td>NaN</td>\n",
       "      <td>NaN</td>\n",
       "    </tr>\n",
       "    <tr>\n",
       "      <th>4</th>\n",
       "      <td>5</td>\n",
       "      <td>Albania</td>\n",
       "      <td>Europe</td>\n",
       "      <td>Y20042006</td>\n",
       "      <td>NaN</td>\n",
       "      <td>NaN</td>\n",
       "    </tr>\n",
       "  </tbody>\n",
       "</table>\n",
       "</div>"
      ],
      "text/plain": [
       "   Unnamed: 0     Area  Region YearPeriod AVG_PercentFemale AVG_PercentMale\n",
       "0           1  Albania  Europe  Y20002002               NaN             NaN\n",
       "1           2  Albania  Europe  Y20012003               NaN             NaN\n",
       "2           3  Albania  Europe  Y20022004               NaN             NaN\n",
       "3           4  Albania  Europe  Y20032005               NaN             NaN\n",
       "4           5  Albania  Europe  Y20042006               NaN             NaN"
      ]
     },
     "execution_count": 135,
     "metadata": {},
     "output_type": "execute_result"
    }
   ],
   "source": [
    "cleaned_df = pd.read_csv('./data/CleanedData/foodinsecuritybygender.csv', encoding='ISO-8859-1')\n",
    "cleaned_df.head()"
   ]
  },
  {
   "cell_type": "code",
   "execution_count": 136,
   "metadata": {},
   "outputs": [
    {
     "data": {
      "text/html": [
       "<div>\n",
       "<style scoped>\n",
       "    .dataframe tbody tr th:only-of-type {\n",
       "        vertical-align: middle;\n",
       "    }\n",
       "\n",
       "    .dataframe tbody tr th {\n",
       "        vertical-align: top;\n",
       "    }\n",
       "\n",
       "    .dataframe thead th {\n",
       "        text-align: right;\n",
       "    }\n",
       "</style>\n",
       "<table border=\"1\" class=\"dataframe\">\n",
       "  <thead>\n",
       "    <tr style=\"text-align: right;\">\n",
       "      <th></th>\n",
       "      <th>Area</th>\n",
       "      <th>Region</th>\n",
       "    </tr>\n",
       "  </thead>\n",
       "  <tbody>\n",
       "    <tr>\n",
       "      <th>0</th>\n",
       "      <td>Albania</td>\n",
       "      <td>Europe</td>\n",
       "    </tr>\n",
       "    <tr>\n",
       "      <th>1</th>\n",
       "      <td>Algeria</td>\n",
       "      <td>Africa</td>\n",
       "    </tr>\n",
       "    <tr>\n",
       "      <th>2</th>\n",
       "      <td>Andorra</td>\n",
       "      <td>Europe</td>\n",
       "    </tr>\n",
       "    <tr>\n",
       "      <th>3</th>\n",
       "      <td>Angola</td>\n",
       "      <td>Africa</td>\n",
       "    </tr>\n",
       "    <tr>\n",
       "      <th>4</th>\n",
       "      <td>Austria</td>\n",
       "      <td>Europe</td>\n",
       "    </tr>\n",
       "    <tr>\n",
       "      <th>...</th>\n",
       "      <td>...</td>\n",
       "      <td>...</td>\n",
       "    </tr>\n",
       "    <tr>\n",
       "      <th>89</th>\n",
       "      <td>Ukraine</td>\n",
       "      <td>Europe</td>\n",
       "    </tr>\n",
       "    <tr>\n",
       "      <th>90</th>\n",
       "      <td>United Kingdom of Great Britain and Northern I...</td>\n",
       "      <td>Europe</td>\n",
       "    </tr>\n",
       "    <tr>\n",
       "      <th>91</th>\n",
       "      <td>United Republic of Tanzania</td>\n",
       "      <td>Africa</td>\n",
       "    </tr>\n",
       "    <tr>\n",
       "      <th>92</th>\n",
       "      <td>Zambia</td>\n",
       "      <td>Africa</td>\n",
       "    </tr>\n",
       "    <tr>\n",
       "      <th>93</th>\n",
       "      <td>Zimbabwe</td>\n",
       "      <td>Africa</td>\n",
       "    </tr>\n",
       "  </tbody>\n",
       "</table>\n",
       "<p>94 rows × 2 columns</p>\n",
       "</div>"
      ],
      "text/plain": [
       "                                                 Area  Region\n",
       "0                                             Albania  Europe\n",
       "1                                             Algeria  Africa\n",
       "2                                             Andorra  Europe\n",
       "3                                              Angola  Africa\n",
       "4                                             Austria  Europe\n",
       "..                                                ...     ...\n",
       "89                                            Ukraine  Europe\n",
       "90  United Kingdom of Great Britain and Northern I...  Europe\n",
       "91                        United Republic of Tanzania  Africa\n",
       "92                                             Zambia  Africa\n",
       "93                                           Zimbabwe  Africa\n",
       "\n",
       "[94 rows x 2 columns]"
      ]
     },
     "execution_count": 136,
     "metadata": {},
     "output_type": "execute_result"
    }
   ],
   "source": [
    "# group by area and region column\n",
    "grouped_df = cleaned_df.groupby(['Area', 'Region'], as_index=False).first()\n",
    "\n",
    "grouped_df.drop(columns=['Unnamed: 0', 'YearPeriod', 'AVG_PercentFemale', 'AVG_PercentMale'], inplace=True)\n",
    "grouped_df"
   ]
  },
  {
   "cell_type": "code",
   "execution_count": 137,
   "metadata": {},
   "outputs": [
    {
     "data": {
      "text/html": [
       "<div>\n",
       "<style scoped>\n",
       "    .dataframe tbody tr th:only-of-type {\n",
       "        vertical-align: middle;\n",
       "    }\n",
       "\n",
       "    .dataframe tbody tr th {\n",
       "        vertical-align: top;\n",
       "    }\n",
       "\n",
       "    .dataframe thead th {\n",
       "        text-align: right;\n",
       "    }\n",
       "</style>\n",
       "<table border=\"1\" class=\"dataframe\">\n",
       "  <thead>\n",
       "    <tr style=\"text-align: right;\">\n",
       "      <th></th>\n",
       "      <th>domain_code</th>\n",
       "      <th>domain</th>\n",
       "      <th>area_code_(m49)</th>\n",
       "      <th>country</th>\n",
       "      <th>element_code</th>\n",
       "      <th>element</th>\n",
       "      <th>item_code</th>\n",
       "      <th>item</th>\n",
       "      <th>year_code</th>\n",
       "      <th>year</th>\n",
       "      <th>unit</th>\n",
       "      <th>value</th>\n",
       "      <th>flag</th>\n",
       "      <th>flag_description</th>\n",
       "      <th>note</th>\n",
       "      <th>region</th>\n",
       "    </tr>\n",
       "  </thead>\n",
       "  <tbody>\n",
       "    <tr>\n",
       "      <th>0</th>\n",
       "      <td>FS</td>\n",
       "      <td>Suite of Food Security Indicators</td>\n",
       "      <td>8</td>\n",
       "      <td>Albania</td>\n",
       "      <td>6121</td>\n",
       "      <td>Value</td>\n",
       "      <td>210401</td>\n",
       "      <td>Prevalence of severe food insecurity in the to...</td>\n",
       "      <td>20142016</td>\n",
       "      <td>2014-2016</td>\n",
       "      <td>%</td>\n",
       "      <td>10</td>\n",
       "      <td>A</td>\n",
       "      <td>Official figure</td>\n",
       "      <td>FAO data</td>\n",
       "      <td>Europe</td>\n",
       "    </tr>\n",
       "    <tr>\n",
       "      <th>1</th>\n",
       "      <td>FS</td>\n",
       "      <td>Suite of Food Security Indicators</td>\n",
       "      <td>8</td>\n",
       "      <td>Albania</td>\n",
       "      <td>6121</td>\n",
       "      <td>Value</td>\n",
       "      <td>210401</td>\n",
       "      <td>Prevalence of severe food insecurity in the to...</td>\n",
       "      <td>20152017</td>\n",
       "      <td>2015-2017</td>\n",
       "      <td>%</td>\n",
       "      <td>10.5</td>\n",
       "      <td>A</td>\n",
       "      <td>Official figure</td>\n",
       "      <td>FAO data</td>\n",
       "      <td>Europe</td>\n",
       "    </tr>\n",
       "    <tr>\n",
       "      <th>2</th>\n",
       "      <td>FS</td>\n",
       "      <td>Suite of Food Security Indicators</td>\n",
       "      <td>8</td>\n",
       "      <td>Albania</td>\n",
       "      <td>6121</td>\n",
       "      <td>Value</td>\n",
       "      <td>210401</td>\n",
       "      <td>Prevalence of severe food insecurity in the to...</td>\n",
       "      <td>20162018</td>\n",
       "      <td>2016-2018</td>\n",
       "      <td>%</td>\n",
       "      <td>11</td>\n",
       "      <td>A</td>\n",
       "      <td>Official figure</td>\n",
       "      <td>FAO data</td>\n",
       "      <td>Europe</td>\n",
       "    </tr>\n",
       "    <tr>\n",
       "      <th>3</th>\n",
       "      <td>FS</td>\n",
       "      <td>Suite of Food Security Indicators</td>\n",
       "      <td>8</td>\n",
       "      <td>Albania</td>\n",
       "      <td>6121</td>\n",
       "      <td>Value</td>\n",
       "      <td>210401</td>\n",
       "      <td>Prevalence of severe food insecurity in the to...</td>\n",
       "      <td>20172019</td>\n",
       "      <td>2017-2019</td>\n",
       "      <td>%</td>\n",
       "      <td>10</td>\n",
       "      <td>A</td>\n",
       "      <td>Official figure</td>\n",
       "      <td>FAO data</td>\n",
       "      <td>Europe</td>\n",
       "    </tr>\n",
       "    <tr>\n",
       "      <th>4</th>\n",
       "      <td>FS</td>\n",
       "      <td>Suite of Food Security Indicators</td>\n",
       "      <td>8</td>\n",
       "      <td>Albania</td>\n",
       "      <td>6121</td>\n",
       "      <td>Value</td>\n",
       "      <td>210401</td>\n",
       "      <td>Prevalence of severe food insecurity in the to...</td>\n",
       "      <td>20182020</td>\n",
       "      <td>2018-2020</td>\n",
       "      <td>%</td>\n",
       "      <td>8.8</td>\n",
       "      <td>A</td>\n",
       "      <td>Official figure</td>\n",
       "      <td>FAO data</td>\n",
       "      <td>Europe</td>\n",
       "    </tr>\n",
       "    <tr>\n",
       "      <th>...</th>\n",
       "      <td>...</td>\n",
       "      <td>...</td>\n",
       "      <td>...</td>\n",
       "      <td>...</td>\n",
       "      <td>...</td>\n",
       "      <td>...</td>\n",
       "      <td>...</td>\n",
       "      <td>...</td>\n",
       "      <td>...</td>\n",
       "      <td>...</td>\n",
       "      <td>...</td>\n",
       "      <td>...</td>\n",
       "      <td>...</td>\n",
       "      <td>...</td>\n",
       "      <td>...</td>\n",
       "      <td>...</td>\n",
       "    </tr>\n",
       "    <tr>\n",
       "      <th>653</th>\n",
       "      <td>FS</td>\n",
       "      <td>Suite of Food Security Indicators</td>\n",
       "      <td>716</td>\n",
       "      <td>Zimbabwe</td>\n",
       "      <td>6121</td>\n",
       "      <td>Value</td>\n",
       "      <td>210401</td>\n",
       "      <td>Prevalence of severe food insecurity in the to...</td>\n",
       "      <td>20162018</td>\n",
       "      <td>2016-2018</td>\n",
       "      <td>%</td>\n",
       "      <td>35.9</td>\n",
       "      <td>A</td>\n",
       "      <td>Official figure</td>\n",
       "      <td>FAO data</td>\n",
       "      <td>Africa</td>\n",
       "    </tr>\n",
       "    <tr>\n",
       "      <th>654</th>\n",
       "      <td>FS</td>\n",
       "      <td>Suite of Food Security Indicators</td>\n",
       "      <td>716</td>\n",
       "      <td>Zimbabwe</td>\n",
       "      <td>6121</td>\n",
       "      <td>Value</td>\n",
       "      <td>210401</td>\n",
       "      <td>Prevalence of severe food insecurity in the to...</td>\n",
       "      <td>20172019</td>\n",
       "      <td>2017-2019</td>\n",
       "      <td>%</td>\n",
       "      <td>34.2</td>\n",
       "      <td>A</td>\n",
       "      <td>Official figure</td>\n",
       "      <td>FAO data</td>\n",
       "      <td>Africa</td>\n",
       "    </tr>\n",
       "    <tr>\n",
       "      <th>655</th>\n",
       "      <td>FS</td>\n",
       "      <td>Suite of Food Security Indicators</td>\n",
       "      <td>716</td>\n",
       "      <td>Zimbabwe</td>\n",
       "      <td>6121</td>\n",
       "      <td>Value</td>\n",
       "      <td>210401</td>\n",
       "      <td>Prevalence of severe food insecurity in the to...</td>\n",
       "      <td>20182020</td>\n",
       "      <td>2018-2020</td>\n",
       "      <td>%</td>\n",
       "      <td>32.1</td>\n",
       "      <td>A</td>\n",
       "      <td>Official figure</td>\n",
       "      <td>FAO data</td>\n",
       "      <td>Africa</td>\n",
       "    </tr>\n",
       "    <tr>\n",
       "      <th>656</th>\n",
       "      <td>FS</td>\n",
       "      <td>Suite of Food Security Indicators</td>\n",
       "      <td>716</td>\n",
       "      <td>Zimbabwe</td>\n",
       "      <td>6121</td>\n",
       "      <td>Value</td>\n",
       "      <td>210401</td>\n",
       "      <td>Prevalence of severe food insecurity in the to...</td>\n",
       "      <td>20192021</td>\n",
       "      <td>2019-2021</td>\n",
       "      <td>%</td>\n",
       "      <td>31.3</td>\n",
       "      <td>A</td>\n",
       "      <td>Official figure</td>\n",
       "      <td>FAO data</td>\n",
       "      <td>Africa</td>\n",
       "    </tr>\n",
       "    <tr>\n",
       "      <th>657</th>\n",
       "      <td>FS</td>\n",
       "      <td>Suite of Food Security Indicators</td>\n",
       "      <td>716</td>\n",
       "      <td>Zimbabwe</td>\n",
       "      <td>6121</td>\n",
       "      <td>Value</td>\n",
       "      <td>210401</td>\n",
       "      <td>Prevalence of severe food insecurity in the to...</td>\n",
       "      <td>20202022</td>\n",
       "      <td>2020-2022</td>\n",
       "      <td>%</td>\n",
       "      <td>28.6</td>\n",
       "      <td>A</td>\n",
       "      <td>Official figure</td>\n",
       "      <td>FAO data</td>\n",
       "      <td>Africa</td>\n",
       "    </tr>\n",
       "  </tbody>\n",
       "</table>\n",
       "<p>658 rows × 16 columns</p>\n",
       "</div>"
      ],
      "text/plain": [
       "    domain_code                             domain  area_code_(m49)   country  \\\n",
       "0            FS  Suite of Food Security Indicators                8   Albania   \n",
       "1            FS  Suite of Food Security Indicators                8   Albania   \n",
       "2            FS  Suite of Food Security Indicators                8   Albania   \n",
       "3            FS  Suite of Food Security Indicators                8   Albania   \n",
       "4            FS  Suite of Food Security Indicators                8   Albania   \n",
       "..          ...                                ...              ...       ...   \n",
       "653          FS  Suite of Food Security Indicators              716  Zimbabwe   \n",
       "654          FS  Suite of Food Security Indicators              716  Zimbabwe   \n",
       "655          FS  Suite of Food Security Indicators              716  Zimbabwe   \n",
       "656          FS  Suite of Food Security Indicators              716  Zimbabwe   \n",
       "657          FS  Suite of Food Security Indicators              716  Zimbabwe   \n",
       "\n",
       "     element_code element item_code  \\\n",
       "0            6121   Value    210401   \n",
       "1            6121   Value    210401   \n",
       "2            6121   Value    210401   \n",
       "3            6121   Value    210401   \n",
       "4            6121   Value    210401   \n",
       "..            ...     ...       ...   \n",
       "653          6121   Value    210401   \n",
       "654          6121   Value    210401   \n",
       "655          6121   Value    210401   \n",
       "656          6121   Value    210401   \n",
       "657          6121   Value    210401   \n",
       "\n",
       "                                                  item  year_code       year  \\\n",
       "0    Prevalence of severe food insecurity in the to...   20142016  2014-2016   \n",
       "1    Prevalence of severe food insecurity in the to...   20152017  2015-2017   \n",
       "2    Prevalence of severe food insecurity in the to...   20162018  2016-2018   \n",
       "3    Prevalence of severe food insecurity in the to...   20172019  2017-2019   \n",
       "4    Prevalence of severe food insecurity in the to...   20182020  2018-2020   \n",
       "..                                                 ...        ...        ...   \n",
       "653  Prevalence of severe food insecurity in the to...   20162018  2016-2018   \n",
       "654  Prevalence of severe food insecurity in the to...   20172019  2017-2019   \n",
       "655  Prevalence of severe food insecurity in the to...   20182020  2018-2020   \n",
       "656  Prevalence of severe food insecurity in the to...   20192021  2019-2021   \n",
       "657  Prevalence of severe food insecurity in the to...   20202022  2020-2022   \n",
       "\n",
       "    unit value flag flag_description      note  region  \n",
       "0      %    10    A  Official figure  FAO data  Europe  \n",
       "1      %  10.5    A  Official figure  FAO data  Europe  \n",
       "2      %    11    A  Official figure  FAO data  Europe  \n",
       "3      %    10    A  Official figure  FAO data  Europe  \n",
       "4      %   8.8    A  Official figure  FAO data  Europe  \n",
       "..   ...   ...  ...              ...       ...     ...  \n",
       "653    %  35.9    A  Official figure  FAO data  Africa  \n",
       "654    %  34.2    A  Official figure  FAO data  Africa  \n",
       "655    %  32.1    A  Official figure  FAO data  Africa  \n",
       "656    %  31.3    A  Official figure  FAO data  Africa  \n",
       "657    %  28.6    A  Official figure  FAO data  Africa  \n",
       "\n",
       "[658 rows x 16 columns]"
      ]
     },
     "execution_count": 137,
     "metadata": {},
     "output_type": "execute_result"
    }
   ],
   "source": [
    "# lowercase the column names\n",
    "grouped_df.columns = grouped_df.columns.str.lower()\n",
    "# change the area column to country\n",
    "grouped_df = grouped_df.rename(columns={'area': 'country'})\n",
    "\n",
    "# merge the grouped df and prev_sever_total\n",
    "merged_df = pd.merge(prev_severe_total,grouped_df, left_on='country', right_on='country')\n",
    "\n",
    "merged_df"
   ]
  },
  {
   "cell_type": "code",
   "execution_count": 138,
   "metadata": {},
   "outputs": [
    {
     "name": "stdout",
     "output_type": "stream",
     "text": [
      "['Europe' 'Africa']\n"
     ]
    }
   ],
   "source": [
    "print(merged_df['region'].unique())"
   ]
  }
 ],
 "metadata": {
  "kernelspec": {
   "display_name": "Python 3",
   "language": "python",
   "name": "python3"
  },
  "language_info": {
   "codemirror_mode": {
    "name": "ipython",
    "version": 3
   },
   "file_extension": ".py",
   "mimetype": "text/x-python",
   "name": "python",
   "nbconvert_exporter": "python",
   "pygments_lexer": "ipython3",
   "version": "3.11.8"
  }
 },
 "nbformat": 4,
 "nbformat_minor": 2
}
