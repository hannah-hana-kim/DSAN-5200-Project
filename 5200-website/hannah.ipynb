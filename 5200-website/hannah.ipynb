{
  "cells": [
    {
      "cell_type": "raw",
      "metadata": {},
      "source": [
        "---\n",
        "title: Climate Change and Food Insecurity\n",
        "author: Hannah Kim\n",
        "format:\n",
        "  html:\n",
        "    embed-resources: true\n",
        "---"
      ]
    },
    {
      "cell_type": "code",
      "execution_count": null,
      "metadata": {
        "vscode": {
          "languageId": "python"
        }
      },
      "outputs": [],
      "source": [
        "import numpy as np\n",
        "import pandas as pd\n",
        "import matplotlib.pyplot as plt\n",
        "import seaborn as sns\n",
        "import plotly.express as px\n",
        "import geopandas as gpd"
      ]
    },
    {
      "cell_type": "markdown",
      "metadata": {},
      "source": [
        "## World population by continents"
      ]
    },
    {
      "cell_type": "code",
      "execution_count": null,
      "metadata": {
        "vscode": {
          "languageId": "python"
        }
      },
      "outputs": [],
      "source": [
        "world = pd.read_csv('data/world_population.csv')\n",
        "world_cp = world.copy()\n",
        "world_cp.head()"
      ]
    },
    {
      "cell_type": "code",
      "execution_count": null,
      "metadata": {
        "vscode": {
          "languageId": "python"
        }
      },
      "outputs": [],
      "source": [
        "# drop unnecessary columns\n",
        "world_cp = world_cp.drop(['Rank', 'CCA3', 'Country/Territory', 'Capital', 'Area (km²)', 'Density (per km²)', 'Growth Rate'], axis=1)\n",
        "\n",
        "# lowercase all the columns\n",
        "world_cp.columns = world_cp.columns.str.lower()\n",
        "\n",
        "# replace the spaces with underscore\n",
        "world_cp.columns = world_cp.columns.str.replace(' ', '_')\n",
        "\n",
        "# rename the columns\n",
        "world_cp = world_cp.rename(columns={'2022_population': '2022', '2020_population': '2020', '2015_population': '2015', '2010_population': '2010', '2000_population': '2000', '1990_population': '1990', '1980_population': '1980', '1970_population': '1970'})\n",
        "world_cp.head()"
      ]
    },
    {
      "cell_type": "code",
      "execution_count": null,
      "metadata": {
        "vscode": {
          "languageId": "python"
        }
      },
      "outputs": [],
      "source": [
        "raw_df = pd.read_csv('./data/FAOSTAT_data.csv')\n",
        "raw_df"
      ]
    },
    {
      "cell_type": "markdown",
      "metadata": {},
      "source": [
        "Food insecurity:\n",
        "\n",
        "* Prevalence of severe food insecurity in the total population (percent): 210401 (M/F)\n",
        "* Prevalence of moderate or severe food insecurity in the total population (percent): 210091 (M/F)\n",
        "* Number of severely food insecure people (million): 210071 (M/F)\n",
        "* Number of moderately or severely food insecure people (million): 210081 (M/F)\n",
        "\n",
        "## Further cleaning and preprocessing"
      ]
    },
    {
      "cell_type": "code",
      "execution_count": null,
      "metadata": {
        "vscode": {
          "languageId": "python"
        }
      },
      "outputs": [],
      "source": [
        "raw_df.columns = raw_df.columns.str.lower()\n",
        "raw_df.columns = raw_df.columns.str.replace(' ', '_')\n",
        "# change the area column to country column\n",
        "raw_df = raw_df.rename(columns={'area': 'country'})"
      ]
    },
    {
      "cell_type": "code",
      "execution_count": null,
      "metadata": {
        "vscode": {
          "languageId": "python"
        }
      },
      "outputs": [],
      "source": [
        "# filter out the data by item code\n",
        "# prevalence of severe food insecurity in the total population\n",
        "prev_severe_total = raw_df[raw_df['item_code'] == '210401'] \n",
        "prev_severe_male = raw_df[raw_df['item_code'] == '210401M']\n",
        "prev_sever_female = raw_df[raw_df['item_code'] == '210401F']\n",
        "\n",
        "# prevalence of moderate or severe food insecurity in the total population\n",
        "prev_mod_total = raw_df[raw_df['item_code'] == '210091']\n",
        "prev_mod_male = raw_df[raw_df['item_code'] == '210091M']\n",
        "prev_mod_female = raw_df[raw_df['item_code'] == '210091F']"
      ]
    },
    {
      "cell_type": "code",
      "execution_count": null,
      "metadata": {
        "vscode": {
          "languageId": "python"
        }
      },
      "outputs": [],
      "source": [
        "prev_severe_total.head()"
      ]
    },
    {
      "cell_type": "code",
      "execution_count": null,
      "metadata": {
        "vscode": {
          "languageId": "python"
        }
      },
      "outputs": [],
      "source": [
        "print(prev_severe_total['area_code_(m49)'].unique())"
      ]
    },
    {
      "cell_type": "code",
      "execution_count": null,
      "metadata": {
        "vscode": {
          "languageId": "python"
        }
      },
      "outputs": [],
      "source": [
        "# read the data\n",
        "code_df = pd.read_csv('./data/country_annotation.csv')\n",
        "\n",
        "# drop unnecessary columns\n",
        "code_df = code_df.drop(columns=['code', 'languages'])\n",
        "\n",
        "# rename the columns\n",
        "code_df = code_df.rename(columns={'name':'country'})\n",
        "\n",
        "code_df.head()"
      ]
    },
    {
      "cell_type": "code",
      "execution_count": null,
      "metadata": {
        "vscode": {
          "languageId": "python"
        }
      },
      "outputs": [],
      "source": [
        "# copy the dataframe\n",
        "df = prev_severe_total.copy()\n",
        "# change the value column type to numeric value\n",
        "df['value'] = pd.to_numeric(df['value'], errors='coerce')"
      ]
    },
    {
      "cell_type": "code",
      "execution_count": null,
      "metadata": {
        "vscode": {
          "languageId": "python"
        }
      },
      "outputs": [],
      "source": [
        "# group by the country and get the sum of all the values\n",
        "df = df.groupby('country', as_index=False)['value'].sum().reset_index(drop=True)\n",
        "df"
      ]
    },
    {
      "cell_type": "code",
      "execution_count": null,
      "metadata": {
        "vscode": {
          "languageId": "python"
        }
      },
      "outputs": [],
      "source": [
        "# merge the region data with the main data\n",
        "df = pd.merge(df, code_df, on='country', how='left')"
      ]
    },
    {
      "cell_type": "code",
      "execution_count": null,
      "metadata": {
        "vscode": {
          "languageId": "python"
        }
      },
      "outputs": [],
      "source": [
        "df"
      ]
    },
    {
      "cell_type": "code",
      "execution_count": null,
      "metadata": {
        "vscode": {
          "languageId": "python"
        }
      },
      "outputs": [],
      "source": [
        "# drop the rows with value 0\n",
        "df = df[df['value'] != 0].reset_index(drop=True)\n",
        "df"
      ]
    },
    {
      "cell_type": "code",
      "execution_count": null,
      "metadata": {
        "vscode": {
          "languageId": "python"
        }
      },
      "outputs": [],
      "source": [
        "# dictionary mapping each country to its continent\n",
        "country_to_continent = {\n",
        "    'Antigua and Barbuda': 'North America',\n",
        "    'Bahamas': 'North America',\n",
        "    'Barbados': 'North America',\n",
        "    'Belize': 'North America',\n",
        "    'Cabo Verde': 'Africa',\n",
        "    'Congo': 'Africa',\n",
        "    'Czechia': 'Europe',\n",
        "    'Côte d\\'Ivoire': 'Africa',\n",
        "    'Eswatini': 'Africa',\n",
        "    'Grenada': 'North America',\n",
        "    'Haiti': 'North America',\n",
        "    'Iran (Islamic Republic of)': 'Asia',\n",
        "    'Jamaica': 'North America',\n",
        "    'Lao People\\'s Democratic Republic': 'Asia',\n",
        "    'Myanmar': 'Asia',\n",
        "    'Netherlands (Kingdom of the)': 'Europe',\n",
        "    'Republic of Korea': 'Asia',\n",
        "    'Republic of Moldova': 'Europe',\n",
        "    'Russian Federation': 'Europe',\n",
        "    'Saint Kitts and Nevis': 'North America',\n",
        "    'Saint Lucia': 'North America',\n",
        "    'Saint Vincent and the Grenadines': 'North America',\n",
        "    'Sao Tome and Principe': 'Africa',\n",
        "    'Trinidad and Tobago': 'North America',\n",
        "    'United Kingdom of Great Britain and Northern Ireland': 'Europe',\n",
        "    'United Republic of Tanzania': 'Africa',\n",
        "    'United States of America': 'North America',\n",
        "    'Viet Nam': 'Asia'\n",
        "}\n",
        "\n",
        "# map the country to the continent\n",
        "df['continent'] = df['continent'].fillna(df['country'].map(country_to_continent))\n",
        "\n",
        "df"
      ]
    },
    {
      "cell_type": "code",
      "execution_count": null,
      "metadata": {
        "vscode": {
          "languageId": "python"
        }
      },
      "outputs": [],
      "source": [
        "# data sanity check\n",
        "# check the continent value\n",
        "df.continent.unique()\n",
        "\n",
        "# replace the incorrect value\n",
        "df['continent'] = df['continent'].str.replace('North Americ', 'North America')\n",
        "df['continent'] = df['continent'].str.replace('North Americaa', 'North America')"
      ]
    },
    {
      "cell_type": "code",
      "execution_count": null,
      "metadata": {
        "vscode": {
          "languageId": "python"
        }
      },
      "outputs": [],
      "source": [
        "df"
      ]
    },
    {
      "cell_type": "markdown",
      "metadata": {},
      "source": [
        "## Data Visualiztion: Prevalence of severe food insecurity in the total population\n",
        "\n",
        "### Nested pie chart"
      ]
    },
    {
      "cell_type": "code",
      "execution_count": null,
      "metadata": {
        "vscode": {
          "languageId": "python"
        }
      },
      "outputs": [],
      "source": [
        "# plot a nested pie chart using plotly\n",
        "fig = px.sunburst(df, path=['continent', 'country'], values='value', names = 'country', title='Prevalence of severe food insecurity in the total population',color_discrete_sequence=px.colors.qualitative.Set3)\n",
        "# change the plot size\n",
        "fig.update_layout(width=800, height=800)\n",
        "fig.show()"
      ]
    },
    {
      "cell_type": "markdown",
      "metadata": {},
      "source": [
        "### Packed Bubble chart"
      ]
    },
    {
      "cell_type": "code",
      "execution_count": null,
      "metadata": {
        "vscode": {
          "languageId": "python"
        }
      },
      "outputs": [],
      "source": [
        "# group the df by continent and aggregate the data\n",
        "grouped_df = df.groupby('continent').apply(lambda x: x[['country', 'value']].to_dict(orient='records')).reset_index(name='data')\n",
        "\n",
        "# convert the grouped DataFrame to a dictionary\n",
        "result_dict = grouped_df.set_index('continent').to_dict(orient='index')\n",
        "\n",
        "print(result_dict)"
      ]
    },
    {
      "cell_type": "code",
      "execution_count": null,
      "metadata": {
        "vscode": {
          "languageId": "python"
        }
      },
      "outputs": [],
      "source": [
        "# # pass the data to js code\n",
        "# from flask import Flask, render_template\n",
        "\n",
        "# app = Flask(__name__)\n",
        "\n",
        "# @app.route('/')\n",
        "# def index():\n",
        "#     return render_template('index.html', data=result_dict)\n",
        "\n",
        "# if __name__ == '__main__':\n",
        "#     app.run(debug=True)"
      ]
    },
    {
      "cell_type": "markdown",
      "metadata": {},
      "source": [
        "---"
      ]
    },
    {
      "cell_type": "code",
      "execution_count": null,
      "metadata": {
        "vscode": {
          "languageId": "python"
        }
      },
      "outputs": [],
      "source": [
        "# load the data\n",
        "cleaned_df = pd.read_csv('./data/CleanedData/foodinsecuritybygender.csv', encoding='ISO-8859-1')\n",
        "# convert it to dataframe\n",
        "cleaned_df = pd.DataFrame(cleaned_df)\n",
        "cleaned_df.head()"
      ]
    },
    {
      "cell_type": "code",
      "execution_count": null,
      "metadata": {
        "vscode": {
          "languageId": "python"
        }
      },
      "outputs": [],
      "source": [
        "# fill the null values with 0\n",
        "cleaned_df['AVG_PercentFemale']= cleaned_df['AVG_PercentFemale'].fillna(0)\n",
        "cleaned_df['AVG_PercentMale']= cleaned_df['AVG_PercentMale'].fillna(0)\n",
        "\n",
        "# convert the data type to numeric\n",
        "cleaned_df['AVG_PercentFemale'] = pd.to_numeric(cleaned_df['AVG_PercentFemale'], errors='coerce')\n",
        "cleaned_df['AVG_PercentMale'] = pd.to_numeric(cleaned_df['AVG_PercentMale'], errors='coerce')\n",
        "\n",
        "# add a new boolean column if the primarycolonizer column is not null\n",
        "cleaned_df['colonizer'] = cleaned_df['PrimaryColonizer'].notnull()\n",
        "\n",
        "cleaned_df"
      ]
    },
    {
      "cell_type": "code",
      "execution_count": null,
      "metadata": {
        "vscode": {
          "languageId": "python"
        }
      },
      "outputs": [],
      "source": [
        "# create a packed bubble chart\n",
        "\n",
        "def packed_bubble(names, counts, spacing=5):\n",
        "    m = plt\n",
        "    ''' packed bubble plot using packed_bubbles.html from matplotlib.org '''\n",
        "    chart = BubbleChart(area=counts, bubble_spacing=spacing)\n",
        "    chart.collapse()\n",
        "\n",
        "    _, ax = m.subplots(subplot_kw=dict(aspect='equal'))\n",
        "    default_colors = m.rcParams['axes.prop_cycle']\n",
        "    colors = default_colors.by_key()['color'] * 50\n",
        "\n",
        "    chart.plot(ax, names, colors)\n",
        "    ax.axis('off')\n",
        "    ax.relim()\n",
        "    ax.autoscale_view()\n",
        "    m.show()"
      ]
    }
  ],
  "metadata": {
    "kernelspec": {
      "display_name": "Python 3 (ipykernel)",
      "language": "python",
      "name": "python3"
    }
  },
  "nbformat": 4,
  "nbformat_minor": 4
}
