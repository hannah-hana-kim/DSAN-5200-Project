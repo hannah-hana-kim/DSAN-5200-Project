{
 "cells": [
  {
   "cell_type": "code",
   "execution_count": 204,
   "metadata": {},
   "outputs": [],
   "source": [
    "# import necessary variables\n",
    "import numpy as np\n",
    "import matplotlib.pyplot as plt\n",
    "import pandas as pd\n",
    "import seaborn as sns\n",
    "import plotly.express as px\n",
    "import geopandas as gpd\n",
    "import warnings\n",
    "warnings.filterwarnings('ignore')"
   ]
  },
  {
   "cell_type": "markdown",
   "metadata": {},
   "source": [
    "## Load the data"
   ]
  },
  {
   "cell_type": "code",
   "execution_count": 205,
   "metadata": {},
   "outputs": [
    {
     "data": {
      "text/html": [
       "<div>\n",
       "<style scoped>\n",
       "    .dataframe tbody tr th:only-of-type {\n",
       "        vertical-align: middle;\n",
       "    }\n",
       "\n",
       "    .dataframe tbody tr th {\n",
       "        vertical-align: top;\n",
       "    }\n",
       "\n",
       "    .dataframe thead th {\n",
       "        text-align: right;\n",
       "    }\n",
       "</style>\n",
       "<table border=\"1\" class=\"dataframe\">\n",
       "  <thead>\n",
       "    <tr style=\"text-align: right;\">\n",
       "      <th></th>\n",
       "      <th>Domain Code</th>\n",
       "      <th>Domain</th>\n",
       "      <th>Area Code (M49)</th>\n",
       "      <th>Area</th>\n",
       "      <th>Element Code</th>\n",
       "      <th>Element</th>\n",
       "      <th>Item Code</th>\n",
       "      <th>Item</th>\n",
       "      <th>Year Code</th>\n",
       "      <th>Year</th>\n",
       "      <th>Unit</th>\n",
       "      <th>Value</th>\n",
       "      <th>Flag</th>\n",
       "      <th>Flag Description</th>\n",
       "      <th>Note</th>\n",
       "    </tr>\n",
       "  </thead>\n",
       "  <tbody>\n",
       "    <tr>\n",
       "      <th>0</th>\n",
       "      <td>FS</td>\n",
       "      <td>Suite of Food Security Indicators</td>\n",
       "      <td>4</td>\n",
       "      <td>Afghanistan</td>\n",
       "      <td>6121</td>\n",
       "      <td>Value</td>\n",
       "      <td>21010</td>\n",
       "      <td>Average dietary energy supply adequacy (percen...</td>\n",
       "      <td>20002002</td>\n",
       "      <td>2000-2002</td>\n",
       "      <td>%</td>\n",
       "      <td>88</td>\n",
       "      <td>E</td>\n",
       "      <td>Estimated value</td>\n",
       "      <td>NaN</td>\n",
       "    </tr>\n",
       "    <tr>\n",
       "      <th>1</th>\n",
       "      <td>FS</td>\n",
       "      <td>Suite of Food Security Indicators</td>\n",
       "      <td>4</td>\n",
       "      <td>Afghanistan</td>\n",
       "      <td>6121</td>\n",
       "      <td>Value</td>\n",
       "      <td>21010</td>\n",
       "      <td>Average dietary energy supply adequacy (percen...</td>\n",
       "      <td>20012003</td>\n",
       "      <td>2001-2003</td>\n",
       "      <td>%</td>\n",
       "      <td>89</td>\n",
       "      <td>E</td>\n",
       "      <td>Estimated value</td>\n",
       "      <td>NaN</td>\n",
       "    </tr>\n",
       "    <tr>\n",
       "      <th>2</th>\n",
       "      <td>FS</td>\n",
       "      <td>Suite of Food Security Indicators</td>\n",
       "      <td>4</td>\n",
       "      <td>Afghanistan</td>\n",
       "      <td>6121</td>\n",
       "      <td>Value</td>\n",
       "      <td>21010</td>\n",
       "      <td>Average dietary energy supply adequacy (percen...</td>\n",
       "      <td>20022004</td>\n",
       "      <td>2002-2004</td>\n",
       "      <td>%</td>\n",
       "      <td>92</td>\n",
       "      <td>E</td>\n",
       "      <td>Estimated value</td>\n",
       "      <td>NaN</td>\n",
       "    </tr>\n",
       "    <tr>\n",
       "      <th>3</th>\n",
       "      <td>FS</td>\n",
       "      <td>Suite of Food Security Indicators</td>\n",
       "      <td>4</td>\n",
       "      <td>Afghanistan</td>\n",
       "      <td>6121</td>\n",
       "      <td>Value</td>\n",
       "      <td>21010</td>\n",
       "      <td>Average dietary energy supply adequacy (percen...</td>\n",
       "      <td>20032005</td>\n",
       "      <td>2003-2005</td>\n",
       "      <td>%</td>\n",
       "      <td>93</td>\n",
       "      <td>E</td>\n",
       "      <td>Estimated value</td>\n",
       "      <td>NaN</td>\n",
       "    </tr>\n",
       "    <tr>\n",
       "      <th>4</th>\n",
       "      <td>FS</td>\n",
       "      <td>Suite of Food Security Indicators</td>\n",
       "      <td>4</td>\n",
       "      <td>Afghanistan</td>\n",
       "      <td>6121</td>\n",
       "      <td>Value</td>\n",
       "      <td>21010</td>\n",
       "      <td>Average dietary energy supply adequacy (percen...</td>\n",
       "      <td>20042006</td>\n",
       "      <td>2004-2006</td>\n",
       "      <td>%</td>\n",
       "      <td>94</td>\n",
       "      <td>E</td>\n",
       "      <td>Estimated value</td>\n",
       "      <td>NaN</td>\n",
       "    </tr>\n",
       "  </tbody>\n",
       "</table>\n",
       "</div>"
      ],
      "text/plain": [
       "  Domain Code                             Domain  Area Code (M49)  \\\n",
       "0          FS  Suite of Food Security Indicators                4   \n",
       "1          FS  Suite of Food Security Indicators                4   \n",
       "2          FS  Suite of Food Security Indicators                4   \n",
       "3          FS  Suite of Food Security Indicators                4   \n",
       "4          FS  Suite of Food Security Indicators                4   \n",
       "\n",
       "          Area  Element Code Element Item Code  \\\n",
       "0  Afghanistan          6121   Value     21010   \n",
       "1  Afghanistan          6121   Value     21010   \n",
       "2  Afghanistan          6121   Value     21010   \n",
       "3  Afghanistan          6121   Value     21010   \n",
       "4  Afghanistan          6121   Value     21010   \n",
       "\n",
       "                                                Item  Year Code       Year  \\\n",
       "0  Average dietary energy supply adequacy (percen...   20002002  2000-2002   \n",
       "1  Average dietary energy supply adequacy (percen...   20012003  2001-2003   \n",
       "2  Average dietary energy supply adequacy (percen...   20022004  2002-2004   \n",
       "3  Average dietary energy supply adequacy (percen...   20032005  2003-2005   \n",
       "4  Average dietary energy supply adequacy (percen...   20042006  2004-2006   \n",
       "\n",
       "  Unit Value Flag Flag Description Note  \n",
       "0    %    88    E  Estimated value  NaN  \n",
       "1    %    89    E  Estimated value  NaN  \n",
       "2    %    92    E  Estimated value  NaN  \n",
       "3    %    93    E  Estimated value  NaN  \n",
       "4    %    94    E  Estimated value  NaN  "
      ]
     },
     "execution_count": 205,
     "metadata": {},
     "output_type": "execute_result"
    }
   ],
   "source": [
    "df = pd.read_csv('data/FAOSTAT_data.csv')\n",
    "df.head()"
   ]
  },
  {
   "cell_type": "markdown",
   "metadata": {},
   "source": [
    "## Clean and tidy the data"
   ]
  },
  {
   "cell_type": "code",
   "execution_count": 206,
   "metadata": {},
   "outputs": [],
   "source": [
    "# lowercase the columns and remove the space bar\n",
    "df.columns = df.columns.str.lower()\n",
    "df.columns = df.columns.str.replace(' ', '_')"
   ]
  },
  {
   "cell_type": "code",
   "execution_count": 207,
   "metadata": {},
   "outputs": [
    {
     "name": "stdout",
     "output_type": "stream",
     "text": [
      "domain_code              0\n",
      "domain                   0\n",
      "area_code_(m49)          0\n",
      "area                     0\n",
      "element_code             0\n",
      "element                  0\n",
      "item_code                0\n",
      "item                     0\n",
      "year_code                0\n",
      "year                     0\n",
      "unit                     0\n",
      "value                 9137\n",
      "flag                     0\n",
      "flag_description         0\n",
      "note                129132\n",
      "dtype: int64\n"
     ]
    }
   ],
   "source": [
    "# check the null values\n",
    "print(df.isnull().sum())\n",
    "\n",
    "# # drop the null values\n",
    "# df = df.dropna()\n",
    "\n",
    "# drop the columns that are not needed\n",
    "df = df.drop(['note'], axis=1)\n",
    "\n",
    "# change the column name\n",
    "df = df.rename(columns={'area': 'country'})"
   ]
  },
  {
   "cell_type": "code",
   "execution_count": 208,
   "metadata": {},
   "outputs": [
    {
     "data": {
      "text/plain": [
       "array(['Average dietary energy supply adequacy (percent) (3-year average)',\n",
       "       'Share of dietary energy supply derived from cereals, roots and tubers (kcal/cap/day) (3-year average)',\n",
       "       'Average protein supply (g/cap/day) (3-year average)',\n",
       "       'Average supply of protein of animal origin (g/cap/day) (3-year average)',\n",
       "       'Gross domestic product per capita, PPP, (constant 2017 international $)',\n",
       "       'Prevalence of undernourishment (percent) (3-year average)',\n",
       "       'Number of people undernourished (million) (3-year average)',\n",
       "       'Prevalence of severe food insecurity in the total population (percent) (3-year average)',\n",
       "       'Prevalence of severe food insecurity in the male adult population (percent) (3-year average)',\n",
       "       'Prevalence of severe food insecurity in the female adult population (percent) (3-year average)',\n",
       "       'Prevalence of moderate or severe food insecurity in the total population (percent) (3-year average)',\n",
       "       'Prevalence of moderate or severe food insecurity in the male adult population (percent) (3-year average)',\n",
       "       'Prevalence of moderate or severe food insecurity in the female adult population (percent) (3-year average)',\n",
       "       'Number of severely food insecure people (million) (3-year average)',\n",
       "       'Number of severely food insecure male adults (million) (3-year average)',\n",
       "       'Number of severely food insecure female adults (million) (3-year average)',\n",
       "       'Number of moderately or severely food insecure people (million) (3-year average)',\n",
       "       'Number of moderately or severely food insecure male adults (million) (3-year average)',\n",
       "       'Number of moderately or severely food insecure female adults (million) (3-year average)',\n",
       "       'Cereal import dependency ratio (percent) (3-year average)',\n",
       "       'Percent of arable land equipped for irrigation (percent) (3-year average)',\n",
       "       'Value of food imports in total merchandise exports (percent) (3-year average)',\n",
       "       'Political stability and absence of violence/terrorism (index)',\n",
       "       'Per capita food production variability (constant 2014-2016 thousand int$ per capita)',\n",
       "       'Per capita food supply variability (kcal/cap/day)',\n",
       "       'Percentage of population using safely managed drinking water services (Percent)',\n",
       "       'Percentage of population using at least basic drinking water services (percent)',\n",
       "       'Percentage of population using at least basic sanitation services (percent)',\n",
       "       'Percentage of children under 5 years affected by wasting (percent)',\n",
       "       'Number of children under 5 years affected by wasting (million)',\n",
       "       'Percentage of children under 5 years of age who are stunted (modelled estimates) (percent)',\n",
       "       'Number of children under 5 years of age who are stunted (modeled estimates) (million)',\n",
       "       'Percentage of children under 5 years of age who are overweight (modelled estimates) (percent)',\n",
       "       'Number of children under 5 years of age who are overweight (modeled estimates) (million)',\n",
       "       'Prevalence of obesity in the adult population (18 years and older)',\n",
       "       'Number of obese adults (18 years and older) (million)',\n",
       "       'Prevalence of anemia among women of reproductive age (15-49 years)',\n",
       "       'Number of women of reproductive age (15-49 years) affected by anemia (million)',\n",
       "       'Prevalence of exclusive breastfeeding among infants 0-5 months of age',\n",
       "       'Minimum dietary energy requirement  (kcal/cap/day)',\n",
       "       'Average dietary energy requirement (kcal/cap/day)',\n",
       "       'Coefficient of variation of habitual caloric consumption distribution (real number)',\n",
       "       'Incidence of caloric losses at retail distribution level (percent)',\n",
       "       'Average fat supply (g/cap/day) (3-year average)',\n",
       "       'Rail lines density (total route in km per 100 square km of land area)',\n",
       "       'Percentage of population using safely managed sanitation services (Percent)',\n",
       "       'Prevalence of low birthweight (percent)',\n",
       "       'Number of newborns with low birthweight (million)'], dtype=object)"
      ]
     },
     "execution_count": 208,
     "metadata": {},
     "output_type": "execute_result"
    }
   ],
   "source": [
    "df.item.unique()"
   ]
  },
  {
   "cell_type": "code",
   "execution_count": 209,
   "metadata": {},
   "outputs": [
    {
     "data": {
      "text/html": [
       "<div>\n",
       "<style scoped>\n",
       "    .dataframe tbody tr th:only-of-type {\n",
       "        vertical-align: middle;\n",
       "    }\n",
       "\n",
       "    .dataframe tbody tr th {\n",
       "        vertical-align: top;\n",
       "    }\n",
       "\n",
       "    .dataframe thead th {\n",
       "        text-align: right;\n",
       "    }\n",
       "</style>\n",
       "<table border=\"1\" class=\"dataframe\">\n",
       "  <thead>\n",
       "    <tr style=\"text-align: right;\">\n",
       "      <th></th>\n",
       "      <th>domain_code</th>\n",
       "      <th>domain</th>\n",
       "      <th>area_code_(m49)</th>\n",
       "      <th>country</th>\n",
       "      <th>element_code</th>\n",
       "      <th>element</th>\n",
       "      <th>item_code</th>\n",
       "      <th>item</th>\n",
       "      <th>year_code</th>\n",
       "      <th>year</th>\n",
       "      <th>unit</th>\n",
       "      <th>value</th>\n",
       "      <th>flag</th>\n",
       "      <th>flag_description</th>\n",
       "    </tr>\n",
       "  </thead>\n",
       "  <tbody>\n",
       "    <tr>\n",
       "      <th>0</th>\n",
       "      <td>FS</td>\n",
       "      <td>Suite of Food Security Indicators</td>\n",
       "      <td>4</td>\n",
       "      <td>Afghanistan</td>\n",
       "      <td>6121</td>\n",
       "      <td>Value</td>\n",
       "      <td>21010</td>\n",
       "      <td>Average dietary energy supply adequacy (percen...</td>\n",
       "      <td>20002002</td>\n",
       "      <td>2000-2002</td>\n",
       "      <td>%</td>\n",
       "      <td>88</td>\n",
       "      <td>E</td>\n",
       "      <td>Estimated value</td>\n",
       "    </tr>\n",
       "    <tr>\n",
       "      <th>1</th>\n",
       "      <td>FS</td>\n",
       "      <td>Suite of Food Security Indicators</td>\n",
       "      <td>4</td>\n",
       "      <td>Afghanistan</td>\n",
       "      <td>6121</td>\n",
       "      <td>Value</td>\n",
       "      <td>21010</td>\n",
       "      <td>Average dietary energy supply adequacy (percen...</td>\n",
       "      <td>20012003</td>\n",
       "      <td>2001-2003</td>\n",
       "      <td>%</td>\n",
       "      <td>89</td>\n",
       "      <td>E</td>\n",
       "      <td>Estimated value</td>\n",
       "    </tr>\n",
       "    <tr>\n",
       "      <th>2</th>\n",
       "      <td>FS</td>\n",
       "      <td>Suite of Food Security Indicators</td>\n",
       "      <td>4</td>\n",
       "      <td>Afghanistan</td>\n",
       "      <td>6121</td>\n",
       "      <td>Value</td>\n",
       "      <td>21010</td>\n",
       "      <td>Average dietary energy supply adequacy (percen...</td>\n",
       "      <td>20022004</td>\n",
       "      <td>2002-2004</td>\n",
       "      <td>%</td>\n",
       "      <td>92</td>\n",
       "      <td>E</td>\n",
       "      <td>Estimated value</td>\n",
       "    </tr>\n",
       "    <tr>\n",
       "      <th>3</th>\n",
       "      <td>FS</td>\n",
       "      <td>Suite of Food Security Indicators</td>\n",
       "      <td>4</td>\n",
       "      <td>Afghanistan</td>\n",
       "      <td>6121</td>\n",
       "      <td>Value</td>\n",
       "      <td>21010</td>\n",
       "      <td>Average dietary energy supply adequacy (percen...</td>\n",
       "      <td>20032005</td>\n",
       "      <td>2003-2005</td>\n",
       "      <td>%</td>\n",
       "      <td>93</td>\n",
       "      <td>E</td>\n",
       "      <td>Estimated value</td>\n",
       "    </tr>\n",
       "    <tr>\n",
       "      <th>4</th>\n",
       "      <td>FS</td>\n",
       "      <td>Suite of Food Security Indicators</td>\n",
       "      <td>4</td>\n",
       "      <td>Afghanistan</td>\n",
       "      <td>6121</td>\n",
       "      <td>Value</td>\n",
       "      <td>21010</td>\n",
       "      <td>Average dietary energy supply adequacy (percen...</td>\n",
       "      <td>20042006</td>\n",
       "      <td>2004-2006</td>\n",
       "      <td>%</td>\n",
       "      <td>94</td>\n",
       "      <td>E</td>\n",
       "      <td>Estimated value</td>\n",
       "    </tr>\n",
       "    <tr>\n",
       "      <th>...</th>\n",
       "      <td>...</td>\n",
       "      <td>...</td>\n",
       "      <td>...</td>\n",
       "      <td>...</td>\n",
       "      <td>...</td>\n",
       "      <td>...</td>\n",
       "      <td>...</td>\n",
       "      <td>...</td>\n",
       "      <td>...</td>\n",
       "      <td>...</td>\n",
       "      <td>...</td>\n",
       "      <td>...</td>\n",
       "      <td>...</td>\n",
       "      <td>...</td>\n",
       "    </tr>\n",
       "    <tr>\n",
       "      <th>139523</th>\n",
       "      <td>FS</td>\n",
       "      <td>Suite of Food Security Indicators</td>\n",
       "      <td>716</td>\n",
       "      <td>Zimbabwe</td>\n",
       "      <td>6123</td>\n",
       "      <td>Value</td>\n",
       "      <td>21061</td>\n",
       "      <td>Average fat supply (g/cap/day) (3-year average)</td>\n",
       "      <td>20142016</td>\n",
       "      <td>2014-2016</td>\n",
       "      <td>g/pc/d</td>\n",
       "      <td>69.9</td>\n",
       "      <td>E</td>\n",
       "      <td>Estimated value</td>\n",
       "    </tr>\n",
       "    <tr>\n",
       "      <th>139524</th>\n",
       "      <td>FS</td>\n",
       "      <td>Suite of Food Security Indicators</td>\n",
       "      <td>716</td>\n",
       "      <td>Zimbabwe</td>\n",
       "      <td>6123</td>\n",
       "      <td>Value</td>\n",
       "      <td>21061</td>\n",
       "      <td>Average fat supply (g/cap/day) (3-year average)</td>\n",
       "      <td>20152017</td>\n",
       "      <td>2015-2017</td>\n",
       "      <td>g/pc/d</td>\n",
       "      <td>68.6</td>\n",
       "      <td>E</td>\n",
       "      <td>Estimated value</td>\n",
       "    </tr>\n",
       "    <tr>\n",
       "      <th>139525</th>\n",
       "      <td>FS</td>\n",
       "      <td>Suite of Food Security Indicators</td>\n",
       "      <td>716</td>\n",
       "      <td>Zimbabwe</td>\n",
       "      <td>6123</td>\n",
       "      <td>Value</td>\n",
       "      <td>21061</td>\n",
       "      <td>Average fat supply (g/cap/day) (3-year average)</td>\n",
       "      <td>20162018</td>\n",
       "      <td>2016-2018</td>\n",
       "      <td>g/pc/d</td>\n",
       "      <td>66.9</td>\n",
       "      <td>E</td>\n",
       "      <td>Estimated value</td>\n",
       "    </tr>\n",
       "    <tr>\n",
       "      <th>139526</th>\n",
       "      <td>FS</td>\n",
       "      <td>Suite of Food Security Indicators</td>\n",
       "      <td>716</td>\n",
       "      <td>Zimbabwe</td>\n",
       "      <td>6123</td>\n",
       "      <td>Value</td>\n",
       "      <td>21061</td>\n",
       "      <td>Average fat supply (g/cap/day) (3-year average)</td>\n",
       "      <td>20172019</td>\n",
       "      <td>2017-2019</td>\n",
       "      <td>g/pc/d</td>\n",
       "      <td>63.6</td>\n",
       "      <td>E</td>\n",
       "      <td>Estimated value</td>\n",
       "    </tr>\n",
       "    <tr>\n",
       "      <th>139527</th>\n",
       "      <td>FS</td>\n",
       "      <td>Suite of Food Security Indicators</td>\n",
       "      <td>716</td>\n",
       "      <td>Zimbabwe</td>\n",
       "      <td>6123</td>\n",
       "      <td>Value</td>\n",
       "      <td>21061</td>\n",
       "      <td>Average fat supply (g/cap/day) (3-year average)</td>\n",
       "      <td>20182020</td>\n",
       "      <td>2018-2020</td>\n",
       "      <td>g/pc/d</td>\n",
       "      <td>63.3</td>\n",
       "      <td>E</td>\n",
       "      <td>Estimated value</td>\n",
       "    </tr>\n",
       "  </tbody>\n",
       "</table>\n",
       "<p>139528 rows × 14 columns</p>\n",
       "</div>"
      ],
      "text/plain": [
       "       domain_code                             domain  area_code_(m49)  \\\n",
       "0               FS  Suite of Food Security Indicators                4   \n",
       "1               FS  Suite of Food Security Indicators                4   \n",
       "2               FS  Suite of Food Security Indicators                4   \n",
       "3               FS  Suite of Food Security Indicators                4   \n",
       "4               FS  Suite of Food Security Indicators                4   \n",
       "...            ...                                ...              ...   \n",
       "139523          FS  Suite of Food Security Indicators              716   \n",
       "139524          FS  Suite of Food Security Indicators              716   \n",
       "139525          FS  Suite of Food Security Indicators              716   \n",
       "139526          FS  Suite of Food Security Indicators              716   \n",
       "139527          FS  Suite of Food Security Indicators              716   \n",
       "\n",
       "            country  element_code element item_code  \\\n",
       "0       Afghanistan          6121   Value     21010   \n",
       "1       Afghanistan          6121   Value     21010   \n",
       "2       Afghanistan          6121   Value     21010   \n",
       "3       Afghanistan          6121   Value     21010   \n",
       "4       Afghanistan          6121   Value     21010   \n",
       "...             ...           ...     ...       ...   \n",
       "139523     Zimbabwe          6123   Value     21061   \n",
       "139524     Zimbabwe          6123   Value     21061   \n",
       "139525     Zimbabwe          6123   Value     21061   \n",
       "139526     Zimbabwe          6123   Value     21061   \n",
       "139527     Zimbabwe          6123   Value     21061   \n",
       "\n",
       "                                                     item  year_code  \\\n",
       "0       Average dietary energy supply adequacy (percen...   20002002   \n",
       "1       Average dietary energy supply adequacy (percen...   20012003   \n",
       "2       Average dietary energy supply adequacy (percen...   20022004   \n",
       "3       Average dietary energy supply adequacy (percen...   20032005   \n",
       "4       Average dietary energy supply adequacy (percen...   20042006   \n",
       "...                                                   ...        ...   \n",
       "139523    Average fat supply (g/cap/day) (3-year average)   20142016   \n",
       "139524    Average fat supply (g/cap/day) (3-year average)   20152017   \n",
       "139525    Average fat supply (g/cap/day) (3-year average)   20162018   \n",
       "139526    Average fat supply (g/cap/day) (3-year average)   20172019   \n",
       "139527    Average fat supply (g/cap/day) (3-year average)   20182020   \n",
       "\n",
       "             year    unit value flag flag_description  \n",
       "0       2000-2002       %    88    E  Estimated value  \n",
       "1       2001-2003       %    89    E  Estimated value  \n",
       "2       2002-2004       %    92    E  Estimated value  \n",
       "3       2003-2005       %    93    E  Estimated value  \n",
       "4       2004-2006       %    94    E  Estimated value  \n",
       "...           ...     ...   ...  ...              ...  \n",
       "139523  2014-2016  g/pc/d  69.9    E  Estimated value  \n",
       "139524  2015-2017  g/pc/d  68.6    E  Estimated value  \n",
       "139525  2016-2018  g/pc/d  66.9    E  Estimated value  \n",
       "139526  2017-2019  g/pc/d  63.6    E  Estimated value  \n",
       "139527  2018-2020  g/pc/d  63.3    E  Estimated value  \n",
       "\n",
       "[139528 rows x 14 columns]"
      ]
     },
     "execution_count": 209,
     "metadata": {},
     "output_type": "execute_result"
    }
   ],
   "source": [
    "df"
   ]
  },
  {
   "cell_type": "code",
   "execution_count": 210,
   "metadata": {},
   "outputs": [],
   "source": [
    "# filter the data\n",
    "\n",
    "# per capita food supply variability (kcal/cap/day)\n",
    "df1 = df[df['item'] == 'Per capita food supply variability (kcal/cap/day)']\n",
    "\n",
    "# convert the value column to float\n",
    "df1['value'] = pd.to_numeric(df1['value'], errors='coerce')\n",
    "\n",
    "# group by country and item\n",
    "df1 = df1.groupby(['country', 'item'], as_index=False)['value'].mean()\n",
    "\n",
    "# round the value column\n",
    "df1['value'] = df1['value'].round(2)"
   ]
  },
  {
   "cell_type": "markdown",
   "metadata": {},
   "source": [
    "## Data Visualization"
   ]
  },
  {
   "cell_type": "code",
   "execution_count": 211,
   "metadata": {},
   "outputs": [
    {
     "data": {
      "application/vnd.plotly.v1+json": {
       "config": {
        "plotlyServerURL": "https://plot.ly"
       },
       "data": [
        {
         "coloraxis": "coloraxis",
         "geo": "geo",
         "hovertemplate": "<b>%{hovertext}</b><br><br>country=%{location}<br>value=%{z}<extra></extra>",
         "hovertext": [
          "Afghanistan",
          "Albania",
          "Algeria",
          "Angola",
          "Antigua and Barbuda",
          "Argentina",
          "Armenia",
          "Australia",
          "Austria",
          "Azerbaijan",
          "Bahamas",
          "Bangladesh",
          "Barbados",
          "Belarus",
          "Belgium",
          "Belize",
          "Benin",
          "Bermuda",
          "Bolivia (Plurinational State of)",
          "Bosnia and Herzegovina",
          "Botswana",
          "Brazil",
          "Brunei Darussalam",
          "Bulgaria",
          "Burkina Faso",
          "Cabo Verde",
          "Cambodia",
          "Cameroon",
          "Canada",
          "Central African Republic",
          "Chad",
          "Chile",
          "China",
          "China, Hong Kong SAR",
          "China, Macao SAR",
          "China, Taiwan Province of",
          "China, mainland",
          "Colombia",
          "Comoros",
          "Congo",
          "Costa Rica",
          "Croatia",
          "Cuba",
          "Cyprus",
          "Czechia",
          "Côte d'Ivoire",
          "Democratic People's Republic of Korea",
          "Democratic Republic of the Congo",
          "Denmark",
          "Djibouti",
          "Dominica",
          "Dominican Republic",
          "Ecuador",
          "Egypt",
          "El Salvador",
          "Estonia",
          "Eswatini",
          "Ethiopia",
          "Fiji",
          "Finland",
          "France",
          "French Polynesia",
          "Gabon",
          "Gambia",
          "Georgia",
          "Germany",
          "Ghana",
          "Greece",
          "Grenada",
          "Guatemala",
          "Guinea",
          "Guinea-Bissau",
          "Guyana",
          "Haiti",
          "Honduras",
          "Hungary",
          "Iceland",
          "India",
          "Indonesia",
          "Iran (Islamic Republic of)",
          "Iraq",
          "Ireland",
          "Israel",
          "Italy",
          "Jamaica",
          "Japan",
          "Jordan",
          "Kazakhstan",
          "Kenya",
          "Kiribati",
          "Kuwait",
          "Kyrgyzstan",
          "Lao People's Democratic Republic",
          "Latvia",
          "Lebanon",
          "Lesotho",
          "Liberia",
          "Libya",
          "Lithuania",
          "Luxembourg",
          "Madagascar",
          "Malawi",
          "Malaysia",
          "Maldives",
          "Mali",
          "Malta",
          "Mauritania",
          "Mauritius",
          "Mexico",
          "Mongolia",
          "Montenegro",
          "Morocco",
          "Mozambique",
          "Myanmar",
          "Namibia",
          "Nepal",
          "Netherlands (Kingdom of the)",
          "New Caledonia",
          "New Zealand",
          "Nicaragua",
          "Niger",
          "Nigeria",
          "North Macedonia",
          "Norway",
          "Oman",
          "Pakistan",
          "Panama",
          "Papua New Guinea",
          "Paraguay",
          "Peru",
          "Philippines",
          "Poland",
          "Portugal",
          "Republic of Korea",
          "Republic of Moldova",
          "Romania",
          "Russian Federation",
          "Rwanda",
          "Saint Kitts and Nevis",
          "Saint Lucia",
          "Saint Vincent and the Grenadines",
          "Samoa",
          "Sao Tome and Principe",
          "Saudi Arabia",
          "Senegal",
          "Serbia",
          "Seychelles",
          "Sierra Leone",
          "Slovakia",
          "Slovenia",
          "Solomon Islands",
          "Somalia",
          "South Africa",
          "Spain",
          "Sri Lanka",
          "Sudan",
          "Suriname",
          "Sweden",
          "Switzerland",
          "Syrian Arab Republic",
          "Tajikistan",
          "Thailand",
          "Timor-Leste",
          "Togo",
          "Trinidad and Tobago",
          "Tunisia",
          "Turkmenistan",
          "Türkiye",
          "Uganda",
          "Ukraine",
          "United Arab Emirates",
          "United Kingdom of Great Britain and Northern Ireland",
          "United Republic of Tanzania",
          "United States of America",
          "Uruguay",
          "Uzbekistan",
          "Vanuatu",
          "Venezuela (Bolivarian Republic of)",
          "Viet Nam",
          "Yemen",
          "Zambia",
          "Zimbabwe"
         ],
         "locationmode": "country names",
         "locations": [
          "Afghanistan",
          "Albania",
          "Algeria",
          "Angola",
          "Antigua and Barbuda",
          "Argentina",
          "Armenia",
          "Australia",
          "Austria",
          "Azerbaijan",
          "Bahamas",
          "Bangladesh",
          "Barbados",
          "Belarus",
          "Belgium",
          "Belize",
          "Benin",
          "Bermuda",
          "Bolivia (Plurinational State of)",
          "Bosnia and Herzegovina",
          "Botswana",
          "Brazil",
          "Brunei Darussalam",
          "Bulgaria",
          "Burkina Faso",
          "Cabo Verde",
          "Cambodia",
          "Cameroon",
          "Canada",
          "Central African Republic",
          "Chad",
          "Chile",
          "China",
          "China, Hong Kong SAR",
          "China, Macao SAR",
          "China, Taiwan Province of",
          "China, mainland",
          "Colombia",
          "Comoros",
          "Congo",
          "Costa Rica",
          "Croatia",
          "Cuba",
          "Cyprus",
          "Czechia",
          "Côte d'Ivoire",
          "Democratic People's Republic of Korea",
          "Democratic Republic of the Congo",
          "Denmark",
          "Djibouti",
          "Dominica",
          "Dominican Republic",
          "Ecuador",
          "Egypt",
          "El Salvador",
          "Estonia",
          "Eswatini",
          "Ethiopia",
          "Fiji",
          "Finland",
          "France",
          "French Polynesia",
          "Gabon",
          "Gambia",
          "Georgia",
          "Germany",
          "Ghana",
          "Greece",
          "Grenada",
          "Guatemala",
          "Guinea",
          "Guinea-Bissau",
          "Guyana",
          "Haiti",
          "Honduras",
          "Hungary",
          "Iceland",
          "India",
          "Indonesia",
          "Iran (Islamic Republic of)",
          "Iraq",
          "Ireland",
          "Israel",
          "Italy",
          "Jamaica",
          "Japan",
          "Jordan",
          "Kazakhstan",
          "Kenya",
          "Kiribati",
          "Kuwait",
          "Kyrgyzstan",
          "Lao People's Democratic Republic",
          "Latvia",
          "Lebanon",
          "Lesotho",
          "Liberia",
          "Libya",
          "Lithuania",
          "Luxembourg",
          "Madagascar",
          "Malawi",
          "Malaysia",
          "Maldives",
          "Mali",
          "Malta",
          "Mauritania",
          "Mauritius",
          "Mexico",
          "Mongolia",
          "Montenegro",
          "Morocco",
          "Mozambique",
          "Myanmar",
          "Namibia",
          "Nepal",
          "Netherlands (Kingdom of the)",
          "New Caledonia",
          "New Zealand",
          "Nicaragua",
          "Niger",
          "Nigeria",
          "North Macedonia",
          "Norway",
          "Oman",
          "Pakistan",
          "Panama",
          "Papua New Guinea",
          "Paraguay",
          "Peru",
          "Philippines",
          "Poland",
          "Portugal",
          "Republic of Korea",
          "Republic of Moldova",
          "Romania",
          "Russian Federation",
          "Rwanda",
          "Saint Kitts and Nevis",
          "Saint Lucia",
          "Saint Vincent and the Grenadines",
          "Samoa",
          "Sao Tome and Principe",
          "Saudi Arabia",
          "Senegal",
          "Serbia",
          "Seychelles",
          "Sierra Leone",
          "Slovakia",
          "Slovenia",
          "Solomon Islands",
          "Somalia",
          "South Africa",
          "Spain",
          "Sri Lanka",
          "Sudan",
          "Suriname",
          "Sweden",
          "Switzerland",
          "Syrian Arab Republic",
          "Tajikistan",
          "Thailand",
          "Timor-Leste",
          "Togo",
          "Trinidad and Tobago",
          "Tunisia",
          "Turkmenistan",
          "Türkiye",
          "Uganda",
          "Ukraine",
          "United Arab Emirates",
          "United Kingdom of Great Britain and Northern Ireland",
          "United Republic of Tanzania",
          "United States of America",
          "Uruguay",
          "Uzbekistan",
          "Vanuatu",
          "Venezuela (Bolivarian Republic of)",
          "Viet Nam",
          "Yemen",
          "Zambia",
          "Zimbabwe"
         ],
         "name": "",
         "type": "choropleth",
         "z": [
          42.55,
          42.05,
          34.09,
          70.82,
          3,
          53.27,
          57.59,
          46.09,
          44.82,
          72.41,
          35,
          28.77,
          51.45,
          64.86,
          18.88,
          37.68,
          35.73,
          14,
          31.64,
          71.27,
          30.18,
          35.18,
          28,
          37.14,
          30.41,
          41.86,
          37.82,
          42.86,
          36.23,
          46.95,
          66.36,
          20.45,
          14.68,
          45.18,
          37.86,
          18.09,
          15.32,
          38.77,
          38.65,
          51.59,
          32.45,
          60.45,
          60.23,
          59.59,
          53.23,
          32.5,
          24.32,
          21.35,
          29.73,
          53.05,
          43,
          42.73,
          59.05,
          30.5,
          31.45,
          48.68,
          67.36,
          33.86,
          55.95,
          29.68,
          41.27,
          25.41,
          29.77,
          49.73,
          58.95,
          28.86,
          52.45,
          39.68,
          12,
          38.5,
          48.64,
          53.86,
          53.05,
          38.59,
          34.18,
          61.77,
          42.05,
          29.41,
          20.05,
          40.5,
          33.09,
          46.27,
          40,
          35.41,
          27.5,
          24,
          47.91,
          46.45,
          36.86,
          52.23,
          58.32,
          52.68,
          30.27,
          45.95,
          88.18,
          60.09,
          46.59,
          53.53,
          58.82,
          21.06,
          31.36,
          42.27,
          31.27,
          8,
          30.36,
          24.95,
          34.5,
          28.23,
          23.14,
          35.86,
          116.06,
          30.91,
          96.14,
          29.45,
          52.45,
          22.05,
          29.82,
          18.64,
          31.27,
          28.68,
          31.77,
          34.77,
          63.18,
          38.09,
          69.18,
          27.45,
          63.73,
          19.41,
          78.18,
          30.14,
          37.73,
          27.91,
          23.27,
          36.64,
          79.18,
          44.95,
          31.95,
          60.45,
          4,
          21,
          30.77,
          33.82,
          34.09,
          51.55,
          33.64,
          89.41,
          52.88,
          60.59,
          47.14,
          33.64,
          40.59,
          21.47,
          23.41,
          29.73,
          34.14,
          42,
          31.09,
          25.05,
          29.64,
          44.12,
          28.64,
          29.32,
          41.14,
          31.14,
          33.45,
          33.27,
          40.5,
          24.5,
          49.95,
          46.45,
          58.68,
          22.05,
          36.05,
          28.41,
          35.09,
          59.68,
          58.18,
          113.32,
          23.77,
          47.27,
          35.86,
          31.23
         ]
        }
       ],
       "layout": {
        "coloraxis": {
         "colorbar": {
          "title": {
           "text": "value"
          }
         },
         "colorscale": [
          [
           0,
           "#0d0887"
          ],
          [
           0.1111111111111111,
           "#46039f"
          ],
          [
           0.2222222222222222,
           "#7201a8"
          ],
          [
           0.3333333333333333,
           "#9c179e"
          ],
          [
           0.4444444444444444,
           "#bd3786"
          ],
          [
           0.5555555555555556,
           "#d8576b"
          ],
          [
           0.6666666666666666,
           "#ed7953"
          ],
          [
           0.7777777777777778,
           "#fb9f3a"
          ],
          [
           0.8888888888888888,
           "#fdca26"
          ],
          [
           1,
           "#f0f921"
          ]
         ]
        },
        "geo": {
         "center": {},
         "domain": {
          "x": [
           0,
           1
          ],
          "y": [
           0,
           1
          ]
         }
        },
        "height": 800,
        "legend": {
         "tracegroupgap": 0
        },
        "template": {
         "data": {
          "bar": [
           {
            "error_x": {
             "color": "#2a3f5f"
            },
            "error_y": {
             "color": "#2a3f5f"
            },
            "marker": {
             "line": {
              "color": "#E5ECF6",
              "width": 0.5
             },
             "pattern": {
              "fillmode": "overlay",
              "size": 10,
              "solidity": 0.2
             }
            },
            "type": "bar"
           }
          ],
          "barpolar": [
           {
            "marker": {
             "line": {
              "color": "#E5ECF6",
              "width": 0.5
             },
             "pattern": {
              "fillmode": "overlay",
              "size": 10,
              "solidity": 0.2
             }
            },
            "type": "barpolar"
           }
          ],
          "carpet": [
           {
            "aaxis": {
             "endlinecolor": "#2a3f5f",
             "gridcolor": "white",
             "linecolor": "white",
             "minorgridcolor": "white",
             "startlinecolor": "#2a3f5f"
            },
            "baxis": {
             "endlinecolor": "#2a3f5f",
             "gridcolor": "white",
             "linecolor": "white",
             "minorgridcolor": "white",
             "startlinecolor": "#2a3f5f"
            },
            "type": "carpet"
           }
          ],
          "choropleth": [
           {
            "colorbar": {
             "outlinewidth": 0,
             "ticks": ""
            },
            "type": "choropleth"
           }
          ],
          "contour": [
           {
            "colorbar": {
             "outlinewidth": 0,
             "ticks": ""
            },
            "colorscale": [
             [
              0,
              "#0d0887"
             ],
             [
              0.1111111111111111,
              "#46039f"
             ],
             [
              0.2222222222222222,
              "#7201a8"
             ],
             [
              0.3333333333333333,
              "#9c179e"
             ],
             [
              0.4444444444444444,
              "#bd3786"
             ],
             [
              0.5555555555555556,
              "#d8576b"
             ],
             [
              0.6666666666666666,
              "#ed7953"
             ],
             [
              0.7777777777777778,
              "#fb9f3a"
             ],
             [
              0.8888888888888888,
              "#fdca26"
             ],
             [
              1,
              "#f0f921"
             ]
            ],
            "type": "contour"
           }
          ],
          "contourcarpet": [
           {
            "colorbar": {
             "outlinewidth": 0,
             "ticks": ""
            },
            "type": "contourcarpet"
           }
          ],
          "heatmap": [
           {
            "colorbar": {
             "outlinewidth": 0,
             "ticks": ""
            },
            "colorscale": [
             [
              0,
              "#0d0887"
             ],
             [
              0.1111111111111111,
              "#46039f"
             ],
             [
              0.2222222222222222,
              "#7201a8"
             ],
             [
              0.3333333333333333,
              "#9c179e"
             ],
             [
              0.4444444444444444,
              "#bd3786"
             ],
             [
              0.5555555555555556,
              "#d8576b"
             ],
             [
              0.6666666666666666,
              "#ed7953"
             ],
             [
              0.7777777777777778,
              "#fb9f3a"
             ],
             [
              0.8888888888888888,
              "#fdca26"
             ],
             [
              1,
              "#f0f921"
             ]
            ],
            "type": "heatmap"
           }
          ],
          "heatmapgl": [
           {
            "colorbar": {
             "outlinewidth": 0,
             "ticks": ""
            },
            "colorscale": [
             [
              0,
              "#0d0887"
             ],
             [
              0.1111111111111111,
              "#46039f"
             ],
             [
              0.2222222222222222,
              "#7201a8"
             ],
             [
              0.3333333333333333,
              "#9c179e"
             ],
             [
              0.4444444444444444,
              "#bd3786"
             ],
             [
              0.5555555555555556,
              "#d8576b"
             ],
             [
              0.6666666666666666,
              "#ed7953"
             ],
             [
              0.7777777777777778,
              "#fb9f3a"
             ],
             [
              0.8888888888888888,
              "#fdca26"
             ],
             [
              1,
              "#f0f921"
             ]
            ],
            "type": "heatmapgl"
           }
          ],
          "histogram": [
           {
            "marker": {
             "pattern": {
              "fillmode": "overlay",
              "size": 10,
              "solidity": 0.2
             }
            },
            "type": "histogram"
           }
          ],
          "histogram2d": [
           {
            "colorbar": {
             "outlinewidth": 0,
             "ticks": ""
            },
            "colorscale": [
             [
              0,
              "#0d0887"
             ],
             [
              0.1111111111111111,
              "#46039f"
             ],
             [
              0.2222222222222222,
              "#7201a8"
             ],
             [
              0.3333333333333333,
              "#9c179e"
             ],
             [
              0.4444444444444444,
              "#bd3786"
             ],
             [
              0.5555555555555556,
              "#d8576b"
             ],
             [
              0.6666666666666666,
              "#ed7953"
             ],
             [
              0.7777777777777778,
              "#fb9f3a"
             ],
             [
              0.8888888888888888,
              "#fdca26"
             ],
             [
              1,
              "#f0f921"
             ]
            ],
            "type": "histogram2d"
           }
          ],
          "histogram2dcontour": [
           {
            "colorbar": {
             "outlinewidth": 0,
             "ticks": ""
            },
            "colorscale": [
             [
              0,
              "#0d0887"
             ],
             [
              0.1111111111111111,
              "#46039f"
             ],
             [
              0.2222222222222222,
              "#7201a8"
             ],
             [
              0.3333333333333333,
              "#9c179e"
             ],
             [
              0.4444444444444444,
              "#bd3786"
             ],
             [
              0.5555555555555556,
              "#d8576b"
             ],
             [
              0.6666666666666666,
              "#ed7953"
             ],
             [
              0.7777777777777778,
              "#fb9f3a"
             ],
             [
              0.8888888888888888,
              "#fdca26"
             ],
             [
              1,
              "#f0f921"
             ]
            ],
            "type": "histogram2dcontour"
           }
          ],
          "mesh3d": [
           {
            "colorbar": {
             "outlinewidth": 0,
             "ticks": ""
            },
            "type": "mesh3d"
           }
          ],
          "parcoords": [
           {
            "line": {
             "colorbar": {
              "outlinewidth": 0,
              "ticks": ""
             }
            },
            "type": "parcoords"
           }
          ],
          "pie": [
           {
            "automargin": true,
            "type": "pie"
           }
          ],
          "scatter": [
           {
            "fillpattern": {
             "fillmode": "overlay",
             "size": 10,
             "solidity": 0.2
            },
            "type": "scatter"
           }
          ],
          "scatter3d": [
           {
            "line": {
             "colorbar": {
              "outlinewidth": 0,
              "ticks": ""
             }
            },
            "marker": {
             "colorbar": {
              "outlinewidth": 0,
              "ticks": ""
             }
            },
            "type": "scatter3d"
           }
          ],
          "scattercarpet": [
           {
            "marker": {
             "colorbar": {
              "outlinewidth": 0,
              "ticks": ""
             }
            },
            "type": "scattercarpet"
           }
          ],
          "scattergeo": [
           {
            "marker": {
             "colorbar": {
              "outlinewidth": 0,
              "ticks": ""
             }
            },
            "type": "scattergeo"
           }
          ],
          "scattergl": [
           {
            "marker": {
             "colorbar": {
              "outlinewidth": 0,
              "ticks": ""
             }
            },
            "type": "scattergl"
           }
          ],
          "scattermapbox": [
           {
            "marker": {
             "colorbar": {
              "outlinewidth": 0,
              "ticks": ""
             }
            },
            "type": "scattermapbox"
           }
          ],
          "scatterpolar": [
           {
            "marker": {
             "colorbar": {
              "outlinewidth": 0,
              "ticks": ""
             }
            },
            "type": "scatterpolar"
           }
          ],
          "scatterpolargl": [
           {
            "marker": {
             "colorbar": {
              "outlinewidth": 0,
              "ticks": ""
             }
            },
            "type": "scatterpolargl"
           }
          ],
          "scatterternary": [
           {
            "marker": {
             "colorbar": {
              "outlinewidth": 0,
              "ticks": ""
             }
            },
            "type": "scatterternary"
           }
          ],
          "surface": [
           {
            "colorbar": {
             "outlinewidth": 0,
             "ticks": ""
            },
            "colorscale": [
             [
              0,
              "#0d0887"
             ],
             [
              0.1111111111111111,
              "#46039f"
             ],
             [
              0.2222222222222222,
              "#7201a8"
             ],
             [
              0.3333333333333333,
              "#9c179e"
             ],
             [
              0.4444444444444444,
              "#bd3786"
             ],
             [
              0.5555555555555556,
              "#d8576b"
             ],
             [
              0.6666666666666666,
              "#ed7953"
             ],
             [
              0.7777777777777778,
              "#fb9f3a"
             ],
             [
              0.8888888888888888,
              "#fdca26"
             ],
             [
              1,
              "#f0f921"
             ]
            ],
            "type": "surface"
           }
          ],
          "table": [
           {
            "cells": {
             "fill": {
              "color": "#EBF0F8"
             },
             "line": {
              "color": "white"
             }
            },
            "header": {
             "fill": {
              "color": "#C8D4E3"
             },
             "line": {
              "color": "white"
             }
            },
            "type": "table"
           }
          ]
         },
         "layout": {
          "annotationdefaults": {
           "arrowcolor": "#2a3f5f",
           "arrowhead": 0,
           "arrowwidth": 1
          },
          "autotypenumbers": "strict",
          "coloraxis": {
           "colorbar": {
            "outlinewidth": 0,
            "ticks": ""
           }
          },
          "colorscale": {
           "diverging": [
            [
             0,
             "#8e0152"
            ],
            [
             0.1,
             "#c51b7d"
            ],
            [
             0.2,
             "#de77ae"
            ],
            [
             0.3,
             "#f1b6da"
            ],
            [
             0.4,
             "#fde0ef"
            ],
            [
             0.5,
             "#f7f7f7"
            ],
            [
             0.6,
             "#e6f5d0"
            ],
            [
             0.7,
             "#b8e186"
            ],
            [
             0.8,
             "#7fbc41"
            ],
            [
             0.9,
             "#4d9221"
            ],
            [
             1,
             "#276419"
            ]
           ],
           "sequential": [
            [
             0,
             "#0d0887"
            ],
            [
             0.1111111111111111,
             "#46039f"
            ],
            [
             0.2222222222222222,
             "#7201a8"
            ],
            [
             0.3333333333333333,
             "#9c179e"
            ],
            [
             0.4444444444444444,
             "#bd3786"
            ],
            [
             0.5555555555555556,
             "#d8576b"
            ],
            [
             0.6666666666666666,
             "#ed7953"
            ],
            [
             0.7777777777777778,
             "#fb9f3a"
            ],
            [
             0.8888888888888888,
             "#fdca26"
            ],
            [
             1,
             "#f0f921"
            ]
           ],
           "sequentialminus": [
            [
             0,
             "#0d0887"
            ],
            [
             0.1111111111111111,
             "#46039f"
            ],
            [
             0.2222222222222222,
             "#7201a8"
            ],
            [
             0.3333333333333333,
             "#9c179e"
            ],
            [
             0.4444444444444444,
             "#bd3786"
            ],
            [
             0.5555555555555556,
             "#d8576b"
            ],
            [
             0.6666666666666666,
             "#ed7953"
            ],
            [
             0.7777777777777778,
             "#fb9f3a"
            ],
            [
             0.8888888888888888,
             "#fdca26"
            ],
            [
             1,
             "#f0f921"
            ]
           ]
          },
          "colorway": [
           "#636efa",
           "#EF553B",
           "#00cc96",
           "#ab63fa",
           "#FFA15A",
           "#19d3f3",
           "#FF6692",
           "#B6E880",
           "#FF97FF",
           "#FECB52"
          ],
          "font": {
           "color": "#2a3f5f"
          },
          "geo": {
           "bgcolor": "white",
           "lakecolor": "white",
           "landcolor": "#E5ECF6",
           "showlakes": true,
           "showland": true,
           "subunitcolor": "white"
          },
          "hoverlabel": {
           "align": "left"
          },
          "hovermode": "closest",
          "mapbox": {
           "style": "light"
          },
          "paper_bgcolor": "white",
          "plot_bgcolor": "#E5ECF6",
          "polar": {
           "angularaxis": {
            "gridcolor": "white",
            "linecolor": "white",
            "ticks": ""
           },
           "bgcolor": "#E5ECF6",
           "radialaxis": {
            "gridcolor": "white",
            "linecolor": "white",
            "ticks": ""
           }
          },
          "scene": {
           "xaxis": {
            "backgroundcolor": "#E5ECF6",
            "gridcolor": "white",
            "gridwidth": 2,
            "linecolor": "white",
            "showbackground": true,
            "ticks": "",
            "zerolinecolor": "white"
           },
           "yaxis": {
            "backgroundcolor": "#E5ECF6",
            "gridcolor": "white",
            "gridwidth": 2,
            "linecolor": "white",
            "showbackground": true,
            "ticks": "",
            "zerolinecolor": "white"
           },
           "zaxis": {
            "backgroundcolor": "#E5ECF6",
            "gridcolor": "white",
            "gridwidth": 2,
            "linecolor": "white",
            "showbackground": true,
            "ticks": "",
            "zerolinecolor": "white"
           }
          },
          "shapedefaults": {
           "line": {
            "color": "#2a3f5f"
           }
          },
          "ternary": {
           "aaxis": {
            "gridcolor": "white",
            "linecolor": "white",
            "ticks": ""
           },
           "baxis": {
            "gridcolor": "white",
            "linecolor": "white",
            "ticks": ""
           },
           "bgcolor": "#E5ECF6",
           "caxis": {
            "gridcolor": "white",
            "linecolor": "white",
            "ticks": ""
           }
          },
          "title": {
           "x": 0.05
          },
          "xaxis": {
           "automargin": true,
           "gridcolor": "white",
           "linecolor": "white",
           "ticks": "",
           "title": {
            "standoff": 15
           },
           "zerolinecolor": "white",
           "zerolinewidth": 2
          },
          "yaxis": {
           "automargin": true,
           "gridcolor": "white",
           "linecolor": "white",
           "ticks": "",
           "title": {
            "standoff": 15
           },
           "zerolinecolor": "white",
           "zerolinewidth": 2
          }
         }
        },
        "title": {
         "text": "Per Capita Food Supply Variability (kcal/cap/day)"
        },
        "width": 1000
       }
      }
     },
     "metadata": {},
     "output_type": "display_data"
    }
   ],
   "source": [
    "# choropleth\n",
    "fig = px.choropleth(df1, locations = 'country',\n",
    "                    locationmode='country names',\n",
    "                    color=\"value\",\n",
    "                    hover_name = 'country',\n",
    "                    title = 'Per Capita Food Supply Variability (kcal/cap/day)',\n",
    "                    color_continuous_scale=px.colors.sequential.Plasma\n",
    "                    )\n",
    "fig.update_layout(width=1000, height=800)\n",
    "fig.show()"
   ]
  },
  {
   "cell_type": "code",
   "execution_count": 212,
   "metadata": {},
   "outputs": [
    {
     "data": {
      "text/html": [
       "<div>\n",
       "<style scoped>\n",
       "    .dataframe tbody tr th:only-of-type {\n",
       "        vertical-align: middle;\n",
       "    }\n",
       "\n",
       "    .dataframe tbody tr th {\n",
       "        vertical-align: top;\n",
       "    }\n",
       "\n",
       "    .dataframe thead th {\n",
       "        text-align: right;\n",
       "    }\n",
       "</style>\n",
       "<table border=\"1\" class=\"dataframe\">\n",
       "  <thead>\n",
       "    <tr style=\"text-align: right;\">\n",
       "      <th>year</th>\n",
       "      <th>2000</th>\n",
       "      <th>2000-2002</th>\n",
       "      <th>2001</th>\n",
       "      <th>2001-2003</th>\n",
       "      <th>2002</th>\n",
       "      <th>2002-2004</th>\n",
       "      <th>2003</th>\n",
       "      <th>2003-2005</th>\n",
       "      <th>2004</th>\n",
       "      <th>2004-2006</th>\n",
       "      <th>...</th>\n",
       "      <th>2017</th>\n",
       "      <th>2017-2019</th>\n",
       "      <th>2018</th>\n",
       "      <th>2018-2020</th>\n",
       "      <th>2019</th>\n",
       "      <th>2019-2021</th>\n",
       "      <th>2020</th>\n",
       "      <th>2020-2022</th>\n",
       "      <th>2021</th>\n",
       "      <th>2022</th>\n",
       "    </tr>\n",
       "    <tr>\n",
       "      <th>country</th>\n",
       "      <th></th>\n",
       "      <th></th>\n",
       "      <th></th>\n",
       "      <th></th>\n",
       "      <th></th>\n",
       "      <th></th>\n",
       "      <th></th>\n",
       "      <th></th>\n",
       "      <th></th>\n",
       "      <th></th>\n",
       "      <th></th>\n",
       "      <th></th>\n",
       "      <th></th>\n",
       "      <th></th>\n",
       "      <th></th>\n",
       "      <th></th>\n",
       "      <th></th>\n",
       "      <th></th>\n",
       "      <th></th>\n",
       "      <th></th>\n",
       "      <th></th>\n",
       "    </tr>\n",
       "  </thead>\n",
       "  <tbody>\n",
       "    <tr>\n",
       "      <th>Afghanistan</th>\n",
       "      <td>223.700588</td>\n",
       "      <td>59.38</td>\n",
       "      <td>224.575882</td>\n",
       "      <td>62.94</td>\n",
       "      <td>270.487368</td>\n",
       "      <td>54.16</td>\n",
       "      <td>271.884737</td>\n",
       "      <td>52.62</td>\n",
       "      <td>244.503810</td>\n",
       "      <td>51.23</td>\n",
       "      <td>...</td>\n",
       "      <td>359.908235</td>\n",
       "      <td>42.872727</td>\n",
       "      <td>307.894000</td>\n",
       "      <td>42.986364</td>\n",
       "      <td>360.781765</td>\n",
       "      <td>42.558824</td>\n",
       "      <td>399.280000</td>\n",
       "      <td>35.960000</td>\n",
       "      <td>488.925455</td>\n",
       "      <td>426.945556</td>\n",
       "    </tr>\n",
       "    <tr>\n",
       "      <th>Albania</th>\n",
       "      <td>481.722273</td>\n",
       "      <td>52.45</td>\n",
       "      <td>530.579524</td>\n",
       "      <td>52.79</td>\n",
       "      <td>520.983636</td>\n",
       "      <td>53.08</td>\n",
       "      <td>539.859091</td>\n",
       "      <td>52.88</td>\n",
       "      <td>560.862727</td>\n",
       "      <td>52.99</td>\n",
       "      <td>...</td>\n",
       "      <td>928.068947</td>\n",
       "      <td>30.909091</td>\n",
       "      <td>1065.682941</td>\n",
       "      <td>31.566667</td>\n",
       "      <td>1084.625882</td>\n",
       "      <td>18.375000</td>\n",
       "      <td>1200.874667</td>\n",
       "      <td>18.150000</td>\n",
       "      <td>2105.637778</td>\n",
       "      <td>631.747143</td>\n",
       "    </tr>\n",
       "    <tr>\n",
       "      <th>Algeria</th>\n",
       "      <td>553.792500</td>\n",
       "      <td>45.26</td>\n",
       "      <td>640.562857</td>\n",
       "      <td>45.01</td>\n",
       "      <td>577.152500</td>\n",
       "      <td>44.92</td>\n",
       "      <td>653.721364</td>\n",
       "      <td>44.51</td>\n",
       "      <td>667.308636</td>\n",
       "      <td>44.67</td>\n",
       "      <td>...</td>\n",
       "      <td>774.687143</td>\n",
       "      <td>30.085000</td>\n",
       "      <td>771.723810</td>\n",
       "      <td>29.955000</td>\n",
       "      <td>672.041667</td>\n",
       "      <td>18.253333</td>\n",
       "      <td>848.272222</td>\n",
       "      <td>18.907692</td>\n",
       "      <td>1380.306364</td>\n",
       "      <td>456.571111</td>\n",
       "    </tr>\n",
       "    <tr>\n",
       "      <th>American Samoa</th>\n",
       "      <td>61.052500</td>\n",
       "      <td>NaN</td>\n",
       "      <td>61.350000</td>\n",
       "      <td>NaN</td>\n",
       "      <td>61.675000</td>\n",
       "      <td>NaN</td>\n",
       "      <td>62.000000</td>\n",
       "      <td>NaN</td>\n",
       "      <td>50.026000</td>\n",
       "      <td>NaN</td>\n",
       "      <td>...</td>\n",
       "      <td>51.228000</td>\n",
       "      <td>NaN</td>\n",
       "      <td>51.228000</td>\n",
       "      <td>NaN</td>\n",
       "      <td>51.218000</td>\n",
       "      <td>NaN</td>\n",
       "      <td>51.218000</td>\n",
       "      <td>NaN</td>\n",
       "      <td>2.035000</td>\n",
       "      <td>3.020000</td>\n",
       "    </tr>\n",
       "    <tr>\n",
       "      <th>Andorra</th>\n",
       "      <td>38.786667</td>\n",
       "      <td>NaN</td>\n",
       "      <td>44.412500</td>\n",
       "      <td>NaN</td>\n",
       "      <td>40.442222</td>\n",
       "      <td>0.30</td>\n",
       "      <td>41.285556</td>\n",
       "      <td>0.30</td>\n",
       "      <td>42.087778</td>\n",
       "      <td>0.30</td>\n",
       "      <td>...</td>\n",
       "      <td>51.605000</td>\n",
       "      <td>0.300000</td>\n",
       "      <td>51.642500</td>\n",
       "      <td>0.300000</td>\n",
       "      <td>51.715000</td>\n",
       "      <td>0.300000</td>\n",
       "      <td>57.377143</td>\n",
       "      <td>NaN</td>\n",
       "      <td>2.325000</td>\n",
       "      <td>3.020000</td>\n",
       "    </tr>\n",
       "    <tr>\n",
       "      <th>...</th>\n",
       "      <td>...</td>\n",
       "      <td>...</td>\n",
       "      <td>...</td>\n",
       "      <td>...</td>\n",
       "      <td>...</td>\n",
       "      <td>...</td>\n",
       "      <td>...</td>\n",
       "      <td>...</td>\n",
       "      <td>...</td>\n",
       "      <td>...</td>\n",
       "      <td>...</td>\n",
       "      <td>...</td>\n",
       "      <td>...</td>\n",
       "      <td>...</td>\n",
       "      <td>...</td>\n",
       "      <td>...</td>\n",
       "      <td>...</td>\n",
       "      <td>...</td>\n",
       "      <td>...</td>\n",
       "      <td>...</td>\n",
       "      <td>...</td>\n",
       "    </tr>\n",
       "    <tr>\n",
       "      <th>Venezuela (Bolivarian Republic of)</th>\n",
       "      <td>217.288000</td>\n",
       "      <td>38.17</td>\n",
       "      <td>216.601000</td>\n",
       "      <td>37.84</td>\n",
       "      <td>206.417143</td>\n",
       "      <td>37.63</td>\n",
       "      <td>210.733810</td>\n",
       "      <td>37.46</td>\n",
       "      <td>211.302381</td>\n",
       "      <td>37.15</td>\n",
       "      <td>...</td>\n",
       "      <td>259.565000</td>\n",
       "      <td>40.200000</td>\n",
       "      <td>260.021667</td>\n",
       "      <td>40.020000</td>\n",
       "      <td>274.447059</td>\n",
       "      <td>30.800000</td>\n",
       "      <td>302.247333</td>\n",
       "      <td>41.000000</td>\n",
       "      <td>431.092000</td>\n",
       "      <td>523.415000</td>\n",
       "    </tr>\n",
       "    <tr>\n",
       "      <th>Viet Nam</th>\n",
       "      <td>347.109130</td>\n",
       "      <td>32.79</td>\n",
       "      <td>407.142500</td>\n",
       "      <td>33.14</td>\n",
       "      <td>349.480833</td>\n",
       "      <td>33.73</td>\n",
       "      <td>373.839565</td>\n",
       "      <td>34.13</td>\n",
       "      <td>386.381304</td>\n",
       "      <td>34.68</td>\n",
       "      <td>...</td>\n",
       "      <td>638.736190</td>\n",
       "      <td>24.972222</td>\n",
       "      <td>666.218571</td>\n",
       "      <td>22.875000</td>\n",
       "      <td>695.602857</td>\n",
       "      <td>11.794118</td>\n",
       "      <td>740.993000</td>\n",
       "      <td>12.593333</td>\n",
       "      <td>1341.648182</td>\n",
       "      <td>457.615556</td>\n",
       "    </tr>\n",
       "    <tr>\n",
       "      <th>Yemen</th>\n",
       "      <td>232.813529</td>\n",
       "      <td>40.91</td>\n",
       "      <td>233.290588</td>\n",
       "      <td>41.34</td>\n",
       "      <td>221.893889</td>\n",
       "      <td>41.60</td>\n",
       "      <td>192.257143</td>\n",
       "      <td>41.50</td>\n",
       "      <td>223.816667</td>\n",
       "      <td>41.47</td>\n",
       "      <td>...</td>\n",
       "      <td>265.430625</td>\n",
       "      <td>35.759091</td>\n",
       "      <td>265.357500</td>\n",
       "      <td>38.750000</td>\n",
       "      <td>263.096875</td>\n",
       "      <td>38.388235</td>\n",
       "      <td>293.105714</td>\n",
       "      <td>28.413333</td>\n",
       "      <td>400.944000</td>\n",
       "      <td>492.440000</td>\n",
       "    </tr>\n",
       "    <tr>\n",
       "      <th>Zambia</th>\n",
       "      <td>320.404737</td>\n",
       "      <td>32.50</td>\n",
       "      <td>322.346842</td>\n",
       "      <td>33.31</td>\n",
       "      <td>269.497826</td>\n",
       "      <td>33.18</td>\n",
       "      <td>312.042500</td>\n",
       "      <td>32.93</td>\n",
       "      <td>316.554500</td>\n",
       "      <td>32.59</td>\n",
       "      <td>...</td>\n",
       "      <td>393.202105</td>\n",
       "      <td>27.213636</td>\n",
       "      <td>345.222273</td>\n",
       "      <td>28.286364</td>\n",
       "      <td>393.562632</td>\n",
       "      <td>28.200000</td>\n",
       "      <td>454.166875</td>\n",
       "      <td>32.273333</td>\n",
       "      <td>655.732727</td>\n",
       "      <td>439.895556</td>\n",
       "    </tr>\n",
       "    <tr>\n",
       "      <th>Zimbabwe</th>\n",
       "      <td>334.053333</td>\n",
       "      <td>31.86</td>\n",
       "      <td>335.990952</td>\n",
       "      <td>33.49</td>\n",
       "      <td>308.563182</td>\n",
       "      <td>35.04</td>\n",
       "      <td>288.386364</td>\n",
       "      <td>34.31</td>\n",
       "      <td>281.947273</td>\n",
       "      <td>36.41</td>\n",
       "      <td>...</td>\n",
       "      <td>330.162000</td>\n",
       "      <td>33.190909</td>\n",
       "      <td>317.310952</td>\n",
       "      <td>33.500000</td>\n",
       "      <td>269.732500</td>\n",
       "      <td>28.870588</td>\n",
       "      <td>325.851053</td>\n",
       "      <td>31.220000</td>\n",
       "      <td>559.446364</td>\n",
       "      <td>448.135556</td>\n",
       "    </tr>\n",
       "  </tbody>\n",
       "</table>\n",
       "<p>204 rows × 44 columns</p>\n",
       "</div>"
      ],
      "text/plain": [
       "year                                      2000  2000-2002        2001  \\\n",
       "country                                                                 \n",
       "Afghanistan                         223.700588      59.38  224.575882   \n",
       "Albania                             481.722273      52.45  530.579524   \n",
       "Algeria                             553.792500      45.26  640.562857   \n",
       "American Samoa                       61.052500        NaN   61.350000   \n",
       "Andorra                              38.786667        NaN   44.412500   \n",
       "...                                        ...        ...         ...   \n",
       "Venezuela (Bolivarian Republic of)  217.288000      38.17  216.601000   \n",
       "Viet Nam                            347.109130      32.79  407.142500   \n",
       "Yemen                               232.813529      40.91  233.290588   \n",
       "Zambia                              320.404737      32.50  322.346842   \n",
       "Zimbabwe                            334.053333      31.86  335.990952   \n",
       "\n",
       "year                                2001-2003        2002  2002-2004  \\\n",
       "country                                                                \n",
       "Afghanistan                             62.94  270.487368      54.16   \n",
       "Albania                                 52.79  520.983636      53.08   \n",
       "Algeria                                 45.01  577.152500      44.92   \n",
       "American Samoa                            NaN   61.675000        NaN   \n",
       "Andorra                                   NaN   40.442222       0.30   \n",
       "...                                       ...         ...        ...   \n",
       "Venezuela (Bolivarian Republic of)      37.84  206.417143      37.63   \n",
       "Viet Nam                                33.14  349.480833      33.73   \n",
       "Yemen                                   41.34  221.893889      41.60   \n",
       "Zambia                                  33.31  269.497826      33.18   \n",
       "Zimbabwe                                33.49  308.563182      35.04   \n",
       "\n",
       "year                                      2003  2003-2005        2004  \\\n",
       "country                                                                 \n",
       "Afghanistan                         271.884737      52.62  244.503810   \n",
       "Albania                             539.859091      52.88  560.862727   \n",
       "Algeria                             653.721364      44.51  667.308636   \n",
       "American Samoa                       62.000000        NaN   50.026000   \n",
       "Andorra                              41.285556       0.30   42.087778   \n",
       "...                                        ...        ...         ...   \n",
       "Venezuela (Bolivarian Republic of)  210.733810      37.46  211.302381   \n",
       "Viet Nam                            373.839565      34.13  386.381304   \n",
       "Yemen                               192.257143      41.50  223.816667   \n",
       "Zambia                              312.042500      32.93  316.554500   \n",
       "Zimbabwe                            288.386364      34.31  281.947273   \n",
       "\n",
       "year                                2004-2006  ...        2017  2017-2019  \\\n",
       "country                                        ...                          \n",
       "Afghanistan                             51.23  ...  359.908235  42.872727   \n",
       "Albania                                 52.99  ...  928.068947  30.909091   \n",
       "Algeria                                 44.67  ...  774.687143  30.085000   \n",
       "American Samoa                            NaN  ...   51.228000        NaN   \n",
       "Andorra                                  0.30  ...   51.605000   0.300000   \n",
       "...                                       ...  ...         ...        ...   \n",
       "Venezuela (Bolivarian Republic of)      37.15  ...  259.565000  40.200000   \n",
       "Viet Nam                                34.68  ...  638.736190  24.972222   \n",
       "Yemen                                   41.47  ...  265.430625  35.759091   \n",
       "Zambia                                  32.59  ...  393.202105  27.213636   \n",
       "Zimbabwe                                36.41  ...  330.162000  33.190909   \n",
       "\n",
       "year                                       2018  2018-2020         2019  \\\n",
       "country                                                                   \n",
       "Afghanistan                          307.894000  42.986364   360.781765   \n",
       "Albania                             1065.682941  31.566667  1084.625882   \n",
       "Algeria                              771.723810  29.955000   672.041667   \n",
       "American Samoa                        51.228000        NaN    51.218000   \n",
       "Andorra                               51.642500   0.300000    51.715000   \n",
       "...                                         ...        ...          ...   \n",
       "Venezuela (Bolivarian Republic of)   260.021667  40.020000   274.447059   \n",
       "Viet Nam                             666.218571  22.875000   695.602857   \n",
       "Yemen                                265.357500  38.750000   263.096875   \n",
       "Zambia                               345.222273  28.286364   393.562632   \n",
       "Zimbabwe                             317.310952  33.500000   269.732500   \n",
       "\n",
       "year                                2019-2021         2020  2020-2022  \\\n",
       "country                                                                 \n",
       "Afghanistan                         42.558824   399.280000  35.960000   \n",
       "Albania                             18.375000  1200.874667  18.150000   \n",
       "Algeria                             18.253333   848.272222  18.907692   \n",
       "American Samoa                            NaN    51.218000        NaN   \n",
       "Andorra                              0.300000    57.377143        NaN   \n",
       "...                                       ...          ...        ...   \n",
       "Venezuela (Bolivarian Republic of)  30.800000   302.247333  41.000000   \n",
       "Viet Nam                            11.794118   740.993000  12.593333   \n",
       "Yemen                               38.388235   293.105714  28.413333   \n",
       "Zambia                              28.200000   454.166875  32.273333   \n",
       "Zimbabwe                            28.870588   325.851053  31.220000   \n",
       "\n",
       "year                                       2021        2022  \n",
       "country                                                      \n",
       "Afghanistan                          488.925455  426.945556  \n",
       "Albania                             2105.637778  631.747143  \n",
       "Algeria                             1380.306364  456.571111  \n",
       "American Samoa                         2.035000    3.020000  \n",
       "Andorra                                2.325000    3.020000  \n",
       "...                                         ...         ...  \n",
       "Venezuela (Bolivarian Republic of)   431.092000  523.415000  \n",
       "Viet Nam                            1341.648182  457.615556  \n",
       "Yemen                                400.944000  492.440000  \n",
       "Zambia                               655.732727  439.895556  \n",
       "Zimbabwe                             559.446364  448.135556  \n",
       "\n",
       "[204 rows x 44 columns]"
      ]
     },
     "execution_count": 212,
     "metadata": {},
     "output_type": "execute_result"
    }
   ],
   "source": [
    "# time series data\n",
    "df2 = df[['country', 'year', 'value']]\n",
    "# convert the value column to float\n",
    "df2['value'] = pd.to_numeric(df2['value'], errors='coerce')\n",
    "df2 = df2.groupby(['country', 'year']).mean().reset_index()\n",
    "df2 = df2.pivot(index='country', columns='year', values='value')\n",
    "df2"
   ]
  },
  {
   "cell_type": "code",
   "execution_count": 213,
   "metadata": {},
   "outputs": [],
   "source": [
    "absolute_change = df2['2021'] - df2['2000']\n",
    "relative_change = ((df2['2021'] - df2['2000']) / df2['2000']) * 100"
   ]
  },
  {
   "cell_type": "code",
   "execution_count": 214,
   "metadata": {},
   "outputs": [
    {
     "name": "stdout",
     "output_type": "stream",
     "text": [
      "country\n",
      "Afghanistan                            265.224866\n",
      "Albania                               1623.915505\n",
      "Algeria                                826.513864\n",
      "American Samoa                         -59.017500\n",
      "Andorra                                -36.461667\n",
      "                                         ...     \n",
      "Venezuela (Bolivarian Republic of)     213.804000\n",
      "Viet Nam                               994.539051\n",
      "Yemen                                  168.130471\n",
      "Zambia                                 335.327990\n",
      "Zimbabwe                               225.393030\n",
      "Length: 204, dtype: float64\n",
      "country\n",
      "Afghanistan                           118.562436\n",
      "Albania                               337.106170\n",
      "Algeria                               149.246128\n",
      "American Samoa                        -96.666803\n",
      "Andorra                               -94.005672\n",
      "                                         ...    \n",
      "Venezuela (Bolivarian Republic of)     98.396598\n",
      "Viet Nam                              286.520568\n",
      "Yemen                                  72.216796\n",
      "Zambia                                104.657626\n",
      "Zimbabwe                               67.472169\n",
      "Length: 204, dtype: float64\n"
     ]
    }
   ],
   "source": [
    "print(absolute_change)\n",
    "print(relative_change)"
   ]
  },
  {
   "cell_type": "code",
   "execution_count": 216,
   "metadata": {},
   "outputs": [
    {
     "data": {
      "text/html": [
       "<div>\n",
       "<style scoped>\n",
       "    .dataframe tbody tr th:only-of-type {\n",
       "        vertical-align: middle;\n",
       "    }\n",
       "\n",
       "    .dataframe tbody tr th {\n",
       "        vertical-align: top;\n",
       "    }\n",
       "\n",
       "    .dataframe thead th {\n",
       "        text-align: right;\n",
       "    }\n",
       "</style>\n",
       "<table border=\"1\" class=\"dataframe\">\n",
       "  <thead>\n",
       "    <tr style=\"text-align: right;\">\n",
       "      <th></th>\n",
       "      <th>country</th>\n",
       "      <th>2000</th>\n",
       "      <th>2021</th>\n",
       "      <th>absolute_change</th>\n",
       "      <th>relative_change</th>\n",
       "    </tr>\n",
       "    <tr>\n",
       "      <th>country</th>\n",
       "      <th></th>\n",
       "      <th></th>\n",
       "      <th></th>\n",
       "      <th></th>\n",
       "      <th></th>\n",
       "    </tr>\n",
       "  </thead>\n",
       "  <tbody>\n",
       "    <tr>\n",
       "      <th>Afghanistan</th>\n",
       "      <td>Afghanistan</td>\n",
       "      <td>223.700588</td>\n",
       "      <td>488.925455</td>\n",
       "      <td>265.22</td>\n",
       "      <td>118%</td>\n",
       "    </tr>\n",
       "    <tr>\n",
       "      <th>Albania</th>\n",
       "      <td>Albania</td>\n",
       "      <td>481.722273</td>\n",
       "      <td>2105.637778</td>\n",
       "      <td>1623.92</td>\n",
       "      <td>337%</td>\n",
       "    </tr>\n",
       "    <tr>\n",
       "      <th>Algeria</th>\n",
       "      <td>Algeria</td>\n",
       "      <td>553.792500</td>\n",
       "      <td>1380.306364</td>\n",
       "      <td>826.51</td>\n",
       "      <td>149%</td>\n",
       "    </tr>\n",
       "    <tr>\n",
       "      <th>American Samoa</th>\n",
       "      <td>American Samoa</td>\n",
       "      <td>61.052500</td>\n",
       "      <td>2.035000</td>\n",
       "      <td>-59.02</td>\n",
       "      <td>-96%</td>\n",
       "    </tr>\n",
       "    <tr>\n",
       "      <th>Andorra</th>\n",
       "      <td>Andorra</td>\n",
       "      <td>38.786667</td>\n",
       "      <td>2.325000</td>\n",
       "      <td>-36.46</td>\n",
       "      <td>-94%</td>\n",
       "    </tr>\n",
       "    <tr>\n",
       "      <th>...</th>\n",
       "      <td>...</td>\n",
       "      <td>...</td>\n",
       "      <td>...</td>\n",
       "      <td>...</td>\n",
       "      <td>...</td>\n",
       "    </tr>\n",
       "    <tr>\n",
       "      <th>Venezuela (Bolivarian Republic of)</th>\n",
       "      <td>Venezuela (Bolivarian Republic of)</td>\n",
       "      <td>217.288000</td>\n",
       "      <td>431.092000</td>\n",
       "      <td>213.80</td>\n",
       "      <td>98%</td>\n",
       "    </tr>\n",
       "    <tr>\n",
       "      <th>Viet Nam</th>\n",
       "      <td>Viet Nam</td>\n",
       "      <td>347.109130</td>\n",
       "      <td>1341.648182</td>\n",
       "      <td>994.54</td>\n",
       "      <td>286%</td>\n",
       "    </tr>\n",
       "    <tr>\n",
       "      <th>Yemen</th>\n",
       "      <td>Yemen</td>\n",
       "      <td>232.813529</td>\n",
       "      <td>400.944000</td>\n",
       "      <td>168.13</td>\n",
       "      <td>72%</td>\n",
       "    </tr>\n",
       "    <tr>\n",
       "      <th>Zambia</th>\n",
       "      <td>Zambia</td>\n",
       "      <td>320.404737</td>\n",
       "      <td>655.732727</td>\n",
       "      <td>335.33</td>\n",
       "      <td>104%</td>\n",
       "    </tr>\n",
       "    <tr>\n",
       "      <th>Zimbabwe</th>\n",
       "      <td>Zimbabwe</td>\n",
       "      <td>334.053333</td>\n",
       "      <td>559.446364</td>\n",
       "      <td>225.39</td>\n",
       "      <td>67%</td>\n",
       "    </tr>\n",
       "  </tbody>\n",
       "</table>\n",
       "<p>204 rows × 5 columns</p>\n",
       "</div>"
      ],
      "text/plain": [
       "                                                               country  \\\n",
       "country                                                                  \n",
       "Afghanistan                                                Afghanistan   \n",
       "Albania                                                        Albania   \n",
       "Algeria                                                        Algeria   \n",
       "American Samoa                                          American Samoa   \n",
       "Andorra                                                        Andorra   \n",
       "...                                                                ...   \n",
       "Venezuela (Bolivarian Republic of)  Venezuela (Bolivarian Republic of)   \n",
       "Viet Nam                                                      Viet Nam   \n",
       "Yemen                                                            Yemen   \n",
       "Zambia                                                          Zambia   \n",
       "Zimbabwe                                                      Zimbabwe   \n",
       "\n",
       "                                          2000         2021  absolute_change  \\\n",
       "country                                                                        \n",
       "Afghanistan                         223.700588   488.925455           265.22   \n",
       "Albania                             481.722273  2105.637778          1623.92   \n",
       "Algeria                             553.792500  1380.306364           826.51   \n",
       "American Samoa                       61.052500     2.035000           -59.02   \n",
       "Andorra                              38.786667     2.325000           -36.46   \n",
       "...                                        ...          ...              ...   \n",
       "Venezuela (Bolivarian Republic of)  217.288000   431.092000           213.80   \n",
       "Viet Nam                            347.109130  1341.648182           994.54   \n",
       "Yemen                               232.813529   400.944000           168.13   \n",
       "Zambia                              320.404737   655.732727           335.33   \n",
       "Zimbabwe                            334.053333   559.446364           225.39   \n",
       "\n",
       "                                   relative_change  \n",
       "country                                             \n",
       "Afghanistan                                   118%  \n",
       "Albania                                       337%  \n",
       "Algeria                                       149%  \n",
       "American Samoa                                -96%  \n",
       "Andorra                                       -94%  \n",
       "...                                            ...  \n",
       "Venezuela (Bolivarian Republic of)             98%  \n",
       "Viet Nam                                      286%  \n",
       "Yemen                                          72%  \n",
       "Zambia                                        104%  \n",
       "Zimbabwe                                       67%  \n",
       "\n",
       "[204 rows x 5 columns]"
      ]
     },
     "execution_count": 216,
     "metadata": {},
     "output_type": "execute_result"
    }
   ],
   "source": [
    "df2 = pd.DataFrame({\n",
    "    'country': df2.index,\n",
    "    '2000': df2['2000'],\n",
    "    '2021': df2['2021'],\n",
    "    'absolute_change': absolute_change,\n",
    "    'relative_change': relative_change\n",
    "})\n",
    "\n",
    "df2['absolute_change'] = df2['absolute_change'].round(2)\n",
    "df2['relative_change']=df2['relative_change'].apply(lambda x: int(x))\n",
    "df2['relative_change']= df2['relative_change'].astype(str) + '%'\n",
    "\n",
    "df2"
   ]
  },
  {
   "cell_type": "code",
   "execution_count": 217,
   "metadata": {},
   "outputs": [],
   "source": [
    "# Reset index and drop 'Country/area' column\n",
    "df2.drop(columns=['country'], inplace=True)"
   ]
  },
  {
   "cell_type": "code",
   "execution_count": 218,
   "metadata": {},
   "outputs": [
    {
     "data": {
      "text/html": [
       "<div>\n",
       "<style scoped>\n",
       "    .dataframe tbody tr th:only-of-type {\n",
       "        vertical-align: middle;\n",
       "    }\n",
       "\n",
       "    .dataframe tbody tr th {\n",
       "        vertical-align: top;\n",
       "    }\n",
       "\n",
       "    .dataframe thead th {\n",
       "        text-align: right;\n",
       "    }\n",
       "</style>\n",
       "<table border=\"1\" class=\"dataframe\">\n",
       "  <thead>\n",
       "    <tr style=\"text-align: right;\">\n",
       "      <th></th>\n",
       "      <th>country</th>\n",
       "      <th>2000</th>\n",
       "      <th>2021</th>\n",
       "      <th>absolute_change</th>\n",
       "      <th>relative_change</th>\n",
       "    </tr>\n",
       "  </thead>\n",
       "  <tbody>\n",
       "    <tr>\n",
       "      <th>0</th>\n",
       "      <td>Afghanistan</td>\n",
       "      <td>223.700588</td>\n",
       "      <td>488.925455</td>\n",
       "      <td>265.22</td>\n",
       "      <td>118%</td>\n",
       "    </tr>\n",
       "    <tr>\n",
       "      <th>1</th>\n",
       "      <td>Albania</td>\n",
       "      <td>481.722273</td>\n",
       "      <td>2105.637778</td>\n",
       "      <td>1623.92</td>\n",
       "      <td>337%</td>\n",
       "    </tr>\n",
       "    <tr>\n",
       "      <th>2</th>\n",
       "      <td>Algeria</td>\n",
       "      <td>553.792500</td>\n",
       "      <td>1380.306364</td>\n",
       "      <td>826.51</td>\n",
       "      <td>149%</td>\n",
       "    </tr>\n",
       "    <tr>\n",
       "      <th>3</th>\n",
       "      <td>American Samoa</td>\n",
       "      <td>61.052500</td>\n",
       "      <td>2.035000</td>\n",
       "      <td>-59.02</td>\n",
       "      <td>-96%</td>\n",
       "    </tr>\n",
       "    <tr>\n",
       "      <th>4</th>\n",
       "      <td>Andorra</td>\n",
       "      <td>38.786667</td>\n",
       "      <td>2.325000</td>\n",
       "      <td>-36.46</td>\n",
       "      <td>-94%</td>\n",
       "    </tr>\n",
       "    <tr>\n",
       "      <th>...</th>\n",
       "      <td>...</td>\n",
       "      <td>...</td>\n",
       "      <td>...</td>\n",
       "      <td>...</td>\n",
       "      <td>...</td>\n",
       "    </tr>\n",
       "    <tr>\n",
       "      <th>199</th>\n",
       "      <td>Venezuela (Bolivarian Republic of)</td>\n",
       "      <td>217.288000</td>\n",
       "      <td>431.092000</td>\n",
       "      <td>213.80</td>\n",
       "      <td>98%</td>\n",
       "    </tr>\n",
       "    <tr>\n",
       "      <th>200</th>\n",
       "      <td>Viet Nam</td>\n",
       "      <td>347.109130</td>\n",
       "      <td>1341.648182</td>\n",
       "      <td>994.54</td>\n",
       "      <td>286%</td>\n",
       "    </tr>\n",
       "    <tr>\n",
       "      <th>201</th>\n",
       "      <td>Yemen</td>\n",
       "      <td>232.813529</td>\n",
       "      <td>400.944000</td>\n",
       "      <td>168.13</td>\n",
       "      <td>72%</td>\n",
       "    </tr>\n",
       "    <tr>\n",
       "      <th>202</th>\n",
       "      <td>Zambia</td>\n",
       "      <td>320.404737</td>\n",
       "      <td>655.732727</td>\n",
       "      <td>335.33</td>\n",
       "      <td>104%</td>\n",
       "    </tr>\n",
       "    <tr>\n",
       "      <th>203</th>\n",
       "      <td>Zimbabwe</td>\n",
       "      <td>334.053333</td>\n",
       "      <td>559.446364</td>\n",
       "      <td>225.39</td>\n",
       "      <td>67%</td>\n",
       "    </tr>\n",
       "  </tbody>\n",
       "</table>\n",
       "<p>204 rows × 5 columns</p>\n",
       "</div>"
      ],
      "text/plain": [
       "                                country        2000         2021  \\\n",
       "0                           Afghanistan  223.700588   488.925455   \n",
       "1                               Albania  481.722273  2105.637778   \n",
       "2                               Algeria  553.792500  1380.306364   \n",
       "3                        American Samoa   61.052500     2.035000   \n",
       "4                               Andorra   38.786667     2.325000   \n",
       "..                                  ...         ...          ...   \n",
       "199  Venezuela (Bolivarian Republic of)  217.288000   431.092000   \n",
       "200                            Viet Nam  347.109130  1341.648182   \n",
       "201                               Yemen  232.813529   400.944000   \n",
       "202                              Zambia  320.404737   655.732727   \n",
       "203                            Zimbabwe  334.053333   559.446364   \n",
       "\n",
       "     absolute_change relative_change  \n",
       "0             265.22            118%  \n",
       "1            1623.92            337%  \n",
       "2             826.51            149%  \n",
       "3             -59.02            -96%  \n",
       "4             -36.46            -94%  \n",
       "..               ...             ...  \n",
       "199           213.80             98%  \n",
       "200           994.54            286%  \n",
       "201           168.13             72%  \n",
       "202           335.33            104%  \n",
       "203           225.39             67%  \n",
       "\n",
       "[204 rows x 5 columns]"
      ]
     },
     "execution_count": 218,
     "metadata": {},
     "output_type": "execute_result"
    }
   ],
   "source": [
    "df2.reset_index(inplace=True)\n",
    "df2"
   ]
  }
 ],
 "metadata": {
  "kernelspec": {
   "display_name": "Python 3",
   "language": "python",
   "name": "python3"
  },
  "language_info": {
   "codemirror_mode": {
    "name": "ipython",
    "version": 3
   },
   "file_extension": ".py",
   "mimetype": "text/x-python",
   "name": "python",
   "nbconvert_exporter": "python",
   "pygments_lexer": "ipython3",
   "version": "3.11.8"
  }
 },
 "nbformat": 4,
 "nbformat_minor": 2
}
